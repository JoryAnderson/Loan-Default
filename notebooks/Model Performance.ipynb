{
 "cells": [
  {
   "cell_type": "markdown",
   "metadata": {},
   "source": [
    "Imports"
   ]
  },
  {
   "cell_type": "code",
   "execution_count": 1,
   "metadata": {},
   "outputs": [],
   "source": [
    "import numpy as np\n",
    "import pandas as pd\n",
    "import matplotlib.pyplot as plt\n",
    "import seaborn as sns\n",
    "import gc\n",
    "import datetime, time\n",
    "import warnings\n",
    "warnings.simplefilter(action = 'ignore', category = FutureWarning)\n",
    "\n",
    "from sklearn.impute import SimpleImputer\n",
    "from imblearn.over_sampling import SMOTE\n",
    "from lightgbm import LGBMClassifier\n",
    "from sklearn.ensemble import RandomForestClassifier\n",
    "from sklearn.linear_model import LogisticRegression\n",
    "from sklearn.neighbors import KNeighborsClassifier\n",
    "\n",
    "from sklearn.metrics import roc_auc_score, roc_curve, precision_score, recall_score\n",
    "from sklearn.model_selection import KFold, StratifiedKFold, train_test_split\n",
    "from sklearn.preprocessing import scale, LabelEncoder\n",
    "\n",
    "from scipy.stats import ranksums"
   ]
  },
  {
   "cell_type": "markdown",
   "metadata": {},
   "source": [
    "Function Definitions"
   ]
  },
  {
   "cell_type": "code",
   "execution_count": 2,
   "metadata": {},
   "outputs": [],
   "source": [
    "# SMOTE: Overclassing Minority Classification\n",
    "def Oversample(dataset, X_train, y_train):\n",
    "\n",
    "    print('Total Data', len(y_train))\n",
    "    print('Imbalance: [-]', sum(y_train==0), '[+]', sum(y_train==1))\n",
    "\n",
    "    print(\"\\nPerforming SMOTE on training data set\\n\")\n",
    "    sm = SMOTE(random_state=2)\n",
    "    X_train_res, y_train_res = sm.fit_sample(X_train, y_train.ravel())\n",
    "\n",
    "    print('Total Data', len(y_train_res))\n",
    "    print('Imbalance: [-]', sum(y_train_res==0), '[+]', sum(y_train_res==1))\n",
    "    \n",
    "    return (X_train_res, y_train_res)"
   ]
  },
  {
   "cell_type": "code",
   "execution_count": 3,
   "metadata": {},
   "outputs": [],
   "source": [
    "def imputate(dataset):\n",
    "    imp = SimpleImputer(missing_values=np.nan, strategy='mean').fit(dataset)\n",
    "    \n",
    "    num_dataset = pd.DataFrame(imp.transform(dataset))\n",
    "    num_dataset.columns = dataset.columns\n",
    "    num_dataset.index = dataset.index\n",
    "\n",
    "    return num_dataset"
   ]
  },
  {
   "cell_type": "code",
   "execution_count": 4,
   "metadata": {},
   "outputs": [],
   "source": [
    "# For selecting the best model for train set by simple launching the several classic models\n",
    "def plot_roc_curves(df_train_, X_train, X_test, y_train, y_test):\n",
    "    \n",
    "    # Make sure we have dropped target column\n",
    "    feature_importance = pd.DataFrame(index = df_train_.columns.drop('TARGET'))\n",
    "\n",
    "    # Plot config\n",
    "    plt.figure(figsize = (7, 7))\n",
    "    plt.plot([0, 1], [0, 1], 'k--')\n",
    "\n",
    "    # LGBM Classifier\n",
    "    estimator = LGBMClassifier(random_state = 0)\n",
    "    estimator.fit(X_train, y_train)\n",
    "    \n",
    "    y_pred_xgb = estimator.predict_proba(X_test)[:, 1]\n",
    "    fpr_xgb, tpr_xgb, _ = roc_curve(y_test, y_pred_xgb)\n",
    "    \n",
    "    feature_importance['LGBM'] = pd.Series(estimator.feature_importances_, index = X_train.columns)\n",
    "    \n",
    "    roc_score_xgb = roc_auc_score(y_test, y_pred_xgb)\n",
    "    plt.plot(fpr_xgb, tpr_xgb, label = 'LGBM: ' + str(roc_score_xgb))\n",
    "    \n",
    "    X_train.fillna(X_train.mean(axis = 0), inplace = True)\n",
    "    X_test.fillna(X_test.mean(axis = 0), inplace = True)\n",
    "        \n",
    "    # Random Forest Classifier\n",
    "    estimator = RandomForestClassifier(random_state = 0)\n",
    "    estimator.fit(X_train, y_train)\n",
    "    \n",
    "    y_pred_rf = estimator.predict_proba(X_test)[:, 1]\n",
    "    fpr_rf, tpr_rf, _ = roc_curve(y_test, y_pred_rf)\n",
    "    \n",
    "    feature_importance['RF'] = estimator.feature_importances_\n",
    "    \n",
    "    roc_score_rf = roc_auc_score(y_test, y_pred_rf)\n",
    "    plt.plot(fpr_rf, tpr_rf, label = 'RF: ' + str(roc_score_rf))\n",
    "    \n",
    "    \n",
    "    # Logistic Regression Classifier\n",
    "    estimator = LogisticRegression(random_state = 0)\n",
    "    estimator.fit(X_train, y_train)\n",
    "    \n",
    "    y_pred_lrg = estimator.predict_proba(X_test)[:, 1]\n",
    "    fpr_lrg, tpr_lrg, _ = roc_curve(y_test, y_pred_lrg)\n",
    "    \n",
    "    roc_score_lrg = roc_auc_score(y_test, y_pred_lrg)\n",
    "    plt.plot(fpr_lrg, tpr_lrg, label = 'LogR: ' + str(roc_score_lrg))\n",
    "    \n",
    "    X_train = pd.DataFrame(scale(X_train), index = X_train.index, columns = X_train.columns)\n",
    "    X_test = pd.DataFrame(scale(X_test), index = X_test.index, columns = X_test.columns)\n",
    "    \n",
    "    # Drawing Plot\n",
    "    plt.xlabel('False positive rate')\n",
    "    plt.ylabel('True positive rate')\n",
    "    plt.title('ROC curve')\n",
    "    plt.legend(loc = 'best')\n",
    "    \n",
    "    feature_importance['mean'] = feature_importance.mean(axis = 1)\n",
    "    \n",
    "    return (plt, feature_importance)"
   ]
  },
  {
   "cell_type": "code",
   "execution_count": 5,
   "metadata": {},
   "outputs": [],
   "source": [
    "# For visual analysis of the fearure importances\n",
    "def display_feature_importances(df_feat_imp_):\n",
    "    n_columns = 3\n",
    "    n_rows = (df_feat_imp_.shape[1] + 1) // n_columns\n",
    "    _, axes = plt.subplots(n_rows, n_columns, figsize=(8 * n_columns, 8 * n_rows))\n",
    "    for i, c in enumerate(df_feat_imp_.columns):\n",
    "        sns.barplot(x = c, y = 'index', \n",
    "                    data = df_feat_imp_.reset_index().sort_values(c, ascending = False).head(20), \n",
    "                    ax = axes[i // n_columns, i % n_columns] if n_rows > 1 else axes[i % n_columns])\n",
    "    plt.title('LightGBM Features (avg over folds)')\n",
    "    plt.tight_layout()\n",
    "    \n",
    "    return plt"
   ]
  },
  {
   "cell_type": "markdown",
   "metadata": {},
   "source": [
    "Tasks"
   ]
  },
  {
   "cell_type": "code",
   "execution_count": 6,
   "metadata": {},
   "outputs": [
    {
     "data": {
      "text/html": [
       "<div>\n",
       "<style scoped>\n",
       "    .dataframe tbody tr th:only-of-type {\n",
       "        vertical-align: middle;\n",
       "    }\n",
       "\n",
       "    .dataframe tbody tr th {\n",
       "        vertical-align: top;\n",
       "    }\n",
       "\n",
       "    .dataframe thead th {\n",
       "        text-align: right;\n",
       "    }\n",
       "</style>\n",
       "<table border=\"1\" class=\"dataframe\">\n",
       "  <thead>\n",
       "    <tr style=\"text-align: right;\">\n",
       "      <th></th>\n",
       "      <th>TARGET</th>\n",
       "      <th>EXT_SOURCE_1</th>\n",
       "      <th>EXT_SOURCE_2</th>\n",
       "      <th>DAYS_BIRTH</th>\n",
       "      <th>EXT_SOURCE_3</th>\n",
       "      <th>DAYS_EMPLOYED</th>\n",
       "      <th>AMT_CREDIT</th>\n",
       "      <th>AMT_ANNUITY</th>\n",
       "      <th>AMT_INCOME_TOTAL</th>\n",
       "      <th>CNT_CHILDREN</th>\n",
       "      <th>FLAG_OWN_REALTY_N</th>\n",
       "      <th>FLAG_OWN_REALTY_Y</th>\n",
       "      <th>FLAG_OWN_CAR_Y</th>\n",
       "      <th>FLAG_OWN_CAR_N</th>\n",
       "    </tr>\n",
       "  </thead>\n",
       "  <tbody>\n",
       "    <tr>\n",
       "      <th>0</th>\n",
       "      <td>1.0</td>\n",
       "      <td>0.083037</td>\n",
       "      <td>0.262949</td>\n",
       "      <td>-9461.0</td>\n",
       "      <td>0.139376</td>\n",
       "      <td>-637.0</td>\n",
       "      <td>406597.5</td>\n",
       "      <td>24700.5</td>\n",
       "      <td>202500.0</td>\n",
       "      <td>0.0</td>\n",
       "      <td>0.0</td>\n",
       "      <td>1.0</td>\n",
       "      <td>0.0</td>\n",
       "      <td>1.0</td>\n",
       "    </tr>\n",
       "    <tr>\n",
       "      <th>1</th>\n",
       "      <td>0.0</td>\n",
       "      <td>0.311267</td>\n",
       "      <td>0.622246</td>\n",
       "      <td>-16765.0</td>\n",
       "      <td>0.510853</td>\n",
       "      <td>-1188.0</td>\n",
       "      <td>1293502.5</td>\n",
       "      <td>35698.5</td>\n",
       "      <td>270000.0</td>\n",
       "      <td>0.0</td>\n",
       "      <td>1.0</td>\n",
       "      <td>0.0</td>\n",
       "      <td>0.0</td>\n",
       "      <td>1.0</td>\n",
       "    </tr>\n",
       "    <tr>\n",
       "      <th>2</th>\n",
       "      <td>0.0</td>\n",
       "      <td>0.502130</td>\n",
       "      <td>0.555912</td>\n",
       "      <td>-19046.0</td>\n",
       "      <td>0.729567</td>\n",
       "      <td>-225.0</td>\n",
       "      <td>135000.0</td>\n",
       "      <td>6750.0</td>\n",
       "      <td>67500.0</td>\n",
       "      <td>0.0</td>\n",
       "      <td>0.0</td>\n",
       "      <td>1.0</td>\n",
       "      <td>1.0</td>\n",
       "      <td>0.0</td>\n",
       "    </tr>\n",
       "    <tr>\n",
       "      <th>3</th>\n",
       "      <td>0.0</td>\n",
       "      <td>0.502130</td>\n",
       "      <td>0.650442</td>\n",
       "      <td>-19005.0</td>\n",
       "      <td>0.510853</td>\n",
       "      <td>-3039.0</td>\n",
       "      <td>312682.5</td>\n",
       "      <td>29686.5</td>\n",
       "      <td>135000.0</td>\n",
       "      <td>0.0</td>\n",
       "      <td>0.0</td>\n",
       "      <td>1.0</td>\n",
       "      <td>0.0</td>\n",
       "      <td>1.0</td>\n",
       "    </tr>\n",
       "    <tr>\n",
       "      <th>4</th>\n",
       "      <td>0.0</td>\n",
       "      <td>0.502130</td>\n",
       "      <td>0.322738</td>\n",
       "      <td>-19932.0</td>\n",
       "      <td>0.510853</td>\n",
       "      <td>-3038.0</td>\n",
       "      <td>513000.0</td>\n",
       "      <td>21865.5</td>\n",
       "      <td>121500.0</td>\n",
       "      <td>0.0</td>\n",
       "      <td>0.0</td>\n",
       "      <td>1.0</td>\n",
       "      <td>0.0</td>\n",
       "      <td>1.0</td>\n",
       "    </tr>\n",
       "  </tbody>\n",
       "</table>\n",
       "</div>"
      ],
      "text/plain": [
       "   TARGET  EXT_SOURCE_1  EXT_SOURCE_2  DAYS_BIRTH  EXT_SOURCE_3  \\\n",
       "0     1.0      0.083037      0.262949     -9461.0      0.139376   \n",
       "1     0.0      0.311267      0.622246    -16765.0      0.510853   \n",
       "2     0.0      0.502130      0.555912    -19046.0      0.729567   \n",
       "3     0.0      0.502130      0.650442    -19005.0      0.510853   \n",
       "4     0.0      0.502130      0.322738    -19932.0      0.510853   \n",
       "\n",
       "   DAYS_EMPLOYED  AMT_CREDIT  AMT_ANNUITY  AMT_INCOME_TOTAL  CNT_CHILDREN  \\\n",
       "0         -637.0    406597.5      24700.5          202500.0           0.0   \n",
       "1        -1188.0   1293502.5      35698.5          270000.0           0.0   \n",
       "2         -225.0    135000.0       6750.0           67500.0           0.0   \n",
       "3        -3039.0    312682.5      29686.5          135000.0           0.0   \n",
       "4        -3038.0    513000.0      21865.5          121500.0           0.0   \n",
       "\n",
       "   FLAG_OWN_REALTY_N  FLAG_OWN_REALTY_Y  FLAG_OWN_CAR_Y  FLAG_OWN_CAR_N  \n",
       "0                0.0                1.0             0.0             1.0  \n",
       "1                1.0                0.0             0.0             1.0  \n",
       "2                0.0                1.0             1.0             0.0  \n",
       "3                0.0                1.0             0.0             1.0  \n",
       "4                0.0                1.0             0.0             1.0  "
      ]
     },
     "execution_count": 6,
     "metadata": {},
     "output_type": "execute_result"
    }
   ],
   "source": [
    "df_full = pd.read_csv(\"full.csv\").iloc[:, 1:]\n",
    "df_full.drop('SK_ID_CURR', axis=1)\n",
    "\n",
    "df_select = df_full[['TARGET', 'EXT_SOURCE_1', 'EXT_SOURCE_2', 'DAYS_BIRTH', 'EXT_SOURCE_3', \n",
    "            'DAYS_EMPLOYED', 'AMT_CREDIT', 'AMT_ANNUITY', 'AMT_INCOME_TOTAL', 'CNT_CHILDREN',\n",
    "              'FLAG_OWN_REALTY_N', 'FLAG_OWN_REALTY_Y', 'FLAG_OWN_CAR_Y', 'FLAG_OWN_CAR_N']]\n",
    "\n",
    "#train_index = df_all[df_all['TARGET'].notnull()].index\n",
    "#test_index = df_all[df_all['TARGET'].isnull()].index\n",
    "\n",
    "df_select.head()"
   ]
  },
  {
   "cell_type": "code",
   "execution_count": 7,
   "metadata": {},
   "outputs": [],
   "source": [
    "full_data = imputate(df_full)\n",
    "select_data = imputate(df_select)\n",
    "\n",
    "X_train_full, X_test_full, y_train_full, y_test_full = train_test_split(df_full.drop('TARGET', axis = 1), \n",
    "                                                  df_full['TARGET'], \n",
    "                                                  test_size = 0.2, shuffle = True, random_state = 0)\n",
    "\n",
    "X_train_select, X_test_select, y_train_select, y_test_select = train_test_split(df_select.drop('TARGET', axis = 1), \n",
    "                                                  df_select['TARGET'], \n",
    "                                                  test_size = 0.2, shuffle = True, random_state = 0)"
   ]
  },
  {
   "cell_type": "code",
   "execution_count": 8,
   "metadata": {},
   "outputs": [
    {
     "name": "stdout",
     "output_type": "stream",
     "text": [
      "Total Data 246008\n",
      "Imbalance: [-] 226038 [+] 19970\n",
      "\n",
      "Performing SMOTE on training data set\n",
      "\n",
      "Total Data 452076\n",
      "Imbalance: [-] 226038 [+] 226038\n"
     ]
    }
   ],
   "source": [
    "full_data = Oversample(df_full, X_train_full, y_train_full)"
   ]
  },
  {
   "cell_type": "code",
   "execution_count": 9,
   "metadata": {},
   "outputs": [
    {
     "name": "stdout",
     "output_type": "stream",
     "text": [
      "Total Data 246008\n",
      "Imbalance: [-] 226038 [+] 19970\n",
      "\n",
      "Performing SMOTE on training data set\n",
      "\n",
      "Total Data 452076\n",
      "Imbalance: [-] 226038 [+] 226038\n"
     ]
    }
   ],
   "source": [
    "select_data = Oversample(df_select, X_train_select, y_train_select)"
   ]
  },
  {
   "cell_type": "code",
   "execution_count": 10,
   "metadata": {},
   "outputs": [
    {
     "name": "stderr",
     "output_type": "stream",
     "text": [
      "C:\\Anaconda\\lib\\site-packages\\sklearn\\linear_model\\_logistic.py:764: ConvergenceWarning: lbfgs failed to converge (status=1):\n",
      "STOP: TOTAL NO. of ITERATIONS REACHED LIMIT.\n",
      "\n",
      "Increase the number of iterations (max_iter) or scale the data as shown in:\n",
      "    https://scikit-learn.org/stable/modules/preprocessing.html\n",
      "Please also refer to the documentation for alternative solver options:\n",
      "    https://scikit-learn.org/stable/modules/linear_model.html#logistic-regression\n",
      "  extra_warning_msg=_LOGISTIC_SOLVER_CONVERGENCE_MSG)\n"
     ]
    },
    {
     "data": {
      "image/png": "[encoded data removed]",
      "text/plain": [
       "<Figure size 504x504 with 1 Axes>"
      ]
     },
     "metadata": {
      "needs_background": "light"
     },
     "output_type": "display_data"
    }
   ],
   "source": [
    "feature_importance_full = plot_roc_curves(df_full, X_train_full, X_test_full, y_train_full, y_test_full)\n",
    "feature_importance_full[0].show()"
   ]
  },
  {
   "cell_type": "code",
   "execution_count": null,
   "metadata": {},
   "outputs": [],
   "source": [
    "feature_importance_select = plot_roc_curves(df_select, X_train_select, X_test_select, y_train_select, y_test_select)\n",
    "feature_importance_select[0].show()"
   ]
  },
  {
   "cell_type": "code",
   "execution_count": null,
   "metadata": {},
   "outputs": [],
   "source": [
    "display_feature_importances(feature_importance_full[1]).show()"
   ]
  },
  {
   "cell_type": "code",
   "execution_count": null,
   "metadata": {},
   "outputs": [],
   "source": [
    "display_feature_importances(feature_importance_select[1]).show()"
   ]
  }
 ],
 "metadata": {
  "kernelspec": {
   "display_name": "Python 3",
   "language": "python",
   "name": "python3"
  },
  "language_info": {
   "codemirror_mode": {
    "name": "ipython",
    "version": 3
   },
   "file_extension": ".py",
   "mimetype": "text/x-python",
   "name": "python",
   "nbconvert_exporter": "python",
   "pygments_lexer": "ipython3",
   "version": "3.7.7"
  }
 },
 "nbformat": 4,
 "nbformat_minor": 4
}
