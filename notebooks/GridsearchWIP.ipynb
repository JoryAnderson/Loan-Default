{
 "cells": [
  {
   "cell_type": "code",
   "execution_count": 1,
   "metadata": {},
   "outputs": [],
   "source": [
    "import numpy as np\n",
    "import pandas as pd\n",
    "import seaborn as sns\n",
    "import matplotlib.pyplot as plt\n",
    "from sklearn.impute import SimpleImputer\n",
    "from sklearn.experimental import enable_iterative_imputer\n",
    "from sklearn.impute import IterativeImputer\n",
    "from imblearn.over_sampling import SMOTE\n",
    "from sklearn import metrics\n",
    "from sklearn.preprocessing import LabelEncoder\n",
    "from sklearn.tree import DecisionTreeClassifier\n",
    "from sklearn.model_selection import train_test_split\n",
    "from sklearn.ensemble import RandomForestClassifier\n",
    "from sklearn.metrics import r2_score,accuracy_score, confusion_matrix, roc_auc_score\n",
    "from sklearn.model_selection import cross_val_score, cross_validate, StratifiedKFold, GridSearchCV\n",
    "from sklearn.metrics import roc_auc_score, roc_curve, precision_score, recall_score\n",
    "from sklearn.model_selection import KFold, StratifiedKFold, train_test_split\n",
    "from sklearn.preprocessing import scale, LabelEncoder\n",
    "from sklearn.model_selection import GridSearchCV\n",
    "\n",
    "from lightgbm import LGBMClassifier\n",
    "import lightgbm as lbg\n",
    "from sklearn.metrics import classification_report,confusion_matrix,accuracy_score,roc_curve,auc\n",
    "\n",
    "import re\n",
    "\n",
    "dataset = pd.read_csv(\"application_train.csv\")\n",
    "\n",
    "num_dataset = pd.get_dummies(dataset)"
   ]
  },
  {
   "cell_type": "code",
   "execution_count": 2,
   "metadata": {},
   "outputs": [],
   "source": [
    "data = num_dataset.drop('TARGET', 1)\n",
    "target = num_dataset['TARGET']\n",
    "\n",
    "X_train, X_test, y_train, y_test = train_test_split(data,target ,test_size = .2, random_state=42,shuffle=True)\n",
    "\n",
    "train_data = lbg.Dataset(X_train,y_train)\n",
    "test_data = lbg.Dataset(X_test,y_test)\n",
    "\n",
    "PARAMS = {'max_depth':6,\n",
    "          'num_leaves':21,\n",
    "          'bagging_fraction':0.7,\n",
    "          'feature_fraction':0.7,\n",
    "          'boosting':'dart',\n",
    "          'num_iterations':300,\n",
    "          'early_stopping_rounds':30,\n",
    "          'objective':'binary',\n",
    "          'metric':'auc',\n",
    "          'is_unbalance':True,\n",
    "          'verbose':0\n",
    "          }\n",
    "\n"
   ]
  },
  {
   "cell_type": "code",
   "execution_count": null,
   "metadata": {},
   "outputs": [],
   "source": [
    "model = lbg.train(PARAMS,train_data,valid_sets=test_data)\n",
    "\n",
    "pred = model.predict(X_test)"
   ]
  },
  {
   "cell_type": "code",
   "execution_count": null,
   "metadata": {},
   "outputs": [],
   "source": []
  },
  {
   "cell_type": "code",
   "execution_count": null,
   "metadata": {},
   "outputs": [],
   "source": []
  },
  {
   "cell_type": "code",
   "execution_count": null,
   "metadata": {},
   "outputs": [
    {
     "name": "stderr",
     "output_type": "stream",
     "text": [
      "C:\\Users\\test\\anaconda3\\lib\\site-packages\\lightgbm\\engine.py:148: UserWarning: Found `num_iterations` in params. Will use it instead of argument\n",
      "  warnings.warn(\"Found `{}` in params. Will use it instead of argument\".format(alias))\n"
     ]
    }
   ],
   "source": [
    "### GRID SEARCH WIP ###\n",
    "SEARCH_PARAMS = {'max_depth':[4,5,6,-1],\n",
    "                 'num_leaves':[30,31,32],\n",
    "                 'bagging_fraction':[0.7,1],\n",
    "                 'feature_fraction':[0.7,1],\n",
    "                 'boosting':['dart'],\n",
    "                 'num_iterations':[100,200],\n",
    "                 \n",
    "                 'metric':['auc'],\n",
    "                 \n",
    "                 'verbose':[0]\n",
    "                }\n",
    "\n",
    "FIXED_PARAMS = {'objective':'binary',\n",
    "                'metric':'auc',\n",
    "                'is_unbalance':True,\n",
    "                'verbose':0\n",
    "                }\n",
    "lb = lbg.LGBMClassifier()\n",
    "clf = GridSearchCV(lb,SEARCH_PARAMS)\n",
    "clf.fit(data,target)\n",
    "GridSearchCV(estimator=LGBMClassifier(),\n",
    "            param_grid=SEARCH_PARAMS)\n",
    "sorted(clf.cv_results_.keys())"
   ]
  },
  {
   "cell_type": "code",
   "execution_count": null,
   "metadata": {},
   "outputs": [],
   "source": [
    "print(\"done\")"
   ]
  },
  {
   "cell_type": "code",
   "execution_count": 9,
   "metadata": {},
   "outputs": [
    {
     "name": "stdout",
     "output_type": "stream",
     "text": [
      "{'mean_fit_time': array([ 5.74104233,  6.80051551,  7.3956079 , 11.1917973 , 13.58786592,\n",
      "       16.06812325,  6.57238922,  7.65988507,  7.89100275, 12.46709094,\n",
      "       15.51386013, 18.16632404,  6.3175108 ,  8.05040617,  8.80361695,\n",
      "       11.95489316, 16.08657866, 18.67307653,  6.65843787,  8.047789  ,\n",
      "        9.24734173, 12.05134492, 16.04288688, 18.83310752]), 'std_fit_time': array([0.12054267, 0.16086356, 0.15176458, 0.40176915, 0.82722598,\n",
      "       1.30594886, 0.27745221, 0.48987232, 0.48179719, 0.44803908,\n",
      "       0.58056423, 0.66120944, 0.27217006, 0.41611918, 0.24568551,\n",
      "       0.32869729, 0.6946925 , 0.75979931, 0.60735784, 0.29562015,\n",
      "       0.4952443 , 0.4165231 , 0.5131266 , 0.63122819]), 'mean_score_time': array([0.36575875, 0.38500643, 0.38770466, 0.44377823, 0.45925417,\n",
      "       0.51960459, 0.3844193 , 0.38890796, 0.39964662, 0.44868617,\n",
      "       0.47742267, 0.49908295, 0.37351761, 0.40917401, 0.40177979,\n",
      "       0.44429102, 0.51222939, 0.50545068, 0.3825841 , 0.39534178,\n",
      "       0.39707384, 0.45325422, 0.47714648, 0.52208738]), 'std_score_time': array([0.00976862, 0.01585209, 0.0112757 , 0.02018548, 0.01265959,\n",
      "       0.01737978, 0.03435977, 0.0078491 , 0.00874336, 0.02499681,\n",
      "       0.0125652 , 0.03008739, 0.01694171, 0.01717526, 0.00763392,\n",
      "       0.02417993, 0.04386727, 0.01571125, 0.01628908, 0.013971  ,\n",
      "       0.01222217, 0.01043629, 0.01070559, 0.02059738]), 'param_bagging_fraction': masked_array(data=[0.7, 0.7, 0.7, 0.7, 0.7, 0.7, 0.7, 0.7, 0.7, 0.7, 0.7,\n",
      "                   0.7, 0.7, 0.7, 0.7, 0.7, 0.7, 0.7, 0.7, 0.7, 0.7, 0.7,\n",
      "                   0.7, 0.7],\n",
      "             mask=[False, False, False, False, False, False, False, False,\n",
      "                   False, False, False, False, False, False, False, False,\n",
      "                   False, False, False, False, False, False, False, False],\n",
      "       fill_value='?',\n",
      "            dtype=object), 'param_boosting': masked_array(data=['dart', 'dart', 'dart', 'dart', 'dart', 'dart', 'dart',\n",
      "                   'dart', 'dart', 'dart', 'dart', 'dart', 'dart', 'dart',\n",
      "                   'dart', 'dart', 'dart', 'dart', 'dart', 'dart', 'dart',\n",
      "                   'dart', 'dart', 'dart'],\n",
      "             mask=[False, False, False, False, False, False, False, False,\n",
      "                   False, False, False, False, False, False, False, False,\n",
      "                   False, False, False, False, False, False, False, False],\n",
      "       fill_value='?',\n",
      "            dtype=object), 'param_feature_fraction': masked_array(data=[0.7, 0.7, 0.7, 0.7, 0.7, 0.7, 0.7, 0.7, 0.7, 0.7, 0.7,\n",
      "                   0.7, 0.7, 0.7, 0.7, 0.7, 0.7, 0.7, 0.7, 0.7, 0.7, 0.7,\n",
      "                   0.7, 0.7],\n",
      "             mask=[False, False, False, False, False, False, False, False,\n",
      "                   False, False, False, False, False, False, False, False,\n",
      "                   False, False, False, False, False, False, False, False],\n",
      "       fill_value='?',\n",
      "            dtype=object), 'param_is_unbalance': masked_array(data=[True, True, True, True, True, True, True, True, True,\n",
      "                   True, True, True, True, True, True, True, True, True,\n",
      "                   True, True, True, True, True, True],\n",
      "             mask=[False, False, False, False, False, False, False, False,\n",
      "                   False, False, False, False, False, False, False, False,\n",
      "                   False, False, False, False, False, False, False, False],\n",
      "       fill_value='?',\n",
      "            dtype=object), 'param_max_depth': masked_array(data=[5, 5, 5, 5, 5, 5, 6, 6, 6, 6, 6, 6, 7, 7, 7, 7, 7, 7,\n",
      "                   -1, -1, -1, -1, -1, -1],\n",
      "             mask=[False, False, False, False, False, False, False, False,\n",
      "                   False, False, False, False, False, False, False, False,\n",
      "                   False, False, False, False, False, False, False, False],\n",
      "       fill_value='?',\n",
      "            dtype=object), 'param_metric': masked_array(data=['auc', 'auc', 'auc', 'auc', 'auc', 'auc', 'auc', 'auc',\n",
      "                   'auc', 'auc', 'auc', 'auc', 'auc', 'auc', 'auc', 'auc',\n",
      "                   'auc', 'auc', 'auc', 'auc', 'auc', 'auc', 'auc', 'auc'],\n",
      "             mask=[False, False, False, False, False, False, False, False,\n",
      "                   False, False, False, False, False, False, False, False,\n",
      "                   False, False, False, False, False, False, False, False],\n",
      "       fill_value='?',\n",
      "            dtype=object), 'param_num_iterations': masked_array(data=[100, 100, 100, 200, 200, 200, 100, 100, 100, 200, 200,\n",
      "                   200, 100, 100, 100, 200, 200, 200, 100, 100, 100, 200,\n",
      "                   200, 200],\n",
      "             mask=[False, False, False, False, False, False, False, False,\n",
      "                   False, False, False, False, False, False, False, False,\n",
      "                   False, False, False, False, False, False, False, False],\n",
      "       fill_value='?',\n",
      "            dtype=object), 'param_num_leaves': masked_array(data=[10, 20, 30, 10, 20, 30, 10, 20, 30, 10, 20, 30, 10, 20,\n",
      "                   30, 10, 20, 30, 10, 20, 30, 10, 20, 30],\n",
      "             mask=[False, False, False, False, False, False, False, False,\n",
      "                   False, False, False, False, False, False, False, False,\n",
      "                   False, False, False, False, False, False, False, False],\n",
      "       fill_value='?',\n",
      "            dtype=object), 'param_objective': masked_array(data=['binary', 'binary', 'binary', 'binary', 'binary',\n",
      "                   'binary', 'binary', 'binary', 'binary', 'binary',\n",
      "                   'binary', 'binary', 'binary', 'binary', 'binary',\n",
      "                   'binary', 'binary', 'binary', 'binary', 'binary',\n",
      "                   'binary', 'binary', 'binary', 'binary'],\n",
      "             mask=[False, False, False, False, False, False, False, False,\n",
      "                   False, False, False, False, False, False, False, False,\n",
      "                   False, False, False, False, False, False, False, False],\n",
      "       fill_value='?',\n",
      "            dtype=object), 'param_verbose': masked_array(data=[0, 0, 0, 0, 0, 0, 0, 0, 0, 0, 0, 0, 0, 0, 0, 0, 0, 0,\n",
      "                   0, 0, 0, 0, 0, 0],\n",
      "             mask=[False, False, False, False, False, False, False, False,\n",
      "                   False, False, False, False, False, False, False, False,\n",
      "                   False, False, False, False, False, False, False, False],\n",
      "       fill_value='?',\n",
      "            dtype=object), 'params': [{'bagging_fraction': 0.7, 'boosting': 'dart', 'feature_fraction': 0.7, 'is_unbalance': True, 'max_depth': 5, 'metric': 'auc', 'num_iterations': 100, 'num_leaves': 10, 'objective': 'binary', 'verbose': 0}, {'bagging_fraction': 0.7, 'boosting': 'dart', 'feature_fraction': 0.7, 'is_unbalance': True, 'max_depth': 5, 'metric': 'auc', 'num_iterations': 100, 'num_leaves': 20, 'objective': 'binary', 'verbose': 0}, {'bagging_fraction': 0.7, 'boosting': 'dart', 'feature_fraction': 0.7, 'is_unbalance': True, 'max_depth': 5, 'metric': 'auc', 'num_iterations': 100, 'num_leaves': 30, 'objective': 'binary', 'verbose': 0}, {'bagging_fraction': 0.7, 'boosting': 'dart', 'feature_fraction': 0.7, 'is_unbalance': True, 'max_depth': 5, 'metric': 'auc', 'num_iterations': 200, 'num_leaves': 10, 'objective': 'binary', 'verbose': 0}, {'bagging_fraction': 0.7, 'boosting': 'dart', 'feature_fraction': 0.7, 'is_unbalance': True, 'max_depth': 5, 'metric': 'auc', 'num_iterations': 200, 'num_leaves': 20, 'objective': 'binary', 'verbose': 0}, {'bagging_fraction': 0.7, 'boosting': 'dart', 'feature_fraction': 0.7, 'is_unbalance': True, 'max_depth': 5, 'metric': 'auc', 'num_iterations': 200, 'num_leaves': 30, 'objective': 'binary', 'verbose': 0}, {'bagging_fraction': 0.7, 'boosting': 'dart', 'feature_fraction': 0.7, 'is_unbalance': True, 'max_depth': 6, 'metric': 'auc', 'num_iterations': 100, 'num_leaves': 10, 'objective': 'binary', 'verbose': 0}, {'bagging_fraction': 0.7, 'boosting': 'dart', 'feature_fraction': 0.7, 'is_unbalance': True, 'max_depth': 6, 'metric': 'auc', 'num_iterations': 100, 'num_leaves': 20, 'objective': 'binary', 'verbose': 0}, {'bagging_fraction': 0.7, 'boosting': 'dart', 'feature_fraction': 0.7, 'is_unbalance': True, 'max_depth': 6, 'metric': 'auc', 'num_iterations': 100, 'num_leaves': 30, 'objective': 'binary', 'verbose': 0}, {'bagging_fraction': 0.7, 'boosting': 'dart', 'feature_fraction': 0.7, 'is_unbalance': True, 'max_depth': 6, 'metric': 'auc', 'num_iterations': 200, 'num_leaves': 10, 'objective': 'binary', 'verbose': 0}, {'bagging_fraction': 0.7, 'boosting': 'dart', 'feature_fraction': 0.7, 'is_unbalance': True, 'max_depth': 6, 'metric': 'auc', 'num_iterations': 200, 'num_leaves': 20, 'objective': 'binary', 'verbose': 0}, {'bagging_fraction': 0.7, 'boosting': 'dart', 'feature_fraction': 0.7, 'is_unbalance': True, 'max_depth': 6, 'metric': 'auc', 'num_iterations': 200, 'num_leaves': 30, 'objective': 'binary', 'verbose': 0}, {'bagging_fraction': 0.7, 'boosting': 'dart', 'feature_fraction': 0.7, 'is_unbalance': True, 'max_depth': 7, 'metric': 'auc', 'num_iterations': 100, 'num_leaves': 10, 'objective': 'binary', 'verbose': 0}, {'bagging_fraction': 0.7, 'boosting': 'dart', 'feature_fraction': 0.7, 'is_unbalance': True, 'max_depth': 7, 'metric': 'auc', 'num_iterations': 100, 'num_leaves': 20, 'objective': 'binary', 'verbose': 0}, {'bagging_fraction': 0.7, 'boosting': 'dart', 'feature_fraction': 0.7, 'is_unbalance': True, 'max_depth': 7, 'metric': 'auc', 'num_iterations': 100, 'num_leaves': 30, 'objective': 'binary', 'verbose': 0}, {'bagging_fraction': 0.7, 'boosting': 'dart', 'feature_fraction': 0.7, 'is_unbalance': True, 'max_depth': 7, 'metric': 'auc', 'num_iterations': 200, 'num_leaves': 10, 'objective': 'binary', 'verbose': 0}, {'bagging_fraction': 0.7, 'boosting': 'dart', 'feature_fraction': 0.7, 'is_unbalance': True, 'max_depth': 7, 'metric': 'auc', 'num_iterations': 200, 'num_leaves': 20, 'objective': 'binary', 'verbose': 0}, {'bagging_fraction': 0.7, 'boosting': 'dart', 'feature_fraction': 0.7, 'is_unbalance': True, 'max_depth': 7, 'metric': 'auc', 'num_iterations': 200, 'num_leaves': 30, 'objective': 'binary', 'verbose': 0}, {'bagging_fraction': 0.7, 'boosting': 'dart', 'feature_fraction': 0.7, 'is_unbalance': True, 'max_depth': -1, 'metric': 'auc', 'num_iterations': 100, 'num_leaves': 10, 'objective': 'binary', 'verbose': 0}, {'bagging_fraction': 0.7, 'boosting': 'dart', 'feature_fraction': 0.7, 'is_unbalance': True, 'max_depth': -1, 'metric': 'auc', 'num_iterations': 100, 'num_leaves': 20, 'objective': 'binary', 'verbose': 0}, {'bagging_fraction': 0.7, 'boosting': 'dart', 'feature_fraction': 0.7, 'is_unbalance': True, 'max_depth': -1, 'metric': 'auc', 'num_iterations': 100, 'num_leaves': 30, 'objective': 'binary', 'verbose': 0}, {'bagging_fraction': 0.7, 'boosting': 'dart', 'feature_fraction': 0.7, 'is_unbalance': True, 'max_depth': -1, 'metric': 'auc', 'num_iterations': 200, 'num_leaves': 10, 'objective': 'binary', 'verbose': 0}, {'bagging_fraction': 0.7, 'boosting': 'dart', 'feature_fraction': 0.7, 'is_unbalance': True, 'max_depth': -1, 'metric': 'auc', 'num_iterations': 200, 'num_leaves': 20, 'objective': 'binary', 'verbose': 0}, {'bagging_fraction': 0.7, 'boosting': 'dart', 'feature_fraction': 0.7, 'is_unbalance': True, 'max_depth': -1, 'metric': 'auc', 'num_iterations': 200, 'num_leaves': 30, 'objective': 'binary', 'verbose': 0}], 'split0_test_score': array([0.68216185, 0.69011268, 0.69721802, 0.69297433, 0.69999837,\n",
      "       0.71204657, 0.68463327, 0.68824285, 0.69435637, 0.69403119,\n",
      "       0.69713673, 0.70518511, 0.68456823, 0.68861682, 0.69191747,\n",
      "       0.69391737, 0.6963075 , 0.70263239, 0.68469831, 0.68995008,\n",
      "       0.69099068, 0.69391737, 0.69905533, 0.70229095]), 'split1_test_score': array([0.68191278, 0.68695327, 0.68908328, 0.69183116, 0.69657897,\n",
      "       0.70061136, 0.68201034, 0.68443303, 0.69001008, 0.69163604,\n",
      "       0.69531072, 0.6999935 , 0.68277454, 0.68636792, 0.68918084,\n",
      "       0.6934246 , 0.69516438, 0.69893662, 0.68178271, 0.68672563,\n",
      "       0.68783129, 0.69196124, 0.69579851, 0.69848135]), 'split2_test_score': array([0.68288836, 0.68636792, 0.69127833, 0.69396117, 0.69674157,\n",
      "       0.70249748, 0.68293714, 0.6848883 , 0.68900198, 0.69368476,\n",
      "       0.69600989, 0.70077396, 0.68516471, 0.68532731, 0.69040031,\n",
      "       0.69293682, 0.69661149, 0.70080648, 0.6838802 , 0.68604273,\n",
      "       0.68874183, 0.69555462, 0.69659523, 0.70101785]), 'split3_test_score': array([0.68425417, 0.68999382, 0.69498553, 0.69529446, 0.69942441,\n",
      "       0.70516406, 0.6864167 , 0.68905076, 0.69410751, 0.69553836,\n",
      "       0.70064388, 0.70518032, 0.68713213, 0.68901824, 0.69373354,\n",
      "       0.6970505 , 0.69963578, 0.70347306, 0.68612403, 0.6908881 ,\n",
      "       0.69422133, 0.696205  , 0.70069266, 0.7043836 ]), 'split4_test_score': array([0.84252545, 0.8924913 , 0.90226334, 0.91618159, 0.91943351,\n",
      "       0.91936848, 0.86120777, 0.8870118 , 0.89663751, 0.91766121,\n",
      "       0.91793763, 0.91935222, 0.85579331, 0.88829632, 0.8968001 ,\n",
      "       0.91626289, 0.9192384 , 0.91904328, 0.84686677, 0.89177588,\n",
      "       0.8961172 , 0.91377516, 0.91918962, 0.91901076]), 'mean_test_score': array([0.71474852, 0.7291838 , 0.7349657 , 0.73804854, 0.74243537,\n",
      "       0.74793759, 0.71944104, 0.72672535, 0.73282269, 0.73851031,\n",
      "       0.74140777, 0.74609702, 0.71908658, 0.72752532, 0.73240645,\n",
      "       0.73871844, 0.74139151, 0.74497837, 0.7166704 , 0.72907649,\n",
      "       0.73158047, 0.73828268, 0.74226627, 0.7450369 ]), 'std_test_score': array([0.06389365, 0.08166806, 0.08369658, 0.08907381, 0.08850979,\n",
      "       0.08580311, 0.07089934, 0.08016359, 0.08193533, 0.0895841 ,\n",
      "       0.08828399, 0.08665453, 0.06836752, 0.08039724, 0.08221094,\n",
      "       0.08878386, 0.08893573, 0.0870465 , 0.06511334, 0.08137053,\n",
      "       0.08229789, 0.08775852, 0.08847883, 0.08700794]), 'rank_test_score': array([24, 17, 13, 12,  5,  1, 21, 20, 14, 10,  7,  2, 22, 19, 15,  9,  8,\n",
      "        4, 23, 18, 16, 11,  6,  3])}\n"
     ]
    }
   ],
   "source": [
    "print(clf.cv_results_)"
   ]
  },
  {
   "cell_type": "code",
   "execution_count": 7,
   "metadata": {},
   "outputs": [
    {
     "name": "stdout",
     "output_type": "stream",
     "text": [
      "LGBMClassifier(bagging_fraction=0.7, boosting='dart', feature_fraction=0.7,\n",
      "               is_unbalance=True, max_depth=5, metric='auc', num_iterations=200,\n",
      "               num_leaves=30, objective='binary', verbose=0)\n"
     ]
    }
   ],
   "source": [
    "print(clf.best_estimator_)"
   ]
  },
  {
   "cell_type": "code",
   "execution_count": 10,
   "metadata": {},
   "outputs": [
    {
     "name": "stdout",
     "output_type": "stream",
     "text": [
      "0.7479375888700632\n"
     ]
    }
   ],
   "source": [
    "print(clf.best_score_)"
   ]
  },
  {
   "cell_type": "code",
   "execution_count": 11,
   "metadata": {},
   "outputs": [],
   "source": [
    "kaggle_test = pd.read_csv(\"application_test.csv\")\n",
    "kaggle_test = pd.get_dummies(kaggle_test)\n",
    "\n",
    "# Prevents an error on my machine\n",
    "kaggle_test = kaggle_test.rename(columns = lambda x:re.sub('[^A-Za-z0-9_]+', '', x))\n",
    "\n",
    "# Adding columns to match training data\n",
    "kaggle_test['CODE_GENDER_XNA'] = 0\n",
    "kaggle_test['NAME_FAMILY_STATUS_Unknown'] = 0\n",
    "kaggle_test['NAME_INCOME_TYPE_Maternityleave'] = 0"
   ]
  },
  {
   "cell_type": "code",
   "execution_count": 12,
   "metadata": {},
   "outputs": [],
   "source": [
    "#estimating probabilities\n",
    "final_pred = clf.best_estimator_.predict(kaggle_test)\n",
    "final_pred = [max(x,0) for x in final_pred]\n",
    "\n",
    "IDs = kaggle_test[['SK_ID_CURR']].astype('int64', copy=False)\n",
    "\n",
    "submission_lgbm = pd.DataFrame({'SK_ID_CURR': IDs.SK_ID_CURR.astype('int64', copy=False).tolist(),\n",
    "'TARGET': final_pred})\n",
    "\n",
    "submission_lgbm.to_csv(\"lgbm_sub.csv\", index=False)"
   ]
  },
  {
   "cell_type": "code",
   "execution_count": null,
   "metadata": {},
   "outputs": [],
   "source": []
  }
 ],
 "metadata": {
  "kernelspec": {
   "display_name": "Python 3",
   "language": "python",
   "name": "python3"
  },
  "language_info": {
   "codemirror_mode": {
    "name": "ipython",
    "version": 3
   },
   "file_extension": ".py",
   "mimetype": "text/x-python",
   "name": "python",
   "nbconvert_exporter": "python",
   "pygments_lexer": "ipython3",
   "version": "3.7.7"
  }
 },
 "nbformat": 4,
 "nbformat_minor": 4
}
