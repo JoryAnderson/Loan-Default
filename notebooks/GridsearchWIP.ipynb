{
 "cells": [
  {
   "cell_type": "code",
   "execution_count": 147,
   "metadata": {},
   "outputs": [],
   "source": [
    "import numpy as np\n",
    "import pandas as pd\n",
    "import seaborn as sns\n",
    "import matplotlib.pyplot as plt\n",
    "from sklearn.impute import SimpleImputer\n",
    "from sklearn.experimental import enable_iterative_imputer\n",
    "from sklearn.impute import IterativeImputer\n",
    "from imblearn.over_sampling import SMOTE\n",
    "from sklearn import metrics\n",
    "from sklearn.preprocessing import LabelEncoder\n",
    "from sklearn.tree import DecisionTreeClassifier\n",
    "from sklearn.model_selection import train_test_split\n",
    "from sklearn.ensemble import RandomForestClassifier\n",
    "from sklearn.metrics import r2_score,accuracy_score, confusion_matrix, roc_auc_score\n",
    "from sklearn.model_selection import cross_val_score, cross_validate, StratifiedKFold, GridSearchCV\n",
    "from sklearn.metrics import roc_auc_score, roc_curve, precision_score, recall_score\n",
    "from sklearn.model_selection import KFold, StratifiedKFold, train_test_split\n",
    "from sklearn.preprocessing import scale, LabelEncoder\n",
    "from sklearn.model_selection import GridSearchCV\n",
    "from sklearn import svm, datasets\n",
    "\n",
    "\n",
    "from lightgbm import LGBMClassifier\n",
    "import lightgbm as lbg\n",
    "from sklearn.metrics import classification_report,confusion_matrix,accuracy_score,roc_curve,auc\n",
    "\n",
    "import re\n",
    "\n",
    "dataset = pd.read_csv(\"train_feat_eng.csv\")\n",
    "\n",
    "num_dataset = pd.get_dummies(dataset)"
   ]
  },
  {
   "cell_type": "code",
   "execution_count": 158,
   "metadata": {},
   "outputs": [],
   "source": [
    "from matplotlib      import pyplot as plt\n",
    "from IPython.display import display\n",
    "import joblib"
   ]
  },
  {
   "cell_type": "code",
   "execution_count": 149,
   "metadata": {},
   "outputs": [],
   "source": [
    "data = num_dataset.drop('TARGET', 1)\n",
    "target = num_dataset['TARGET']\n",
    "\n",
    "X_train, X_test, y_train, y_test = train_test_split(data,target ,test_size = .2, random_state=42,shuffle=True)\n",
    "\n",
    "train_data = lbg.Dataset(X_train,y_train)\n",
    "test_data = lbg.Dataset(X_test,y_test)\n",
    "\n",
    "PARAMS = {'max_depth':4,\n",
    "          'num_leaves':16,\n",
    "          'bagging_fraction':1,\n",
    "          'feature_fraction':1,\n",
    "          'boosting':'dart',\n",
    "          'num_iterations':300,\n",
    "          \n",
    "          'objective':'binary',\n",
    "          'metric':'auc',\n",
    "          'is_unbalance':True,\n",
    "          'verbose':10\n",
    "          }\n",
    "PARAMSD = {}\n"
   ]
  },
  {
   "cell_type": "code",
   "execution_count": 150,
   "metadata": {},
   "outputs": [
    {
     "name": "stderr",
     "output_type": "stream",
     "text": [
      "C:\\Users\\test\\anaconda3\\lib\\site-packages\\lightgbm\\engine.py:148: UserWarning: Found `num_iterations` in params. Will use it instead of argument\n",
      "  warnings.warn(\"Found `{}` in params. Will use it instead of argument\".format(alias))\n"
     ]
    },
    {
     "name": "stdout",
     "output_type": "stream",
     "text": [
      "[1]\tvalid_0's auc: 0.700101\n",
      "[2]\tvalid_0's auc: 0.71614\n",
      "[3]\tvalid_0's auc: 0.722688\n",
      "[4]\tvalid_0's auc: 0.725351\n",
      "[5]\tvalid_0's auc: 0.727897\n",
      "[6]\tvalid_0's auc: 0.729354\n",
      "[7]\tvalid_0's auc: 0.731324\n",
      "[8]\tvalid_0's auc: 0.731114\n",
      "[9]\tvalid_0's auc: 0.731864\n",
      "[10]\tvalid_0's auc: 0.733152\n",
      "[11]\tvalid_0's auc: 0.734256\n",
      "[12]\tvalid_0's auc: 0.734001\n",
      "[13]\tvalid_0's auc: 0.735046\n",
      "[14]\tvalid_0's auc: 0.736147\n",
      "[15]\tvalid_0's auc: 0.736836\n",
      "[16]\tvalid_0's auc: 0.738745\n",
      "[17]\tvalid_0's auc: 0.739772\n",
      "[18]\tvalid_0's auc: 0.740555\n",
      "[19]\tvalid_0's auc: 0.741396\n",
      "[20]\tvalid_0's auc: 0.742322\n",
      "[21]\tvalid_0's auc: 0.742229\n",
      "[22]\tvalid_0's auc: 0.742738\n",
      "[23]\tvalid_0's auc: 0.743193\n",
      "[24]\tvalid_0's auc: 0.744661\n",
      "[25]\tvalid_0's auc: 0.745276\n",
      "[26]\tvalid_0's auc: 0.746323\n",
      "[27]\tvalid_0's auc: 0.746935\n",
      "[28]\tvalid_0's auc: 0.746853\n",
      "[29]\tvalid_0's auc: 0.747423\n",
      "[30]\tvalid_0's auc: 0.747698\n",
      "[31]\tvalid_0's auc: 0.747584\n",
      "[32]\tvalid_0's auc: 0.748402\n",
      "[33]\tvalid_0's auc: 0.749081\n",
      "[34]\tvalid_0's auc: 0.749503\n",
      "[35]\tvalid_0's auc: 0.749349\n",
      "[36]\tvalid_0's auc: 0.74922\n",
      "[37]\tvalid_0's auc: 0.749582\n",
      "[38]\tvalid_0's auc: 0.750191\n",
      "[39]\tvalid_0's auc: 0.75065\n",
      "[40]\tvalid_0's auc: 0.750935\n",
      "[41]\tvalid_0's auc: 0.750689\n",
      "[42]\tvalid_0's auc: 0.751135\n",
      "[43]\tvalid_0's auc: 0.750906\n",
      "[44]\tvalid_0's auc: 0.75102\n",
      "[45]\tvalid_0's auc: 0.751394\n",
      "[46]\tvalid_0's auc: 0.752061\n",
      "[47]\tvalid_0's auc: 0.752123\n",
      "[48]\tvalid_0's auc: 0.752102\n",
      "[49]\tvalid_0's auc: 0.751891\n",
      "[50]\tvalid_0's auc: 0.751754\n",
      "[51]\tvalid_0's auc: 0.751678\n",
      "[52]\tvalid_0's auc: 0.751869\n",
      "[53]\tvalid_0's auc: 0.751849\n",
      "[54]\tvalid_0's auc: 0.752111\n",
      "[55]\tvalid_0's auc: 0.752742\n",
      "[56]\tvalid_0's auc: 0.75263\n",
      "[57]\tvalid_0's auc: 0.752787\n",
      "[58]\tvalid_0's auc: 0.753508\n",
      "[59]\tvalid_0's auc: 0.753526\n",
      "[60]\tvalid_0's auc: 0.753252\n",
      "[61]\tvalid_0's auc: 0.753817\n",
      "[62]\tvalid_0's auc: 0.753592\n",
      "[63]\tvalid_0's auc: 0.753585\n",
      "[64]\tvalid_0's auc: 0.753477\n",
      "[65]\tvalid_0's auc: 0.753342\n",
      "[66]\tvalid_0's auc: 0.753303\n",
      "[67]\tvalid_0's auc: 0.753345\n",
      "[68]\tvalid_0's auc: 0.753443\n",
      "[69]\tvalid_0's auc: 0.753305\n",
      "[70]\tvalid_0's auc: 0.75319\n",
      "[71]\tvalid_0's auc: 0.753225\n",
      "[72]\tvalid_0's auc: 0.753258\n",
      "[73]\tvalid_0's auc: 0.75374\n",
      "[74]\tvalid_0's auc: 0.753605\n",
      "[75]\tvalid_0's auc: 0.753807\n",
      "[76]\tvalid_0's auc: 0.753851\n",
      "[77]\tvalid_0's auc: 0.753712\n",
      "[78]\tvalid_0's auc: 0.753719\n",
      "[79]\tvalid_0's auc: 0.753732\n",
      "[80]\tvalid_0's auc: 0.75367\n",
      "[81]\tvalid_0's auc: 0.753672\n",
      "[82]\tvalid_0's auc: 0.754248\n",
      "[83]\tvalid_0's auc: 0.754176\n",
      "[84]\tvalid_0's auc: 0.753997\n",
      "[85]\tvalid_0's auc: 0.753966\n",
      "[86]\tvalid_0's auc: 0.753891\n",
      "[87]\tvalid_0's auc: 0.754165\n",
      "[88]\tvalid_0's auc: 0.754067\n",
      "[89]\tvalid_0's auc: 0.753989\n",
      "[90]\tvalid_0's auc: 0.75389\n",
      "[91]\tvalid_0's auc: 0.754279\n",
      "[92]\tvalid_0's auc: 0.754135\n",
      "[93]\tvalid_0's auc: 0.754126\n",
      "[94]\tvalid_0's auc: 0.75411\n",
      "[95]\tvalid_0's auc: 0.754017\n",
      "[96]\tvalid_0's auc: 0.75394\n",
      "[97]\tvalid_0's auc: 0.754076\n",
      "[98]\tvalid_0's auc: 0.754044\n",
      "[99]\tvalid_0's auc: 0.753989\n",
      "[100]\tvalid_0's auc: 0.754102\n",
      "[101]\tvalid_0's auc: 0.754274\n",
      "[102]\tvalid_0's auc: 0.754232\n",
      "[103]\tvalid_0's auc: 0.754153\n",
      "[104]\tvalid_0's auc: 0.754017\n",
      "[105]\tvalid_0's auc: 0.754194\n",
      "[106]\tvalid_0's auc: 0.7541\n",
      "[107]\tvalid_0's auc: 0.754133\n",
      "[108]\tvalid_0's auc: 0.754068\n",
      "[109]\tvalid_0's auc: 0.754077\n",
      "[110]\tvalid_0's auc: 0.754057\n",
      "[111]\tvalid_0's auc: 0.753968\n",
      "[112]\tvalid_0's auc: 0.754028\n",
      "[113]\tvalid_0's auc: 0.754211\n",
      "[114]\tvalid_0's auc: 0.75471\n",
      "[115]\tvalid_0's auc: 0.755169\n",
      "[116]\tvalid_0's auc: 0.755927\n",
      "[117]\tvalid_0's auc: 0.755937\n",
      "[118]\tvalid_0's auc: 0.756064\n",
      "[119]\tvalid_0's auc: 0.756009\n",
      "[120]\tvalid_0's auc: 0.755914\n",
      "[121]\tvalid_0's auc: 0.755835\n",
      "[122]\tvalid_0's auc: 0.755769\n",
      "[123]\tvalid_0's auc: 0.755734\n",
      "[124]\tvalid_0's auc: 0.755872\n",
      "[125]\tvalid_0's auc: 0.75588\n",
      "[126]\tvalid_0's auc: 0.755786\n",
      "[127]\tvalid_0's auc: 0.756022\n",
      "[128]\tvalid_0's auc: 0.75599\n",
      "[129]\tvalid_0's auc: 0.756192\n",
      "[130]\tvalid_0's auc: 0.756662\n",
      "[131]\tvalid_0's auc: 0.75667\n",
      "[132]\tvalid_0's auc: 0.756857\n",
      "[133]\tvalid_0's auc: 0.756998\n",
      "[134]\tvalid_0's auc: 0.757161\n",
      "[135]\tvalid_0's auc: 0.757129\n",
      "[136]\tvalid_0's auc: 0.757302\n",
      "[137]\tvalid_0's auc: 0.757296\n",
      "[138]\tvalid_0's auc: 0.75722\n",
      "[139]\tvalid_0's auc: 0.757249\n",
      "[140]\tvalid_0's auc: 0.757216\n",
      "[141]\tvalid_0's auc: 0.757137\n",
      "[142]\tvalid_0's auc: 0.757064\n",
      "[143]\tvalid_0's auc: 0.757163\n",
      "[144]\tvalid_0's auc: 0.757113\n",
      "[145]\tvalid_0's auc: 0.757203\n",
      "[146]\tvalid_0's auc: 0.757193\n",
      "[147]\tvalid_0's auc: 0.75715\n",
      "[148]\tvalid_0's auc: 0.757156\n",
      "[149]\tvalid_0's auc: 0.757104\n",
      "[150]\tvalid_0's auc: 0.757201\n",
      "[151]\tvalid_0's auc: 0.75728\n",
      "[152]\tvalid_0's auc: 0.757393\n",
      "[153]\tvalid_0's auc: 0.757337\n",
      "[154]\tvalid_0's auc: 0.757329\n",
      "[155]\tvalid_0's auc: 0.757297\n",
      "[156]\tvalid_0's auc: 0.757264\n",
      "[157]\tvalid_0's auc: 0.757255\n",
      "[158]\tvalid_0's auc: 0.757222\n",
      "[159]\tvalid_0's auc: 0.757161\n",
      "[160]\tvalid_0's auc: 0.757052\n",
      "[161]\tvalid_0's auc: 0.756987\n",
      "[162]\tvalid_0's auc: 0.756951\n",
      "[163]\tvalid_0's auc: 0.757166\n",
      "[164]\tvalid_0's auc: 0.757528\n",
      "[165]\tvalid_0's auc: 0.757548\n",
      "[166]\tvalid_0's auc: 0.758005\n",
      "[167]\tvalid_0's auc: 0.758422\n",
      "[168]\tvalid_0's auc: 0.75857\n",
      "[169]\tvalid_0's auc: 0.758922\n",
      "[170]\tvalid_0's auc: 0.758945\n",
      "[171]\tvalid_0's auc: 0.759141\n",
      "[172]\tvalid_0's auc: 0.759187\n",
      "[173]\tvalid_0's auc: 0.759347\n",
      "[174]\tvalid_0's auc: 0.759423\n",
      "[175]\tvalid_0's auc: 0.759764\n",
      "[176]\tvalid_0's auc: 0.759742\n",
      "[177]\tvalid_0's auc: 0.75972\n",
      "[178]\tvalid_0's auc: 0.759694\n",
      "[179]\tvalid_0's auc: 0.759918\n",
      "[180]\tvalid_0's auc: 0.759884\n",
      "[181]\tvalid_0's auc: 0.759998\n",
      "[182]\tvalid_0's auc: 0.760087\n",
      "[183]\tvalid_0's auc: 0.760184\n",
      "[184]\tvalid_0's auc: 0.760668\n",
      "[185]\tvalid_0's auc: 0.76058\n",
      "[186]\tvalid_0's auc: 0.760726\n",
      "[187]\tvalid_0's auc: 0.760883\n",
      "[188]\tvalid_0's auc: 0.761111\n",
      "[189]\tvalid_0's auc: 0.76104\n",
      "[190]\tvalid_0's auc: 0.760987\n",
      "[191]\tvalid_0's auc: 0.761037\n",
      "[192]\tvalid_0's auc: 0.761129\n",
      "[193]\tvalid_0's auc: 0.761369\n",
      "[194]\tvalid_0's auc: 0.761323\n",
      "[195]\tvalid_0's auc: 0.761276\n",
      "[196]\tvalid_0's auc: 0.76146\n",
      "[197]\tvalid_0's auc: 0.761429\n",
      "[198]\tvalid_0's auc: 0.761372\n",
      "[199]\tvalid_0's auc: 0.761446\n",
      "[200]\tvalid_0's auc: 0.761399\n",
      "[201]\tvalid_0's auc: 0.761329\n",
      "[202]\tvalid_0's auc: 0.761244\n",
      "[203]\tvalid_0's auc: 0.761219\n",
      "[204]\tvalid_0's auc: 0.761152\n",
      "[205]\tvalid_0's auc: 0.761207\n",
      "[206]\tvalid_0's auc: 0.761284\n",
      "[207]\tvalid_0's auc: 0.761251\n",
      "[208]\tvalid_0's auc: 0.761232\n",
      "[209]\tvalid_0's auc: 0.761168\n",
      "[210]\tvalid_0's auc: 0.761133\n",
      "[211]\tvalid_0's auc: 0.761104\n",
      "[212]\tvalid_0's auc: 0.761042\n",
      "[213]\tvalid_0's auc: 0.761371\n",
      "[214]\tvalid_0's auc: 0.761543\n",
      "[215]\tvalid_0's auc: 0.761674\n",
      "[216]\tvalid_0's auc: 0.761652\n",
      "[217]\tvalid_0's auc: 0.761784\n",
      "[218]\tvalid_0's auc: 0.761912\n",
      "[219]\tvalid_0's auc: 0.761933\n",
      "[220]\tvalid_0's auc: 0.761974\n",
      "[221]\tvalid_0's auc: 0.761938\n",
      "[222]\tvalid_0's auc: 0.762161\n",
      "[223]\tvalid_0's auc: 0.762095\n",
      "[224]\tvalid_0's auc: 0.76203\n",
      "[225]\tvalid_0's auc: 0.761975\n",
      "[226]\tvalid_0's auc: 0.761931\n",
      "[227]\tvalid_0's auc: 0.761872\n",
      "[228]\tvalid_0's auc: 0.762011\n",
      "[229]\tvalid_0's auc: 0.761977\n",
      "[230]\tvalid_0's auc: 0.762187\n",
      "[231]\tvalid_0's auc: 0.762277\n",
      "[232]\tvalid_0's auc: 0.76247\n",
      "[233]\tvalid_0's auc: 0.762438\n",
      "[234]\tvalid_0's auc: 0.762541\n",
      "[235]\tvalid_0's auc: 0.762525\n",
      "[236]\tvalid_0's auc: 0.762883\n",
      "[237]\tvalid_0's auc: 0.762894\n",
      "[238]\tvalid_0's auc: 0.763031\n",
      "[239]\tvalid_0's auc: 0.763109\n",
      "[240]\tvalid_0's auc: 0.763443\n",
      "[241]\tvalid_0's auc: 0.763401\n",
      "[242]\tvalid_0's auc: 0.763555\n",
      "[243]\tvalid_0's auc: 0.763537\n",
      "[244]\tvalid_0's auc: 0.763549\n",
      "[245]\tvalid_0's auc: 0.763662\n",
      "[246]\tvalid_0's auc: 0.763684\n",
      "[247]\tvalid_0's auc: 0.76379\n",
      "[248]\tvalid_0's auc: 0.763734\n",
      "[249]\tvalid_0's auc: 0.763708\n",
      "[250]\tvalid_0's auc: 0.763744\n",
      "[251]\tvalid_0's auc: 0.763708\n",
      "[252]\tvalid_0's auc: 0.763668\n",
      "[253]\tvalid_0's auc: 0.763672\n",
      "[254]\tvalid_0's auc: 0.763802\n",
      "[255]\tvalid_0's auc: 0.764015\n",
      "[256]\tvalid_0's auc: 0.76437\n",
      "[257]\tvalid_0's auc: 0.764432\n",
      "[258]\tvalid_0's auc: 0.764431\n",
      "[259]\tvalid_0's auc: 0.764408\n",
      "[260]\tvalid_0's auc: 0.764378\n",
      "[261]\tvalid_0's auc: 0.764354\n",
      "[262]\tvalid_0's auc: 0.764358\n",
      "[263]\tvalid_0's auc: 0.764412\n",
      "[264]\tvalid_0's auc: 0.764514\n",
      "[265]\tvalid_0's auc: 0.764543\n",
      "[266]\tvalid_0's auc: 0.764741\n",
      "[267]\tvalid_0's auc: 0.764702\n",
      "[268]\tvalid_0's auc: 0.76478\n",
      "[269]\tvalid_0's auc: 0.764768\n",
      "[270]\tvalid_0's auc: 0.764873\n",
      "[271]\tvalid_0's auc: 0.764826\n",
      "[272]\tvalid_0's auc: 0.764876\n",
      "[273]\tvalid_0's auc: 0.764878\n",
      "[274]\tvalid_0's auc: 0.764842\n",
      "[275]\tvalid_0's auc: 0.764977\n",
      "[276]\tvalid_0's auc: 0.764937\n",
      "[277]\tvalid_0's auc: 0.764999\n",
      "[278]\tvalid_0's auc: 0.764969\n",
      "[279]\tvalid_0's auc: 0.765018\n",
      "[280]\tvalid_0's auc: 0.764989\n",
      "[281]\tvalid_0's auc: 0.765018\n",
      "[282]\tvalid_0's auc: 0.764994\n",
      "[283]\tvalid_0's auc: 0.764964\n",
      "[284]\tvalid_0's auc: 0.765037\n",
      "[285]\tvalid_0's auc: 0.765054\n",
      "[286]\tvalid_0's auc: 0.765125\n",
      "[287]\tvalid_0's auc: 0.765192\n",
      "[288]\tvalid_0's auc: 0.76517\n",
      "[289]\tvalid_0's auc: 0.76528\n",
      "[290]\tvalid_0's auc: 0.765363\n",
      "[291]\tvalid_0's auc: 0.765357\n",
      "[292]\tvalid_0's auc: 0.765324\n",
      "[293]\tvalid_0's auc: 0.765289\n",
      "[294]\tvalid_0's auc: 0.765374\n",
      "[295]\tvalid_0's auc: 0.765335\n",
      "[296]\tvalid_0's auc: 0.765312\n",
      "[297]\tvalid_0's auc: 0.765304\n",
      "[298]\tvalid_0's auc: 0.765282\n",
      "[299]\tvalid_0's auc: 0.765362\n",
      "[300]\tvalid_0's auc: 0.765342\n"
     ]
    }
   ],
   "source": [
    "model = lbg.train(PARAMS,train_data,valid_sets=test_data)\n",
    "\n",
    "pred = model.predict(X_test)"
   ]
  },
  {
   "cell_type": "code",
   "execution_count": 112,
   "metadata": {},
   "outputs": [
    {
     "name": "stdout",
     "output_type": "stream",
     "text": [
      "Fitting 3 folds for each of 150 candidates, totalling 450 fits\n",
      "[CV] bagging_fraction=1, boosting=dart, feature_fraction=1, is_unbalance=True, max_depth=3, metric=auc, num_iterations=100, num_leaves=8, objective=binary \n"
     ]
    },
    {
     "name": "stderr",
     "output_type": "stream",
     "text": [
      "[Parallel(n_jobs=1)]: Using backend SequentialBackend with 1 concurrent workers.\n",
      "C:\\Users\\test\\anaconda3\\lib\\site-packages\\lightgbm\\engine.py:148: UserWarning: Found `num_iterations` in params. Will use it instead of argument\n",
      "  warnings.warn(\"Found `{}` in params. Will use it instead of argument\".format(alias))\n"
     ]
    },
    {
     "name": "stdout",
     "output_type": "stream",
     "text": [
      "[CV]  bagging_fraction=1, boosting=dart, feature_fraction=1, is_unbalance=True, max_depth=3, metric=auc, num_iterations=100, num_leaves=8, objective=binary, score=0.747, total=   5.2s\n",
      "[CV] bagging_fraction=1, boosting=dart, feature_fraction=1, is_unbalance=True, max_depth=3, metric=auc, num_iterations=100, num_leaves=8, objective=binary \n"
     ]
    },
    {
     "name": "stderr",
     "output_type": "stream",
     "text": [
      "[Parallel(n_jobs=1)]: Done   1 out of   1 | elapsed:    5.2s remaining:    0.0s\n",
      "C:\\Users\\test\\anaconda3\\lib\\site-packages\\lightgbm\\engine.py:148: UserWarning: Found `num_iterations` in params. Will use it instead of argument\n",
      "  warnings.warn(\"Found `{}` in params. Will use it instead of argument\".format(alias))\n"
     ]
    },
    {
     "name": "stdout",
     "output_type": "stream",
     "text": [
      "[CV]  bagging_fraction=1, boosting=dart, feature_fraction=1, is_unbalance=True, max_depth=3, metric=auc, num_iterations=100, num_leaves=8, objective=binary, score=0.743, total=   5.4s\n",
      "[CV] bagging_fraction=1, boosting=dart, feature_fraction=1, is_unbalance=True, max_depth=3, metric=auc, num_iterations=100, num_leaves=8, objective=binary \n"
     ]
    },
    {
     "name": "stderr",
     "output_type": "stream",
     "text": [
      "[Parallel(n_jobs=1)]: Done   2 out of   2 | elapsed:   10.6s remaining:    0.0s\n",
      "C:\\Users\\test\\anaconda3\\lib\\site-packages\\lightgbm\\engine.py:148: UserWarning: Found `num_iterations` in params. Will use it instead of argument\n",
      "  warnings.warn(\"Found `{}` in params. Will use it instead of argument\".format(alias))\n"
     ]
    },
    {
     "name": "stdout",
     "output_type": "stream",
     "text": [
      "[CV]  bagging_fraction=1, boosting=dart, feature_fraction=1, is_unbalance=True, max_depth=3, metric=auc, num_iterations=100, num_leaves=8, objective=binary, score=0.749, total=   5.2s\n",
      "[CV] bagging_fraction=1, boosting=dart, feature_fraction=1, is_unbalance=True, max_depth=3, metric=auc, num_iterations=100, num_leaves=16, objective=binary \n"
     ]
    },
    {
     "name": "stderr",
     "output_type": "stream",
     "text": [
      "[Parallel(n_jobs=1)]: Done   3 out of   3 | elapsed:   15.8s remaining:    0.0s\n",
      "C:\\Users\\test\\anaconda3\\lib\\site-packages\\lightgbm\\engine.py:148: UserWarning: Found `num_iterations` in params. Will use it instead of argument\n",
      "  warnings.warn(\"Found `{}` in params. Will use it instead of argument\".format(alias))\n"
     ]
    },
    {
     "name": "stdout",
     "output_type": "stream",
     "text": [
      "[CV]  bagging_fraction=1, boosting=dart, feature_fraction=1, is_unbalance=True, max_depth=3, metric=auc, num_iterations=100, num_leaves=16, objective=binary, score=0.747, total=   5.2s\n",
      "[CV] bagging_fraction=1, boosting=dart, feature_fraction=1, is_unbalance=True, max_depth=3, metric=auc, num_iterations=100, num_leaves=16, objective=binary \n"
     ]
    },
    {
     "name": "stderr",
     "output_type": "stream",
     "text": [
      "[Parallel(n_jobs=1)]: Done   4 out of   4 | elapsed:   21.0s remaining:    0.0s\n",
      "C:\\Users\\test\\anaconda3\\lib\\site-packages\\lightgbm\\engine.py:148: UserWarning: Found `num_iterations` in params. Will use it instead of argument\n",
      "  warnings.warn(\"Found `{}` in params. Will use it instead of argument\".format(alias))\n"
     ]
    },
    {
     "name": "stdout",
     "output_type": "stream",
     "text": [
      "[CV]  bagging_fraction=1, boosting=dart, feature_fraction=1, is_unbalance=True, max_depth=3, metric=auc, num_iterations=100, num_leaves=16, objective=binary, score=0.743, total=   5.1s\n",
      "[CV] bagging_fraction=1, boosting=dart, feature_fraction=1, is_unbalance=True, max_depth=3, metric=auc, num_iterations=100, num_leaves=16, objective=binary \n"
     ]
    },
    {
     "name": "stderr",
     "output_type": "stream",
     "text": [
      "[Parallel(n_jobs=1)]: Done   5 out of   5 | elapsed:   26.2s remaining:    0.0s\n",
      "C:\\Users\\test\\anaconda3\\lib\\site-packages\\lightgbm\\engine.py:148: UserWarning: Found `num_iterations` in params. Will use it instead of argument\n",
      "  warnings.warn(\"Found `{}` in params. Will use it instead of argument\".format(alias))\n"
     ]
    },
    {
     "name": "stdout",
     "output_type": "stream",
     "text": [
      "[CV]  bagging_fraction=1, boosting=dart, feature_fraction=1, is_unbalance=True, max_depth=3, metric=auc, num_iterations=100, num_leaves=16, objective=binary, score=0.749, total=   5.1s\n",
      "[CV] bagging_fraction=1, boosting=dart, feature_fraction=1, is_unbalance=True, max_depth=3, metric=auc, num_iterations=100, num_leaves=32, objective=binary \n"
     ]
    },
    {
     "name": "stderr",
     "output_type": "stream",
     "text": [
      "[Parallel(n_jobs=1)]: Done   6 out of   6 | elapsed:   31.3s remaining:    0.0s\n",
      "C:\\Users\\test\\anaconda3\\lib\\site-packages\\lightgbm\\engine.py:148: UserWarning: Found `num_iterations` in params. Will use it instead of argument\n",
      "  warnings.warn(\"Found `{}` in params. Will use it instead of argument\".format(alias))\n"
     ]
    },
    {
     "name": "stdout",
     "output_type": "stream",
     "text": [
      "[CV]  bagging_fraction=1, boosting=dart, feature_fraction=1, is_unbalance=True, max_depth=3, metric=auc, num_iterations=100, num_leaves=32, objective=binary, score=0.747, total=   5.1s\n",
      "[CV] bagging_fraction=1, boosting=dart, feature_fraction=1, is_unbalance=True, max_depth=3, metric=auc, num_iterations=100, num_leaves=32, objective=binary \n"
     ]
    },
    {
     "name": "stderr",
     "output_type": "stream",
     "text": [
      "[Parallel(n_jobs=1)]: Done   7 out of   7 | elapsed:   36.4s remaining:    0.0s\n",
      "C:\\Users\\test\\anaconda3\\lib\\site-packages\\lightgbm\\engine.py:148: UserWarning: Found `num_iterations` in params. Will use it instead of argument\n",
      "  warnings.warn(\"Found `{}` in params. Will use it instead of argument\".format(alias))\n"
     ]
    },
    {
     "name": "stdout",
     "output_type": "stream",
     "text": [
      "[CV]  bagging_fraction=1, boosting=dart, feature_fraction=1, is_unbalance=True, max_depth=3, metric=auc, num_iterations=100, num_leaves=32, objective=binary, score=0.743, total=   5.4s\n",
      "[CV] bagging_fraction=1, boosting=dart, feature_fraction=1, is_unbalance=True, max_depth=3, metric=auc, num_iterations=100, num_leaves=32, objective=binary \n"
     ]
    },
    {
     "name": "stderr",
     "output_type": "stream",
     "text": [
      "[Parallel(n_jobs=1)]: Done   8 out of   8 | elapsed:   41.8s remaining:    0.0s\n",
      "C:\\Users\\test\\anaconda3\\lib\\site-packages\\lightgbm\\engine.py:148: UserWarning: Found `num_iterations` in params. Will use it instead of argument\n",
      "  warnings.warn(\"Found `{}` in params. Will use it instead of argument\".format(alias))\n"
     ]
    },
    {
     "name": "stdout",
     "output_type": "stream",
     "text": [
      "[CV]  bagging_fraction=1, boosting=dart, feature_fraction=1, is_unbalance=True, max_depth=3, metric=auc, num_iterations=100, num_leaves=32, objective=binary, score=0.749, total=   5.6s\n",
      "[CV] bagging_fraction=1, boosting=dart, feature_fraction=1, is_unbalance=True, max_depth=3, metric=auc, num_iterations=100, num_leaves=64, objective=binary \n"
     ]
    },
    {
     "name": "stderr",
     "output_type": "stream",
     "text": [
      "[Parallel(n_jobs=1)]: Done   9 out of   9 | elapsed:   47.5s remaining:    0.0s\n",
      "C:\\Users\\test\\anaconda3\\lib\\site-packages\\lightgbm\\engine.py:148: UserWarning: Found `num_iterations` in params. Will use it instead of argument\n",
      "  warnings.warn(\"Found `{}` in params. Will use it instead of argument\".format(alias))\n"
     ]
    },
    {
     "name": "stdout",
     "output_type": "stream",
     "text": [
      "[CV]  bagging_fraction=1, boosting=dart, feature_fraction=1, is_unbalance=True, max_depth=3, metric=auc, num_iterations=100, num_leaves=64, objective=binary, score=0.747, total=   5.2s\n",
      "[CV] bagging_fraction=1, boosting=dart, feature_fraction=1, is_unbalance=True, max_depth=3, metric=auc, num_iterations=100, num_leaves=64, objective=binary \n"
     ]
    },
    {
     "name": "stderr",
     "output_type": "stream",
     "text": [
      "C:\\Users\\test\\anaconda3\\lib\\site-packages\\lightgbm\\engine.py:148: UserWarning: Found `num_iterations` in params. Will use it instead of argument\n",
      "  warnings.warn(\"Found `{}` in params. Will use it instead of argument\".format(alias))\n"
     ]
    },
    {
     "name": "stdout",
     "output_type": "stream",
     "text": [
      "[CV]  bagging_fraction=1, boosting=dart, feature_fraction=1, is_unbalance=True, max_depth=3, metric=auc, num_iterations=100, num_leaves=64, objective=binary, score=0.743, total=   5.1s\n",
      "[CV] bagging_fraction=1, boosting=dart, feature_fraction=1, is_unbalance=True, max_depth=3, metric=auc, num_iterations=100, num_leaves=64, objective=binary \n"
     ]
    },
    {
     "name": "stderr",
     "output_type": "stream",
     "text": [
      "C:\\Users\\test\\anaconda3\\lib\\site-packages\\lightgbm\\engine.py:148: UserWarning: Found `num_iterations` in params. Will use it instead of argument\n",
      "  warnings.warn(\"Found `{}` in params. Will use it instead of argument\".format(alias))\n"
     ]
    },
    {
     "name": "stdout",
     "output_type": "stream",
     "text": [
      "[CV]  bagging_fraction=1, boosting=dart, feature_fraction=1, is_unbalance=True, max_depth=3, metric=auc, num_iterations=100, num_leaves=64, objective=binary, score=0.749, total=   5.2s\n",
      "[CV] bagging_fraction=1, boosting=dart, feature_fraction=1, is_unbalance=True, max_depth=3, metric=auc, num_iterations=100, num_leaves=256, objective=binary \n"
     ]
    },
    {
     "name": "stderr",
     "output_type": "stream",
     "text": [
      "C:\\Users\\test\\anaconda3\\lib\\site-packages\\lightgbm\\engine.py:148: UserWarning: Found `num_iterations` in params. Will use it instead of argument\n",
      "  warnings.warn(\"Found `{}` in params. Will use it instead of argument\".format(alias))\n"
     ]
    },
    {
     "name": "stdout",
     "output_type": "stream",
     "text": [
      "[CV]  bagging_fraction=1, boosting=dart, feature_fraction=1, is_unbalance=True, max_depth=3, metric=auc, num_iterations=100, num_leaves=256, objective=binary, score=0.747, total=   5.3s\n",
      "[CV] bagging_fraction=1, boosting=dart, feature_fraction=1, is_unbalance=True, max_depth=3, metric=auc, num_iterations=100, num_leaves=256, objective=binary \n"
     ]
    },
    {
     "name": "stderr",
     "output_type": "stream",
     "text": [
      "C:\\Users\\test\\anaconda3\\lib\\site-packages\\lightgbm\\engine.py:148: UserWarning: Found `num_iterations` in params. Will use it instead of argument\n",
      "  warnings.warn(\"Found `{}` in params. Will use it instead of argument\".format(alias))\n"
     ]
    },
    {
     "name": "stdout",
     "output_type": "stream",
     "text": [
      "[CV]  bagging_fraction=1, boosting=dart, feature_fraction=1, is_unbalance=True, max_depth=3, metric=auc, num_iterations=100, num_leaves=256, objective=binary, score=0.743, total=   5.0s\n",
      "[CV] bagging_fraction=1, boosting=dart, feature_fraction=1, is_unbalance=True, max_depth=3, metric=auc, num_iterations=100, num_leaves=256, objective=binary \n"
     ]
    },
    {
     "name": "stderr",
     "output_type": "stream",
     "text": [
      "C:\\Users\\test\\anaconda3\\lib\\site-packages\\lightgbm\\engine.py:148: UserWarning: Found `num_iterations` in params. Will use it instead of argument\n",
      "  warnings.warn(\"Found `{}` in params. Will use it instead of argument\".format(alias))\n"
     ]
    },
    {
     "name": "stdout",
     "output_type": "stream",
     "text": [
      "[CV]  bagging_fraction=1, boosting=dart, feature_fraction=1, is_unbalance=True, max_depth=3, metric=auc, num_iterations=100, num_leaves=256, objective=binary, score=0.749, total=   5.4s\n",
      "[CV] bagging_fraction=1, boosting=dart, feature_fraction=1, is_unbalance=True, max_depth=3, metric=auc, num_iterations=300, num_leaves=8, objective=binary \n"
     ]
    },
    {
     "name": "stderr",
     "output_type": "stream",
     "text": [
      "C:\\Users\\test\\anaconda3\\lib\\site-packages\\lightgbm\\engine.py:148: UserWarning: Found `num_iterations` in params. Will use it instead of argument\n",
      "  warnings.warn(\"Found `{}` in params. Will use it instead of argument\".format(alias))\n"
     ]
    },
    {
     "name": "stdout",
     "output_type": "stream",
     "text": [
      "[CV]  bagging_fraction=1, boosting=dart, feature_fraction=1, is_unbalance=True, max_depth=3, metric=auc, num_iterations=300, num_leaves=8, objective=binary, score=0.760, total=  13.8s\n",
      "[CV] bagging_fraction=1, boosting=dart, feature_fraction=1, is_unbalance=True, max_depth=3, metric=auc, num_iterations=300, num_leaves=8, objective=binary \n"
     ]
    },
    {
     "name": "stderr",
     "output_type": "stream",
     "text": [
      "C:\\Users\\test\\anaconda3\\lib\\site-packages\\lightgbm\\engine.py:148: UserWarning: Found `num_iterations` in params. Will use it instead of argument\n",
      "  warnings.warn(\"Found `{}` in params. Will use it instead of argument\".format(alias))\n"
     ]
    },
    {
     "name": "stdout",
     "output_type": "stream",
     "text": [
      "[CV]  bagging_fraction=1, boosting=dart, feature_fraction=1, is_unbalance=True, max_depth=3, metric=auc, num_iterations=300, num_leaves=8, objective=binary, score=0.755, total=  13.1s\n",
      "[CV] bagging_fraction=1, boosting=dart, feature_fraction=1, is_unbalance=True, max_depth=3, metric=auc, num_iterations=300, num_leaves=8, objective=binary \n"
     ]
    },
    {
     "name": "stderr",
     "output_type": "stream",
     "text": [
      "C:\\Users\\test\\anaconda3\\lib\\site-packages\\lightgbm\\engine.py:148: UserWarning: Found `num_iterations` in params. Will use it instead of argument\n",
      "  warnings.warn(\"Found `{}` in params. Will use it instead of argument\".format(alias))\n"
     ]
    },
    {
     "name": "stdout",
     "output_type": "stream",
     "text": [
      "[CV]  bagging_fraction=1, boosting=dart, feature_fraction=1, is_unbalance=True, max_depth=3, metric=auc, num_iterations=300, num_leaves=8, objective=binary, score=0.757, total=  13.5s\n",
      "[CV] bagging_fraction=1, boosting=dart, feature_fraction=1, is_unbalance=True, max_depth=3, metric=auc, num_iterations=300, num_leaves=16, objective=binary \n"
     ]
    },
    {
     "name": "stderr",
     "output_type": "stream",
     "text": [
      "C:\\Users\\test\\anaconda3\\lib\\site-packages\\lightgbm\\engine.py:148: UserWarning: Found `num_iterations` in params. Will use it instead of argument\n",
      "  warnings.warn(\"Found `{}` in params. Will use it instead of argument\".format(alias))\n"
     ]
    },
    {
     "name": "stdout",
     "output_type": "stream",
     "text": [
      "[CV]  bagging_fraction=1, boosting=dart, feature_fraction=1, is_unbalance=True, max_depth=3, metric=auc, num_iterations=300, num_leaves=16, objective=binary, score=0.760, total=  13.7s\n",
      "[CV] bagging_fraction=1, boosting=dart, feature_fraction=1, is_unbalance=True, max_depth=3, metric=auc, num_iterations=300, num_leaves=16, objective=binary \n"
     ]
    },
    {
     "name": "stderr",
     "output_type": "stream",
     "text": [
      "C:\\Users\\test\\anaconda3\\lib\\site-packages\\lightgbm\\engine.py:148: UserWarning: Found `num_iterations` in params. Will use it instead of argument\n",
      "  warnings.warn(\"Found `{}` in params. Will use it instead of argument\".format(alias))\n"
     ]
    },
    {
     "name": "stdout",
     "output_type": "stream",
     "text": [
      "[CV]  bagging_fraction=1, boosting=dart, feature_fraction=1, is_unbalance=True, max_depth=3, metric=auc, num_iterations=300, num_leaves=16, objective=binary, score=0.755, total=  14.2s\n",
      "[CV] bagging_fraction=1, boosting=dart, feature_fraction=1, is_unbalance=True, max_depth=3, metric=auc, num_iterations=300, num_leaves=16, objective=binary \n"
     ]
    },
    {
     "name": "stderr",
     "output_type": "stream",
     "text": [
      "C:\\Users\\test\\anaconda3\\lib\\site-packages\\lightgbm\\engine.py:148: UserWarning: Found `num_iterations` in params. Will use it instead of argument\n",
      "  warnings.warn(\"Found `{}` in params. Will use it instead of argument\".format(alias))\n"
     ]
    },
    {
     "name": "stdout",
     "output_type": "stream",
     "text": [
      "[CV]  bagging_fraction=1, boosting=dart, feature_fraction=1, is_unbalance=True, max_depth=3, metric=auc, num_iterations=300, num_leaves=16, objective=binary, score=0.757, total=  14.2s\n",
      "[CV] bagging_fraction=1, boosting=dart, feature_fraction=1, is_unbalance=True, max_depth=3, metric=auc, num_iterations=300, num_leaves=32, objective=binary \n"
     ]
    },
    {
     "name": "stderr",
     "output_type": "stream",
     "text": [
      "C:\\Users\\test\\anaconda3\\lib\\site-packages\\lightgbm\\engine.py:148: UserWarning: Found `num_iterations` in params. Will use it instead of argument\n",
      "  warnings.warn(\"Found `{}` in params. Will use it instead of argument\".format(alias))\n"
     ]
    },
    {
     "name": "stdout",
     "output_type": "stream",
     "text": [
      "[CV]  bagging_fraction=1, boosting=dart, feature_fraction=1, is_unbalance=True, max_depth=3, metric=auc, num_iterations=300, num_leaves=32, objective=binary, score=0.760, total=  14.4s\n",
      "[CV] bagging_fraction=1, boosting=dart, feature_fraction=1, is_unbalance=True, max_depth=3, metric=auc, num_iterations=300, num_leaves=32, objective=binary \n"
     ]
    },
    {
     "name": "stderr",
     "output_type": "stream",
     "text": [
      "C:\\Users\\test\\anaconda3\\lib\\site-packages\\lightgbm\\engine.py:148: UserWarning: Found `num_iterations` in params. Will use it instead of argument\n",
      "  warnings.warn(\"Found `{}` in params. Will use it instead of argument\".format(alias))\n"
     ]
    },
    {
     "name": "stdout",
     "output_type": "stream",
     "text": [
      "[CV]  bagging_fraction=1, boosting=dart, feature_fraction=1, is_unbalance=True, max_depth=3, metric=auc, num_iterations=300, num_leaves=32, objective=binary, score=0.755, total=  13.9s\n",
      "[CV] bagging_fraction=1, boosting=dart, feature_fraction=1, is_unbalance=True, max_depth=3, metric=auc, num_iterations=300, num_leaves=32, objective=binary \n"
     ]
    },
    {
     "name": "stderr",
     "output_type": "stream",
     "text": [
      "C:\\Users\\test\\anaconda3\\lib\\site-packages\\lightgbm\\engine.py:148: UserWarning: Found `num_iterations` in params. Will use it instead of argument\n",
      "  warnings.warn(\"Found `{}` in params. Will use it instead of argument\".format(alias))\n"
     ]
    },
    {
     "name": "stdout",
     "output_type": "stream",
     "text": [
      "[CV]  bagging_fraction=1, boosting=dart, feature_fraction=1, is_unbalance=True, max_depth=3, metric=auc, num_iterations=300, num_leaves=32, objective=binary, score=0.757, total=  14.4s\n",
      "[CV] bagging_fraction=1, boosting=dart, feature_fraction=1, is_unbalance=True, max_depth=3, metric=auc, num_iterations=300, num_leaves=64, objective=binary \n"
     ]
    },
    {
     "name": "stderr",
     "output_type": "stream",
     "text": [
      "C:\\Users\\test\\anaconda3\\lib\\site-packages\\lightgbm\\engine.py:148: UserWarning: Found `num_iterations` in params. Will use it instead of argument\n",
      "  warnings.warn(\"Found `{}` in params. Will use it instead of argument\".format(alias))\n"
     ]
    },
    {
     "name": "stdout",
     "output_type": "stream",
     "text": [
      "[CV]  bagging_fraction=1, boosting=dart, feature_fraction=1, is_unbalance=True, max_depth=3, metric=auc, num_iterations=300, num_leaves=64, objective=binary, score=0.760, total=  13.3s\n",
      "[CV] bagging_fraction=1, boosting=dart, feature_fraction=1, is_unbalance=True, max_depth=3, metric=auc, num_iterations=300, num_leaves=64, objective=binary \n"
     ]
    },
    {
     "name": "stderr",
     "output_type": "stream",
     "text": [
      "C:\\Users\\test\\anaconda3\\lib\\site-packages\\lightgbm\\engine.py:148: UserWarning: Found `num_iterations` in params. Will use it instead of argument\n",
      "  warnings.warn(\"Found `{}` in params. Will use it instead of argument\".format(alias))\n"
     ]
    },
    {
     "name": "stdout",
     "output_type": "stream",
     "text": [
      "[CV]  bagging_fraction=1, boosting=dart, feature_fraction=1, is_unbalance=True, max_depth=3, metric=auc, num_iterations=300, num_leaves=64, objective=binary, score=0.755, total=  13.9s\n",
      "[CV] bagging_fraction=1, boosting=dart, feature_fraction=1, is_unbalance=True, max_depth=3, metric=auc, num_iterations=300, num_leaves=64, objective=binary \n"
     ]
    },
    {
     "name": "stderr",
     "output_type": "stream",
     "text": [
      "C:\\Users\\test\\anaconda3\\lib\\site-packages\\lightgbm\\engine.py:148: UserWarning: Found `num_iterations` in params. Will use it instead of argument\n",
      "  warnings.warn(\"Found `{}` in params. Will use it instead of argument\".format(alias))\n"
     ]
    },
    {
     "name": "stdout",
     "output_type": "stream",
     "text": [
      "[CV]  bagging_fraction=1, boosting=dart, feature_fraction=1, is_unbalance=True, max_depth=3, metric=auc, num_iterations=300, num_leaves=64, objective=binary, score=0.757, total=  13.5s\n",
      "[CV] bagging_fraction=1, boosting=dart, feature_fraction=1, is_unbalance=True, max_depth=3, metric=auc, num_iterations=300, num_leaves=256, objective=binary \n"
     ]
    },
    {
     "name": "stderr",
     "output_type": "stream",
     "text": [
      "C:\\Users\\test\\anaconda3\\lib\\site-packages\\lightgbm\\engine.py:148: UserWarning: Found `num_iterations` in params. Will use it instead of argument\n",
      "  warnings.warn(\"Found `{}` in params. Will use it instead of argument\".format(alias))\n"
     ]
    },
    {
     "name": "stdout",
     "output_type": "stream",
     "text": [
      "[CV]  bagging_fraction=1, boosting=dart, feature_fraction=1, is_unbalance=True, max_depth=3, metric=auc, num_iterations=300, num_leaves=256, objective=binary, score=0.760, total=  14.6s\n",
      "[CV] bagging_fraction=1, boosting=dart, feature_fraction=1, is_unbalance=True, max_depth=3, metric=auc, num_iterations=300, num_leaves=256, objective=binary \n"
     ]
    },
    {
     "name": "stderr",
     "output_type": "stream",
     "text": [
      "C:\\Users\\test\\anaconda3\\lib\\site-packages\\lightgbm\\engine.py:148: UserWarning: Found `num_iterations` in params. Will use it instead of argument\n",
      "  warnings.warn(\"Found `{}` in params. Will use it instead of argument\".format(alias))\n"
     ]
    },
    {
     "name": "stdout",
     "output_type": "stream",
     "text": [
      "[CV]  bagging_fraction=1, boosting=dart, feature_fraction=1, is_unbalance=True, max_depth=3, metric=auc, num_iterations=300, num_leaves=256, objective=binary, score=0.755, total=  13.8s\n",
      "[CV] bagging_fraction=1, boosting=dart, feature_fraction=1, is_unbalance=True, max_depth=3, metric=auc, num_iterations=300, num_leaves=256, objective=binary \n"
     ]
    },
    {
     "name": "stderr",
     "output_type": "stream",
     "text": [
      "C:\\Users\\test\\anaconda3\\lib\\site-packages\\lightgbm\\engine.py:148: UserWarning: Found `num_iterations` in params. Will use it instead of argument\n",
      "  warnings.warn(\"Found `{}` in params. Will use it instead of argument\".format(alias))\n"
     ]
    },
    {
     "name": "stdout",
     "output_type": "stream",
     "text": [
      "[CV]  bagging_fraction=1, boosting=dart, feature_fraction=1, is_unbalance=True, max_depth=3, metric=auc, num_iterations=300, num_leaves=256, objective=binary, score=0.757, total=  14.1s\n",
      "[CV] bagging_fraction=1, boosting=dart, feature_fraction=1, is_unbalance=True, max_depth=3, metric=auc, num_iterations=500, num_leaves=8, objective=binary \n"
     ]
    },
    {
     "name": "stderr",
     "output_type": "stream",
     "text": [
      "C:\\Users\\test\\anaconda3\\lib\\site-packages\\lightgbm\\engine.py:148: UserWarning: Found `num_iterations` in params. Will use it instead of argument\n",
      "  warnings.warn(\"Found `{}` in params. Will use it instead of argument\".format(alias))\n"
     ]
    },
    {
     "name": "stdout",
     "output_type": "stream",
     "text": [
      "[CV]  bagging_fraction=1, boosting=dart, feature_fraction=1, is_unbalance=True, max_depth=3, metric=auc, num_iterations=500, num_leaves=8, objective=binary, score=0.763, total=  24.6s\n",
      "[CV] bagging_fraction=1, boosting=dart, feature_fraction=1, is_unbalance=True, max_depth=3, metric=auc, num_iterations=500, num_leaves=8, objective=binary \n"
     ]
    },
    {
     "name": "stderr",
     "output_type": "stream",
     "text": [
      "C:\\Users\\test\\anaconda3\\lib\\site-packages\\lightgbm\\engine.py:148: UserWarning: Found `num_iterations` in params. Will use it instead of argument\n",
      "  warnings.warn(\"Found `{}` in params. Will use it instead of argument\".format(alias))\n"
     ]
    },
    {
     "name": "stdout",
     "output_type": "stream",
     "text": [
      "[CV]  bagging_fraction=1, boosting=dart, feature_fraction=1, is_unbalance=True, max_depth=3, metric=auc, num_iterations=500, num_leaves=8, objective=binary, score=0.760, total=  25.6s\n",
      "[CV] bagging_fraction=1, boosting=dart, feature_fraction=1, is_unbalance=True, max_depth=3, metric=auc, num_iterations=500, num_leaves=8, objective=binary \n"
     ]
    },
    {
     "name": "stderr",
     "output_type": "stream",
     "text": [
      "C:\\Users\\test\\anaconda3\\lib\\site-packages\\lightgbm\\engine.py:148: UserWarning: Found `num_iterations` in params. Will use it instead of argument\n",
      "  warnings.warn(\"Found `{}` in params. Will use it instead of argument\".format(alias))\n"
     ]
    },
    {
     "name": "stdout",
     "output_type": "stream",
     "text": [
      "[CV]  bagging_fraction=1, boosting=dart, feature_fraction=1, is_unbalance=True, max_depth=3, metric=auc, num_iterations=500, num_leaves=8, objective=binary, score=0.759, total=  24.4s\n",
      "[CV] bagging_fraction=1, boosting=dart, feature_fraction=1, is_unbalance=True, max_depth=3, metric=auc, num_iterations=500, num_leaves=16, objective=binary \n"
     ]
    },
    {
     "name": "stderr",
     "output_type": "stream",
     "text": [
      "C:\\Users\\test\\anaconda3\\lib\\site-packages\\lightgbm\\engine.py:148: UserWarning: Found `num_iterations` in params. Will use it instead of argument\n",
      "  warnings.warn(\"Found `{}` in params. Will use it instead of argument\".format(alias))\n"
     ]
    },
    {
     "name": "stdout",
     "output_type": "stream",
     "text": [
      "[CV]  bagging_fraction=1, boosting=dart, feature_fraction=1, is_unbalance=True, max_depth=3, metric=auc, num_iterations=500, num_leaves=16, objective=binary, score=0.763, total=  25.2s\n",
      "[CV] bagging_fraction=1, boosting=dart, feature_fraction=1, is_unbalance=True, max_depth=3, metric=auc, num_iterations=500, num_leaves=16, objective=binary \n"
     ]
    },
    {
     "name": "stderr",
     "output_type": "stream",
     "text": [
      "C:\\Users\\test\\anaconda3\\lib\\site-packages\\lightgbm\\engine.py:148: UserWarning: Found `num_iterations` in params. Will use it instead of argument\n",
      "  warnings.warn(\"Found `{}` in params. Will use it instead of argument\".format(alias))\n"
     ]
    },
    {
     "name": "stdout",
     "output_type": "stream",
     "text": [
      "[CV]  bagging_fraction=1, boosting=dart, feature_fraction=1, is_unbalance=True, max_depth=3, metric=auc, num_iterations=500, num_leaves=16, objective=binary, score=0.760, total=  25.6s\n",
      "[CV] bagging_fraction=1, boosting=dart, feature_fraction=1, is_unbalance=True, max_depth=3, metric=auc, num_iterations=500, num_leaves=16, objective=binary \n"
     ]
    },
    {
     "name": "stderr",
     "output_type": "stream",
     "text": [
      "C:\\Users\\test\\anaconda3\\lib\\site-packages\\lightgbm\\engine.py:148: UserWarning: Found `num_iterations` in params. Will use it instead of argument\n",
      "  warnings.warn(\"Found `{}` in params. Will use it instead of argument\".format(alias))\n"
     ]
    },
    {
     "name": "stdout",
     "output_type": "stream",
     "text": [
      "[CV]  bagging_fraction=1, boosting=dart, feature_fraction=1, is_unbalance=True, max_depth=3, metric=auc, num_iterations=500, num_leaves=16, objective=binary, score=0.759, total=  24.9s\n",
      "[CV] bagging_fraction=1, boosting=dart, feature_fraction=1, is_unbalance=True, max_depth=3, metric=auc, num_iterations=500, num_leaves=32, objective=binary \n"
     ]
    },
    {
     "name": "stderr",
     "output_type": "stream",
     "text": [
      "C:\\Users\\test\\anaconda3\\lib\\site-packages\\lightgbm\\engine.py:148: UserWarning: Found `num_iterations` in params. Will use it instead of argument\n",
      "  warnings.warn(\"Found `{}` in params. Will use it instead of argument\".format(alias))\n"
     ]
    },
    {
     "name": "stdout",
     "output_type": "stream",
     "text": [
      "[CV]  bagging_fraction=1, boosting=dart, feature_fraction=1, is_unbalance=True, max_depth=3, metric=auc, num_iterations=500, num_leaves=32, objective=binary, score=0.763, total=  26.2s\n",
      "[CV] bagging_fraction=1, boosting=dart, feature_fraction=1, is_unbalance=True, max_depth=3, metric=auc, num_iterations=500, num_leaves=32, objective=binary \n"
     ]
    },
    {
     "name": "stderr",
     "output_type": "stream",
     "text": [
      "C:\\Users\\test\\anaconda3\\lib\\site-packages\\lightgbm\\engine.py:148: UserWarning: Found `num_iterations` in params. Will use it instead of argument\n",
      "  warnings.warn(\"Found `{}` in params. Will use it instead of argument\".format(alias))\n"
     ]
    },
    {
     "name": "stdout",
     "output_type": "stream",
     "text": [
      "[CV]  bagging_fraction=1, boosting=dart, feature_fraction=1, is_unbalance=True, max_depth=3, metric=auc, num_iterations=500, num_leaves=32, objective=binary, score=0.760, total=  26.1s\n",
      "[CV] bagging_fraction=1, boosting=dart, feature_fraction=1, is_unbalance=True, max_depth=3, metric=auc, num_iterations=500, num_leaves=32, objective=binary \n"
     ]
    },
    {
     "name": "stderr",
     "output_type": "stream",
     "text": [
      "C:\\Users\\test\\anaconda3\\lib\\site-packages\\lightgbm\\engine.py:148: UserWarning: Found `num_iterations` in params. Will use it instead of argument\n",
      "  warnings.warn(\"Found `{}` in params. Will use it instead of argument\".format(alias))\n"
     ]
    },
    {
     "name": "stdout",
     "output_type": "stream",
     "text": [
      "[CV]  bagging_fraction=1, boosting=dart, feature_fraction=1, is_unbalance=True, max_depth=3, metric=auc, num_iterations=500, num_leaves=32, objective=binary, score=0.759, total=  25.4s\n",
      "[CV] bagging_fraction=1, boosting=dart, feature_fraction=1, is_unbalance=True, max_depth=3, metric=auc, num_iterations=500, num_leaves=64, objective=binary \n"
     ]
    },
    {
     "name": "stderr",
     "output_type": "stream",
     "text": [
      "C:\\Users\\test\\anaconda3\\lib\\site-packages\\lightgbm\\engine.py:148: UserWarning: Found `num_iterations` in params. Will use it instead of argument\n",
      "  warnings.warn(\"Found `{}` in params. Will use it instead of argument\".format(alias))\n"
     ]
    },
    {
     "name": "stdout",
     "output_type": "stream",
     "text": [
      "[CV]  bagging_fraction=1, boosting=dart, feature_fraction=1, is_unbalance=True, max_depth=3, metric=auc, num_iterations=500, num_leaves=64, objective=binary, score=0.763, total=  26.1s\n",
      "[CV] bagging_fraction=1, boosting=dart, feature_fraction=1, is_unbalance=True, max_depth=3, metric=auc, num_iterations=500, num_leaves=64, objective=binary \n"
     ]
    },
    {
     "name": "stderr",
     "output_type": "stream",
     "text": [
      "C:\\Users\\test\\anaconda3\\lib\\site-packages\\lightgbm\\engine.py:148: UserWarning: Found `num_iterations` in params. Will use it instead of argument\n",
      "  warnings.warn(\"Found `{}` in params. Will use it instead of argument\".format(alias))\n"
     ]
    },
    {
     "name": "stdout",
     "output_type": "stream",
     "text": [
      "[CV]  bagging_fraction=1, boosting=dart, feature_fraction=1, is_unbalance=True, max_depth=3, metric=auc, num_iterations=500, num_leaves=64, objective=binary, score=0.760, total=  25.7s\n",
      "[CV] bagging_fraction=1, boosting=dart, feature_fraction=1, is_unbalance=True, max_depth=3, metric=auc, num_iterations=500, num_leaves=64, objective=binary \n"
     ]
    },
    {
     "name": "stderr",
     "output_type": "stream",
     "text": [
      "C:\\Users\\test\\anaconda3\\lib\\site-packages\\lightgbm\\engine.py:148: UserWarning: Found `num_iterations` in params. Will use it instead of argument\n",
      "  warnings.warn(\"Found `{}` in params. Will use it instead of argument\".format(alias))\n"
     ]
    },
    {
     "name": "stdout",
     "output_type": "stream",
     "text": [
      "[CV]  bagging_fraction=1, boosting=dart, feature_fraction=1, is_unbalance=True, max_depth=3, metric=auc, num_iterations=500, num_leaves=64, objective=binary, score=0.759, total=  24.9s\n",
      "[CV] bagging_fraction=1, boosting=dart, feature_fraction=1, is_unbalance=True, max_depth=3, metric=auc, num_iterations=500, num_leaves=256, objective=binary \n"
     ]
    },
    {
     "name": "stderr",
     "output_type": "stream",
     "text": [
      "C:\\Users\\test\\anaconda3\\lib\\site-packages\\lightgbm\\engine.py:148: UserWarning: Found `num_iterations` in params. Will use it instead of argument\n",
      "  warnings.warn(\"Found `{}` in params. Will use it instead of argument\".format(alias))\n"
     ]
    },
    {
     "name": "stdout",
     "output_type": "stream",
     "text": [
      "[CV]  bagging_fraction=1, boosting=dart, feature_fraction=1, is_unbalance=True, max_depth=3, metric=auc, num_iterations=500, num_leaves=256, objective=binary, score=0.763, total=  25.4s\n",
      "[CV] bagging_fraction=1, boosting=dart, feature_fraction=1, is_unbalance=True, max_depth=3, metric=auc, num_iterations=500, num_leaves=256, objective=binary \n"
     ]
    },
    {
     "name": "stderr",
     "output_type": "stream",
     "text": [
      "C:\\Users\\test\\anaconda3\\lib\\site-packages\\lightgbm\\engine.py:148: UserWarning: Found `num_iterations` in params. Will use it instead of argument\n",
      "  warnings.warn(\"Found `{}` in params. Will use it instead of argument\".format(alias))\n"
     ]
    },
    {
     "name": "stdout",
     "output_type": "stream",
     "text": [
      "[CV]  bagging_fraction=1, boosting=dart, feature_fraction=1, is_unbalance=True, max_depth=3, metric=auc, num_iterations=500, num_leaves=256, objective=binary, score=0.760, total=  24.5s\n",
      "[CV] bagging_fraction=1, boosting=dart, feature_fraction=1, is_unbalance=True, max_depth=3, metric=auc, num_iterations=500, num_leaves=256, objective=binary \n"
     ]
    },
    {
     "name": "stderr",
     "output_type": "stream",
     "text": [
      "C:\\Users\\test\\anaconda3\\lib\\site-packages\\lightgbm\\engine.py:148: UserWarning: Found `num_iterations` in params. Will use it instead of argument\n",
      "  warnings.warn(\"Found `{}` in params. Will use it instead of argument\".format(alias))\n"
     ]
    },
    {
     "name": "stdout",
     "output_type": "stream",
     "text": [
      "[CV]  bagging_fraction=1, boosting=dart, feature_fraction=1, is_unbalance=True, max_depth=3, metric=auc, num_iterations=500, num_leaves=256, objective=binary, score=0.759, total=  25.3s\n",
      "[CV] bagging_fraction=1, boosting=dart, feature_fraction=1, is_unbalance=True, max_depth=4, metric=auc, num_iterations=100, num_leaves=8, objective=binary \n"
     ]
    },
    {
     "name": "stderr",
     "output_type": "stream",
     "text": [
      "C:\\Users\\test\\anaconda3\\lib\\site-packages\\lightgbm\\engine.py:148: UserWarning: Found `num_iterations` in params. Will use it instead of argument\n",
      "  warnings.warn(\"Found `{}` in params. Will use it instead of argument\".format(alias))\n"
     ]
    },
    {
     "name": "stdout",
     "output_type": "stream",
     "text": [
      "[CV]  bagging_fraction=1, boosting=dart, feature_fraction=1, is_unbalance=True, max_depth=4, metric=auc, num_iterations=100, num_leaves=8, objective=binary, score=0.750, total=   5.7s\n",
      "[CV] bagging_fraction=1, boosting=dart, feature_fraction=1, is_unbalance=True, max_depth=4, metric=auc, num_iterations=100, num_leaves=8, objective=binary \n"
     ]
    },
    {
     "name": "stderr",
     "output_type": "stream",
     "text": [
      "C:\\Users\\test\\anaconda3\\lib\\site-packages\\lightgbm\\engine.py:148: UserWarning: Found `num_iterations` in params. Will use it instead of argument\n",
      "  warnings.warn(\"Found `{}` in params. Will use it instead of argument\".format(alias))\n"
     ]
    },
    {
     "name": "stdout",
     "output_type": "stream",
     "text": [
      "[CV]  bagging_fraction=1, boosting=dart, feature_fraction=1, is_unbalance=True, max_depth=4, metric=auc, num_iterations=100, num_leaves=8, objective=binary, score=0.746, total=   6.0s\n",
      "[CV] bagging_fraction=1, boosting=dart, feature_fraction=1, is_unbalance=True, max_depth=4, metric=auc, num_iterations=100, num_leaves=8, objective=binary \n"
     ]
    },
    {
     "name": "stderr",
     "output_type": "stream",
     "text": [
      "C:\\Users\\test\\anaconda3\\lib\\site-packages\\lightgbm\\engine.py:148: UserWarning: Found `num_iterations` in params. Will use it instead of argument\n",
      "  warnings.warn(\"Found `{}` in params. Will use it instead of argument\".format(alias))\n"
     ]
    },
    {
     "name": "stdout",
     "output_type": "stream",
     "text": [
      "[CV]  bagging_fraction=1, boosting=dart, feature_fraction=1, is_unbalance=True, max_depth=4, metric=auc, num_iterations=100, num_leaves=8, objective=binary, score=0.750, total=   6.1s\n",
      "[CV] bagging_fraction=1, boosting=dart, feature_fraction=1, is_unbalance=True, max_depth=4, metric=auc, num_iterations=100, num_leaves=16, objective=binary \n"
     ]
    },
    {
     "name": "stderr",
     "output_type": "stream",
     "text": [
      "C:\\Users\\test\\anaconda3\\lib\\site-packages\\lightgbm\\engine.py:148: UserWarning: Found `num_iterations` in params. Will use it instead of argument\n",
      "  warnings.warn(\"Found `{}` in params. Will use it instead of argument\".format(alias))\n"
     ]
    },
    {
     "name": "stdout",
     "output_type": "stream",
     "text": [
      "[CV]  bagging_fraction=1, boosting=dart, feature_fraction=1, is_unbalance=True, max_depth=4, metric=auc, num_iterations=100, num_leaves=16, objective=binary, score=0.752, total=   6.6s\n",
      "[CV] bagging_fraction=1, boosting=dart, feature_fraction=1, is_unbalance=True, max_depth=4, metric=auc, num_iterations=100, num_leaves=16, objective=binary \n"
     ]
    },
    {
     "name": "stderr",
     "output_type": "stream",
     "text": [
      "C:\\Users\\test\\anaconda3\\lib\\site-packages\\lightgbm\\engine.py:148: UserWarning: Found `num_iterations` in params. Will use it instead of argument\n",
      "  warnings.warn(\"Found `{}` in params. Will use it instead of argument\".format(alias))\n"
     ]
    },
    {
     "name": "stdout",
     "output_type": "stream",
     "text": [
      "[CV]  bagging_fraction=1, boosting=dart, feature_fraction=1, is_unbalance=True, max_depth=4, metric=auc, num_iterations=100, num_leaves=16, objective=binary, score=0.748, total=   6.5s\n",
      "[CV] bagging_fraction=1, boosting=dart, feature_fraction=1, is_unbalance=True, max_depth=4, metric=auc, num_iterations=100, num_leaves=16, objective=binary \n"
     ]
    },
    {
     "name": "stderr",
     "output_type": "stream",
     "text": [
      "C:\\Users\\test\\anaconda3\\lib\\site-packages\\lightgbm\\engine.py:148: UserWarning: Found `num_iterations` in params. Will use it instead of argument\n",
      "  warnings.warn(\"Found `{}` in params. Will use it instead of argument\".format(alias))\n"
     ]
    },
    {
     "name": "stdout",
     "output_type": "stream",
     "text": [
      "[CV]  bagging_fraction=1, boosting=dart, feature_fraction=1, is_unbalance=True, max_depth=4, metric=auc, num_iterations=100, num_leaves=16, objective=binary, score=0.754, total=   6.0s\n",
      "[CV] bagging_fraction=1, boosting=dart, feature_fraction=1, is_unbalance=True, max_depth=4, metric=auc, num_iterations=100, num_leaves=32, objective=binary \n"
     ]
    },
    {
     "name": "stderr",
     "output_type": "stream",
     "text": [
      "C:\\Users\\test\\anaconda3\\lib\\site-packages\\lightgbm\\engine.py:148: UserWarning: Found `num_iterations` in params. Will use it instead of argument\n",
      "  warnings.warn(\"Found `{}` in params. Will use it instead of argument\".format(alias))\n"
     ]
    },
    {
     "name": "stdout",
     "output_type": "stream",
     "text": [
      "[CV]  bagging_fraction=1, boosting=dart, feature_fraction=1, is_unbalance=True, max_depth=4, metric=auc, num_iterations=100, num_leaves=32, objective=binary, score=0.752, total=   6.8s\n",
      "[CV] bagging_fraction=1, boosting=dart, feature_fraction=1, is_unbalance=True, max_depth=4, metric=auc, num_iterations=100, num_leaves=32, objective=binary \n"
     ]
    },
    {
     "name": "stderr",
     "output_type": "stream",
     "text": [
      "C:\\Users\\test\\anaconda3\\lib\\site-packages\\lightgbm\\engine.py:148: UserWarning: Found `num_iterations` in params. Will use it instead of argument\n",
      "  warnings.warn(\"Found `{}` in params. Will use it instead of argument\".format(alias))\n"
     ]
    },
    {
     "name": "stdout",
     "output_type": "stream",
     "text": [
      "[CV]  bagging_fraction=1, boosting=dart, feature_fraction=1, is_unbalance=True, max_depth=4, metric=auc, num_iterations=100, num_leaves=32, objective=binary, score=0.748, total=   9.3s\n",
      "[CV] bagging_fraction=1, boosting=dart, feature_fraction=1, is_unbalance=True, max_depth=4, metric=auc, num_iterations=100, num_leaves=32, objective=binary \n"
     ]
    },
    {
     "name": "stderr",
     "output_type": "stream",
     "text": [
      "C:\\Users\\test\\anaconda3\\lib\\site-packages\\lightgbm\\engine.py:148: UserWarning: Found `num_iterations` in params. Will use it instead of argument\n",
      "  warnings.warn(\"Found `{}` in params. Will use it instead of argument\".format(alias))\n"
     ]
    },
    {
     "name": "stdout",
     "output_type": "stream",
     "text": [
      "[CV]  bagging_fraction=1, boosting=dart, feature_fraction=1, is_unbalance=True, max_depth=4, metric=auc, num_iterations=100, num_leaves=32, objective=binary, score=0.754, total=   7.4s\n",
      "[CV] bagging_fraction=1, boosting=dart, feature_fraction=1, is_unbalance=True, max_depth=4, metric=auc, num_iterations=100, num_leaves=64, objective=binary \n"
     ]
    },
    {
     "name": "stderr",
     "output_type": "stream",
     "text": [
      "C:\\Users\\test\\anaconda3\\lib\\site-packages\\lightgbm\\engine.py:148: UserWarning: Found `num_iterations` in params. Will use it instead of argument\n",
      "  warnings.warn(\"Found `{}` in params. Will use it instead of argument\".format(alias))\n"
     ]
    },
    {
     "name": "stdout",
     "output_type": "stream",
     "text": [
      "[CV]  bagging_fraction=1, boosting=dart, feature_fraction=1, is_unbalance=True, max_depth=4, metric=auc, num_iterations=100, num_leaves=64, objective=binary, score=0.752, total=   7.8s\n",
      "[CV] bagging_fraction=1, boosting=dart, feature_fraction=1, is_unbalance=True, max_depth=4, metric=auc, num_iterations=100, num_leaves=64, objective=binary \n"
     ]
    },
    {
     "name": "stderr",
     "output_type": "stream",
     "text": [
      "C:\\Users\\test\\anaconda3\\lib\\site-packages\\lightgbm\\engine.py:148: UserWarning: Found `num_iterations` in params. Will use it instead of argument\n",
      "  warnings.warn(\"Found `{}` in params. Will use it instead of argument\".format(alias))\n"
     ]
    },
    {
     "name": "stdout",
     "output_type": "stream",
     "text": [
      "[CV]  bagging_fraction=1, boosting=dart, feature_fraction=1, is_unbalance=True, max_depth=4, metric=auc, num_iterations=100, num_leaves=64, objective=binary, score=0.748, total=   7.1s\n",
      "[CV] bagging_fraction=1, boosting=dart, feature_fraction=1, is_unbalance=True, max_depth=4, metric=auc, num_iterations=100, num_leaves=64, objective=binary \n"
     ]
    },
    {
     "name": "stderr",
     "output_type": "stream",
     "text": [
      "C:\\Users\\test\\anaconda3\\lib\\site-packages\\lightgbm\\engine.py:148: UserWarning: Found `num_iterations` in params. Will use it instead of argument\n",
      "  warnings.warn(\"Found `{}` in params. Will use it instead of argument\".format(alias))\n"
     ]
    },
    {
     "name": "stdout",
     "output_type": "stream",
     "text": [
      "[CV]  bagging_fraction=1, boosting=dart, feature_fraction=1, is_unbalance=True, max_depth=4, metric=auc, num_iterations=100, num_leaves=64, objective=binary, score=0.754, total=   7.4s\n",
      "[CV] bagging_fraction=1, boosting=dart, feature_fraction=1, is_unbalance=True, max_depth=4, metric=auc, num_iterations=100, num_leaves=256, objective=binary \n"
     ]
    },
    {
     "name": "stderr",
     "output_type": "stream",
     "text": [
      "C:\\Users\\test\\anaconda3\\lib\\site-packages\\lightgbm\\engine.py:148: UserWarning: Found `num_iterations` in params. Will use it instead of argument\n",
      "  warnings.warn(\"Found `{}` in params. Will use it instead of argument\".format(alias))\n"
     ]
    },
    {
     "name": "stdout",
     "output_type": "stream",
     "text": [
      "[CV]  bagging_fraction=1, boosting=dart, feature_fraction=1, is_unbalance=True, max_depth=4, metric=auc, num_iterations=100, num_leaves=256, objective=binary, score=0.752, total=   7.1s\n",
      "[CV] bagging_fraction=1, boosting=dart, feature_fraction=1, is_unbalance=True, max_depth=4, metric=auc, num_iterations=100, num_leaves=256, objective=binary \n"
     ]
    },
    {
     "name": "stderr",
     "output_type": "stream",
     "text": [
      "C:\\Users\\test\\anaconda3\\lib\\site-packages\\lightgbm\\engine.py:148: UserWarning: Found `num_iterations` in params. Will use it instead of argument\n",
      "  warnings.warn(\"Found `{}` in params. Will use it instead of argument\".format(alias))\n"
     ]
    },
    {
     "name": "stdout",
     "output_type": "stream",
     "text": [
      "[CV]  bagging_fraction=1, boosting=dart, feature_fraction=1, is_unbalance=True, max_depth=4, metric=auc, num_iterations=100, num_leaves=256, objective=binary, score=0.748, total=   8.1s\n",
      "[CV] bagging_fraction=1, boosting=dart, feature_fraction=1, is_unbalance=True, max_depth=4, metric=auc, num_iterations=100, num_leaves=256, objective=binary \n"
     ]
    },
    {
     "name": "stderr",
     "output_type": "stream",
     "text": [
      "C:\\Users\\test\\anaconda3\\lib\\site-packages\\lightgbm\\engine.py:148: UserWarning: Found `num_iterations` in params. Will use it instead of argument\n",
      "  warnings.warn(\"Found `{}` in params. Will use it instead of argument\".format(alias))\n"
     ]
    },
    {
     "name": "stdout",
     "output_type": "stream",
     "text": [
      "[CV]  bagging_fraction=1, boosting=dart, feature_fraction=1, is_unbalance=True, max_depth=4, metric=auc, num_iterations=100, num_leaves=256, objective=binary, score=0.754, total=   7.0s\n",
      "[CV] bagging_fraction=1, boosting=dart, feature_fraction=1, is_unbalance=True, max_depth=4, metric=auc, num_iterations=300, num_leaves=8, objective=binary \n"
     ]
    },
    {
     "name": "stderr",
     "output_type": "stream",
     "text": [
      "C:\\Users\\test\\anaconda3\\lib\\site-packages\\lightgbm\\engine.py:148: UserWarning: Found `num_iterations` in params. Will use it instead of argument\n",
      "  warnings.warn(\"Found `{}` in params. Will use it instead of argument\".format(alias))\n"
     ]
    },
    {
     "name": "stdout",
     "output_type": "stream",
     "text": [
      "[CV]  bagging_fraction=1, boosting=dart, feature_fraction=1, is_unbalance=True, max_depth=4, metric=auc, num_iterations=300, num_leaves=8, objective=binary, score=0.762, total=  21.0s\n",
      "[CV] bagging_fraction=1, boosting=dart, feature_fraction=1, is_unbalance=True, max_depth=4, metric=auc, num_iterations=300, num_leaves=8, objective=binary \n"
     ]
    },
    {
     "name": "stderr",
     "output_type": "stream",
     "text": [
      "C:\\Users\\test\\anaconda3\\lib\\site-packages\\lightgbm\\engine.py:148: UserWarning: Found `num_iterations` in params. Will use it instead of argument\n",
      "  warnings.warn(\"Found `{}` in params. Will use it instead of argument\".format(alias))\n"
     ]
    },
    {
     "name": "stdout",
     "output_type": "stream",
     "text": [
      "[CV]  bagging_fraction=1, boosting=dart, feature_fraction=1, is_unbalance=True, max_depth=4, metric=auc, num_iterations=300, num_leaves=8, objective=binary, score=0.757, total=  19.1s\n",
      "[CV] bagging_fraction=1, boosting=dart, feature_fraction=1, is_unbalance=True, max_depth=4, metric=auc, num_iterations=300, num_leaves=8, objective=binary \n"
     ]
    },
    {
     "name": "stderr",
     "output_type": "stream",
     "text": [
      "C:\\Users\\test\\anaconda3\\lib\\site-packages\\lightgbm\\engine.py:148: UserWarning: Found `num_iterations` in params. Will use it instead of argument\n",
      "  warnings.warn(\"Found `{}` in params. Will use it instead of argument\".format(alias))\n"
     ]
    },
    {
     "name": "stdout",
     "output_type": "stream",
     "text": [
      "[CV]  bagging_fraction=1, boosting=dart, feature_fraction=1, is_unbalance=True, max_depth=4, metric=auc, num_iterations=300, num_leaves=8, objective=binary, score=0.760, total=  19.9s\n",
      "[CV] bagging_fraction=1, boosting=dart, feature_fraction=1, is_unbalance=True, max_depth=4, metric=auc, num_iterations=300, num_leaves=16, objective=binary \n"
     ]
    },
    {
     "name": "stderr",
     "output_type": "stream",
     "text": [
      "C:\\Users\\test\\anaconda3\\lib\\site-packages\\lightgbm\\engine.py:148: UserWarning: Found `num_iterations` in params. Will use it instead of argument\n",
      "  warnings.warn(\"Found `{}` in params. Will use it instead of argument\".format(alias))\n"
     ]
    },
    {
     "name": "stdout",
     "output_type": "stream",
     "text": [
      "[CV]  bagging_fraction=1, boosting=dart, feature_fraction=1, is_unbalance=True, max_depth=4, metric=auc, num_iterations=300, num_leaves=16, objective=binary, score=0.762, total=  21.3s\n",
      "[CV] bagging_fraction=1, boosting=dart, feature_fraction=1, is_unbalance=True, max_depth=4, metric=auc, num_iterations=300, num_leaves=16, objective=binary \n"
     ]
    },
    {
     "name": "stderr",
     "output_type": "stream",
     "text": [
      "C:\\Users\\test\\anaconda3\\lib\\site-packages\\lightgbm\\engine.py:148: UserWarning: Found `num_iterations` in params. Will use it instead of argument\n",
      "  warnings.warn(\"Found `{}` in params. Will use it instead of argument\".format(alias))\n"
     ]
    },
    {
     "name": "stdout",
     "output_type": "stream",
     "text": [
      "[CV]  bagging_fraction=1, boosting=dart, feature_fraction=1, is_unbalance=True, max_depth=4, metric=auc, num_iterations=300, num_leaves=16, objective=binary, score=0.758, total=  19.6s\n",
      "[CV] bagging_fraction=1, boosting=dart, feature_fraction=1, is_unbalance=True, max_depth=4, metric=auc, num_iterations=300, num_leaves=16, objective=binary \n"
     ]
    },
    {
     "name": "stderr",
     "output_type": "stream",
     "text": [
      "C:\\Users\\test\\anaconda3\\lib\\site-packages\\lightgbm\\engine.py:148: UserWarning: Found `num_iterations` in params. Will use it instead of argument\n",
      "  warnings.warn(\"Found `{}` in params. Will use it instead of argument\".format(alias))\n"
     ]
    },
    {
     "name": "stdout",
     "output_type": "stream",
     "text": [
      "[CV]  bagging_fraction=1, boosting=dart, feature_fraction=1, is_unbalance=True, max_depth=4, metric=auc, num_iterations=300, num_leaves=16, objective=binary, score=0.757, total=  20.2s\n",
      "[CV] bagging_fraction=1, boosting=dart, feature_fraction=1, is_unbalance=True, max_depth=4, metric=auc, num_iterations=300, num_leaves=32, objective=binary \n"
     ]
    },
    {
     "name": "stderr",
     "output_type": "stream",
     "text": [
      "C:\\Users\\test\\anaconda3\\lib\\site-packages\\lightgbm\\engine.py:148: UserWarning: Found `num_iterations` in params. Will use it instead of argument\n",
      "  warnings.warn(\"Found `{}` in params. Will use it instead of argument\".format(alias))\n"
     ]
    },
    {
     "name": "stdout",
     "output_type": "stream",
     "text": [
      "[CV]  bagging_fraction=1, boosting=dart, feature_fraction=1, is_unbalance=True, max_depth=4, metric=auc, num_iterations=300, num_leaves=32, objective=binary, score=0.762, total=  19.8s\n",
      "[CV] bagging_fraction=1, boosting=dart, feature_fraction=1, is_unbalance=True, max_depth=4, metric=auc, num_iterations=300, num_leaves=32, objective=binary \n"
     ]
    },
    {
     "name": "stderr",
     "output_type": "stream",
     "text": [
      "C:\\Users\\test\\anaconda3\\lib\\site-packages\\lightgbm\\engine.py:148: UserWarning: Found `num_iterations` in params. Will use it instead of argument\n",
      "  warnings.warn(\"Found `{}` in params. Will use it instead of argument\".format(alias))\n"
     ]
    },
    {
     "name": "stdout",
     "output_type": "stream",
     "text": [
      "[CV]  bagging_fraction=1, boosting=dart, feature_fraction=1, is_unbalance=True, max_depth=4, metric=auc, num_iterations=300, num_leaves=32, objective=binary, score=0.758, total=  19.7s\n",
      "[CV] bagging_fraction=1, boosting=dart, feature_fraction=1, is_unbalance=True, max_depth=4, metric=auc, num_iterations=300, num_leaves=32, objective=binary \n"
     ]
    },
    {
     "name": "stderr",
     "output_type": "stream",
     "text": [
      "C:\\Users\\test\\anaconda3\\lib\\site-packages\\lightgbm\\engine.py:148: UserWarning: Found `num_iterations` in params. Will use it instead of argument\n",
      "  warnings.warn(\"Found `{}` in params. Will use it instead of argument\".format(alias))\n"
     ]
    },
    {
     "name": "stdout",
     "output_type": "stream",
     "text": [
      "[CV]  bagging_fraction=1, boosting=dart, feature_fraction=1, is_unbalance=True, max_depth=4, metric=auc, num_iterations=300, num_leaves=32, objective=binary, score=0.757, total=  20.4s\n",
      "[CV] bagging_fraction=1, boosting=dart, feature_fraction=1, is_unbalance=True, max_depth=4, metric=auc, num_iterations=300, num_leaves=64, objective=binary \n"
     ]
    },
    {
     "name": "stderr",
     "output_type": "stream",
     "text": [
      "C:\\Users\\test\\anaconda3\\lib\\site-packages\\lightgbm\\engine.py:148: UserWarning: Found `num_iterations` in params. Will use it instead of argument\n",
      "  warnings.warn(\"Found `{}` in params. Will use it instead of argument\".format(alias))\n"
     ]
    },
    {
     "name": "stdout",
     "output_type": "stream",
     "text": [
      "[CV]  bagging_fraction=1, boosting=dart, feature_fraction=1, is_unbalance=True, max_depth=4, metric=auc, num_iterations=300, num_leaves=64, objective=binary, score=0.762, total=  19.9s\n",
      "[CV] bagging_fraction=1, boosting=dart, feature_fraction=1, is_unbalance=True, max_depth=4, metric=auc, num_iterations=300, num_leaves=64, objective=binary \n"
     ]
    },
    {
     "name": "stderr",
     "output_type": "stream",
     "text": [
      "C:\\Users\\test\\anaconda3\\lib\\site-packages\\lightgbm\\engine.py:148: UserWarning: Found `num_iterations` in params. Will use it instead of argument\n",
      "  warnings.warn(\"Found `{}` in params. Will use it instead of argument\".format(alias))\n"
     ]
    },
    {
     "name": "stdout",
     "output_type": "stream",
     "text": [
      "[CV]  bagging_fraction=1, boosting=dart, feature_fraction=1, is_unbalance=True, max_depth=4, metric=auc, num_iterations=300, num_leaves=64, objective=binary, score=0.758, total=  20.0s\n",
      "[CV] bagging_fraction=1, boosting=dart, feature_fraction=1, is_unbalance=True, max_depth=4, metric=auc, num_iterations=300, num_leaves=64, objective=binary \n"
     ]
    },
    {
     "name": "stderr",
     "output_type": "stream",
     "text": [
      "C:\\Users\\test\\anaconda3\\lib\\site-packages\\lightgbm\\engine.py:148: UserWarning: Found `num_iterations` in params. Will use it instead of argument\n",
      "  warnings.warn(\"Found `{}` in params. Will use it instead of argument\".format(alias))\n"
     ]
    },
    {
     "name": "stdout",
     "output_type": "stream",
     "text": [
      "[CV]  bagging_fraction=1, boosting=dart, feature_fraction=1, is_unbalance=True, max_depth=4, metric=auc, num_iterations=300, num_leaves=64, objective=binary, score=0.757, total=  20.5s\n",
      "[CV] bagging_fraction=1, boosting=dart, feature_fraction=1, is_unbalance=True, max_depth=4, metric=auc, num_iterations=300, num_leaves=256, objective=binary \n"
     ]
    },
    {
     "name": "stderr",
     "output_type": "stream",
     "text": [
      "C:\\Users\\test\\anaconda3\\lib\\site-packages\\lightgbm\\engine.py:148: UserWarning: Found `num_iterations` in params. Will use it instead of argument\n",
      "  warnings.warn(\"Found `{}` in params. Will use it instead of argument\".format(alias))\n"
     ]
    },
    {
     "name": "stdout",
     "output_type": "stream",
     "text": [
      "[CV]  bagging_fraction=1, boosting=dart, feature_fraction=1, is_unbalance=True, max_depth=4, metric=auc, num_iterations=300, num_leaves=256, objective=binary, score=0.762, total=  19.7s\n",
      "[CV] bagging_fraction=1, boosting=dart, feature_fraction=1, is_unbalance=True, max_depth=4, metric=auc, num_iterations=300, num_leaves=256, objective=binary \n"
     ]
    },
    {
     "name": "stderr",
     "output_type": "stream",
     "text": [
      "C:\\Users\\test\\anaconda3\\lib\\site-packages\\lightgbm\\engine.py:148: UserWarning: Found `num_iterations` in params. Will use it instead of argument\n",
      "  warnings.warn(\"Found `{}` in params. Will use it instead of argument\".format(alias))\n"
     ]
    },
    {
     "name": "stdout",
     "output_type": "stream",
     "text": [
      "[CV]  bagging_fraction=1, boosting=dart, feature_fraction=1, is_unbalance=True, max_depth=4, metric=auc, num_iterations=300, num_leaves=256, objective=binary, score=0.758, total=  19.9s\n",
      "[CV] bagging_fraction=1, boosting=dart, feature_fraction=1, is_unbalance=True, max_depth=4, metric=auc, num_iterations=300, num_leaves=256, objective=binary \n"
     ]
    },
    {
     "name": "stderr",
     "output_type": "stream",
     "text": [
      "C:\\Users\\test\\anaconda3\\lib\\site-packages\\lightgbm\\engine.py:148: UserWarning: Found `num_iterations` in params. Will use it instead of argument\n",
      "  warnings.warn(\"Found `{}` in params. Will use it instead of argument\".format(alias))\n"
     ]
    },
    {
     "name": "stdout",
     "output_type": "stream",
     "text": [
      "[CV]  bagging_fraction=1, boosting=dart, feature_fraction=1, is_unbalance=True, max_depth=4, metric=auc, num_iterations=300, num_leaves=256, objective=binary, score=0.757, total=  20.1s\n",
      "[CV] bagging_fraction=1, boosting=dart, feature_fraction=1, is_unbalance=True, max_depth=4, metric=auc, num_iterations=500, num_leaves=8, objective=binary \n"
     ]
    },
    {
     "name": "stderr",
     "output_type": "stream",
     "text": [
      "C:\\Users\\test\\anaconda3\\lib\\site-packages\\lightgbm\\engine.py:148: UserWarning: Found `num_iterations` in params. Will use it instead of argument\n",
      "  warnings.warn(\"Found `{}` in params. Will use it instead of argument\".format(alias))\n"
     ]
    },
    {
     "name": "stdout",
     "output_type": "stream",
     "text": [
      "[CV]  bagging_fraction=1, boosting=dart, feature_fraction=1, is_unbalance=True, max_depth=4, metric=auc, num_iterations=500, num_leaves=8, objective=binary, score=0.767, total=  33.4s\n",
      "[CV] bagging_fraction=1, boosting=dart, feature_fraction=1, is_unbalance=True, max_depth=4, metric=auc, num_iterations=500, num_leaves=8, objective=binary \n"
     ]
    },
    {
     "name": "stderr",
     "output_type": "stream",
     "text": [
      "C:\\Users\\test\\anaconda3\\lib\\site-packages\\lightgbm\\engine.py:148: UserWarning: Found `num_iterations` in params. Will use it instead of argument\n",
      "  warnings.warn(\"Found `{}` in params. Will use it instead of argument\".format(alias))\n"
     ]
    },
    {
     "name": "stdout",
     "output_type": "stream",
     "text": [
      "[CV]  bagging_fraction=1, boosting=dart, feature_fraction=1, is_unbalance=True, max_depth=4, metric=auc, num_iterations=500, num_leaves=8, objective=binary, score=0.762, total=  33.1s\n",
      "[CV] bagging_fraction=1, boosting=dart, feature_fraction=1, is_unbalance=True, max_depth=4, metric=auc, num_iterations=500, num_leaves=8, objective=binary \n"
     ]
    },
    {
     "name": "stderr",
     "output_type": "stream",
     "text": [
      "C:\\Users\\test\\anaconda3\\lib\\site-packages\\lightgbm\\engine.py:148: UserWarning: Found `num_iterations` in params. Will use it instead of argument\n",
      "  warnings.warn(\"Found `{}` in params. Will use it instead of argument\".format(alias))\n"
     ]
    },
    {
     "name": "stdout",
     "output_type": "stream",
     "text": [
      "[CV]  bagging_fraction=1, boosting=dart, feature_fraction=1, is_unbalance=True, max_depth=4, metric=auc, num_iterations=500, num_leaves=8, objective=binary, score=0.766, total=  33.5s\n",
      "[CV] bagging_fraction=1, boosting=dart, feature_fraction=1, is_unbalance=True, max_depth=4, metric=auc, num_iterations=500, num_leaves=16, objective=binary \n"
     ]
    },
    {
     "name": "stderr",
     "output_type": "stream",
     "text": [
      "C:\\Users\\test\\anaconda3\\lib\\site-packages\\lightgbm\\engine.py:148: UserWarning: Found `num_iterations` in params. Will use it instead of argument\n",
      "  warnings.warn(\"Found `{}` in params. Will use it instead of argument\".format(alias))\n"
     ]
    },
    {
     "name": "stdout",
     "output_type": "stream",
     "text": [
      "[CV]  bagging_fraction=1, boosting=dart, feature_fraction=1, is_unbalance=True, max_depth=4, metric=auc, num_iterations=500, num_leaves=16, objective=binary, score=0.762, total=  40.8s\n",
      "[CV] bagging_fraction=1, boosting=dart, feature_fraction=1, is_unbalance=True, max_depth=4, metric=auc, num_iterations=500, num_leaves=16, objective=binary \n"
     ]
    },
    {
     "name": "stderr",
     "output_type": "stream",
     "text": [
      "C:\\Users\\test\\anaconda3\\lib\\site-packages\\lightgbm\\engine.py:148: UserWarning: Found `num_iterations` in params. Will use it instead of argument\n",
      "  warnings.warn(\"Found `{}` in params. Will use it instead of argument\".format(alias))\n"
     ]
    },
    {
     "name": "stdout",
     "output_type": "stream",
     "text": [
      "[CV]  bagging_fraction=1, boosting=dart, feature_fraction=1, is_unbalance=True, max_depth=4, metric=auc, num_iterations=500, num_leaves=16, objective=binary, score=0.762, total=  35.9s\n",
      "[CV] bagging_fraction=1, boosting=dart, feature_fraction=1, is_unbalance=True, max_depth=4, metric=auc, num_iterations=500, num_leaves=16, objective=binary \n"
     ]
    },
    {
     "name": "stderr",
     "output_type": "stream",
     "text": [
      "C:\\Users\\test\\anaconda3\\lib\\site-packages\\lightgbm\\engine.py:148: UserWarning: Found `num_iterations` in params. Will use it instead of argument\n",
      "  warnings.warn(\"Found `{}` in params. Will use it instead of argument\".format(alias))\n"
     ]
    },
    {
     "name": "stdout",
     "output_type": "stream",
     "text": [
      "[CV]  bagging_fraction=1, boosting=dart, feature_fraction=1, is_unbalance=True, max_depth=4, metric=auc, num_iterations=500, num_leaves=16, objective=binary, score=0.760, total=  36.2s\n",
      "[CV] bagging_fraction=1, boosting=dart, feature_fraction=1, is_unbalance=True, max_depth=4, metric=auc, num_iterations=500, num_leaves=32, objective=binary \n"
     ]
    },
    {
     "name": "stderr",
     "output_type": "stream",
     "text": [
      "C:\\Users\\test\\anaconda3\\lib\\site-packages\\lightgbm\\engine.py:148: UserWarning: Found `num_iterations` in params. Will use it instead of argument\n",
      "  warnings.warn(\"Found `{}` in params. Will use it instead of argument\".format(alias))\n"
     ]
    },
    {
     "name": "stdout",
     "output_type": "stream",
     "text": [
      "[CV]  bagging_fraction=1, boosting=dart, feature_fraction=1, is_unbalance=True, max_depth=4, metric=auc, num_iterations=500, num_leaves=32, objective=binary, score=0.762, total=  39.2s\n",
      "[CV] bagging_fraction=1, boosting=dart, feature_fraction=1, is_unbalance=True, max_depth=4, metric=auc, num_iterations=500, num_leaves=32, objective=binary \n"
     ]
    },
    {
     "name": "stderr",
     "output_type": "stream",
     "text": [
      "C:\\Users\\test\\anaconda3\\lib\\site-packages\\lightgbm\\engine.py:148: UserWarning: Found `num_iterations` in params. Will use it instead of argument\n",
      "  warnings.warn(\"Found `{}` in params. Will use it instead of argument\".format(alias))\n"
     ]
    },
    {
     "name": "stdout",
     "output_type": "stream",
     "text": [
      "[CV]  bagging_fraction=1, boosting=dart, feature_fraction=1, is_unbalance=True, max_depth=4, metric=auc, num_iterations=500, num_leaves=32, objective=binary, score=0.762, total=  38.6s\n",
      "[CV] bagging_fraction=1, boosting=dart, feature_fraction=1, is_unbalance=True, max_depth=4, metric=auc, num_iterations=500, num_leaves=32, objective=binary \n"
     ]
    },
    {
     "name": "stderr",
     "output_type": "stream",
     "text": [
      "C:\\Users\\test\\anaconda3\\lib\\site-packages\\lightgbm\\engine.py:148: UserWarning: Found `num_iterations` in params. Will use it instead of argument\n",
      "  warnings.warn(\"Found `{}` in params. Will use it instead of argument\".format(alias))\n"
     ]
    },
    {
     "name": "stdout",
     "output_type": "stream",
     "text": [
      "[CV]  bagging_fraction=1, boosting=dart, feature_fraction=1, is_unbalance=True, max_depth=4, metric=auc, num_iterations=500, num_leaves=32, objective=binary, score=0.760, total=  35.7s\n",
      "[CV] bagging_fraction=1, boosting=dart, feature_fraction=1, is_unbalance=True, max_depth=4, metric=auc, num_iterations=500, num_leaves=64, objective=binary \n"
     ]
    },
    {
     "name": "stderr",
     "output_type": "stream",
     "text": [
      "C:\\Users\\test\\anaconda3\\lib\\site-packages\\lightgbm\\engine.py:148: UserWarning: Found `num_iterations` in params. Will use it instead of argument\n",
      "  warnings.warn(\"Found `{}` in params. Will use it instead of argument\".format(alias))\n"
     ]
    },
    {
     "name": "stdout",
     "output_type": "stream",
     "text": [
      "[CV]  bagging_fraction=1, boosting=dart, feature_fraction=1, is_unbalance=True, max_depth=4, metric=auc, num_iterations=500, num_leaves=64, objective=binary, score=0.762, total=  35.9s\n",
      "[CV] bagging_fraction=1, boosting=dart, feature_fraction=1, is_unbalance=True, max_depth=4, metric=auc, num_iterations=500, num_leaves=64, objective=binary \n"
     ]
    },
    {
     "name": "stderr",
     "output_type": "stream",
     "text": [
      "C:\\Users\\test\\anaconda3\\lib\\site-packages\\lightgbm\\engine.py:148: UserWarning: Found `num_iterations` in params. Will use it instead of argument\n",
      "  warnings.warn(\"Found `{}` in params. Will use it instead of argument\".format(alias))\n"
     ]
    },
    {
     "name": "stdout",
     "output_type": "stream",
     "text": [
      "[CV]  bagging_fraction=1, boosting=dart, feature_fraction=1, is_unbalance=True, max_depth=4, metric=auc, num_iterations=500, num_leaves=64, objective=binary, score=0.762, total=  36.5s\n",
      "[CV] bagging_fraction=1, boosting=dart, feature_fraction=1, is_unbalance=True, max_depth=4, metric=auc, num_iterations=500, num_leaves=64, objective=binary \n"
     ]
    },
    {
     "name": "stderr",
     "output_type": "stream",
     "text": [
      "C:\\Users\\test\\anaconda3\\lib\\site-packages\\lightgbm\\engine.py:148: UserWarning: Found `num_iterations` in params. Will use it instead of argument\n",
      "  warnings.warn(\"Found `{}` in params. Will use it instead of argument\".format(alias))\n"
     ]
    },
    {
     "name": "stdout",
     "output_type": "stream",
     "text": [
      "[CV]  bagging_fraction=1, boosting=dart, feature_fraction=1, is_unbalance=True, max_depth=4, metric=auc, num_iterations=500, num_leaves=64, objective=binary, score=0.760, total=  38.5s\n",
      "[CV] bagging_fraction=1, boosting=dart, feature_fraction=1, is_unbalance=True, max_depth=4, metric=auc, num_iterations=500, num_leaves=256, objective=binary \n"
     ]
    },
    {
     "name": "stderr",
     "output_type": "stream",
     "text": [
      "C:\\Users\\test\\anaconda3\\lib\\site-packages\\lightgbm\\engine.py:148: UserWarning: Found `num_iterations` in params. Will use it instead of argument\n",
      "  warnings.warn(\"Found `{}` in params. Will use it instead of argument\".format(alias))\n"
     ]
    },
    {
     "name": "stdout",
     "output_type": "stream",
     "text": [
      "[CV]  bagging_fraction=1, boosting=dart, feature_fraction=1, is_unbalance=True, max_depth=4, metric=auc, num_iterations=500, num_leaves=256, objective=binary, score=0.762, total=  39.0s\n",
      "[CV] bagging_fraction=1, boosting=dart, feature_fraction=1, is_unbalance=True, max_depth=4, metric=auc, num_iterations=500, num_leaves=256, objective=binary \n"
     ]
    },
    {
     "name": "stderr",
     "output_type": "stream",
     "text": [
      "C:\\Users\\test\\anaconda3\\lib\\site-packages\\lightgbm\\engine.py:148: UserWarning: Found `num_iterations` in params. Will use it instead of argument\n",
      "  warnings.warn(\"Found `{}` in params. Will use it instead of argument\".format(alias))\n"
     ]
    },
    {
     "name": "stdout",
     "output_type": "stream",
     "text": [
      "[CV]  bagging_fraction=1, boosting=dart, feature_fraction=1, is_unbalance=True, max_depth=4, metric=auc, num_iterations=500, num_leaves=256, objective=binary, score=0.762, total=  35.9s\n",
      "[CV] bagging_fraction=1, boosting=dart, feature_fraction=1, is_unbalance=True, max_depth=4, metric=auc, num_iterations=500, num_leaves=256, objective=binary \n"
     ]
    },
    {
     "name": "stderr",
     "output_type": "stream",
     "text": [
      "C:\\Users\\test\\anaconda3\\lib\\site-packages\\lightgbm\\engine.py:148: UserWarning: Found `num_iterations` in params. Will use it instead of argument\n",
      "  warnings.warn(\"Found `{}` in params. Will use it instead of argument\".format(alias))\n"
     ]
    },
    {
     "name": "stdout",
     "output_type": "stream",
     "text": [
      "[CV]  bagging_fraction=1, boosting=dart, feature_fraction=1, is_unbalance=True, max_depth=4, metric=auc, num_iterations=500, num_leaves=256, objective=binary, score=0.760, total=  33.7s\n",
      "[CV] bagging_fraction=1, boosting=dart, feature_fraction=1, is_unbalance=True, max_depth=8, metric=auc, num_iterations=100, num_leaves=8, objective=binary \n"
     ]
    },
    {
     "name": "stderr",
     "output_type": "stream",
     "text": [
      "C:\\Users\\test\\anaconda3\\lib\\site-packages\\lightgbm\\engine.py:148: UserWarning: Found `num_iterations` in params. Will use it instead of argument\n",
      "  warnings.warn(\"Found `{}` in params. Will use it instead of argument\".format(alias))\n"
     ]
    },
    {
     "name": "stdout",
     "output_type": "stream",
     "text": [
      "[CV]  bagging_fraction=1, boosting=dart, feature_fraction=1, is_unbalance=True, max_depth=8, metric=auc, num_iterations=100, num_leaves=8, objective=binary, score=0.751, total=   6.4s\n",
      "[CV] bagging_fraction=1, boosting=dart, feature_fraction=1, is_unbalance=True, max_depth=8, metric=auc, num_iterations=100, num_leaves=8, objective=binary \n"
     ]
    },
    {
     "name": "stderr",
     "output_type": "stream",
     "text": [
      "C:\\Users\\test\\anaconda3\\lib\\site-packages\\lightgbm\\engine.py:148: UserWarning: Found `num_iterations` in params. Will use it instead of argument\n",
      "  warnings.warn(\"Found `{}` in params. Will use it instead of argument\".format(alias))\n"
     ]
    },
    {
     "name": "stdout",
     "output_type": "stream",
     "text": [
      "[CV]  bagging_fraction=1, boosting=dart, feature_fraction=1, is_unbalance=True, max_depth=8, metric=auc, num_iterations=100, num_leaves=8, objective=binary, score=0.747, total=   5.9s\n",
      "[CV] bagging_fraction=1, boosting=dart, feature_fraction=1, is_unbalance=True, max_depth=8, metric=auc, num_iterations=100, num_leaves=8, objective=binary \n"
     ]
    },
    {
     "name": "stderr",
     "output_type": "stream",
     "text": [
      "C:\\Users\\test\\anaconda3\\lib\\site-packages\\lightgbm\\engine.py:148: UserWarning: Found `num_iterations` in params. Will use it instead of argument\n",
      "  warnings.warn(\"Found `{}` in params. Will use it instead of argument\".format(alias))\n"
     ]
    },
    {
     "name": "stdout",
     "output_type": "stream",
     "text": [
      "[CV]  bagging_fraction=1, boosting=dart, feature_fraction=1, is_unbalance=True, max_depth=8, metric=auc, num_iterations=100, num_leaves=8, objective=binary, score=0.751, total=   6.3s\n",
      "[CV] bagging_fraction=1, boosting=dart, feature_fraction=1, is_unbalance=True, max_depth=8, metric=auc, num_iterations=100, num_leaves=16, objective=binary \n"
     ]
    },
    {
     "name": "stderr",
     "output_type": "stream",
     "text": [
      "C:\\Users\\test\\anaconda3\\lib\\site-packages\\lightgbm\\engine.py:148: UserWarning: Found `num_iterations` in params. Will use it instead of argument\n",
      "  warnings.warn(\"Found `{}` in params. Will use it instead of argument\".format(alias))\n"
     ]
    },
    {
     "name": "stdout",
     "output_type": "stream",
     "text": [
      "[CV]  bagging_fraction=1, boosting=dart, feature_fraction=1, is_unbalance=True, max_depth=8, metric=auc, num_iterations=100, num_leaves=16, objective=binary, score=0.756, total=   7.8s\n",
      "[CV] bagging_fraction=1, boosting=dart, feature_fraction=1, is_unbalance=True, max_depth=8, metric=auc, num_iterations=100, num_leaves=16, objective=binary \n"
     ]
    },
    {
     "name": "stderr",
     "output_type": "stream",
     "text": [
      "C:\\Users\\test\\anaconda3\\lib\\site-packages\\lightgbm\\engine.py:148: UserWarning: Found `num_iterations` in params. Will use it instead of argument\n",
      "  warnings.warn(\"Found `{}` in params. Will use it instead of argument\".format(alias))\n"
     ]
    },
    {
     "name": "stdout",
     "output_type": "stream",
     "text": [
      "[CV]  bagging_fraction=1, boosting=dart, feature_fraction=1, is_unbalance=True, max_depth=8, metric=auc, num_iterations=100, num_leaves=16, objective=binary, score=0.753, total=   7.7s\n",
      "[CV] bagging_fraction=1, boosting=dart, feature_fraction=1, is_unbalance=True, max_depth=8, metric=auc, num_iterations=100, num_leaves=16, objective=binary \n"
     ]
    },
    {
     "name": "stderr",
     "output_type": "stream",
     "text": [
      "C:\\Users\\test\\anaconda3\\lib\\site-packages\\lightgbm\\engine.py:148: UserWarning: Found `num_iterations` in params. Will use it instead of argument\n",
      "  warnings.warn(\"Found `{}` in params. Will use it instead of argument\".format(alias))\n"
     ]
    },
    {
     "name": "stdout",
     "output_type": "stream",
     "text": [
      "[CV]  bagging_fraction=1, boosting=dart, feature_fraction=1, is_unbalance=True, max_depth=8, metric=auc, num_iterations=100, num_leaves=16, objective=binary, score=0.754, total=   7.9s\n",
      "[CV] bagging_fraction=1, boosting=dart, feature_fraction=1, is_unbalance=True, max_depth=8, metric=auc, num_iterations=100, num_leaves=32, objective=binary \n"
     ]
    },
    {
     "name": "stderr",
     "output_type": "stream",
     "text": [
      "C:\\Users\\test\\anaconda3\\lib\\site-packages\\lightgbm\\engine.py:148: UserWarning: Found `num_iterations` in params. Will use it instead of argument\n",
      "  warnings.warn(\"Found `{}` in params. Will use it instead of argument\".format(alias))\n"
     ]
    },
    {
     "name": "stdout",
     "output_type": "stream",
     "text": [
      "[CV]  bagging_fraction=1, boosting=dart, feature_fraction=1, is_unbalance=True, max_depth=8, metric=auc, num_iterations=100, num_leaves=32, objective=binary, score=0.759, total=   9.8s\n",
      "[CV] bagging_fraction=1, boosting=dart, feature_fraction=1, is_unbalance=True, max_depth=8, metric=auc, num_iterations=100, num_leaves=32, objective=binary \n"
     ]
    },
    {
     "name": "stderr",
     "output_type": "stream",
     "text": [
      "C:\\Users\\test\\anaconda3\\lib\\site-packages\\lightgbm\\engine.py:148: UserWarning: Found `num_iterations` in params. Will use it instead of argument\n",
      "  warnings.warn(\"Found `{}` in params. Will use it instead of argument\".format(alias))\n"
     ]
    },
    {
     "name": "stdout",
     "output_type": "stream",
     "text": [
      "[CV]  bagging_fraction=1, boosting=dart, feature_fraction=1, is_unbalance=True, max_depth=8, metric=auc, num_iterations=100, num_leaves=32, objective=binary, score=0.755, total=   9.4s\n",
      "[CV] bagging_fraction=1, boosting=dart, feature_fraction=1, is_unbalance=True, max_depth=8, metric=auc, num_iterations=100, num_leaves=32, objective=binary \n"
     ]
    },
    {
     "name": "stderr",
     "output_type": "stream",
     "text": [
      "C:\\Users\\test\\anaconda3\\lib\\site-packages\\lightgbm\\engine.py:148: UserWarning: Found `num_iterations` in params. Will use it instead of argument\n",
      "  warnings.warn(\"Found `{}` in params. Will use it instead of argument\".format(alias))\n"
     ]
    },
    {
     "name": "stdout",
     "output_type": "stream",
     "text": [
      "[CV]  bagging_fraction=1, boosting=dart, feature_fraction=1, is_unbalance=True, max_depth=8, metric=auc, num_iterations=100, num_leaves=32, objective=binary, score=0.754, total=  10.9s\n",
      "[CV] bagging_fraction=1, boosting=dart, feature_fraction=1, is_unbalance=True, max_depth=8, metric=auc, num_iterations=100, num_leaves=64, objective=binary \n"
     ]
    },
    {
     "name": "stderr",
     "output_type": "stream",
     "text": [
      "C:\\Users\\test\\anaconda3\\lib\\site-packages\\lightgbm\\engine.py:148: UserWarning: Found `num_iterations` in params. Will use it instead of argument\n",
      "  warnings.warn(\"Found `{}` in params. Will use it instead of argument\".format(alias))\n"
     ]
    },
    {
     "name": "stdout",
     "output_type": "stream",
     "text": [
      "[CV]  bagging_fraction=1, boosting=dart, feature_fraction=1, is_unbalance=True, max_depth=8, metric=auc, num_iterations=100, num_leaves=64, objective=binary, score=0.760, total=  12.6s\n",
      "[CV] bagging_fraction=1, boosting=dart, feature_fraction=1, is_unbalance=True, max_depth=8, metric=auc, num_iterations=100, num_leaves=64, objective=binary \n"
     ]
    },
    {
     "name": "stderr",
     "output_type": "stream",
     "text": [
      "C:\\Users\\test\\anaconda3\\lib\\site-packages\\lightgbm\\engine.py:148: UserWarning: Found `num_iterations` in params. Will use it instead of argument\n",
      "  warnings.warn(\"Found `{}` in params. Will use it instead of argument\".format(alias))\n"
     ]
    },
    {
     "name": "stdout",
     "output_type": "stream",
     "text": [
      "[CV]  bagging_fraction=1, boosting=dart, feature_fraction=1, is_unbalance=True, max_depth=8, metric=auc, num_iterations=100, num_leaves=64, objective=binary, score=0.755, total=  12.6s\n",
      "[CV] bagging_fraction=1, boosting=dart, feature_fraction=1, is_unbalance=True, max_depth=8, metric=auc, num_iterations=100, num_leaves=64, objective=binary \n"
     ]
    },
    {
     "name": "stderr",
     "output_type": "stream",
     "text": [
      "C:\\Users\\test\\anaconda3\\lib\\site-packages\\lightgbm\\engine.py:148: UserWarning: Found `num_iterations` in params. Will use it instead of argument\n",
      "  warnings.warn(\"Found `{}` in params. Will use it instead of argument\".format(alias))\n"
     ]
    },
    {
     "name": "stdout",
     "output_type": "stream",
     "text": [
      "[CV]  bagging_fraction=1, boosting=dart, feature_fraction=1, is_unbalance=True, max_depth=8, metric=auc, num_iterations=100, num_leaves=64, objective=binary, score=0.747, total=  13.0s\n",
      "[CV] bagging_fraction=1, boosting=dart, feature_fraction=1, is_unbalance=True, max_depth=8, metric=auc, num_iterations=100, num_leaves=256, objective=binary \n"
     ]
    },
    {
     "name": "stderr",
     "output_type": "stream",
     "text": [
      "C:\\Users\\test\\anaconda3\\lib\\site-packages\\lightgbm\\engine.py:148: UserWarning: Found `num_iterations` in params. Will use it instead of argument\n",
      "  warnings.warn(\"Found `{}` in params. Will use it instead of argument\".format(alias))\n"
     ]
    },
    {
     "name": "stdout",
     "output_type": "stream",
     "text": [
      "[CV]  bagging_fraction=1, boosting=dart, feature_fraction=1, is_unbalance=True, max_depth=8, metric=auc, num_iterations=100, num_leaves=256, objective=binary, score=0.751, total=  16.3s\n",
      "[CV] bagging_fraction=1, boosting=dart, feature_fraction=1, is_unbalance=True, max_depth=8, metric=auc, num_iterations=100, num_leaves=256, objective=binary \n"
     ]
    },
    {
     "name": "stderr",
     "output_type": "stream",
     "text": [
      "C:\\Users\\test\\anaconda3\\lib\\site-packages\\lightgbm\\engine.py:148: UserWarning: Found `num_iterations` in params. Will use it instead of argument\n",
      "  warnings.warn(\"Found `{}` in params. Will use it instead of argument\".format(alias))\n"
     ]
    },
    {
     "name": "stdout",
     "output_type": "stream",
     "text": [
      "[CV]  bagging_fraction=1, boosting=dart, feature_fraction=1, is_unbalance=True, max_depth=8, metric=auc, num_iterations=100, num_leaves=256, objective=binary, score=0.750, total=  17.0s\n",
      "[CV] bagging_fraction=1, boosting=dart, feature_fraction=1, is_unbalance=True, max_depth=8, metric=auc, num_iterations=100, num_leaves=256, objective=binary \n"
     ]
    },
    {
     "name": "stderr",
     "output_type": "stream",
     "text": [
      "C:\\Users\\test\\anaconda3\\lib\\site-packages\\lightgbm\\engine.py:148: UserWarning: Found `num_iterations` in params. Will use it instead of argument\n",
      "  warnings.warn(\"Found `{}` in params. Will use it instead of argument\".format(alias))\n"
     ]
    },
    {
     "name": "stdout",
     "output_type": "stream",
     "text": [
      "[CV]  bagging_fraction=1, boosting=dart, feature_fraction=1, is_unbalance=True, max_depth=8, metric=auc, num_iterations=100, num_leaves=256, objective=binary, score=0.729, total=  16.4s\n",
      "[CV] bagging_fraction=1, boosting=dart, feature_fraction=1, is_unbalance=True, max_depth=8, metric=auc, num_iterations=300, num_leaves=8, objective=binary \n"
     ]
    },
    {
     "name": "stderr",
     "output_type": "stream",
     "text": [
      "C:\\Users\\test\\anaconda3\\lib\\site-packages\\lightgbm\\engine.py:148: UserWarning: Found `num_iterations` in params. Will use it instead of argument\n",
      "  warnings.warn(\"Found `{}` in params. Will use it instead of argument\".format(alias))\n"
     ]
    },
    {
     "name": "stdout",
     "output_type": "stream",
     "text": [
      "[CV]  bagging_fraction=1, boosting=dart, feature_fraction=1, is_unbalance=True, max_depth=8, metric=auc, num_iterations=300, num_leaves=8, objective=binary, score=0.763, total=  18.1s\n",
      "[CV] bagging_fraction=1, boosting=dart, feature_fraction=1, is_unbalance=True, max_depth=8, metric=auc, num_iterations=300, num_leaves=8, objective=binary \n"
     ]
    },
    {
     "name": "stderr",
     "output_type": "stream",
     "text": [
      "C:\\Users\\test\\anaconda3\\lib\\site-packages\\lightgbm\\engine.py:148: UserWarning: Found `num_iterations` in params. Will use it instead of argument\n",
      "  warnings.warn(\"Found `{}` in params. Will use it instead of argument\".format(alias))\n"
     ]
    },
    {
     "name": "stdout",
     "output_type": "stream",
     "text": [
      "[CV]  bagging_fraction=1, boosting=dart, feature_fraction=1, is_unbalance=True, max_depth=8, metric=auc, num_iterations=300, num_leaves=8, objective=binary, score=0.758, total=  18.3s\n",
      "[CV] bagging_fraction=1, boosting=dart, feature_fraction=1, is_unbalance=True, max_depth=8, metric=auc, num_iterations=300, num_leaves=8, objective=binary \n"
     ]
    },
    {
     "name": "stderr",
     "output_type": "stream",
     "text": [
      "C:\\Users\\test\\anaconda3\\lib\\site-packages\\lightgbm\\engine.py:148: UserWarning: Found `num_iterations` in params. Will use it instead of argument\n",
      "  warnings.warn(\"Found `{}` in params. Will use it instead of argument\".format(alias))\n"
     ]
    },
    {
     "name": "stdout",
     "output_type": "stream",
     "text": [
      "[CV]  bagging_fraction=1, boosting=dart, feature_fraction=1, is_unbalance=True, max_depth=8, metric=auc, num_iterations=300, num_leaves=8, objective=binary, score=0.759, total=  17.9s\n",
      "[CV] bagging_fraction=1, boosting=dart, feature_fraction=1, is_unbalance=True, max_depth=8, metric=auc, num_iterations=300, num_leaves=16, objective=binary \n"
     ]
    },
    {
     "name": "stderr",
     "output_type": "stream",
     "text": [
      "C:\\Users\\test\\anaconda3\\lib\\site-packages\\lightgbm\\engine.py:148: UserWarning: Found `num_iterations` in params. Will use it instead of argument\n",
      "  warnings.warn(\"Found `{}` in params. Will use it instead of argument\".format(alias))\n"
     ]
    },
    {
     "name": "stdout",
     "output_type": "stream",
     "text": [
      "[CV]  bagging_fraction=1, boosting=dart, feature_fraction=1, is_unbalance=True, max_depth=8, metric=auc, num_iterations=300, num_leaves=16, objective=binary, score=0.767, total=  25.3s\n",
      "[CV] bagging_fraction=1, boosting=dart, feature_fraction=1, is_unbalance=True, max_depth=8, metric=auc, num_iterations=300, num_leaves=16, objective=binary \n"
     ]
    },
    {
     "name": "stderr",
     "output_type": "stream",
     "text": [
      "C:\\Users\\test\\anaconda3\\lib\\site-packages\\lightgbm\\engine.py:148: UserWarning: Found `num_iterations` in params. Will use it instead of argument\n",
      "  warnings.warn(\"Found `{}` in params. Will use it instead of argument\".format(alias))\n"
     ]
    },
    {
     "name": "stdout",
     "output_type": "stream",
     "text": [
      "[CV]  bagging_fraction=1, boosting=dart, feature_fraction=1, is_unbalance=True, max_depth=8, metric=auc, num_iterations=300, num_leaves=16, objective=binary, score=0.762, total=  25.5s\n",
      "[CV] bagging_fraction=1, boosting=dart, feature_fraction=1, is_unbalance=True, max_depth=8, metric=auc, num_iterations=300, num_leaves=16, objective=binary \n"
     ]
    },
    {
     "name": "stderr",
     "output_type": "stream",
     "text": [
      "C:\\Users\\test\\anaconda3\\lib\\site-packages\\lightgbm\\engine.py:148: UserWarning: Found `num_iterations` in params. Will use it instead of argument\n",
      "  warnings.warn(\"Found `{}` in params. Will use it instead of argument\".format(alias))\n"
     ]
    },
    {
     "name": "stdout",
     "output_type": "stream",
     "text": [
      "[CV]  bagging_fraction=1, boosting=dart, feature_fraction=1, is_unbalance=True, max_depth=8, metric=auc, num_iterations=300, num_leaves=16, objective=binary, score=0.760, total=  25.0s\n",
      "[CV] bagging_fraction=1, boosting=dart, feature_fraction=1, is_unbalance=True, max_depth=8, metric=auc, num_iterations=300, num_leaves=32, objective=binary \n"
     ]
    },
    {
     "name": "stderr",
     "output_type": "stream",
     "text": [
      "C:\\Users\\test\\anaconda3\\lib\\site-packages\\lightgbm\\engine.py:148: UserWarning: Found `num_iterations` in params. Will use it instead of argument\n",
      "  warnings.warn(\"Found `{}` in params. Will use it instead of argument\".format(alias))\n"
     ]
    },
    {
     "name": "stdout",
     "output_type": "stream",
     "text": [
      "[CV]  bagging_fraction=1, boosting=dart, feature_fraction=1, is_unbalance=True, max_depth=8, metric=auc, num_iterations=300, num_leaves=32, objective=binary, score=0.767, total=  33.0s\n",
      "[CV] bagging_fraction=1, boosting=dart, feature_fraction=1, is_unbalance=True, max_depth=8, metric=auc, num_iterations=300, num_leaves=32, objective=binary \n"
     ]
    },
    {
     "name": "stderr",
     "output_type": "stream",
     "text": [
      "C:\\Users\\test\\anaconda3\\lib\\site-packages\\lightgbm\\engine.py:148: UserWarning: Found `num_iterations` in params. Will use it instead of argument\n",
      "  warnings.warn(\"Found `{}` in params. Will use it instead of argument\".format(alias))\n"
     ]
    },
    {
     "name": "stdout",
     "output_type": "stream",
     "text": [
      "[CV]  bagging_fraction=1, boosting=dart, feature_fraction=1, is_unbalance=True, max_depth=8, metric=auc, num_iterations=300, num_leaves=32, objective=binary, score=0.763, total=  33.9s\n",
      "[CV] bagging_fraction=1, boosting=dart, feature_fraction=1, is_unbalance=True, max_depth=8, metric=auc, num_iterations=300, num_leaves=32, objective=binary \n"
     ]
    },
    {
     "name": "stderr",
     "output_type": "stream",
     "text": [
      "C:\\Users\\test\\anaconda3\\lib\\site-packages\\lightgbm\\engine.py:148: UserWarning: Found `num_iterations` in params. Will use it instead of argument\n",
      "  warnings.warn(\"Found `{}` in params. Will use it instead of argument\".format(alias))\n"
     ]
    },
    {
     "name": "stdout",
     "output_type": "stream",
     "text": [
      "[CV]  bagging_fraction=1, boosting=dart, feature_fraction=1, is_unbalance=True, max_depth=8, metric=auc, num_iterations=300, num_leaves=32, objective=binary, score=0.757, total=  33.5s\n",
      "[CV] bagging_fraction=1, boosting=dart, feature_fraction=1, is_unbalance=True, max_depth=8, metric=auc, num_iterations=300, num_leaves=64, objective=binary \n"
     ]
    },
    {
     "name": "stderr",
     "output_type": "stream",
     "text": [
      "C:\\Users\\test\\anaconda3\\lib\\site-packages\\lightgbm\\engine.py:148: UserWarning: Found `num_iterations` in params. Will use it instead of argument\n",
      "  warnings.warn(\"Found `{}` in params. Will use it instead of argument\".format(alias))\n"
     ]
    },
    {
     "name": "stdout",
     "output_type": "stream",
     "text": [
      "[CV]  bagging_fraction=1, boosting=dart, feature_fraction=1, is_unbalance=True, max_depth=8, metric=auc, num_iterations=300, num_leaves=64, objective=binary, score=0.761, total=  40.8s\n",
      "[CV] bagging_fraction=1, boosting=dart, feature_fraction=1, is_unbalance=True, max_depth=8, metric=auc, num_iterations=300, num_leaves=64, objective=binary \n"
     ]
    },
    {
     "name": "stderr",
     "output_type": "stream",
     "text": [
      "C:\\Users\\test\\anaconda3\\lib\\site-packages\\lightgbm\\engine.py:148: UserWarning: Found `num_iterations` in params. Will use it instead of argument\n",
      "  warnings.warn(\"Found `{}` in params. Will use it instead of argument\".format(alias))\n"
     ]
    },
    {
     "name": "stdout",
     "output_type": "stream",
     "text": [
      "[CV]  bagging_fraction=1, boosting=dart, feature_fraction=1, is_unbalance=True, max_depth=8, metric=auc, num_iterations=300, num_leaves=64, objective=binary, score=0.762, total=  42.2s\n",
      "[CV] bagging_fraction=1, boosting=dart, feature_fraction=1, is_unbalance=True, max_depth=8, metric=auc, num_iterations=300, num_leaves=64, objective=binary \n"
     ]
    },
    {
     "name": "stderr",
     "output_type": "stream",
     "text": [
      "C:\\Users\\test\\anaconda3\\lib\\site-packages\\lightgbm\\engine.py:148: UserWarning: Found `num_iterations` in params. Will use it instead of argument\n",
      "  warnings.warn(\"Found `{}` in params. Will use it instead of argument\".format(alias))\n"
     ]
    },
    {
     "name": "stdout",
     "output_type": "stream",
     "text": [
      "[CV]  bagging_fraction=1, boosting=dart, feature_fraction=1, is_unbalance=True, max_depth=8, metric=auc, num_iterations=300, num_leaves=64, objective=binary, score=0.749, total=  40.8s\n",
      "[CV] bagging_fraction=1, boosting=dart, feature_fraction=1, is_unbalance=True, max_depth=8, metric=auc, num_iterations=300, num_leaves=256, objective=binary \n"
     ]
    },
    {
     "name": "stderr",
     "output_type": "stream",
     "text": [
      "C:\\Users\\test\\anaconda3\\lib\\site-packages\\lightgbm\\engine.py:148: UserWarning: Found `num_iterations` in params. Will use it instead of argument\n",
      "  warnings.warn(\"Found `{}` in params. Will use it instead of argument\".format(alias))\n"
     ]
    },
    {
     "name": "stdout",
     "output_type": "stream",
     "text": [
      "[CV]  bagging_fraction=1, boosting=dart, feature_fraction=1, is_unbalance=True, max_depth=8, metric=auc, num_iterations=300, num_leaves=256, objective=binary, score=0.745, total=  54.3s\n",
      "[CV] bagging_fraction=1, boosting=dart, feature_fraction=1, is_unbalance=True, max_depth=8, metric=auc, num_iterations=300, num_leaves=256, objective=binary \n"
     ]
    },
    {
     "name": "stderr",
     "output_type": "stream",
     "text": [
      "C:\\Users\\test\\anaconda3\\lib\\site-packages\\lightgbm\\engine.py:148: UserWarning: Found `num_iterations` in params. Will use it instead of argument\n",
      "  warnings.warn(\"Found `{}` in params. Will use it instead of argument\".format(alias))\n"
     ]
    },
    {
     "name": "stdout",
     "output_type": "stream",
     "text": [
      "[CV]  bagging_fraction=1, boosting=dart, feature_fraction=1, is_unbalance=True, max_depth=8, metric=auc, num_iterations=300, num_leaves=256, objective=binary, score=0.753, total=  59.7s\n",
      "[CV] bagging_fraction=1, boosting=dart, feature_fraction=1, is_unbalance=True, max_depth=8, metric=auc, num_iterations=300, num_leaves=256, objective=binary \n"
     ]
    },
    {
     "name": "stderr",
     "output_type": "stream",
     "text": [
      "C:\\Users\\test\\anaconda3\\lib\\site-packages\\lightgbm\\engine.py:148: UserWarning: Found `num_iterations` in params. Will use it instead of argument\n",
      "  warnings.warn(\"Found `{}` in params. Will use it instead of argument\".format(alias))\n"
     ]
    },
    {
     "name": "stdout",
     "output_type": "stream",
     "text": [
      "[CV]  bagging_fraction=1, boosting=dart, feature_fraction=1, is_unbalance=True, max_depth=8, metric=auc, num_iterations=300, num_leaves=256, objective=binary, score=0.727, total=  59.5s\n",
      "[CV] bagging_fraction=1, boosting=dart, feature_fraction=1, is_unbalance=True, max_depth=8, metric=auc, num_iterations=500, num_leaves=8, objective=binary \n"
     ]
    },
    {
     "name": "stderr",
     "output_type": "stream",
     "text": [
      "C:\\Users\\test\\anaconda3\\lib\\site-packages\\lightgbm\\engine.py:148: UserWarning: Found `num_iterations` in params. Will use it instead of argument\n",
      "  warnings.warn(\"Found `{}` in params. Will use it instead of argument\".format(alias))\n"
     ]
    },
    {
     "name": "stdout",
     "output_type": "stream",
     "text": [
      "[CV]  bagging_fraction=1, boosting=dart, feature_fraction=1, is_unbalance=True, max_depth=8, metric=auc, num_iterations=500, num_leaves=8, objective=binary, score=0.767, total=  34.3s\n",
      "[CV] bagging_fraction=1, boosting=dart, feature_fraction=1, is_unbalance=True, max_depth=8, metric=auc, num_iterations=500, num_leaves=8, objective=binary \n"
     ]
    },
    {
     "name": "stderr",
     "output_type": "stream",
     "text": [
      "C:\\Users\\test\\anaconda3\\lib\\site-packages\\lightgbm\\engine.py:148: UserWarning: Found `num_iterations` in params. Will use it instead of argument\n",
      "  warnings.warn(\"Found `{}` in params. Will use it instead of argument\".format(alias))\n"
     ]
    },
    {
     "name": "stdout",
     "output_type": "stream",
     "text": [
      "[CV]  bagging_fraction=1, boosting=dart, feature_fraction=1, is_unbalance=True, max_depth=8, metric=auc, num_iterations=500, num_leaves=8, objective=binary, score=0.763, total=  33.6s\n",
      "[CV] bagging_fraction=1, boosting=dart, feature_fraction=1, is_unbalance=True, max_depth=8, metric=auc, num_iterations=500, num_leaves=8, objective=binary \n"
     ]
    },
    {
     "name": "stderr",
     "output_type": "stream",
     "text": [
      "C:\\Users\\test\\anaconda3\\lib\\site-packages\\lightgbm\\engine.py:148: UserWarning: Found `num_iterations` in params. Will use it instead of argument\n",
      "  warnings.warn(\"Found `{}` in params. Will use it instead of argument\".format(alias))\n"
     ]
    },
    {
     "name": "stdout",
     "output_type": "stream",
     "text": [
      "[CV]  bagging_fraction=1, boosting=dart, feature_fraction=1, is_unbalance=True, max_depth=8, metric=auc, num_iterations=500, num_leaves=8, objective=binary, score=0.765, total=  33.4s\n",
      "[CV] bagging_fraction=1, boosting=dart, feature_fraction=1, is_unbalance=True, max_depth=8, metric=auc, num_iterations=500, num_leaves=16, objective=binary \n"
     ]
    },
    {
     "name": "stderr",
     "output_type": "stream",
     "text": [
      "C:\\Users\\test\\anaconda3\\lib\\site-packages\\lightgbm\\engine.py:148: UserWarning: Found `num_iterations` in params. Will use it instead of argument\n",
      "  warnings.warn(\"Found `{}` in params. Will use it instead of argument\".format(alias))\n"
     ]
    },
    {
     "name": "stdout",
     "output_type": "stream",
     "text": [
      "[CV]  bagging_fraction=1, boosting=dart, feature_fraction=1, is_unbalance=True, max_depth=8, metric=auc, num_iterations=500, num_leaves=16, objective=binary, score=0.769, total=  46.0s\n",
      "[CV] bagging_fraction=1, boosting=dart, feature_fraction=1, is_unbalance=True, max_depth=8, metric=auc, num_iterations=500, num_leaves=16, objective=binary \n"
     ]
    },
    {
     "name": "stderr",
     "output_type": "stream",
     "text": [
      "C:\\Users\\test\\anaconda3\\lib\\site-packages\\lightgbm\\engine.py:148: UserWarning: Found `num_iterations` in params. Will use it instead of argument\n",
      "  warnings.warn(\"Found `{}` in params. Will use it instead of argument\".format(alias))\n"
     ]
    },
    {
     "name": "stdout",
     "output_type": "stream",
     "text": [
      "[CV]  bagging_fraction=1, boosting=dart, feature_fraction=1, is_unbalance=True, max_depth=8, metric=auc, num_iterations=500, num_leaves=16, objective=binary, score=0.765, total=  44.9s\n",
      "[CV] bagging_fraction=1, boosting=dart, feature_fraction=1, is_unbalance=True, max_depth=8, metric=auc, num_iterations=500, num_leaves=16, objective=binary \n"
     ]
    },
    {
     "name": "stderr",
     "output_type": "stream",
     "text": [
      "C:\\Users\\test\\anaconda3\\lib\\site-packages\\lightgbm\\engine.py:148: UserWarning: Found `num_iterations` in params. Will use it instead of argument\n",
      "  warnings.warn(\"Found `{}` in params. Will use it instead of argument\".format(alias))\n"
     ]
    },
    {
     "name": "stdout",
     "output_type": "stream",
     "text": [
      "[CV]  bagging_fraction=1, boosting=dart, feature_fraction=1, is_unbalance=True, max_depth=8, metric=auc, num_iterations=500, num_leaves=16, objective=binary, score=0.764, total=  45.8s\n",
      "[CV] bagging_fraction=1, boosting=dart, feature_fraction=1, is_unbalance=True, max_depth=8, metric=auc, num_iterations=500, num_leaves=32, objective=binary \n"
     ]
    },
    {
     "name": "stderr",
     "output_type": "stream",
     "text": [
      "C:\\Users\\test\\anaconda3\\lib\\site-packages\\lightgbm\\engine.py:148: UserWarning: Found `num_iterations` in params. Will use it instead of argument\n",
      "  warnings.warn(\"Found `{}` in params. Will use it instead of argument\".format(alias))\n"
     ]
    },
    {
     "name": "stdout",
     "output_type": "stream",
     "text": [
      "[CV]  bagging_fraction=1, boosting=dart, feature_fraction=1, is_unbalance=True, max_depth=8, metric=auc, num_iterations=500, num_leaves=32, objective=binary, score=0.766, total=  59.9s\n",
      "[CV] bagging_fraction=1, boosting=dart, feature_fraction=1, is_unbalance=True, max_depth=8, metric=auc, num_iterations=500, num_leaves=32, objective=binary \n"
     ]
    },
    {
     "name": "stderr",
     "output_type": "stream",
     "text": [
      "C:\\Users\\test\\anaconda3\\lib\\site-packages\\lightgbm\\engine.py:148: UserWarning: Found `num_iterations` in params. Will use it instead of argument\n",
      "  warnings.warn(\"Found `{}` in params. Will use it instead of argument\".format(alias))\n"
     ]
    },
    {
     "name": "stdout",
     "output_type": "stream",
     "text": [
      "[CV]  bagging_fraction=1, boosting=dart, feature_fraction=1, is_unbalance=True, max_depth=8, metric=auc, num_iterations=500, num_leaves=32, objective=binary, score=0.764, total=  59.0s\n",
      "[CV] bagging_fraction=1, boosting=dart, feature_fraction=1, is_unbalance=True, max_depth=8, metric=auc, num_iterations=500, num_leaves=32, objective=binary \n"
     ]
    },
    {
     "name": "stderr",
     "output_type": "stream",
     "text": [
      "C:\\Users\\test\\anaconda3\\lib\\site-packages\\lightgbm\\engine.py:148: UserWarning: Found `num_iterations` in params. Will use it instead of argument\n",
      "  warnings.warn(\"Found `{}` in params. Will use it instead of argument\".format(alias))\n"
     ]
    },
    {
     "name": "stdout",
     "output_type": "stream",
     "text": [
      "[CV]  bagging_fraction=1, boosting=dart, feature_fraction=1, is_unbalance=True, max_depth=8, metric=auc, num_iterations=500, num_leaves=32, objective=binary, score=0.761, total=  59.4s\n",
      "[CV] bagging_fraction=1, boosting=dart, feature_fraction=1, is_unbalance=True, max_depth=8, metric=auc, num_iterations=500, num_leaves=64, objective=binary \n"
     ]
    },
    {
     "name": "stderr",
     "output_type": "stream",
     "text": [
      "C:\\Users\\test\\anaconda3\\lib\\site-packages\\lightgbm\\engine.py:148: UserWarning: Found `num_iterations` in params. Will use it instead of argument\n",
      "  warnings.warn(\"Found `{}` in params. Will use it instead of argument\".format(alias))\n"
     ]
    },
    {
     "name": "stdout",
     "output_type": "stream",
     "text": [
      "[CV]  bagging_fraction=1, boosting=dart, feature_fraction=1, is_unbalance=True, max_depth=8, metric=auc, num_iterations=500, num_leaves=64, objective=binary, score=0.754, total= 1.2min\n",
      "[CV] bagging_fraction=1, boosting=dart, feature_fraction=1, is_unbalance=True, max_depth=8, metric=auc, num_iterations=500, num_leaves=64, objective=binary \n"
     ]
    },
    {
     "name": "stderr",
     "output_type": "stream",
     "text": [
      "C:\\Users\\test\\anaconda3\\lib\\site-packages\\lightgbm\\engine.py:148: UserWarning: Found `num_iterations` in params. Will use it instead of argument\n",
      "  warnings.warn(\"Found `{}` in params. Will use it instead of argument\".format(alias))\n"
     ]
    },
    {
     "name": "stdout",
     "output_type": "stream",
     "text": [
      "[CV]  bagging_fraction=1, boosting=dart, feature_fraction=1, is_unbalance=True, max_depth=8, metric=auc, num_iterations=500, num_leaves=64, objective=binary, score=0.760, total= 1.3min\n",
      "[CV] bagging_fraction=1, boosting=dart, feature_fraction=1, is_unbalance=True, max_depth=8, metric=auc, num_iterations=500, num_leaves=64, objective=binary \n"
     ]
    },
    {
     "name": "stderr",
     "output_type": "stream",
     "text": [
      "C:\\Users\\test\\anaconda3\\lib\\site-packages\\lightgbm\\engine.py:148: UserWarning: Found `num_iterations` in params. Will use it instead of argument\n",
      "  warnings.warn(\"Found `{}` in params. Will use it instead of argument\".format(alias))\n"
     ]
    },
    {
     "name": "stdout",
     "output_type": "stream",
     "text": [
      "[CV]  bagging_fraction=1, boosting=dart, feature_fraction=1, is_unbalance=True, max_depth=8, metric=auc, num_iterations=500, num_leaves=64, objective=binary, score=0.745, total= 1.3min\n",
      "[CV] bagging_fraction=1, boosting=dart, feature_fraction=1, is_unbalance=True, max_depth=8, metric=auc, num_iterations=500, num_leaves=256, objective=binary \n"
     ]
    },
    {
     "name": "stderr",
     "output_type": "stream",
     "text": [
      "C:\\Users\\test\\anaconda3\\lib\\site-packages\\lightgbm\\engine.py:148: UserWarning: Found `num_iterations` in params. Will use it instead of argument\n",
      "  warnings.warn(\"Found `{}` in params. Will use it instead of argument\".format(alias))\n"
     ]
    },
    {
     "name": "stdout",
     "output_type": "stream",
     "text": [
      "[CV]  bagging_fraction=1, boosting=dart, feature_fraction=1, is_unbalance=True, max_depth=8, metric=auc, num_iterations=500, num_leaves=256, objective=binary, score=0.738, total= 1.7min\n",
      "[CV] bagging_fraction=1, boosting=dart, feature_fraction=1, is_unbalance=True, max_depth=8, metric=auc, num_iterations=500, num_leaves=256, objective=binary \n"
     ]
    },
    {
     "name": "stderr",
     "output_type": "stream",
     "text": [
      "C:\\Users\\test\\anaconda3\\lib\\site-packages\\lightgbm\\engine.py:148: UserWarning: Found `num_iterations` in params. Will use it instead of argument\n",
      "  warnings.warn(\"Found `{}` in params. Will use it instead of argument\".format(alias))\n"
     ]
    },
    {
     "name": "stdout",
     "output_type": "stream",
     "text": [
      "[CV]  bagging_fraction=1, boosting=dart, feature_fraction=1, is_unbalance=True, max_depth=8, metric=auc, num_iterations=500, num_leaves=256, objective=binary, score=0.751, total= 1.7min\n",
      "[CV] bagging_fraction=1, boosting=dart, feature_fraction=1, is_unbalance=True, max_depth=8, metric=auc, num_iterations=500, num_leaves=256, objective=binary \n"
     ]
    },
    {
     "name": "stderr",
     "output_type": "stream",
     "text": [
      "C:\\Users\\test\\anaconda3\\lib\\site-packages\\lightgbm\\engine.py:148: UserWarning: Found `num_iterations` in params. Will use it instead of argument\n",
      "  warnings.warn(\"Found `{}` in params. Will use it instead of argument\".format(alias))\n"
     ]
    },
    {
     "name": "stdout",
     "output_type": "stream",
     "text": [
      "[CV]  bagging_fraction=1, boosting=dart, feature_fraction=1, is_unbalance=True, max_depth=8, metric=auc, num_iterations=500, num_leaves=256, objective=binary, score=0.733, total= 1.7min\n",
      "[CV] bagging_fraction=1, boosting=dart, feature_fraction=1, is_unbalance=True, max_depth=16, metric=auc, num_iterations=100, num_leaves=8, objective=binary \n"
     ]
    },
    {
     "name": "stderr",
     "output_type": "stream",
     "text": [
      "C:\\Users\\test\\anaconda3\\lib\\site-packages\\lightgbm\\engine.py:148: UserWarning: Found `num_iterations` in params. Will use it instead of argument\n",
      "  warnings.warn(\"Found `{}` in params. Will use it instead of argument\".format(alias))\n"
     ]
    },
    {
     "name": "stdout",
     "output_type": "stream",
     "text": [
      "[CV]  bagging_fraction=1, boosting=dart, feature_fraction=1, is_unbalance=True, max_depth=16, metric=auc, num_iterations=100, num_leaves=8, objective=binary, score=0.751, total=   6.8s\n",
      "[CV] bagging_fraction=1, boosting=dart, feature_fraction=1, is_unbalance=True, max_depth=16, metric=auc, num_iterations=100, num_leaves=8, objective=binary \n"
     ]
    },
    {
     "name": "stderr",
     "output_type": "stream",
     "text": [
      "C:\\Users\\test\\anaconda3\\lib\\site-packages\\lightgbm\\engine.py:148: UserWarning: Found `num_iterations` in params. Will use it instead of argument\n",
      "  warnings.warn(\"Found `{}` in params. Will use it instead of argument\".format(alias))\n"
     ]
    },
    {
     "name": "stdout",
     "output_type": "stream",
     "text": [
      "[CV]  bagging_fraction=1, boosting=dart, feature_fraction=1, is_unbalance=True, max_depth=16, metric=auc, num_iterations=100, num_leaves=8, objective=binary, score=0.747, total=   6.2s\n",
      "[CV] bagging_fraction=1, boosting=dart, feature_fraction=1, is_unbalance=True, max_depth=16, metric=auc, num_iterations=100, num_leaves=8, objective=binary \n"
     ]
    },
    {
     "name": "stderr",
     "output_type": "stream",
     "text": [
      "C:\\Users\\test\\anaconda3\\lib\\site-packages\\lightgbm\\engine.py:148: UserWarning: Found `num_iterations` in params. Will use it instead of argument\n",
      "  warnings.warn(\"Found `{}` in params. Will use it instead of argument\".format(alias))\n"
     ]
    },
    {
     "name": "stdout",
     "output_type": "stream",
     "text": [
      "[CV]  bagging_fraction=1, boosting=dart, feature_fraction=1, is_unbalance=True, max_depth=16, metric=auc, num_iterations=100, num_leaves=8, objective=binary, score=0.751, total=   6.1s\n",
      "[CV] bagging_fraction=1, boosting=dart, feature_fraction=1, is_unbalance=True, max_depth=16, metric=auc, num_iterations=100, num_leaves=16, objective=binary \n"
     ]
    },
    {
     "name": "stderr",
     "output_type": "stream",
     "text": [
      "C:\\Users\\test\\anaconda3\\lib\\site-packages\\lightgbm\\engine.py:148: UserWarning: Found `num_iterations` in params. Will use it instead of argument\n",
      "  warnings.warn(\"Found `{}` in params. Will use it instead of argument\".format(alias))\n"
     ]
    },
    {
     "name": "stdout",
     "output_type": "stream",
     "text": [
      "[CV]  bagging_fraction=1, boosting=dart, feature_fraction=1, is_unbalance=True, max_depth=16, metric=auc, num_iterations=100, num_leaves=16, objective=binary, score=0.756, total=   7.9s\n",
      "[CV] bagging_fraction=1, boosting=dart, feature_fraction=1, is_unbalance=True, max_depth=16, metric=auc, num_iterations=100, num_leaves=16, objective=binary \n"
     ]
    },
    {
     "name": "stderr",
     "output_type": "stream",
     "text": [
      "C:\\Users\\test\\anaconda3\\lib\\site-packages\\lightgbm\\engine.py:148: UserWarning: Found `num_iterations` in params. Will use it instead of argument\n",
      "  warnings.warn(\"Found `{}` in params. Will use it instead of argument\".format(alias))\n"
     ]
    },
    {
     "name": "stdout",
     "output_type": "stream",
     "text": [
      "[CV]  bagging_fraction=1, boosting=dart, feature_fraction=1, is_unbalance=True, max_depth=16, metric=auc, num_iterations=100, num_leaves=16, objective=binary, score=0.753, total=   8.3s\n",
      "[CV] bagging_fraction=1, boosting=dart, feature_fraction=1, is_unbalance=True, max_depth=16, metric=auc, num_iterations=100, num_leaves=16, objective=binary \n"
     ]
    },
    {
     "name": "stderr",
     "output_type": "stream",
     "text": [
      "C:\\Users\\test\\anaconda3\\lib\\site-packages\\lightgbm\\engine.py:148: UserWarning: Found `num_iterations` in params. Will use it instead of argument\n",
      "  warnings.warn(\"Found `{}` in params. Will use it instead of argument\".format(alias))\n"
     ]
    },
    {
     "name": "stdout",
     "output_type": "stream",
     "text": [
      "[CV]  bagging_fraction=1, boosting=dart, feature_fraction=1, is_unbalance=True, max_depth=16, metric=auc, num_iterations=100, num_leaves=16, objective=binary, score=0.751, total=   7.9s\n",
      "[CV] bagging_fraction=1, boosting=dart, feature_fraction=1, is_unbalance=True, max_depth=16, metric=auc, num_iterations=100, num_leaves=32, objective=binary \n"
     ]
    },
    {
     "name": "stderr",
     "output_type": "stream",
     "text": [
      "C:\\Users\\test\\anaconda3\\lib\\site-packages\\lightgbm\\engine.py:148: UserWarning: Found `num_iterations` in params. Will use it instead of argument\n",
      "  warnings.warn(\"Found `{}` in params. Will use it instead of argument\".format(alias))\n"
     ]
    },
    {
     "name": "stdout",
     "output_type": "stream",
     "text": [
      "[CV]  bagging_fraction=1, boosting=dart, feature_fraction=1, is_unbalance=True, max_depth=16, metric=auc, num_iterations=100, num_leaves=32, objective=binary, score=0.760, total=  10.7s\n",
      "[CV] bagging_fraction=1, boosting=dart, feature_fraction=1, is_unbalance=True, max_depth=16, metric=auc, num_iterations=100, num_leaves=32, objective=binary \n"
     ]
    },
    {
     "name": "stderr",
     "output_type": "stream",
     "text": [
      "C:\\Users\\test\\anaconda3\\lib\\site-packages\\lightgbm\\engine.py:148: UserWarning: Found `num_iterations` in params. Will use it instead of argument\n",
      "  warnings.warn(\"Found `{}` in params. Will use it instead of argument\".format(alias))\n"
     ]
    },
    {
     "name": "stdout",
     "output_type": "stream",
     "text": [
      "[CV]  bagging_fraction=1, boosting=dart, feature_fraction=1, is_unbalance=True, max_depth=16, metric=auc, num_iterations=100, num_leaves=32, objective=binary, score=0.756, total=  10.9s\n",
      "[CV] bagging_fraction=1, boosting=dart, feature_fraction=1, is_unbalance=True, max_depth=16, metric=auc, num_iterations=100, num_leaves=32, objective=binary \n"
     ]
    },
    {
     "name": "stderr",
     "output_type": "stream",
     "text": [
      "C:\\Users\\test\\anaconda3\\lib\\site-packages\\lightgbm\\engine.py:148: UserWarning: Found `num_iterations` in params. Will use it instead of argument\n",
      "  warnings.warn(\"Found `{}` in params. Will use it instead of argument\".format(alias))\n"
     ]
    },
    {
     "name": "stdout",
     "output_type": "stream",
     "text": [
      "[CV]  bagging_fraction=1, boosting=dart, feature_fraction=1, is_unbalance=True, max_depth=16, metric=auc, num_iterations=100, num_leaves=32, objective=binary, score=0.754, total=  10.4s\n",
      "[CV] bagging_fraction=1, boosting=dart, feature_fraction=1, is_unbalance=True, max_depth=16, metric=auc, num_iterations=100, num_leaves=64, objective=binary \n"
     ]
    },
    {
     "name": "stderr",
     "output_type": "stream",
     "text": [
      "C:\\Users\\test\\anaconda3\\lib\\site-packages\\lightgbm\\engine.py:148: UserWarning: Found `num_iterations` in params. Will use it instead of argument\n",
      "  warnings.warn(\"Found `{}` in params. Will use it instead of argument\".format(alias))\n"
     ]
    },
    {
     "name": "stdout",
     "output_type": "stream",
     "text": [
      "[CV]  bagging_fraction=1, boosting=dart, feature_fraction=1, is_unbalance=True, max_depth=16, metric=auc, num_iterations=100, num_leaves=64, objective=binary, score=0.760, total=  13.7s\n",
      "[CV] bagging_fraction=1, boosting=dart, feature_fraction=1, is_unbalance=True, max_depth=16, metric=auc, num_iterations=100, num_leaves=64, objective=binary \n"
     ]
    },
    {
     "name": "stderr",
     "output_type": "stream",
     "text": [
      "C:\\Users\\test\\anaconda3\\lib\\site-packages\\lightgbm\\engine.py:148: UserWarning: Found `num_iterations` in params. Will use it instead of argument\n",
      "  warnings.warn(\"Found `{}` in params. Will use it instead of argument\".format(alias))\n"
     ]
    },
    {
     "name": "stdout",
     "output_type": "stream",
     "text": [
      "[CV]  bagging_fraction=1, boosting=dart, feature_fraction=1, is_unbalance=True, max_depth=16, metric=auc, num_iterations=100, num_leaves=64, objective=binary, score=0.757, total=  14.1s\n",
      "[CV] bagging_fraction=1, boosting=dart, feature_fraction=1, is_unbalance=True, max_depth=16, metric=auc, num_iterations=100, num_leaves=64, objective=binary \n"
     ]
    },
    {
     "name": "stderr",
     "output_type": "stream",
     "text": [
      "C:\\Users\\test\\anaconda3\\lib\\site-packages\\lightgbm\\engine.py:148: UserWarning: Found `num_iterations` in params. Will use it instead of argument\n",
      "  warnings.warn(\"Found `{}` in params. Will use it instead of argument\".format(alias))\n"
     ]
    },
    {
     "name": "stdout",
     "output_type": "stream",
     "text": [
      "[CV]  bagging_fraction=1, boosting=dart, feature_fraction=1, is_unbalance=True, max_depth=16, metric=auc, num_iterations=100, num_leaves=64, objective=binary, score=0.746, total=  13.9s\n",
      "[CV] bagging_fraction=1, boosting=dart, feature_fraction=1, is_unbalance=True, max_depth=16, metric=auc, num_iterations=100, num_leaves=256, objective=binary \n"
     ]
    },
    {
     "name": "stderr",
     "output_type": "stream",
     "text": [
      "C:\\Users\\test\\anaconda3\\lib\\site-packages\\lightgbm\\engine.py:148: UserWarning: Found `num_iterations` in params. Will use it instead of argument\n",
      "  warnings.warn(\"Found `{}` in params. Will use it instead of argument\".format(alias))\n"
     ]
    },
    {
     "name": "stdout",
     "output_type": "stream",
     "text": [
      "[CV]  bagging_fraction=1, boosting=dart, feature_fraction=1, is_unbalance=True, max_depth=16, metric=auc, num_iterations=100, num_leaves=256, objective=binary, score=0.753, total=  26.6s\n",
      "[CV] bagging_fraction=1, boosting=dart, feature_fraction=1, is_unbalance=True, max_depth=16, metric=auc, num_iterations=100, num_leaves=256, objective=binary \n"
     ]
    },
    {
     "name": "stderr",
     "output_type": "stream",
     "text": [
      "C:\\Users\\test\\anaconda3\\lib\\site-packages\\lightgbm\\engine.py:148: UserWarning: Found `num_iterations` in params. Will use it instead of argument\n",
      "  warnings.warn(\"Found `{}` in params. Will use it instead of argument\".format(alias))\n"
     ]
    },
    {
     "name": "stdout",
     "output_type": "stream",
     "text": [
      "[CV]  bagging_fraction=1, boosting=dart, feature_fraction=1, is_unbalance=True, max_depth=16, metric=auc, num_iterations=100, num_leaves=256, objective=binary, score=0.752, total=  27.7s\n",
      "[CV] bagging_fraction=1, boosting=dart, feature_fraction=1, is_unbalance=True, max_depth=16, metric=auc, num_iterations=100, num_leaves=256, objective=binary \n"
     ]
    },
    {
     "name": "stderr",
     "output_type": "stream",
     "text": [
      "C:\\Users\\test\\anaconda3\\lib\\site-packages\\lightgbm\\engine.py:148: UserWarning: Found `num_iterations` in params. Will use it instead of argument\n",
      "  warnings.warn(\"Found `{}` in params. Will use it instead of argument\".format(alias))\n"
     ]
    },
    {
     "name": "stdout",
     "output_type": "stream",
     "text": [
      "[CV]  bagging_fraction=1, boosting=dart, feature_fraction=1, is_unbalance=True, max_depth=16, metric=auc, num_iterations=100, num_leaves=256, objective=binary, score=0.741, total=  27.6s\n",
      "[CV] bagging_fraction=1, boosting=dart, feature_fraction=1, is_unbalance=True, max_depth=16, metric=auc, num_iterations=300, num_leaves=8, objective=binary \n"
     ]
    },
    {
     "name": "stderr",
     "output_type": "stream",
     "text": [
      "C:\\Users\\test\\anaconda3\\lib\\site-packages\\lightgbm\\engine.py:148: UserWarning: Found `num_iterations` in params. Will use it instead of argument\n",
      "  warnings.warn(\"Found `{}` in params. Will use it instead of argument\".format(alias))\n"
     ]
    },
    {
     "name": "stdout",
     "output_type": "stream",
     "text": [
      "[CV]  bagging_fraction=1, boosting=dart, feature_fraction=1, is_unbalance=True, max_depth=16, metric=auc, num_iterations=300, num_leaves=8, objective=binary, score=0.763, total=  18.0s\n",
      "[CV] bagging_fraction=1, boosting=dart, feature_fraction=1, is_unbalance=True, max_depth=16, metric=auc, num_iterations=300, num_leaves=8, objective=binary \n"
     ]
    },
    {
     "name": "stderr",
     "output_type": "stream",
     "text": [
      "C:\\Users\\test\\anaconda3\\lib\\site-packages\\lightgbm\\engine.py:148: UserWarning: Found `num_iterations` in params. Will use it instead of argument\n",
      "  warnings.warn(\"Found `{}` in params. Will use it instead of argument\".format(alias))\n"
     ]
    },
    {
     "name": "stdout",
     "output_type": "stream",
     "text": [
      "[CV]  bagging_fraction=1, boosting=dart, feature_fraction=1, is_unbalance=True, max_depth=16, metric=auc, num_iterations=300, num_leaves=8, objective=binary, score=0.758, total=  17.7s\n",
      "[CV] bagging_fraction=1, boosting=dart, feature_fraction=1, is_unbalance=True, max_depth=16, metric=auc, num_iterations=300, num_leaves=8, objective=binary \n"
     ]
    },
    {
     "name": "stderr",
     "output_type": "stream",
     "text": [
      "C:\\Users\\test\\anaconda3\\lib\\site-packages\\lightgbm\\engine.py:148: UserWarning: Found `num_iterations` in params. Will use it instead of argument\n",
      "  warnings.warn(\"Found `{}` in params. Will use it instead of argument\".format(alias))\n"
     ]
    },
    {
     "name": "stdout",
     "output_type": "stream",
     "text": [
      "[CV]  bagging_fraction=1, boosting=dart, feature_fraction=1, is_unbalance=True, max_depth=16, metric=auc, num_iterations=300, num_leaves=8, objective=binary, score=0.759, total=  18.3s\n",
      "[CV] bagging_fraction=1, boosting=dart, feature_fraction=1, is_unbalance=True, max_depth=16, metric=auc, num_iterations=300, num_leaves=16, objective=binary \n"
     ]
    },
    {
     "name": "stderr",
     "output_type": "stream",
     "text": [
      "C:\\Users\\test\\anaconda3\\lib\\site-packages\\lightgbm\\engine.py:148: UserWarning: Found `num_iterations` in params. Will use it instead of argument\n",
      "  warnings.warn(\"Found `{}` in params. Will use it instead of argument\".format(alias))\n"
     ]
    },
    {
     "name": "stdout",
     "output_type": "stream",
     "text": [
      "[CV]  bagging_fraction=1, boosting=dart, feature_fraction=1, is_unbalance=True, max_depth=16, metric=auc, num_iterations=300, num_leaves=16, objective=binary, score=0.766, total=  25.5s\n",
      "[CV] bagging_fraction=1, boosting=dart, feature_fraction=1, is_unbalance=True, max_depth=16, metric=auc, num_iterations=300, num_leaves=16, objective=binary \n"
     ]
    },
    {
     "name": "stderr",
     "output_type": "stream",
     "text": [
      "C:\\Users\\test\\anaconda3\\lib\\site-packages\\lightgbm\\engine.py:148: UserWarning: Found `num_iterations` in params. Will use it instead of argument\n",
      "  warnings.warn(\"Found `{}` in params. Will use it instead of argument\".format(alias))\n"
     ]
    },
    {
     "name": "stdout",
     "output_type": "stream",
     "text": [
      "[CV]  bagging_fraction=1, boosting=dart, feature_fraction=1, is_unbalance=True, max_depth=16, metric=auc, num_iterations=300, num_leaves=16, objective=binary, score=0.762, total=  26.0s\n",
      "[CV] bagging_fraction=1, boosting=dart, feature_fraction=1, is_unbalance=True, max_depth=16, metric=auc, num_iterations=300, num_leaves=16, objective=binary \n"
     ]
    },
    {
     "name": "stderr",
     "output_type": "stream",
     "text": [
      "C:\\Users\\test\\anaconda3\\lib\\site-packages\\lightgbm\\engine.py:148: UserWarning: Found `num_iterations` in params. Will use it instead of argument\n",
      "  warnings.warn(\"Found `{}` in params. Will use it instead of argument\".format(alias))\n"
     ]
    },
    {
     "name": "stdout",
     "output_type": "stream",
     "text": [
      "[CV]  bagging_fraction=1, boosting=dart, feature_fraction=1, is_unbalance=True, max_depth=16, metric=auc, num_iterations=300, num_leaves=16, objective=binary, score=0.757, total=  24.9s\n",
      "[CV] bagging_fraction=1, boosting=dart, feature_fraction=1, is_unbalance=True, max_depth=16, metric=auc, num_iterations=300, num_leaves=32, objective=binary \n"
     ]
    },
    {
     "name": "stderr",
     "output_type": "stream",
     "text": [
      "C:\\Users\\test\\anaconda3\\lib\\site-packages\\lightgbm\\engine.py:148: UserWarning: Found `num_iterations` in params. Will use it instead of argument\n",
      "  warnings.warn(\"Found `{}` in params. Will use it instead of argument\".format(alias))\n"
     ]
    },
    {
     "name": "stdout",
     "output_type": "stream",
     "text": [
      "[CV]  bagging_fraction=1, boosting=dart, feature_fraction=1, is_unbalance=True, max_depth=16, metric=auc, num_iterations=300, num_leaves=32, objective=binary, score=0.767, total=  32.4s\n",
      "[CV] bagging_fraction=1, boosting=dart, feature_fraction=1, is_unbalance=True, max_depth=16, metric=auc, num_iterations=300, num_leaves=32, objective=binary \n"
     ]
    },
    {
     "name": "stderr",
     "output_type": "stream",
     "text": [
      "C:\\Users\\test\\anaconda3\\lib\\site-packages\\lightgbm\\engine.py:148: UserWarning: Found `num_iterations` in params. Will use it instead of argument\n",
      "  warnings.warn(\"Found `{}` in params. Will use it instead of argument\".format(alias))\n"
     ]
    },
    {
     "name": "stdout",
     "output_type": "stream",
     "text": [
      "[CV]  bagging_fraction=1, boosting=dart, feature_fraction=1, is_unbalance=True, max_depth=16, metric=auc, num_iterations=300, num_leaves=32, objective=binary, score=0.764, total=  32.7s\n",
      "[CV] bagging_fraction=1, boosting=dart, feature_fraction=1, is_unbalance=True, max_depth=16, metric=auc, num_iterations=300, num_leaves=32, objective=binary \n"
     ]
    },
    {
     "name": "stderr",
     "output_type": "stream",
     "text": [
      "C:\\Users\\test\\anaconda3\\lib\\site-packages\\lightgbm\\engine.py:148: UserWarning: Found `num_iterations` in params. Will use it instead of argument\n",
      "  warnings.warn(\"Found `{}` in params. Will use it instead of argument\".format(alias))\n"
     ]
    },
    {
     "name": "stdout",
     "output_type": "stream",
     "text": [
      "[CV]  bagging_fraction=1, boosting=dart, feature_fraction=1, is_unbalance=True, max_depth=16, metric=auc, num_iterations=300, num_leaves=32, objective=binary, score=0.760, total=  31.9s\n",
      "[CV] bagging_fraction=1, boosting=dart, feature_fraction=1, is_unbalance=True, max_depth=16, metric=auc, num_iterations=300, num_leaves=64, objective=binary \n"
     ]
    },
    {
     "name": "stderr",
     "output_type": "stream",
     "text": [
      "C:\\Users\\test\\anaconda3\\lib\\site-packages\\lightgbm\\engine.py:148: UserWarning: Found `num_iterations` in params. Will use it instead of argument\n",
      "  warnings.warn(\"Found `{}` in params. Will use it instead of argument\".format(alias))\n"
     ]
    },
    {
     "name": "stdout",
     "output_type": "stream",
     "text": [
      "[CV]  bagging_fraction=1, boosting=dart, feature_fraction=1, is_unbalance=True, max_depth=16, metric=auc, num_iterations=300, num_leaves=64, objective=binary, score=0.765, total=  42.2s\n",
      "[CV] bagging_fraction=1, boosting=dart, feature_fraction=1, is_unbalance=True, max_depth=16, metric=auc, num_iterations=300, num_leaves=64, objective=binary \n"
     ]
    },
    {
     "name": "stderr",
     "output_type": "stream",
     "text": [
      "C:\\Users\\test\\anaconda3\\lib\\site-packages\\lightgbm\\engine.py:148: UserWarning: Found `num_iterations` in params. Will use it instead of argument\n",
      "  warnings.warn(\"Found `{}` in params. Will use it instead of argument\".format(alias))\n"
     ]
    },
    {
     "name": "stdout",
     "output_type": "stream",
     "text": [
      "[CV]  bagging_fraction=1, boosting=dart, feature_fraction=1, is_unbalance=True, max_depth=16, metric=auc, num_iterations=300, num_leaves=64, objective=binary, score=0.762, total=  42.3s\n",
      "[CV] bagging_fraction=1, boosting=dart, feature_fraction=1, is_unbalance=True, max_depth=16, metric=auc, num_iterations=300, num_leaves=64, objective=binary \n"
     ]
    },
    {
     "name": "stderr",
     "output_type": "stream",
     "text": [
      "C:\\Users\\test\\anaconda3\\lib\\site-packages\\lightgbm\\engine.py:148: UserWarning: Found `num_iterations` in params. Will use it instead of argument\n",
      "  warnings.warn(\"Found `{}` in params. Will use it instead of argument\".format(alias))\n"
     ]
    },
    {
     "name": "stdout",
     "output_type": "stream",
     "text": [
      "[CV]  bagging_fraction=1, boosting=dart, feature_fraction=1, is_unbalance=True, max_depth=16, metric=auc, num_iterations=300, num_leaves=64, objective=binary, score=0.751, total=  43.2s\n",
      "[CV] bagging_fraction=1, boosting=dart, feature_fraction=1, is_unbalance=True, max_depth=16, metric=auc, num_iterations=300, num_leaves=256, objective=binary \n"
     ]
    },
    {
     "name": "stderr",
     "output_type": "stream",
     "text": [
      "C:\\Users\\test\\anaconda3\\lib\\site-packages\\lightgbm\\engine.py:148: UserWarning: Found `num_iterations` in params. Will use it instead of argument\n",
      "  warnings.warn(\"Found `{}` in params. Will use it instead of argument\".format(alias))\n"
     ]
    },
    {
     "name": "stdout",
     "output_type": "stream",
     "text": [
      "[CV]  bagging_fraction=1, boosting=dart, feature_fraction=1, is_unbalance=True, max_depth=16, metric=auc, num_iterations=300, num_leaves=256, objective=binary, score=0.753, total= 1.4min\n",
      "[CV] bagging_fraction=1, boosting=dart, feature_fraction=1, is_unbalance=True, max_depth=16, metric=auc, num_iterations=300, num_leaves=256, objective=binary \n"
     ]
    },
    {
     "name": "stderr",
     "output_type": "stream",
     "text": [
      "C:\\Users\\test\\anaconda3\\lib\\site-packages\\lightgbm\\engine.py:148: UserWarning: Found `num_iterations` in params. Will use it instead of argument\n",
      "  warnings.warn(\"Found `{}` in params. Will use it instead of argument\".format(alias))\n"
     ]
    },
    {
     "name": "stdout",
     "output_type": "stream",
     "text": [
      "[CV]  bagging_fraction=1, boosting=dart, feature_fraction=1, is_unbalance=True, max_depth=16, metric=auc, num_iterations=300, num_leaves=256, objective=binary, score=0.755, total= 1.5min\n",
      "[CV] bagging_fraction=1, boosting=dart, feature_fraction=1, is_unbalance=True, max_depth=16, metric=auc, num_iterations=300, num_leaves=256, objective=binary \n"
     ]
    },
    {
     "name": "stderr",
     "output_type": "stream",
     "text": [
      "C:\\Users\\test\\anaconda3\\lib\\site-packages\\lightgbm\\engine.py:148: UserWarning: Found `num_iterations` in params. Will use it instead of argument\n",
      "  warnings.warn(\"Found `{}` in params. Will use it instead of argument\".format(alias))\n"
     ]
    },
    {
     "name": "stdout",
     "output_type": "stream",
     "text": [
      "[CV]  bagging_fraction=1, boosting=dart, feature_fraction=1, is_unbalance=True, max_depth=16, metric=auc, num_iterations=300, num_leaves=256, objective=binary, score=0.742, total= 1.6min\n",
      "[CV] bagging_fraction=1, boosting=dart, feature_fraction=1, is_unbalance=True, max_depth=16, metric=auc, num_iterations=500, num_leaves=8, objective=binary \n"
     ]
    },
    {
     "name": "stderr",
     "output_type": "stream",
     "text": [
      "C:\\Users\\test\\anaconda3\\lib\\site-packages\\lightgbm\\engine.py:148: UserWarning: Found `num_iterations` in params. Will use it instead of argument\n",
      "  warnings.warn(\"Found `{}` in params. Will use it instead of argument\".format(alias))\n"
     ]
    },
    {
     "name": "stdout",
     "output_type": "stream",
     "text": [
      "[CV]  bagging_fraction=1, boosting=dart, feature_fraction=1, is_unbalance=True, max_depth=16, metric=auc, num_iterations=500, num_leaves=8, objective=binary, score=0.767, total=  31.8s\n",
      "[CV] bagging_fraction=1, boosting=dart, feature_fraction=1, is_unbalance=True, max_depth=16, metric=auc, num_iterations=500, num_leaves=8, objective=binary \n"
     ]
    },
    {
     "name": "stderr",
     "output_type": "stream",
     "text": [
      "C:\\Users\\test\\anaconda3\\lib\\site-packages\\lightgbm\\engine.py:148: UserWarning: Found `num_iterations` in params. Will use it instead of argument\n",
      "  warnings.warn(\"Found `{}` in params. Will use it instead of argument\".format(alias))\n"
     ]
    },
    {
     "name": "stdout",
     "output_type": "stream",
     "text": [
      "[CV]  bagging_fraction=1, boosting=dart, feature_fraction=1, is_unbalance=True, max_depth=16, metric=auc, num_iterations=500, num_leaves=8, objective=binary, score=0.763, total=  31.2s\n",
      "[CV] bagging_fraction=1, boosting=dart, feature_fraction=1, is_unbalance=True, max_depth=16, metric=auc, num_iterations=500, num_leaves=8, objective=binary \n"
     ]
    },
    {
     "name": "stderr",
     "output_type": "stream",
     "text": [
      "C:\\Users\\test\\anaconda3\\lib\\site-packages\\lightgbm\\engine.py:148: UserWarning: Found `num_iterations` in params. Will use it instead of argument\n",
      "  warnings.warn(\"Found `{}` in params. Will use it instead of argument\".format(alias))\n"
     ]
    },
    {
     "name": "stdout",
     "output_type": "stream",
     "text": [
      "[CV]  bagging_fraction=1, boosting=dart, feature_fraction=1, is_unbalance=True, max_depth=16, metric=auc, num_iterations=500, num_leaves=8, objective=binary, score=0.765, total=  31.0s\n",
      "[CV] bagging_fraction=1, boosting=dart, feature_fraction=1, is_unbalance=True, max_depth=16, metric=auc, num_iterations=500, num_leaves=16, objective=binary \n"
     ]
    },
    {
     "name": "stderr",
     "output_type": "stream",
     "text": [
      "C:\\Users\\test\\anaconda3\\lib\\site-packages\\lightgbm\\engine.py:148: UserWarning: Found `num_iterations` in params. Will use it instead of argument\n",
      "  warnings.warn(\"Found `{}` in params. Will use it instead of argument\".format(alias))\n"
     ]
    },
    {
     "name": "stdout",
     "output_type": "stream",
     "text": [
      "[CV]  bagging_fraction=1, boosting=dart, feature_fraction=1, is_unbalance=True, max_depth=16, metric=auc, num_iterations=500, num_leaves=16, objective=binary, score=0.769, total=  41.9s\n",
      "[CV] bagging_fraction=1, boosting=dart, feature_fraction=1, is_unbalance=True, max_depth=16, metric=auc, num_iterations=500, num_leaves=16, objective=binary \n"
     ]
    },
    {
     "name": "stderr",
     "output_type": "stream",
     "text": [
      "C:\\Users\\test\\anaconda3\\lib\\site-packages\\lightgbm\\engine.py:148: UserWarning: Found `num_iterations` in params. Will use it instead of argument\n",
      "  warnings.warn(\"Found `{}` in params. Will use it instead of argument\".format(alias))\n"
     ]
    },
    {
     "name": "stdout",
     "output_type": "stream",
     "text": [
      "[CV]  bagging_fraction=1, boosting=dart, feature_fraction=1, is_unbalance=True, max_depth=16, metric=auc, num_iterations=500, num_leaves=16, objective=binary, score=0.765, total=  43.1s\n",
      "[CV] bagging_fraction=1, boosting=dart, feature_fraction=1, is_unbalance=True, max_depth=16, metric=auc, num_iterations=500, num_leaves=16, objective=binary \n"
     ]
    },
    {
     "name": "stderr",
     "output_type": "stream",
     "text": [
      "C:\\Users\\test\\anaconda3\\lib\\site-packages\\lightgbm\\engine.py:148: UserWarning: Found `num_iterations` in params. Will use it instead of argument\n",
      "  warnings.warn(\"Found `{}` in params. Will use it instead of argument\".format(alias))\n"
     ]
    },
    {
     "name": "stdout",
     "output_type": "stream",
     "text": [
      "[CV]  bagging_fraction=1, boosting=dart, feature_fraction=1, is_unbalance=True, max_depth=16, metric=auc, num_iterations=500, num_leaves=16, objective=binary, score=0.762, total=  42.3s\n",
      "[CV] bagging_fraction=1, boosting=dart, feature_fraction=1, is_unbalance=True, max_depth=16, metric=auc, num_iterations=500, num_leaves=32, objective=binary \n"
     ]
    },
    {
     "name": "stderr",
     "output_type": "stream",
     "text": [
      "C:\\Users\\test\\anaconda3\\lib\\site-packages\\lightgbm\\engine.py:148: UserWarning: Found `num_iterations` in params. Will use it instead of argument\n",
      "  warnings.warn(\"Found `{}` in params. Will use it instead of argument\".format(alias))\n"
     ]
    },
    {
     "name": "stdout",
     "output_type": "stream",
     "text": [
      "[CV]  bagging_fraction=1, boosting=dart, feature_fraction=1, is_unbalance=True, max_depth=16, metric=auc, num_iterations=500, num_leaves=32, objective=binary, score=0.767, total=  59.2s\n",
      "[CV] bagging_fraction=1, boosting=dart, feature_fraction=1, is_unbalance=True, max_depth=16, metric=auc, num_iterations=500, num_leaves=32, objective=binary \n"
     ]
    },
    {
     "name": "stderr",
     "output_type": "stream",
     "text": [
      "C:\\Users\\test\\anaconda3\\lib\\site-packages\\lightgbm\\engine.py:148: UserWarning: Found `num_iterations` in params. Will use it instead of argument\n",
      "  warnings.warn(\"Found `{}` in params. Will use it instead of argument\".format(alias))\n"
     ]
    },
    {
     "name": "stdout",
     "output_type": "stream",
     "text": [
      "[CV]  bagging_fraction=1, boosting=dart, feature_fraction=1, is_unbalance=True, max_depth=16, metric=auc, num_iterations=500, num_leaves=32, objective=binary, score=0.765, total= 1.0min\n",
      "[CV] bagging_fraction=1, boosting=dart, feature_fraction=1, is_unbalance=True, max_depth=16, metric=auc, num_iterations=500, num_leaves=32, objective=binary \n"
     ]
    },
    {
     "name": "stderr",
     "output_type": "stream",
     "text": [
      "C:\\Users\\test\\anaconda3\\lib\\site-packages\\lightgbm\\engine.py:148: UserWarning: Found `num_iterations` in params. Will use it instead of argument\n",
      "  warnings.warn(\"Found `{}` in params. Will use it instead of argument\".format(alias))\n"
     ]
    },
    {
     "name": "stdout",
     "output_type": "stream",
     "text": [
      "[CV]  bagging_fraction=1, boosting=dart, feature_fraction=1, is_unbalance=True, max_depth=16, metric=auc, num_iterations=500, num_leaves=32, objective=binary, score=0.761, total=  59.7s\n",
      "[CV] bagging_fraction=1, boosting=dart, feature_fraction=1, is_unbalance=True, max_depth=16, metric=auc, num_iterations=500, num_leaves=64, objective=binary \n"
     ]
    },
    {
     "name": "stderr",
     "output_type": "stream",
     "text": [
      "C:\\Users\\test\\anaconda3\\lib\\site-packages\\lightgbm\\engine.py:148: UserWarning: Found `num_iterations` in params. Will use it instead of argument\n",
      "  warnings.warn(\"Found `{}` in params. Will use it instead of argument\".format(alias))\n"
     ]
    },
    {
     "name": "stdout",
     "output_type": "stream",
     "text": [
      "[CV]  bagging_fraction=1, boosting=dart, feature_fraction=1, is_unbalance=True, max_depth=16, metric=auc, num_iterations=500, num_leaves=64, objective=binary, score=0.762, total= 1.3min\n",
      "[CV] bagging_fraction=1, boosting=dart, feature_fraction=1, is_unbalance=True, max_depth=16, metric=auc, num_iterations=500, num_leaves=64, objective=binary \n"
     ]
    },
    {
     "name": "stderr",
     "output_type": "stream",
     "text": [
      "C:\\Users\\test\\anaconda3\\lib\\site-packages\\lightgbm\\engine.py:148: UserWarning: Found `num_iterations` in params. Will use it instead of argument\n",
      "  warnings.warn(\"Found `{}` in params. Will use it instead of argument\".format(alias))\n"
     ]
    },
    {
     "name": "stdout",
     "output_type": "stream",
     "text": [
      "[CV]  bagging_fraction=1, boosting=dart, feature_fraction=1, is_unbalance=True, max_depth=16, metric=auc, num_iterations=500, num_leaves=64, objective=binary, score=0.762, total= 1.3min\n",
      "[CV] bagging_fraction=1, boosting=dart, feature_fraction=1, is_unbalance=True, max_depth=16, metric=auc, num_iterations=500, num_leaves=64, objective=binary \n"
     ]
    },
    {
     "name": "stderr",
     "output_type": "stream",
     "text": [
      "C:\\Users\\test\\anaconda3\\lib\\site-packages\\lightgbm\\engine.py:148: UserWarning: Found `num_iterations` in params. Will use it instead of argument\n",
      "  warnings.warn(\"Found `{}` in params. Will use it instead of argument\".format(alias))\n"
     ]
    },
    {
     "name": "stdout",
     "output_type": "stream",
     "text": [
      "[CV]  bagging_fraction=1, boosting=dart, feature_fraction=1, is_unbalance=True, max_depth=16, metric=auc, num_iterations=500, num_leaves=64, objective=binary, score=0.754, total= 1.3min\n",
      "[CV] bagging_fraction=1, boosting=dart, feature_fraction=1, is_unbalance=True, max_depth=16, metric=auc, num_iterations=500, num_leaves=256, objective=binary \n"
     ]
    },
    {
     "name": "stderr",
     "output_type": "stream",
     "text": [
      "C:\\Users\\test\\anaconda3\\lib\\site-packages\\lightgbm\\engine.py:148: UserWarning: Found `num_iterations` in params. Will use it instead of argument\n",
      "  warnings.warn(\"Found `{}` in params. Will use it instead of argument\".format(alias))\n"
     ]
    },
    {
     "name": "stdout",
     "output_type": "stream",
     "text": [
      "[CV]  bagging_fraction=1, boosting=dart, feature_fraction=1, is_unbalance=True, max_depth=16, metric=auc, num_iterations=500, num_leaves=256, objective=binary, score=0.744, total= 2.6min\n",
      "[CV] bagging_fraction=1, boosting=dart, feature_fraction=1, is_unbalance=True, max_depth=16, metric=auc, num_iterations=500, num_leaves=256, objective=binary \n"
     ]
    },
    {
     "name": "stderr",
     "output_type": "stream",
     "text": [
      "C:\\Users\\test\\anaconda3\\lib\\site-packages\\lightgbm\\engine.py:148: UserWarning: Found `num_iterations` in params. Will use it instead of argument\n",
      "  warnings.warn(\"Found `{}` in params. Will use it instead of argument\".format(alias))\n"
     ]
    },
    {
     "name": "stdout",
     "output_type": "stream",
     "text": [
      "[CV]  bagging_fraction=1, boosting=dart, feature_fraction=1, is_unbalance=True, max_depth=16, metric=auc, num_iterations=500, num_leaves=256, objective=binary, score=0.749, total= 2.5min\n",
      "[CV] bagging_fraction=1, boosting=dart, feature_fraction=1, is_unbalance=True, max_depth=16, metric=auc, num_iterations=500, num_leaves=256, objective=binary \n"
     ]
    },
    {
     "name": "stderr",
     "output_type": "stream",
     "text": [
      "C:\\Users\\test\\anaconda3\\lib\\site-packages\\lightgbm\\engine.py:148: UserWarning: Found `num_iterations` in params. Will use it instead of argument\n",
      "  warnings.warn(\"Found `{}` in params. Will use it instead of argument\".format(alias))\n"
     ]
    },
    {
     "name": "stdout",
     "output_type": "stream",
     "text": [
      "[CV]  bagging_fraction=1, boosting=dart, feature_fraction=1, is_unbalance=True, max_depth=16, metric=auc, num_iterations=500, num_leaves=256, objective=binary, score=0.741, total= 2.8min\n",
      "[CV] bagging_fraction=1, boosting=dart, feature_fraction=1, is_unbalance=True, max_depth=-1, metric=auc, num_iterations=100, num_leaves=8, objective=binary \n"
     ]
    },
    {
     "name": "stderr",
     "output_type": "stream",
     "text": [
      "C:\\Users\\test\\anaconda3\\lib\\site-packages\\lightgbm\\engine.py:148: UserWarning: Found `num_iterations` in params. Will use it instead of argument\n",
      "  warnings.warn(\"Found `{}` in params. Will use it instead of argument\".format(alias))\n"
     ]
    },
    {
     "name": "stdout",
     "output_type": "stream",
     "text": [
      "[CV]  bagging_fraction=1, boosting=dart, feature_fraction=1, is_unbalance=True, max_depth=-1, metric=auc, num_iterations=100, num_leaves=8, objective=binary, score=0.751, total=   6.5s\n",
      "[CV] bagging_fraction=1, boosting=dart, feature_fraction=1, is_unbalance=True, max_depth=-1, metric=auc, num_iterations=100, num_leaves=8, objective=binary \n"
     ]
    },
    {
     "name": "stderr",
     "output_type": "stream",
     "text": [
      "C:\\Users\\test\\anaconda3\\lib\\site-packages\\lightgbm\\engine.py:148: UserWarning: Found `num_iterations` in params. Will use it instead of argument\n",
      "  warnings.warn(\"Found `{}` in params. Will use it instead of argument\".format(alias))\n"
     ]
    },
    {
     "name": "stdout",
     "output_type": "stream",
     "text": [
      "[CV]  bagging_fraction=1, boosting=dart, feature_fraction=1, is_unbalance=True, max_depth=-1, metric=auc, num_iterations=100, num_leaves=8, objective=binary, score=0.747, total=   6.8s\n",
      "[CV] bagging_fraction=1, boosting=dart, feature_fraction=1, is_unbalance=True, max_depth=-1, metric=auc, num_iterations=100, num_leaves=8, objective=binary \n"
     ]
    },
    {
     "name": "stderr",
     "output_type": "stream",
     "text": [
      "C:\\Users\\test\\anaconda3\\lib\\site-packages\\lightgbm\\engine.py:148: UserWarning: Found `num_iterations` in params. Will use it instead of argument\n",
      "  warnings.warn(\"Found `{}` in params. Will use it instead of argument\".format(alias))\n"
     ]
    },
    {
     "name": "stdout",
     "output_type": "stream",
     "text": [
      "[CV]  bagging_fraction=1, boosting=dart, feature_fraction=1, is_unbalance=True, max_depth=-1, metric=auc, num_iterations=100, num_leaves=8, objective=binary, score=0.751, total=   6.4s\n",
      "[CV] bagging_fraction=1, boosting=dart, feature_fraction=1, is_unbalance=True, max_depth=-1, metric=auc, num_iterations=100, num_leaves=16, objective=binary \n"
     ]
    },
    {
     "name": "stderr",
     "output_type": "stream",
     "text": [
      "C:\\Users\\test\\anaconda3\\lib\\site-packages\\lightgbm\\engine.py:148: UserWarning: Found `num_iterations` in params. Will use it instead of argument\n",
      "  warnings.warn(\"Found `{}` in params. Will use it instead of argument\".format(alias))\n"
     ]
    },
    {
     "name": "stdout",
     "output_type": "stream",
     "text": [
      "[CV]  bagging_fraction=1, boosting=dart, feature_fraction=1, is_unbalance=True, max_depth=-1, metric=auc, num_iterations=100, num_leaves=16, objective=binary, score=0.756, total=   9.0s\n",
      "[CV] bagging_fraction=1, boosting=dart, feature_fraction=1, is_unbalance=True, max_depth=-1, metric=auc, num_iterations=100, num_leaves=16, objective=binary \n"
     ]
    },
    {
     "name": "stderr",
     "output_type": "stream",
     "text": [
      "C:\\Users\\test\\anaconda3\\lib\\site-packages\\lightgbm\\engine.py:148: UserWarning: Found `num_iterations` in params. Will use it instead of argument\n",
      "  warnings.warn(\"Found `{}` in params. Will use it instead of argument\".format(alias))\n"
     ]
    },
    {
     "name": "stdout",
     "output_type": "stream",
     "text": [
      "[CV]  bagging_fraction=1, boosting=dart, feature_fraction=1, is_unbalance=True, max_depth=-1, metric=auc, num_iterations=100, num_leaves=16, objective=binary, score=0.753, total=   8.0s\n",
      "[CV] bagging_fraction=1, boosting=dart, feature_fraction=1, is_unbalance=True, max_depth=-1, metric=auc, num_iterations=100, num_leaves=16, objective=binary \n"
     ]
    },
    {
     "name": "stderr",
     "output_type": "stream",
     "text": [
      "C:\\Users\\test\\anaconda3\\lib\\site-packages\\lightgbm\\engine.py:148: UserWarning: Found `num_iterations` in params. Will use it instead of argument\n",
      "  warnings.warn(\"Found `{}` in params. Will use it instead of argument\".format(alias))\n"
     ]
    },
    {
     "name": "stdout",
     "output_type": "stream",
     "text": [
      "[CV]  bagging_fraction=1, boosting=dart, feature_fraction=1, is_unbalance=True, max_depth=-1, metric=auc, num_iterations=100, num_leaves=16, objective=binary, score=0.751, total=   8.6s\n",
      "[CV] bagging_fraction=1, boosting=dart, feature_fraction=1, is_unbalance=True, max_depth=-1, metric=auc, num_iterations=100, num_leaves=32, objective=binary \n"
     ]
    },
    {
     "name": "stderr",
     "output_type": "stream",
     "text": [
      "C:\\Users\\test\\anaconda3\\lib\\site-packages\\lightgbm\\engine.py:148: UserWarning: Found `num_iterations` in params. Will use it instead of argument\n",
      "  warnings.warn(\"Found `{}` in params. Will use it instead of argument\".format(alias))\n"
     ]
    },
    {
     "name": "stdout",
     "output_type": "stream",
     "text": [
      "[CV]  bagging_fraction=1, boosting=dart, feature_fraction=1, is_unbalance=True, max_depth=-1, metric=auc, num_iterations=100, num_leaves=32, objective=binary, score=0.760, total=  11.5s\n",
      "[CV] bagging_fraction=1, boosting=dart, feature_fraction=1, is_unbalance=True, max_depth=-1, metric=auc, num_iterations=100, num_leaves=32, objective=binary \n"
     ]
    },
    {
     "name": "stderr",
     "output_type": "stream",
     "text": [
      "C:\\Users\\test\\anaconda3\\lib\\site-packages\\lightgbm\\engine.py:148: UserWarning: Found `num_iterations` in params. Will use it instead of argument\n",
      "  warnings.warn(\"Found `{}` in params. Will use it instead of argument\".format(alias))\n"
     ]
    },
    {
     "name": "stdout",
     "output_type": "stream",
     "text": [
      "[CV]  bagging_fraction=1, boosting=dart, feature_fraction=1, is_unbalance=True, max_depth=-1, metric=auc, num_iterations=100, num_leaves=32, objective=binary, score=0.756, total=  11.0s\n",
      "[CV] bagging_fraction=1, boosting=dart, feature_fraction=1, is_unbalance=True, max_depth=-1, metric=auc, num_iterations=100, num_leaves=32, objective=binary \n"
     ]
    },
    {
     "name": "stderr",
     "output_type": "stream",
     "text": [
      "C:\\Users\\test\\anaconda3\\lib\\site-packages\\lightgbm\\engine.py:148: UserWarning: Found `num_iterations` in params. Will use it instead of argument\n",
      "  warnings.warn(\"Found `{}` in params. Will use it instead of argument\".format(alias))\n"
     ]
    },
    {
     "name": "stdout",
     "output_type": "stream",
     "text": [
      "[CV]  bagging_fraction=1, boosting=dart, feature_fraction=1, is_unbalance=True, max_depth=-1, metric=auc, num_iterations=100, num_leaves=32, objective=binary, score=0.754, total=  10.8s\n",
      "[CV] bagging_fraction=1, boosting=dart, feature_fraction=1, is_unbalance=True, max_depth=-1, metric=auc, num_iterations=100, num_leaves=64, objective=binary \n"
     ]
    },
    {
     "name": "stderr",
     "output_type": "stream",
     "text": [
      "C:\\Users\\test\\anaconda3\\lib\\site-packages\\lightgbm\\engine.py:148: UserWarning: Found `num_iterations` in params. Will use it instead of argument\n",
      "  warnings.warn(\"Found `{}` in params. Will use it instead of argument\".format(alias))\n"
     ]
    },
    {
     "name": "stdout",
     "output_type": "stream",
     "text": [
      "[CV]  bagging_fraction=1, boosting=dart, feature_fraction=1, is_unbalance=True, max_depth=-1, metric=auc, num_iterations=100, num_leaves=64, objective=binary, score=0.760, total=  14.3s\n",
      "[CV] bagging_fraction=1, boosting=dart, feature_fraction=1, is_unbalance=True, max_depth=-1, metric=auc, num_iterations=100, num_leaves=64, objective=binary \n"
     ]
    },
    {
     "name": "stderr",
     "output_type": "stream",
     "text": [
      "C:\\Users\\test\\anaconda3\\lib\\site-packages\\lightgbm\\engine.py:148: UserWarning: Found `num_iterations` in params. Will use it instead of argument\n",
      "  warnings.warn(\"Found `{}` in params. Will use it instead of argument\".format(alias))\n"
     ]
    },
    {
     "name": "stdout",
     "output_type": "stream",
     "text": [
      "[CV]  bagging_fraction=1, boosting=dart, feature_fraction=1, is_unbalance=True, max_depth=-1, metric=auc, num_iterations=100, num_leaves=64, objective=binary, score=0.756, total=  14.9s\n",
      "[CV] bagging_fraction=1, boosting=dart, feature_fraction=1, is_unbalance=True, max_depth=-1, metric=auc, num_iterations=100, num_leaves=64, objective=binary \n"
     ]
    },
    {
     "name": "stderr",
     "output_type": "stream",
     "text": [
      "C:\\Users\\test\\anaconda3\\lib\\site-packages\\lightgbm\\engine.py:148: UserWarning: Found `num_iterations` in params. Will use it instead of argument\n",
      "  warnings.warn(\"Found `{}` in params. Will use it instead of argument\".format(alias))\n"
     ]
    },
    {
     "name": "stdout",
     "output_type": "stream",
     "text": [
      "[CV]  bagging_fraction=1, boosting=dart, feature_fraction=1, is_unbalance=True, max_depth=-1, metric=auc, num_iterations=100, num_leaves=64, objective=binary, score=0.748, total=  14.6s\n",
      "[CV] bagging_fraction=1, boosting=dart, feature_fraction=1, is_unbalance=True, max_depth=-1, metric=auc, num_iterations=100, num_leaves=256, objective=binary \n"
     ]
    },
    {
     "name": "stderr",
     "output_type": "stream",
     "text": [
      "C:\\Users\\test\\anaconda3\\lib\\site-packages\\lightgbm\\engine.py:148: UserWarning: Found `num_iterations` in params. Will use it instead of argument\n",
      "  warnings.warn(\"Found `{}` in params. Will use it instead of argument\".format(alias))\n"
     ]
    },
    {
     "name": "stdout",
     "output_type": "stream",
     "text": [
      "[CV]  bagging_fraction=1, boosting=dart, feature_fraction=1, is_unbalance=True, max_depth=-1, metric=auc, num_iterations=100, num_leaves=256, objective=binary, score=0.756, total=  27.3s\n",
      "[CV] bagging_fraction=1, boosting=dart, feature_fraction=1, is_unbalance=True, max_depth=-1, metric=auc, num_iterations=100, num_leaves=256, objective=binary \n"
     ]
    },
    {
     "name": "stderr",
     "output_type": "stream",
     "text": [
      "C:\\Users\\test\\anaconda3\\lib\\site-packages\\lightgbm\\engine.py:148: UserWarning: Found `num_iterations` in params. Will use it instead of argument\n",
      "  warnings.warn(\"Found `{}` in params. Will use it instead of argument\".format(alias))\n"
     ]
    },
    {
     "name": "stdout",
     "output_type": "stream",
     "text": [
      "[CV]  bagging_fraction=1, boosting=dart, feature_fraction=1, is_unbalance=True, max_depth=-1, metric=auc, num_iterations=100, num_leaves=256, objective=binary, score=0.754, total=  28.2s\n",
      "[CV] bagging_fraction=1, boosting=dart, feature_fraction=1, is_unbalance=True, max_depth=-1, metric=auc, num_iterations=100, num_leaves=256, objective=binary \n"
     ]
    },
    {
     "name": "stderr",
     "output_type": "stream",
     "text": [
      "C:\\Users\\test\\anaconda3\\lib\\site-packages\\lightgbm\\engine.py:148: UserWarning: Found `num_iterations` in params. Will use it instead of argument\n",
      "  warnings.warn(\"Found `{}` in params. Will use it instead of argument\".format(alias))\n"
     ]
    },
    {
     "name": "stdout",
     "output_type": "stream",
     "text": [
      "[CV]  bagging_fraction=1, boosting=dart, feature_fraction=1, is_unbalance=True, max_depth=-1, metric=auc, num_iterations=100, num_leaves=256, objective=binary, score=0.745, total=  28.5s\n",
      "[CV] bagging_fraction=1, boosting=dart, feature_fraction=1, is_unbalance=True, max_depth=-1, metric=auc, num_iterations=300, num_leaves=8, objective=binary \n"
     ]
    },
    {
     "name": "stderr",
     "output_type": "stream",
     "text": [
      "C:\\Users\\test\\anaconda3\\lib\\site-packages\\lightgbm\\engine.py:148: UserWarning: Found `num_iterations` in params. Will use it instead of argument\n",
      "  warnings.warn(\"Found `{}` in params. Will use it instead of argument\".format(alias))\n"
     ]
    },
    {
     "name": "stdout",
     "output_type": "stream",
     "text": [
      "[CV]  bagging_fraction=1, boosting=dart, feature_fraction=1, is_unbalance=True, max_depth=-1, metric=auc, num_iterations=300, num_leaves=8, objective=binary, score=0.763, total=  19.0s\n",
      "[CV] bagging_fraction=1, boosting=dart, feature_fraction=1, is_unbalance=True, max_depth=-1, metric=auc, num_iterations=300, num_leaves=8, objective=binary \n"
     ]
    },
    {
     "name": "stderr",
     "output_type": "stream",
     "text": [
      "C:\\Users\\test\\anaconda3\\lib\\site-packages\\lightgbm\\engine.py:148: UserWarning: Found `num_iterations` in params. Will use it instead of argument\n",
      "  warnings.warn(\"Found `{}` in params. Will use it instead of argument\".format(alias))\n"
     ]
    },
    {
     "name": "stdout",
     "output_type": "stream",
     "text": [
      "[CV]  bagging_fraction=1, boosting=dart, feature_fraction=1, is_unbalance=True, max_depth=-1, metric=auc, num_iterations=300, num_leaves=8, objective=binary, score=0.758, total=  18.0s\n",
      "[CV] bagging_fraction=1, boosting=dart, feature_fraction=1, is_unbalance=True, max_depth=-1, metric=auc, num_iterations=300, num_leaves=8, objective=binary \n"
     ]
    },
    {
     "name": "stderr",
     "output_type": "stream",
     "text": [
      "C:\\Users\\test\\anaconda3\\lib\\site-packages\\lightgbm\\engine.py:148: UserWarning: Found `num_iterations` in params. Will use it instead of argument\n",
      "  warnings.warn(\"Found `{}` in params. Will use it instead of argument\".format(alias))\n"
     ]
    },
    {
     "name": "stdout",
     "output_type": "stream",
     "text": [
      "[CV]  bagging_fraction=1, boosting=dart, feature_fraction=1, is_unbalance=True, max_depth=-1, metric=auc, num_iterations=300, num_leaves=8, objective=binary, score=0.759, total=  17.3s\n",
      "[CV] bagging_fraction=1, boosting=dart, feature_fraction=1, is_unbalance=True, max_depth=-1, metric=auc, num_iterations=300, num_leaves=16, objective=binary \n"
     ]
    },
    {
     "name": "stderr",
     "output_type": "stream",
     "text": [
      "C:\\Users\\test\\anaconda3\\lib\\site-packages\\lightgbm\\engine.py:148: UserWarning: Found `num_iterations` in params. Will use it instead of argument\n",
      "  warnings.warn(\"Found `{}` in params. Will use it instead of argument\".format(alias))\n"
     ]
    },
    {
     "name": "stdout",
     "output_type": "stream",
     "text": [
      "[CV]  bagging_fraction=1, boosting=dart, feature_fraction=1, is_unbalance=True, max_depth=-1, metric=auc, num_iterations=300, num_leaves=16, objective=binary, score=0.766, total=  27.2s\n",
      "[CV] bagging_fraction=1, boosting=dart, feature_fraction=1, is_unbalance=True, max_depth=-1, metric=auc, num_iterations=300, num_leaves=16, objective=binary \n"
     ]
    },
    {
     "name": "stderr",
     "output_type": "stream",
     "text": [
      "C:\\Users\\test\\anaconda3\\lib\\site-packages\\lightgbm\\engine.py:148: UserWarning: Found `num_iterations` in params. Will use it instead of argument\n",
      "  warnings.warn(\"Found `{}` in params. Will use it instead of argument\".format(alias))\n"
     ]
    },
    {
     "name": "stdout",
     "output_type": "stream",
     "text": [
      "[CV]  bagging_fraction=1, boosting=dart, feature_fraction=1, is_unbalance=True, max_depth=-1, metric=auc, num_iterations=300, num_leaves=16, objective=binary, score=0.762, total=  25.7s\n",
      "[CV] bagging_fraction=1, boosting=dart, feature_fraction=1, is_unbalance=True, max_depth=-1, metric=auc, num_iterations=300, num_leaves=16, objective=binary \n"
     ]
    },
    {
     "name": "stderr",
     "output_type": "stream",
     "text": [
      "C:\\Users\\test\\anaconda3\\lib\\site-packages\\lightgbm\\engine.py:148: UserWarning: Found `num_iterations` in params. Will use it instead of argument\n",
      "  warnings.warn(\"Found `{}` in params. Will use it instead of argument\".format(alias))\n"
     ]
    },
    {
     "name": "stdout",
     "output_type": "stream",
     "text": [
      "[CV]  bagging_fraction=1, boosting=dart, feature_fraction=1, is_unbalance=True, max_depth=-1, metric=auc, num_iterations=300, num_leaves=16, objective=binary, score=0.757, total=  28.8s\n",
      "[CV] bagging_fraction=1, boosting=dart, feature_fraction=1, is_unbalance=True, max_depth=-1, metric=auc, num_iterations=300, num_leaves=32, objective=binary \n"
     ]
    },
    {
     "name": "stderr",
     "output_type": "stream",
     "text": [
      "C:\\Users\\test\\anaconda3\\lib\\site-packages\\lightgbm\\engine.py:148: UserWarning: Found `num_iterations` in params. Will use it instead of argument\n",
      "  warnings.warn(\"Found `{}` in params. Will use it instead of argument\".format(alias))\n"
     ]
    },
    {
     "name": "stdout",
     "output_type": "stream",
     "text": [
      "[CV]  bagging_fraction=1, boosting=dart, feature_fraction=1, is_unbalance=True, max_depth=-1, metric=auc, num_iterations=300, num_leaves=32, objective=binary, score=0.767, total=  33.1s\n",
      "[CV] bagging_fraction=1, boosting=dart, feature_fraction=1, is_unbalance=True, max_depth=-1, metric=auc, num_iterations=300, num_leaves=32, objective=binary \n"
     ]
    },
    {
     "name": "stderr",
     "output_type": "stream",
     "text": [
      "C:\\Users\\test\\anaconda3\\lib\\site-packages\\lightgbm\\engine.py:148: UserWarning: Found `num_iterations` in params. Will use it instead of argument\n",
      "  warnings.warn(\"Found `{}` in params. Will use it instead of argument\".format(alias))\n"
     ]
    },
    {
     "name": "stdout",
     "output_type": "stream",
     "text": [
      "[CV]  bagging_fraction=1, boosting=dart, feature_fraction=1, is_unbalance=True, max_depth=-1, metric=auc, num_iterations=300, num_leaves=32, objective=binary, score=0.764, total=  33.4s\n",
      "[CV] bagging_fraction=1, boosting=dart, feature_fraction=1, is_unbalance=True, max_depth=-1, metric=auc, num_iterations=300, num_leaves=32, objective=binary \n"
     ]
    },
    {
     "name": "stderr",
     "output_type": "stream",
     "text": [
      "C:\\Users\\test\\anaconda3\\lib\\site-packages\\lightgbm\\engine.py:148: UserWarning: Found `num_iterations` in params. Will use it instead of argument\n",
      "  warnings.warn(\"Found `{}` in params. Will use it instead of argument\".format(alias))\n"
     ]
    },
    {
     "name": "stdout",
     "output_type": "stream",
     "text": [
      "[CV]  bagging_fraction=1, boosting=dart, feature_fraction=1, is_unbalance=True, max_depth=-1, metric=auc, num_iterations=300, num_leaves=32, objective=binary, score=0.760, total=  33.1s\n",
      "[CV] bagging_fraction=1, boosting=dart, feature_fraction=1, is_unbalance=True, max_depth=-1, metric=auc, num_iterations=300, num_leaves=64, objective=binary \n"
     ]
    },
    {
     "name": "stderr",
     "output_type": "stream",
     "text": [
      "C:\\Users\\test\\anaconda3\\lib\\site-packages\\lightgbm\\engine.py:148: UserWarning: Found `num_iterations` in params. Will use it instead of argument\n",
      "  warnings.warn(\"Found `{}` in params. Will use it instead of argument\".format(alias))\n"
     ]
    },
    {
     "name": "stdout",
     "output_type": "stream",
     "text": [
      "[CV]  bagging_fraction=1, boosting=dart, feature_fraction=1, is_unbalance=True, max_depth=-1, metric=auc, num_iterations=300, num_leaves=64, objective=binary, score=0.763, total=  45.0s\n",
      "[CV] bagging_fraction=1, boosting=dart, feature_fraction=1, is_unbalance=True, max_depth=-1, metric=auc, num_iterations=300, num_leaves=64, objective=binary \n"
     ]
    },
    {
     "name": "stderr",
     "output_type": "stream",
     "text": [
      "C:\\Users\\test\\anaconda3\\lib\\site-packages\\lightgbm\\engine.py:148: UserWarning: Found `num_iterations` in params. Will use it instead of argument\n",
      "  warnings.warn(\"Found `{}` in params. Will use it instead of argument\".format(alias))\n"
     ]
    },
    {
     "name": "stdout",
     "output_type": "stream",
     "text": [
      "[CV]  bagging_fraction=1, boosting=dart, feature_fraction=1, is_unbalance=True, max_depth=-1, metric=auc, num_iterations=300, num_leaves=64, objective=binary, score=0.762, total=  49.1s\n",
      "[CV] bagging_fraction=1, boosting=dart, feature_fraction=1, is_unbalance=True, max_depth=-1, metric=auc, num_iterations=300, num_leaves=64, objective=binary \n"
     ]
    },
    {
     "name": "stderr",
     "output_type": "stream",
     "text": [
      "C:\\Users\\test\\anaconda3\\lib\\site-packages\\lightgbm\\engine.py:148: UserWarning: Found `num_iterations` in params. Will use it instead of argument\n",
      "  warnings.warn(\"Found `{}` in params. Will use it instead of argument\".format(alias))\n"
     ]
    },
    {
     "name": "stdout",
     "output_type": "stream",
     "text": [
      "[CV]  bagging_fraction=1, boosting=dart, feature_fraction=1, is_unbalance=True, max_depth=-1, metric=auc, num_iterations=300, num_leaves=64, objective=binary, score=0.750, total=  45.6s\n",
      "[CV] bagging_fraction=1, boosting=dart, feature_fraction=1, is_unbalance=True, max_depth=-1, metric=auc, num_iterations=300, num_leaves=256, objective=binary \n"
     ]
    },
    {
     "name": "stderr",
     "output_type": "stream",
     "text": [
      "C:\\Users\\test\\anaconda3\\lib\\site-packages\\lightgbm\\engine.py:148: UserWarning: Found `num_iterations` in params. Will use it instead of argument\n",
      "  warnings.warn(\"Found `{}` in params. Will use it instead of argument\".format(alias))\n"
     ]
    },
    {
     "name": "stdout",
     "output_type": "stream",
     "text": [
      "[CV]  bagging_fraction=1, boosting=dart, feature_fraction=1, is_unbalance=True, max_depth=-1, metric=auc, num_iterations=300, num_leaves=256, objective=binary, score=0.757, total= 1.5min\n",
      "[CV] bagging_fraction=1, boosting=dart, feature_fraction=1, is_unbalance=True, max_depth=-1, metric=auc, num_iterations=300, num_leaves=256, objective=binary \n"
     ]
    },
    {
     "name": "stderr",
     "output_type": "stream",
     "text": [
      "C:\\Users\\test\\anaconda3\\lib\\site-packages\\lightgbm\\engine.py:148: UserWarning: Found `num_iterations` in params. Will use it instead of argument\n",
      "  warnings.warn(\"Found `{}` in params. Will use it instead of argument\".format(alias))\n"
     ]
    },
    {
     "name": "stdout",
     "output_type": "stream",
     "text": [
      "[CV]  bagging_fraction=1, boosting=dart, feature_fraction=1, is_unbalance=True, max_depth=-1, metric=auc, num_iterations=300, num_leaves=256, objective=binary, score=0.755, total= 1.6min\n",
      "[CV] bagging_fraction=1, boosting=dart, feature_fraction=1, is_unbalance=True, max_depth=-1, metric=auc, num_iterations=300, num_leaves=256, objective=binary \n"
     ]
    },
    {
     "name": "stderr",
     "output_type": "stream",
     "text": [
      "C:\\Users\\test\\anaconda3\\lib\\site-packages\\lightgbm\\engine.py:148: UserWarning: Found `num_iterations` in params. Will use it instead of argument\n",
      "  warnings.warn(\"Found `{}` in params. Will use it instead of argument\".format(alias))\n"
     ]
    },
    {
     "name": "stdout",
     "output_type": "stream",
     "text": [
      "[CV]  bagging_fraction=1, boosting=dart, feature_fraction=1, is_unbalance=True, max_depth=-1, metric=auc, num_iterations=300, num_leaves=256, objective=binary, score=0.745, total= 1.6min\n",
      "[CV] bagging_fraction=1, boosting=dart, feature_fraction=1, is_unbalance=True, max_depth=-1, metric=auc, num_iterations=500, num_leaves=8, objective=binary \n"
     ]
    },
    {
     "name": "stderr",
     "output_type": "stream",
     "text": [
      "C:\\Users\\test\\anaconda3\\lib\\site-packages\\lightgbm\\engine.py:148: UserWarning: Found `num_iterations` in params. Will use it instead of argument\n",
      "  warnings.warn(\"Found `{}` in params. Will use it instead of argument\".format(alias))\n"
     ]
    },
    {
     "name": "stdout",
     "output_type": "stream",
     "text": [
      "[CV]  bagging_fraction=1, boosting=dart, feature_fraction=1, is_unbalance=True, max_depth=-1, metric=auc, num_iterations=500, num_leaves=8, objective=binary, score=0.767, total=  35.0s\n",
      "[CV] bagging_fraction=1, boosting=dart, feature_fraction=1, is_unbalance=True, max_depth=-1, metric=auc, num_iterations=500, num_leaves=8, objective=binary \n"
     ]
    },
    {
     "name": "stderr",
     "output_type": "stream",
     "text": [
      "C:\\Users\\test\\anaconda3\\lib\\site-packages\\lightgbm\\engine.py:148: UserWarning: Found `num_iterations` in params. Will use it instead of argument\n",
      "  warnings.warn(\"Found `{}` in params. Will use it instead of argument\".format(alias))\n"
     ]
    },
    {
     "name": "stdout",
     "output_type": "stream",
     "text": [
      "[CV]  bagging_fraction=1, boosting=dart, feature_fraction=1, is_unbalance=True, max_depth=-1, metric=auc, num_iterations=500, num_leaves=8, objective=binary, score=0.763, total=  35.3s\n",
      "[CV] bagging_fraction=1, boosting=dart, feature_fraction=1, is_unbalance=True, max_depth=-1, metric=auc, num_iterations=500, num_leaves=8, objective=binary \n"
     ]
    },
    {
     "name": "stderr",
     "output_type": "stream",
     "text": [
      "C:\\Users\\test\\anaconda3\\lib\\site-packages\\lightgbm\\engine.py:148: UserWarning: Found `num_iterations` in params. Will use it instead of argument\n",
      "  warnings.warn(\"Found `{}` in params. Will use it instead of argument\".format(alias))\n"
     ]
    },
    {
     "name": "stdout",
     "output_type": "stream",
     "text": [
      "[CV]  bagging_fraction=1, boosting=dart, feature_fraction=1, is_unbalance=True, max_depth=-1, metric=auc, num_iterations=500, num_leaves=8, objective=binary, score=0.765, total=  35.8s\n",
      "[CV] bagging_fraction=1, boosting=dart, feature_fraction=1, is_unbalance=True, max_depth=-1, metric=auc, num_iterations=500, num_leaves=16, objective=binary \n"
     ]
    },
    {
     "name": "stderr",
     "output_type": "stream",
     "text": [
      "C:\\Users\\test\\anaconda3\\lib\\site-packages\\lightgbm\\engine.py:148: UserWarning: Found `num_iterations` in params. Will use it instead of argument\n",
      "  warnings.warn(\"Found `{}` in params. Will use it instead of argument\".format(alias))\n"
     ]
    },
    {
     "name": "stdout",
     "output_type": "stream",
     "text": [
      "[CV]  bagging_fraction=1, boosting=dart, feature_fraction=1, is_unbalance=True, max_depth=-1, metric=auc, num_iterations=500, num_leaves=16, objective=binary, score=0.769, total=  48.8s\n",
      "[CV] bagging_fraction=1, boosting=dart, feature_fraction=1, is_unbalance=True, max_depth=-1, metric=auc, num_iterations=500, num_leaves=16, objective=binary \n"
     ]
    },
    {
     "name": "stderr",
     "output_type": "stream",
     "text": [
      "C:\\Users\\test\\anaconda3\\lib\\site-packages\\lightgbm\\engine.py:148: UserWarning: Found `num_iterations` in params. Will use it instead of argument\n",
      "  warnings.warn(\"Found `{}` in params. Will use it instead of argument\".format(alias))\n"
     ]
    },
    {
     "name": "stdout",
     "output_type": "stream",
     "text": [
      "[CV]  bagging_fraction=1, boosting=dart, feature_fraction=1, is_unbalance=True, max_depth=-1, metric=auc, num_iterations=500, num_leaves=16, objective=binary, score=0.765, total=  49.3s\n",
      "[CV] bagging_fraction=1, boosting=dart, feature_fraction=1, is_unbalance=True, max_depth=-1, metric=auc, num_iterations=500, num_leaves=16, objective=binary \n"
     ]
    },
    {
     "name": "stderr",
     "output_type": "stream",
     "text": [
      "C:\\Users\\test\\anaconda3\\lib\\site-packages\\lightgbm\\engine.py:148: UserWarning: Found `num_iterations` in params. Will use it instead of argument\n",
      "  warnings.warn(\"Found `{}` in params. Will use it instead of argument\".format(alias))\n"
     ]
    },
    {
     "name": "stdout",
     "output_type": "stream",
     "text": [
      "[CV]  bagging_fraction=1, boosting=dart, feature_fraction=1, is_unbalance=True, max_depth=-1, metric=auc, num_iterations=500, num_leaves=16, objective=binary, score=0.762, total=  45.4s\n",
      "[CV] bagging_fraction=1, boosting=dart, feature_fraction=1, is_unbalance=True, max_depth=-1, metric=auc, num_iterations=500, num_leaves=32, objective=binary \n"
     ]
    },
    {
     "name": "stderr",
     "output_type": "stream",
     "text": [
      "C:\\Users\\test\\anaconda3\\lib\\site-packages\\lightgbm\\engine.py:148: UserWarning: Found `num_iterations` in params. Will use it instead of argument\n",
      "  warnings.warn(\"Found `{}` in params. Will use it instead of argument\".format(alias))\n"
     ]
    },
    {
     "name": "stdout",
     "output_type": "stream",
     "text": [
      "[CV]  bagging_fraction=1, boosting=dart, feature_fraction=1, is_unbalance=True, max_depth=-1, metric=auc, num_iterations=500, num_leaves=32, objective=binary, score=0.767, total= 1.0min\n",
      "[CV] bagging_fraction=1, boosting=dart, feature_fraction=1, is_unbalance=True, max_depth=-1, metric=auc, num_iterations=500, num_leaves=32, objective=binary \n"
     ]
    },
    {
     "name": "stderr",
     "output_type": "stream",
     "text": [
      "C:\\Users\\test\\anaconda3\\lib\\site-packages\\lightgbm\\engine.py:148: UserWarning: Found `num_iterations` in params. Will use it instead of argument\n",
      "  warnings.warn(\"Found `{}` in params. Will use it instead of argument\".format(alias))\n"
     ]
    },
    {
     "name": "stdout",
     "output_type": "stream",
     "text": [
      "[CV]  bagging_fraction=1, boosting=dart, feature_fraction=1, is_unbalance=True, max_depth=-1, metric=auc, num_iterations=500, num_leaves=32, objective=binary, score=0.765, total= 1.1min\n",
      "[CV] bagging_fraction=1, boosting=dart, feature_fraction=1, is_unbalance=True, max_depth=-1, metric=auc, num_iterations=500, num_leaves=32, objective=binary \n"
     ]
    },
    {
     "name": "stderr",
     "output_type": "stream",
     "text": [
      "C:\\Users\\test\\anaconda3\\lib\\site-packages\\lightgbm\\engine.py:148: UserWarning: Found `num_iterations` in params. Will use it instead of argument\n",
      "  warnings.warn(\"Found `{}` in params. Will use it instead of argument\".format(alias))\n"
     ]
    },
    {
     "name": "stdout",
     "output_type": "stream",
     "text": [
      "[CV]  bagging_fraction=1, boosting=dart, feature_fraction=1, is_unbalance=True, max_depth=-1, metric=auc, num_iterations=500, num_leaves=32, objective=binary, score=0.763, total= 1.1min\n",
      "[CV] bagging_fraction=1, boosting=dart, feature_fraction=1, is_unbalance=True, max_depth=-1, metric=auc, num_iterations=500, num_leaves=64, objective=binary \n"
     ]
    },
    {
     "name": "stderr",
     "output_type": "stream",
     "text": [
      "C:\\Users\\test\\anaconda3\\lib\\site-packages\\lightgbm\\engine.py:148: UserWarning: Found `num_iterations` in params. Will use it instead of argument\n",
      "  warnings.warn(\"Found `{}` in params. Will use it instead of argument\".format(alias))\n"
     ]
    },
    {
     "name": "stdout",
     "output_type": "stream",
     "text": [
      "[CV]  bagging_fraction=1, boosting=dart, feature_fraction=1, is_unbalance=True, max_depth=-1, metric=auc, num_iterations=500, num_leaves=64, objective=binary, score=0.760, total= 1.4min\n",
      "[CV] bagging_fraction=1, boosting=dart, feature_fraction=1, is_unbalance=True, max_depth=-1, metric=auc, num_iterations=500, num_leaves=64, objective=binary \n"
     ]
    },
    {
     "name": "stderr",
     "output_type": "stream",
     "text": [
      "C:\\Users\\test\\anaconda3\\lib\\site-packages\\lightgbm\\engine.py:148: UserWarning: Found `num_iterations` in params. Will use it instead of argument\n",
      "  warnings.warn(\"Found `{}` in params. Will use it instead of argument\".format(alias))\n"
     ]
    },
    {
     "name": "stdout",
     "output_type": "stream",
     "text": [
      "[CV]  bagging_fraction=1, boosting=dart, feature_fraction=1, is_unbalance=True, max_depth=-1, metric=auc, num_iterations=500, num_leaves=64, objective=binary, score=0.761, total= 1.4min\n",
      "[CV] bagging_fraction=1, boosting=dart, feature_fraction=1, is_unbalance=True, max_depth=-1, metric=auc, num_iterations=500, num_leaves=64, objective=binary \n"
     ]
    },
    {
     "name": "stderr",
     "output_type": "stream",
     "text": [
      "C:\\Users\\test\\anaconda3\\lib\\site-packages\\lightgbm\\engine.py:148: UserWarning: Found `num_iterations` in params. Will use it instead of argument\n",
      "  warnings.warn(\"Found `{}` in params. Will use it instead of argument\".format(alias))\n"
     ]
    },
    {
     "name": "stdout",
     "output_type": "stream",
     "text": [
      "[CV]  bagging_fraction=1, boosting=dart, feature_fraction=1, is_unbalance=True, max_depth=-1, metric=auc, num_iterations=500, num_leaves=64, objective=binary, score=0.754, total= 1.4min\n",
      "[CV] bagging_fraction=1, boosting=dart, feature_fraction=1, is_unbalance=True, max_depth=-1, metric=auc, num_iterations=500, num_leaves=256, objective=binary \n"
     ]
    },
    {
     "name": "stderr",
     "output_type": "stream",
     "text": [
      "C:\\Users\\test\\anaconda3\\lib\\site-packages\\lightgbm\\engine.py:148: UserWarning: Found `num_iterations` in params. Will use it instead of argument\n",
      "  warnings.warn(\"Found `{}` in params. Will use it instead of argument\".format(alias))\n"
     ]
    },
    {
     "name": "stdout",
     "output_type": "stream",
     "text": [
      "[CV]  bagging_fraction=1, boosting=dart, feature_fraction=1, is_unbalance=True, max_depth=-1, metric=auc, num_iterations=500, num_leaves=256, objective=binary, score=0.749, total= 2.7min\n",
      "[CV] bagging_fraction=1, boosting=dart, feature_fraction=1, is_unbalance=True, max_depth=-1, metric=auc, num_iterations=500, num_leaves=256, objective=binary \n"
     ]
    },
    {
     "name": "stderr",
     "output_type": "stream",
     "text": [
      "C:\\Users\\test\\anaconda3\\lib\\site-packages\\lightgbm\\engine.py:148: UserWarning: Found `num_iterations` in params. Will use it instead of argument\n",
      "  warnings.warn(\"Found `{}` in params. Will use it instead of argument\".format(alias))\n"
     ]
    },
    {
     "name": "stdout",
     "output_type": "stream",
     "text": [
      "[CV]  bagging_fraction=1, boosting=dart, feature_fraction=1, is_unbalance=True, max_depth=-1, metric=auc, num_iterations=500, num_leaves=256, objective=binary, score=0.750, total= 2.7min\n",
      "[CV] bagging_fraction=1, boosting=dart, feature_fraction=1, is_unbalance=True, max_depth=-1, metric=auc, num_iterations=500, num_leaves=256, objective=binary \n"
     ]
    },
    {
     "name": "stderr",
     "output_type": "stream",
     "text": [
      "C:\\Users\\test\\anaconda3\\lib\\site-packages\\lightgbm\\engine.py:148: UserWarning: Found `num_iterations` in params. Will use it instead of argument\n",
      "  warnings.warn(\"Found `{}` in params. Will use it instead of argument\".format(alias))\n"
     ]
    },
    {
     "name": "stdout",
     "output_type": "stream",
     "text": [
      "[CV]  bagging_fraction=1, boosting=dart, feature_fraction=1, is_unbalance=True, max_depth=-1, metric=auc, num_iterations=500, num_leaves=256, objective=binary, score=0.742, total= 2.8min\n",
      "[CV] bagging_fraction=1, boosting=gbdt, feature_fraction=1, is_unbalance=True, max_depth=3, metric=auc, num_iterations=100, num_leaves=8, objective=binary \n"
     ]
    },
    {
     "name": "stderr",
     "output_type": "stream",
     "text": [
      "C:\\Users\\test\\anaconda3\\lib\\site-packages\\lightgbm\\engine.py:148: UserWarning: Found `num_iterations` in params. Will use it instead of argument\n",
      "  warnings.warn(\"Found `{}` in params. Will use it instead of argument\".format(alias))\n"
     ]
    },
    {
     "name": "stdout",
     "output_type": "stream",
     "text": [
      "[CV]  bagging_fraction=1, boosting=gbdt, feature_fraction=1, is_unbalance=True, max_depth=3, metric=auc, num_iterations=100, num_leaves=8, objective=binary, score=0.759, total=   4.9s\n",
      "[CV] bagging_fraction=1, boosting=gbdt, feature_fraction=1, is_unbalance=True, max_depth=3, metric=auc, num_iterations=100, num_leaves=8, objective=binary \n"
     ]
    },
    {
     "name": "stderr",
     "output_type": "stream",
     "text": [
      "C:\\Users\\test\\anaconda3\\lib\\site-packages\\lightgbm\\engine.py:148: UserWarning: Found `num_iterations` in params. Will use it instead of argument\n",
      "  warnings.warn(\"Found `{}` in params. Will use it instead of argument\".format(alias))\n"
     ]
    },
    {
     "name": "stdout",
     "output_type": "stream",
     "text": [
      "[CV]  bagging_fraction=1, boosting=gbdt, feature_fraction=1, is_unbalance=True, max_depth=3, metric=auc, num_iterations=100, num_leaves=8, objective=binary, score=0.756, total=   5.0s\n",
      "[CV] bagging_fraction=1, boosting=gbdt, feature_fraction=1, is_unbalance=True, max_depth=3, metric=auc, num_iterations=100, num_leaves=8, objective=binary \n"
     ]
    },
    {
     "name": "stderr",
     "output_type": "stream",
     "text": [
      "C:\\Users\\test\\anaconda3\\lib\\site-packages\\lightgbm\\engine.py:148: UserWarning: Found `num_iterations` in params. Will use it instead of argument\n",
      "  warnings.warn(\"Found `{}` in params. Will use it instead of argument\".format(alias))\n"
     ]
    },
    {
     "name": "stdout",
     "output_type": "stream",
     "text": [
      "[CV]  bagging_fraction=1, boosting=gbdt, feature_fraction=1, is_unbalance=True, max_depth=3, metric=auc, num_iterations=100, num_leaves=8, objective=binary, score=0.760, total=   5.1s\n",
      "[CV] bagging_fraction=1, boosting=gbdt, feature_fraction=1, is_unbalance=True, max_depth=3, metric=auc, num_iterations=100, num_leaves=16, objective=binary \n"
     ]
    },
    {
     "name": "stderr",
     "output_type": "stream",
     "text": [
      "C:\\Users\\test\\anaconda3\\lib\\site-packages\\lightgbm\\engine.py:148: UserWarning: Found `num_iterations` in params. Will use it instead of argument\n",
      "  warnings.warn(\"Found `{}` in params. Will use it instead of argument\".format(alias))\n"
     ]
    },
    {
     "name": "stdout",
     "output_type": "stream",
     "text": [
      "[CV]  bagging_fraction=1, boosting=gbdt, feature_fraction=1, is_unbalance=True, max_depth=3, metric=auc, num_iterations=100, num_leaves=16, objective=binary, score=0.759, total=   5.2s\n",
      "[CV] bagging_fraction=1, boosting=gbdt, feature_fraction=1, is_unbalance=True, max_depth=3, metric=auc, num_iterations=100, num_leaves=16, objective=binary \n"
     ]
    },
    {
     "name": "stderr",
     "output_type": "stream",
     "text": [
      "C:\\Users\\test\\anaconda3\\lib\\site-packages\\lightgbm\\engine.py:148: UserWarning: Found `num_iterations` in params. Will use it instead of argument\n",
      "  warnings.warn(\"Found `{}` in params. Will use it instead of argument\".format(alias))\n"
     ]
    },
    {
     "name": "stdout",
     "output_type": "stream",
     "text": [
      "[CV]  bagging_fraction=1, boosting=gbdt, feature_fraction=1, is_unbalance=True, max_depth=3, metric=auc, num_iterations=100, num_leaves=16, objective=binary, score=0.756, total=   4.9s\n",
      "[CV] bagging_fraction=1, boosting=gbdt, feature_fraction=1, is_unbalance=True, max_depth=3, metric=auc, num_iterations=100, num_leaves=16, objective=binary \n"
     ]
    },
    {
     "name": "stderr",
     "output_type": "stream",
     "text": [
      "C:\\Users\\test\\anaconda3\\lib\\site-packages\\lightgbm\\engine.py:148: UserWarning: Found `num_iterations` in params. Will use it instead of argument\n",
      "  warnings.warn(\"Found `{}` in params. Will use it instead of argument\".format(alias))\n"
     ]
    },
    {
     "name": "stdout",
     "output_type": "stream",
     "text": [
      "[CV]  bagging_fraction=1, boosting=gbdt, feature_fraction=1, is_unbalance=True, max_depth=3, metric=auc, num_iterations=100, num_leaves=16, objective=binary, score=0.760, total=   4.8s\n",
      "[CV] bagging_fraction=1, boosting=gbdt, feature_fraction=1, is_unbalance=True, max_depth=3, metric=auc, num_iterations=100, num_leaves=32, objective=binary \n"
     ]
    },
    {
     "name": "stderr",
     "output_type": "stream",
     "text": [
      "C:\\Users\\test\\anaconda3\\lib\\site-packages\\lightgbm\\engine.py:148: UserWarning: Found `num_iterations` in params. Will use it instead of argument\n",
      "  warnings.warn(\"Found `{}` in params. Will use it instead of argument\".format(alias))\n"
     ]
    },
    {
     "name": "stdout",
     "output_type": "stream",
     "text": [
      "[CV]  bagging_fraction=1, boosting=gbdt, feature_fraction=1, is_unbalance=True, max_depth=3, metric=auc, num_iterations=100, num_leaves=32, objective=binary, score=0.759, total=   4.7s\n",
      "[CV] bagging_fraction=1, boosting=gbdt, feature_fraction=1, is_unbalance=True, max_depth=3, metric=auc, num_iterations=100, num_leaves=32, objective=binary \n"
     ]
    },
    {
     "name": "stderr",
     "output_type": "stream",
     "text": [
      "C:\\Users\\test\\anaconda3\\lib\\site-packages\\lightgbm\\engine.py:148: UserWarning: Found `num_iterations` in params. Will use it instead of argument\n",
      "  warnings.warn(\"Found `{}` in params. Will use it instead of argument\".format(alias))\n"
     ]
    },
    {
     "name": "stdout",
     "output_type": "stream",
     "text": [
      "[CV]  bagging_fraction=1, boosting=gbdt, feature_fraction=1, is_unbalance=True, max_depth=3, metric=auc, num_iterations=100, num_leaves=32, objective=binary, score=0.756, total=   5.3s\n",
      "[CV] bagging_fraction=1, boosting=gbdt, feature_fraction=1, is_unbalance=True, max_depth=3, metric=auc, num_iterations=100, num_leaves=32, objective=binary \n"
     ]
    },
    {
     "name": "stderr",
     "output_type": "stream",
     "text": [
      "C:\\Users\\test\\anaconda3\\lib\\site-packages\\lightgbm\\engine.py:148: UserWarning: Found `num_iterations` in params. Will use it instead of argument\n",
      "  warnings.warn(\"Found `{}` in params. Will use it instead of argument\".format(alias))\n"
     ]
    },
    {
     "name": "stdout",
     "output_type": "stream",
     "text": [
      "[CV]  bagging_fraction=1, boosting=gbdt, feature_fraction=1, is_unbalance=True, max_depth=3, metric=auc, num_iterations=100, num_leaves=32, objective=binary, score=0.760, total=   4.7s\n",
      "[CV] bagging_fraction=1, boosting=gbdt, feature_fraction=1, is_unbalance=True, max_depth=3, metric=auc, num_iterations=100, num_leaves=64, objective=binary \n"
     ]
    },
    {
     "name": "stderr",
     "output_type": "stream",
     "text": [
      "C:\\Users\\test\\anaconda3\\lib\\site-packages\\lightgbm\\engine.py:148: UserWarning: Found `num_iterations` in params. Will use it instead of argument\n",
      "  warnings.warn(\"Found `{}` in params. Will use it instead of argument\".format(alias))\n"
     ]
    },
    {
     "name": "stdout",
     "output_type": "stream",
     "text": [
      "[CV]  bagging_fraction=1, boosting=gbdt, feature_fraction=1, is_unbalance=True, max_depth=3, metric=auc, num_iterations=100, num_leaves=64, objective=binary, score=0.759, total=   5.2s\n",
      "[CV] bagging_fraction=1, boosting=gbdt, feature_fraction=1, is_unbalance=True, max_depth=3, metric=auc, num_iterations=100, num_leaves=64, objective=binary \n"
     ]
    },
    {
     "name": "stderr",
     "output_type": "stream",
     "text": [
      "C:\\Users\\test\\anaconda3\\lib\\site-packages\\lightgbm\\engine.py:148: UserWarning: Found `num_iterations` in params. Will use it instead of argument\n",
      "  warnings.warn(\"Found `{}` in params. Will use it instead of argument\".format(alias))\n"
     ]
    },
    {
     "name": "stdout",
     "output_type": "stream",
     "text": [
      "[CV]  bagging_fraction=1, boosting=gbdt, feature_fraction=1, is_unbalance=True, max_depth=3, metric=auc, num_iterations=100, num_leaves=64, objective=binary, score=0.756, total=   4.4s\n",
      "[CV] bagging_fraction=1, boosting=gbdt, feature_fraction=1, is_unbalance=True, max_depth=3, metric=auc, num_iterations=100, num_leaves=64, objective=binary \n"
     ]
    },
    {
     "name": "stderr",
     "output_type": "stream",
     "text": [
      "C:\\Users\\test\\anaconda3\\lib\\site-packages\\lightgbm\\engine.py:148: UserWarning: Found `num_iterations` in params. Will use it instead of argument\n",
      "  warnings.warn(\"Found `{}` in params. Will use it instead of argument\".format(alias))\n"
     ]
    },
    {
     "name": "stdout",
     "output_type": "stream",
     "text": [
      "[CV]  bagging_fraction=1, boosting=gbdt, feature_fraction=1, is_unbalance=True, max_depth=3, metric=auc, num_iterations=100, num_leaves=64, objective=binary, score=0.760, total=   4.5s\n",
      "[CV] bagging_fraction=1, boosting=gbdt, feature_fraction=1, is_unbalance=True, max_depth=3, metric=auc, num_iterations=100, num_leaves=256, objective=binary \n"
     ]
    },
    {
     "name": "stderr",
     "output_type": "stream",
     "text": [
      "C:\\Users\\test\\anaconda3\\lib\\site-packages\\lightgbm\\engine.py:148: UserWarning: Found `num_iterations` in params. Will use it instead of argument\n",
      "  warnings.warn(\"Found `{}` in params. Will use it instead of argument\".format(alias))\n"
     ]
    },
    {
     "name": "stdout",
     "output_type": "stream",
     "text": [
      "[CV]  bagging_fraction=1, boosting=gbdt, feature_fraction=1, is_unbalance=True, max_depth=3, metric=auc, num_iterations=100, num_leaves=256, objective=binary, score=0.759, total=   4.6s\n",
      "[CV] bagging_fraction=1, boosting=gbdt, feature_fraction=1, is_unbalance=True, max_depth=3, metric=auc, num_iterations=100, num_leaves=256, objective=binary \n"
     ]
    },
    {
     "name": "stderr",
     "output_type": "stream",
     "text": [
      "C:\\Users\\test\\anaconda3\\lib\\site-packages\\lightgbm\\engine.py:148: UserWarning: Found `num_iterations` in params. Will use it instead of argument\n",
      "  warnings.warn(\"Found `{}` in params. Will use it instead of argument\".format(alias))\n"
     ]
    },
    {
     "name": "stdout",
     "output_type": "stream",
     "text": [
      "[CV]  bagging_fraction=1, boosting=gbdt, feature_fraction=1, is_unbalance=True, max_depth=3, metric=auc, num_iterations=100, num_leaves=256, objective=binary, score=0.756, total=   4.6s\n",
      "[CV] bagging_fraction=1, boosting=gbdt, feature_fraction=1, is_unbalance=True, max_depth=3, metric=auc, num_iterations=100, num_leaves=256, objective=binary \n"
     ]
    },
    {
     "name": "stderr",
     "output_type": "stream",
     "text": [
      "C:\\Users\\test\\anaconda3\\lib\\site-packages\\lightgbm\\engine.py:148: UserWarning: Found `num_iterations` in params. Will use it instead of argument\n",
      "  warnings.warn(\"Found `{}` in params. Will use it instead of argument\".format(alias))\n"
     ]
    },
    {
     "name": "stdout",
     "output_type": "stream",
     "text": [
      "[CV]  bagging_fraction=1, boosting=gbdt, feature_fraction=1, is_unbalance=True, max_depth=3, metric=auc, num_iterations=100, num_leaves=256, objective=binary, score=0.760, total=   4.5s\n",
      "[CV] bagging_fraction=1, boosting=gbdt, feature_fraction=1, is_unbalance=True, max_depth=3, metric=auc, num_iterations=300, num_leaves=8, objective=binary \n"
     ]
    },
    {
     "name": "stderr",
     "output_type": "stream",
     "text": [
      "C:\\Users\\test\\anaconda3\\lib\\site-packages\\lightgbm\\engine.py:148: UserWarning: Found `num_iterations` in params. Will use it instead of argument\n",
      "  warnings.warn(\"Found `{}` in params. Will use it instead of argument\".format(alias))\n"
     ]
    },
    {
     "name": "stdout",
     "output_type": "stream",
     "text": [
      "[CV]  bagging_fraction=1, boosting=gbdt, feature_fraction=1, is_unbalance=True, max_depth=3, metric=auc, num_iterations=300, num_leaves=8, objective=binary, score=0.760, total=   8.6s\n",
      "[CV] bagging_fraction=1, boosting=gbdt, feature_fraction=1, is_unbalance=True, max_depth=3, metric=auc, num_iterations=300, num_leaves=8, objective=binary \n"
     ]
    },
    {
     "name": "stderr",
     "output_type": "stream",
     "text": [
      "C:\\Users\\test\\anaconda3\\lib\\site-packages\\lightgbm\\engine.py:148: UserWarning: Found `num_iterations` in params. Will use it instead of argument\n",
      "  warnings.warn(\"Found `{}` in params. Will use it instead of argument\".format(alias))\n"
     ]
    },
    {
     "name": "stdout",
     "output_type": "stream",
     "text": [
      "[CV]  bagging_fraction=1, boosting=gbdt, feature_fraction=1, is_unbalance=True, max_depth=3, metric=auc, num_iterations=300, num_leaves=8, objective=binary, score=0.763, total=   8.0s\n",
      "[CV] bagging_fraction=1, boosting=gbdt, feature_fraction=1, is_unbalance=True, max_depth=3, metric=auc, num_iterations=300, num_leaves=8, objective=binary \n"
     ]
    },
    {
     "name": "stderr",
     "output_type": "stream",
     "text": [
      "C:\\Users\\test\\anaconda3\\lib\\site-packages\\lightgbm\\engine.py:148: UserWarning: Found `num_iterations` in params. Will use it instead of argument\n",
      "  warnings.warn(\"Found `{}` in params. Will use it instead of argument\".format(alias))\n"
     ]
    },
    {
     "name": "stdout",
     "output_type": "stream",
     "text": [
      "[CV]  bagging_fraction=1, boosting=gbdt, feature_fraction=1, is_unbalance=True, max_depth=3, metric=auc, num_iterations=300, num_leaves=8, objective=binary, score=0.759, total=   8.4s\n",
      "[CV] bagging_fraction=1, boosting=gbdt, feature_fraction=1, is_unbalance=True, max_depth=3, metric=auc, num_iterations=300, num_leaves=16, objective=binary \n"
     ]
    },
    {
     "name": "stderr",
     "output_type": "stream",
     "text": [
      "C:\\Users\\test\\anaconda3\\lib\\site-packages\\lightgbm\\engine.py:148: UserWarning: Found `num_iterations` in params. Will use it instead of argument\n",
      "  warnings.warn(\"Found `{}` in params. Will use it instead of argument\".format(alias))\n"
     ]
    },
    {
     "name": "stdout",
     "output_type": "stream",
     "text": [
      "[CV]  bagging_fraction=1, boosting=gbdt, feature_fraction=1, is_unbalance=True, max_depth=3, metric=auc, num_iterations=300, num_leaves=16, objective=binary, score=0.760, total=   8.1s\n",
      "[CV] bagging_fraction=1, boosting=gbdt, feature_fraction=1, is_unbalance=True, max_depth=3, metric=auc, num_iterations=300, num_leaves=16, objective=binary \n"
     ]
    },
    {
     "name": "stderr",
     "output_type": "stream",
     "text": [
      "C:\\Users\\test\\anaconda3\\lib\\site-packages\\lightgbm\\engine.py:148: UserWarning: Found `num_iterations` in params. Will use it instead of argument\n",
      "  warnings.warn(\"Found `{}` in params. Will use it instead of argument\".format(alias))\n"
     ]
    },
    {
     "name": "stdout",
     "output_type": "stream",
     "text": [
      "[CV]  bagging_fraction=1, boosting=gbdt, feature_fraction=1, is_unbalance=True, max_depth=3, metric=auc, num_iterations=300, num_leaves=16, objective=binary, score=0.763, total=   8.7s\n",
      "[CV] bagging_fraction=1, boosting=gbdt, feature_fraction=1, is_unbalance=True, max_depth=3, metric=auc, num_iterations=300, num_leaves=16, objective=binary \n"
     ]
    },
    {
     "name": "stderr",
     "output_type": "stream",
     "text": [
      "C:\\Users\\test\\anaconda3\\lib\\site-packages\\lightgbm\\engine.py:148: UserWarning: Found `num_iterations` in params. Will use it instead of argument\n",
      "  warnings.warn(\"Found `{}` in params. Will use it instead of argument\".format(alias))\n"
     ]
    },
    {
     "name": "stdout",
     "output_type": "stream",
     "text": [
      "[CV]  bagging_fraction=1, boosting=gbdt, feature_fraction=1, is_unbalance=True, max_depth=3, metric=auc, num_iterations=300, num_leaves=16, objective=binary, score=0.759, total=   8.1s\n",
      "[CV] bagging_fraction=1, boosting=gbdt, feature_fraction=1, is_unbalance=True, max_depth=3, metric=auc, num_iterations=300, num_leaves=32, objective=binary \n"
     ]
    },
    {
     "name": "stderr",
     "output_type": "stream",
     "text": [
      "C:\\Users\\test\\anaconda3\\lib\\site-packages\\lightgbm\\engine.py:148: UserWarning: Found `num_iterations` in params. Will use it instead of argument\n",
      "  warnings.warn(\"Found `{}` in params. Will use it instead of argument\".format(alias))\n"
     ]
    },
    {
     "name": "stdout",
     "output_type": "stream",
     "text": [
      "[CV]  bagging_fraction=1, boosting=gbdt, feature_fraction=1, is_unbalance=True, max_depth=3, metric=auc, num_iterations=300, num_leaves=32, objective=binary, score=0.760, total=   8.4s\n",
      "[CV] bagging_fraction=1, boosting=gbdt, feature_fraction=1, is_unbalance=True, max_depth=3, metric=auc, num_iterations=300, num_leaves=32, objective=binary \n"
     ]
    },
    {
     "name": "stderr",
     "output_type": "stream",
     "text": [
      "C:\\Users\\test\\anaconda3\\lib\\site-packages\\lightgbm\\engine.py:148: UserWarning: Found `num_iterations` in params. Will use it instead of argument\n",
      "  warnings.warn(\"Found `{}` in params. Will use it instead of argument\".format(alias))\n"
     ]
    },
    {
     "name": "stdout",
     "output_type": "stream",
     "text": [
      "[CV]  bagging_fraction=1, boosting=gbdt, feature_fraction=1, is_unbalance=True, max_depth=3, metric=auc, num_iterations=300, num_leaves=32, objective=binary, score=0.763, total=   8.1s\n",
      "[CV] bagging_fraction=1, boosting=gbdt, feature_fraction=1, is_unbalance=True, max_depth=3, metric=auc, num_iterations=300, num_leaves=32, objective=binary \n"
     ]
    },
    {
     "name": "stderr",
     "output_type": "stream",
     "text": [
      "C:\\Users\\test\\anaconda3\\lib\\site-packages\\lightgbm\\engine.py:148: UserWarning: Found `num_iterations` in params. Will use it instead of argument\n",
      "  warnings.warn(\"Found `{}` in params. Will use it instead of argument\".format(alias))\n"
     ]
    },
    {
     "name": "stdout",
     "output_type": "stream",
     "text": [
      "[CV]  bagging_fraction=1, boosting=gbdt, feature_fraction=1, is_unbalance=True, max_depth=3, metric=auc, num_iterations=300, num_leaves=32, objective=binary, score=0.759, total=   8.5s\n",
      "[CV] bagging_fraction=1, boosting=gbdt, feature_fraction=1, is_unbalance=True, max_depth=3, metric=auc, num_iterations=300, num_leaves=64, objective=binary \n"
     ]
    },
    {
     "name": "stderr",
     "output_type": "stream",
     "text": [
      "C:\\Users\\test\\anaconda3\\lib\\site-packages\\lightgbm\\engine.py:148: UserWarning: Found `num_iterations` in params. Will use it instead of argument\n",
      "  warnings.warn(\"Found `{}` in params. Will use it instead of argument\".format(alias))\n"
     ]
    },
    {
     "name": "stdout",
     "output_type": "stream",
     "text": [
      "[CV]  bagging_fraction=1, boosting=gbdt, feature_fraction=1, is_unbalance=True, max_depth=3, metric=auc, num_iterations=300, num_leaves=64, objective=binary, score=0.760, total=   8.2s\n",
      "[CV] bagging_fraction=1, boosting=gbdt, feature_fraction=1, is_unbalance=True, max_depth=3, metric=auc, num_iterations=300, num_leaves=64, objective=binary \n"
     ]
    },
    {
     "name": "stderr",
     "output_type": "stream",
     "text": [
      "C:\\Users\\test\\anaconda3\\lib\\site-packages\\lightgbm\\engine.py:148: UserWarning: Found `num_iterations` in params. Will use it instead of argument\n",
      "  warnings.warn(\"Found `{}` in params. Will use it instead of argument\".format(alias))\n"
     ]
    },
    {
     "name": "stdout",
     "output_type": "stream",
     "text": [
      "[CV]  bagging_fraction=1, boosting=gbdt, feature_fraction=1, is_unbalance=True, max_depth=3, metric=auc, num_iterations=300, num_leaves=64, objective=binary, score=0.763, total=   9.1s\n",
      "[CV] bagging_fraction=1, boosting=gbdt, feature_fraction=1, is_unbalance=True, max_depth=3, metric=auc, num_iterations=300, num_leaves=64, objective=binary \n"
     ]
    },
    {
     "name": "stderr",
     "output_type": "stream",
     "text": [
      "C:\\Users\\test\\anaconda3\\lib\\site-packages\\lightgbm\\engine.py:148: UserWarning: Found `num_iterations` in params. Will use it instead of argument\n",
      "  warnings.warn(\"Found `{}` in params. Will use it instead of argument\".format(alias))\n"
     ]
    },
    {
     "name": "stdout",
     "output_type": "stream",
     "text": [
      "[CV]  bagging_fraction=1, boosting=gbdt, feature_fraction=1, is_unbalance=True, max_depth=3, metric=auc, num_iterations=300, num_leaves=64, objective=binary, score=0.759, total=   9.1s\n",
      "[CV] bagging_fraction=1, boosting=gbdt, feature_fraction=1, is_unbalance=True, max_depth=3, metric=auc, num_iterations=300, num_leaves=256, objective=binary \n"
     ]
    },
    {
     "name": "stderr",
     "output_type": "stream",
     "text": [
      "C:\\Users\\test\\anaconda3\\lib\\site-packages\\lightgbm\\engine.py:148: UserWarning: Found `num_iterations` in params. Will use it instead of argument\n",
      "  warnings.warn(\"Found `{}` in params. Will use it instead of argument\".format(alias))\n"
     ]
    },
    {
     "name": "stdout",
     "output_type": "stream",
     "text": [
      "[CV]  bagging_fraction=1, boosting=gbdt, feature_fraction=1, is_unbalance=True, max_depth=3, metric=auc, num_iterations=300, num_leaves=256, objective=binary, score=0.760, total=   8.9s\n",
      "[CV] bagging_fraction=1, boosting=gbdt, feature_fraction=1, is_unbalance=True, max_depth=3, metric=auc, num_iterations=300, num_leaves=256, objective=binary \n"
     ]
    },
    {
     "name": "stderr",
     "output_type": "stream",
     "text": [
      "C:\\Users\\test\\anaconda3\\lib\\site-packages\\lightgbm\\engine.py:148: UserWarning: Found `num_iterations` in params. Will use it instead of argument\n",
      "  warnings.warn(\"Found `{}` in params. Will use it instead of argument\".format(alias))\n"
     ]
    },
    {
     "name": "stdout",
     "output_type": "stream",
     "text": [
      "[CV]  bagging_fraction=1, boosting=gbdt, feature_fraction=1, is_unbalance=True, max_depth=3, metric=auc, num_iterations=300, num_leaves=256, objective=binary, score=0.763, total=   8.5s\n",
      "[CV] bagging_fraction=1, boosting=gbdt, feature_fraction=1, is_unbalance=True, max_depth=3, metric=auc, num_iterations=300, num_leaves=256, objective=binary \n"
     ]
    },
    {
     "name": "stderr",
     "output_type": "stream",
     "text": [
      "C:\\Users\\test\\anaconda3\\lib\\site-packages\\lightgbm\\engine.py:148: UserWarning: Found `num_iterations` in params. Will use it instead of argument\n",
      "  warnings.warn(\"Found `{}` in params. Will use it instead of argument\".format(alias))\n"
     ]
    },
    {
     "name": "stdout",
     "output_type": "stream",
     "text": [
      "[CV]  bagging_fraction=1, boosting=gbdt, feature_fraction=1, is_unbalance=True, max_depth=3, metric=auc, num_iterations=300, num_leaves=256, objective=binary, score=0.759, total=   8.6s\n",
      "[CV] bagging_fraction=1, boosting=gbdt, feature_fraction=1, is_unbalance=True, max_depth=3, metric=auc, num_iterations=500, num_leaves=8, objective=binary \n"
     ]
    },
    {
     "name": "stderr",
     "output_type": "stream",
     "text": [
      "C:\\Users\\test\\anaconda3\\lib\\site-packages\\lightgbm\\engine.py:148: UserWarning: Found `num_iterations` in params. Will use it instead of argument\n",
      "  warnings.warn(\"Found `{}` in params. Will use it instead of argument\".format(alias))\n"
     ]
    },
    {
     "name": "stdout",
     "output_type": "stream",
     "text": [
      "[CV]  bagging_fraction=1, boosting=gbdt, feature_fraction=1, is_unbalance=True, max_depth=3, metric=auc, num_iterations=500, num_leaves=8, objective=binary, score=0.760, total=  12.1s\n",
      "[CV] bagging_fraction=1, boosting=gbdt, feature_fraction=1, is_unbalance=True, max_depth=3, metric=auc, num_iterations=500, num_leaves=8, objective=binary \n"
     ]
    },
    {
     "name": "stderr",
     "output_type": "stream",
     "text": [
      "C:\\Users\\test\\anaconda3\\lib\\site-packages\\lightgbm\\engine.py:148: UserWarning: Found `num_iterations` in params. Will use it instead of argument\n",
      "  warnings.warn(\"Found `{}` in params. Will use it instead of argument\".format(alias))\n"
     ]
    },
    {
     "name": "stdout",
     "output_type": "stream",
     "text": [
      "[CV]  bagging_fraction=1, boosting=gbdt, feature_fraction=1, is_unbalance=True, max_depth=3, metric=auc, num_iterations=500, num_leaves=8, objective=binary, score=0.765, total=  12.3s\n",
      "[CV] bagging_fraction=1, boosting=gbdt, feature_fraction=1, is_unbalance=True, max_depth=3, metric=auc, num_iterations=500, num_leaves=8, objective=binary \n"
     ]
    },
    {
     "name": "stderr",
     "output_type": "stream",
     "text": [
      "C:\\Users\\test\\anaconda3\\lib\\site-packages\\lightgbm\\engine.py:148: UserWarning: Found `num_iterations` in params. Will use it instead of argument\n",
      "  warnings.warn(\"Found `{}` in params. Will use it instead of argument\".format(alias))\n"
     ]
    },
    {
     "name": "stdout",
     "output_type": "stream",
     "text": [
      "[CV]  bagging_fraction=1, boosting=gbdt, feature_fraction=1, is_unbalance=True, max_depth=3, metric=auc, num_iterations=500, num_leaves=8, objective=binary, score=0.760, total=  12.5s\n",
      "[CV] bagging_fraction=1, boosting=gbdt, feature_fraction=1, is_unbalance=True, max_depth=3, metric=auc, num_iterations=500, num_leaves=16, objective=binary \n"
     ]
    },
    {
     "name": "stderr",
     "output_type": "stream",
     "text": [
      "C:\\Users\\test\\anaconda3\\lib\\site-packages\\lightgbm\\engine.py:148: UserWarning: Found `num_iterations` in params. Will use it instead of argument\n",
      "  warnings.warn(\"Found `{}` in params. Will use it instead of argument\".format(alias))\n"
     ]
    },
    {
     "name": "stdout",
     "output_type": "stream",
     "text": [
      "[CV]  bagging_fraction=1, boosting=gbdt, feature_fraction=1, is_unbalance=True, max_depth=3, metric=auc, num_iterations=500, num_leaves=16, objective=binary, score=0.760, total=  13.2s\n",
      "[CV] bagging_fraction=1, boosting=gbdt, feature_fraction=1, is_unbalance=True, max_depth=3, metric=auc, num_iterations=500, num_leaves=16, objective=binary \n"
     ]
    },
    {
     "name": "stderr",
     "output_type": "stream",
     "text": [
      "C:\\Users\\test\\anaconda3\\lib\\site-packages\\lightgbm\\engine.py:148: UserWarning: Found `num_iterations` in params. Will use it instead of argument\n",
      "  warnings.warn(\"Found `{}` in params. Will use it instead of argument\".format(alias))\n"
     ]
    },
    {
     "name": "stdout",
     "output_type": "stream",
     "text": [
      "[CV]  bagging_fraction=1, boosting=gbdt, feature_fraction=1, is_unbalance=True, max_depth=3, metric=auc, num_iterations=500, num_leaves=16, objective=binary, score=0.765, total=  12.7s\n",
      "[CV] bagging_fraction=1, boosting=gbdt, feature_fraction=1, is_unbalance=True, max_depth=3, metric=auc, num_iterations=500, num_leaves=16, objective=binary \n"
     ]
    },
    {
     "name": "stderr",
     "output_type": "stream",
     "text": [
      "C:\\Users\\test\\anaconda3\\lib\\site-packages\\lightgbm\\engine.py:148: UserWarning: Found `num_iterations` in params. Will use it instead of argument\n",
      "  warnings.warn(\"Found `{}` in params. Will use it instead of argument\".format(alias))\n"
     ]
    },
    {
     "name": "stdout",
     "output_type": "stream",
     "text": [
      "[CV]  bagging_fraction=1, boosting=gbdt, feature_fraction=1, is_unbalance=True, max_depth=3, metric=auc, num_iterations=500, num_leaves=16, objective=binary, score=0.760, total=  11.9s\n",
      "[CV] bagging_fraction=1, boosting=gbdt, feature_fraction=1, is_unbalance=True, max_depth=3, metric=auc, num_iterations=500, num_leaves=32, objective=binary \n"
     ]
    },
    {
     "name": "stderr",
     "output_type": "stream",
     "text": [
      "C:\\Users\\test\\anaconda3\\lib\\site-packages\\lightgbm\\engine.py:148: UserWarning: Found `num_iterations` in params. Will use it instead of argument\n",
      "  warnings.warn(\"Found `{}` in params. Will use it instead of argument\".format(alias))\n"
     ]
    },
    {
     "name": "stdout",
     "output_type": "stream",
     "text": [
      "[CV]  bagging_fraction=1, boosting=gbdt, feature_fraction=1, is_unbalance=True, max_depth=3, metric=auc, num_iterations=500, num_leaves=32, objective=binary, score=0.760, total=  12.1s\n",
      "[CV] bagging_fraction=1, boosting=gbdt, feature_fraction=1, is_unbalance=True, max_depth=3, metric=auc, num_iterations=500, num_leaves=32, objective=binary \n"
     ]
    },
    {
     "name": "stderr",
     "output_type": "stream",
     "text": [
      "C:\\Users\\test\\anaconda3\\lib\\site-packages\\lightgbm\\engine.py:148: UserWarning: Found `num_iterations` in params. Will use it instead of argument\n",
      "  warnings.warn(\"Found `{}` in params. Will use it instead of argument\".format(alias))\n"
     ]
    },
    {
     "name": "stdout",
     "output_type": "stream",
     "text": [
      "[CV]  bagging_fraction=1, boosting=gbdt, feature_fraction=1, is_unbalance=True, max_depth=3, metric=auc, num_iterations=500, num_leaves=32, objective=binary, score=0.765, total=  12.6s\n",
      "[CV] bagging_fraction=1, boosting=gbdt, feature_fraction=1, is_unbalance=True, max_depth=3, metric=auc, num_iterations=500, num_leaves=32, objective=binary \n"
     ]
    },
    {
     "name": "stderr",
     "output_type": "stream",
     "text": [
      "C:\\Users\\test\\anaconda3\\lib\\site-packages\\lightgbm\\engine.py:148: UserWarning: Found `num_iterations` in params. Will use it instead of argument\n",
      "  warnings.warn(\"Found `{}` in params. Will use it instead of argument\".format(alias))\n"
     ]
    },
    {
     "name": "stdout",
     "output_type": "stream",
     "text": [
      "[CV]  bagging_fraction=1, boosting=gbdt, feature_fraction=1, is_unbalance=True, max_depth=3, metric=auc, num_iterations=500, num_leaves=32, objective=binary, score=0.760, total=  14.8s\n",
      "[CV] bagging_fraction=1, boosting=gbdt, feature_fraction=1, is_unbalance=True, max_depth=3, metric=auc, num_iterations=500, num_leaves=64, objective=binary \n"
     ]
    },
    {
     "name": "stderr",
     "output_type": "stream",
     "text": [
      "C:\\Users\\test\\anaconda3\\lib\\site-packages\\lightgbm\\engine.py:148: UserWarning: Found `num_iterations` in params. Will use it instead of argument\n",
      "  warnings.warn(\"Found `{}` in params. Will use it instead of argument\".format(alias))\n"
     ]
    },
    {
     "name": "stdout",
     "output_type": "stream",
     "text": [
      "[CV]  bagging_fraction=1, boosting=gbdt, feature_fraction=1, is_unbalance=True, max_depth=3, metric=auc, num_iterations=500, num_leaves=64, objective=binary, score=0.760, total=  12.6s\n",
      "[CV] bagging_fraction=1, boosting=gbdt, feature_fraction=1, is_unbalance=True, max_depth=3, metric=auc, num_iterations=500, num_leaves=64, objective=binary \n"
     ]
    },
    {
     "name": "stderr",
     "output_type": "stream",
     "text": [
      "C:\\Users\\test\\anaconda3\\lib\\site-packages\\lightgbm\\engine.py:148: UserWarning: Found `num_iterations` in params. Will use it instead of argument\n",
      "  warnings.warn(\"Found `{}` in params. Will use it instead of argument\".format(alias))\n"
     ]
    },
    {
     "name": "stdout",
     "output_type": "stream",
     "text": [
      "[CV]  bagging_fraction=1, boosting=gbdt, feature_fraction=1, is_unbalance=True, max_depth=3, metric=auc, num_iterations=500, num_leaves=64, objective=binary, score=0.765, total=  13.4s\n",
      "[CV] bagging_fraction=1, boosting=gbdt, feature_fraction=1, is_unbalance=True, max_depth=3, metric=auc, num_iterations=500, num_leaves=64, objective=binary \n"
     ]
    },
    {
     "name": "stderr",
     "output_type": "stream",
     "text": [
      "C:\\Users\\test\\anaconda3\\lib\\site-packages\\lightgbm\\engine.py:148: UserWarning: Found `num_iterations` in params. Will use it instead of argument\n",
      "  warnings.warn(\"Found `{}` in params. Will use it instead of argument\".format(alias))\n"
     ]
    },
    {
     "name": "stdout",
     "output_type": "stream",
     "text": [
      "[CV]  bagging_fraction=1, boosting=gbdt, feature_fraction=1, is_unbalance=True, max_depth=3, metric=auc, num_iterations=500, num_leaves=64, objective=binary, score=0.760, total=  12.4s\n",
      "[CV] bagging_fraction=1, boosting=gbdt, feature_fraction=1, is_unbalance=True, max_depth=3, metric=auc, num_iterations=500, num_leaves=256, objective=binary \n"
     ]
    },
    {
     "name": "stderr",
     "output_type": "stream",
     "text": [
      "C:\\Users\\test\\anaconda3\\lib\\site-packages\\lightgbm\\engine.py:148: UserWarning: Found `num_iterations` in params. Will use it instead of argument\n",
      "  warnings.warn(\"Found `{}` in params. Will use it instead of argument\".format(alias))\n"
     ]
    },
    {
     "name": "stdout",
     "output_type": "stream",
     "text": [
      "[CV]  bagging_fraction=1, boosting=gbdt, feature_fraction=1, is_unbalance=True, max_depth=3, metric=auc, num_iterations=500, num_leaves=256, objective=binary, score=0.760, total=  12.1s\n",
      "[CV] bagging_fraction=1, boosting=gbdt, feature_fraction=1, is_unbalance=True, max_depth=3, metric=auc, num_iterations=500, num_leaves=256, objective=binary \n"
     ]
    },
    {
     "name": "stderr",
     "output_type": "stream",
     "text": [
      "C:\\Users\\test\\anaconda3\\lib\\site-packages\\lightgbm\\engine.py:148: UserWarning: Found `num_iterations` in params. Will use it instead of argument\n",
      "  warnings.warn(\"Found `{}` in params. Will use it instead of argument\".format(alias))\n"
     ]
    },
    {
     "name": "stdout",
     "output_type": "stream",
     "text": [
      "[CV]  bagging_fraction=1, boosting=gbdt, feature_fraction=1, is_unbalance=True, max_depth=3, metric=auc, num_iterations=500, num_leaves=256, objective=binary, score=0.765, total=  12.5s\n",
      "[CV] bagging_fraction=1, boosting=gbdt, feature_fraction=1, is_unbalance=True, max_depth=3, metric=auc, num_iterations=500, num_leaves=256, objective=binary \n"
     ]
    },
    {
     "name": "stderr",
     "output_type": "stream",
     "text": [
      "C:\\Users\\test\\anaconda3\\lib\\site-packages\\lightgbm\\engine.py:148: UserWarning: Found `num_iterations` in params. Will use it instead of argument\n",
      "  warnings.warn(\"Found `{}` in params. Will use it instead of argument\".format(alias))\n"
     ]
    },
    {
     "name": "stdout",
     "output_type": "stream",
     "text": [
      "[CV]  bagging_fraction=1, boosting=gbdt, feature_fraction=1, is_unbalance=True, max_depth=3, metric=auc, num_iterations=500, num_leaves=256, objective=binary, score=0.760, total=  11.9s\n",
      "[CV] bagging_fraction=1, boosting=gbdt, feature_fraction=1, is_unbalance=True, max_depth=4, metric=auc, num_iterations=100, num_leaves=8, objective=binary \n"
     ]
    },
    {
     "name": "stderr",
     "output_type": "stream",
     "text": [
      "C:\\Users\\test\\anaconda3\\lib\\site-packages\\lightgbm\\engine.py:148: UserWarning: Found `num_iterations` in params. Will use it instead of argument\n",
      "  warnings.warn(\"Found `{}` in params. Will use it instead of argument\".format(alias))\n"
     ]
    },
    {
     "name": "stdout",
     "output_type": "stream",
     "text": [
      "[CV]  bagging_fraction=1, boosting=gbdt, feature_fraction=1, is_unbalance=True, max_depth=4, metric=auc, num_iterations=100, num_leaves=8, objective=binary, score=0.763, total=   5.0s\n",
      "[CV] bagging_fraction=1, boosting=gbdt, feature_fraction=1, is_unbalance=True, max_depth=4, metric=auc, num_iterations=100, num_leaves=8, objective=binary \n"
     ]
    },
    {
     "name": "stderr",
     "output_type": "stream",
     "text": [
      "C:\\Users\\test\\anaconda3\\lib\\site-packages\\lightgbm\\engine.py:148: UserWarning: Found `num_iterations` in params. Will use it instead of argument\n",
      "  warnings.warn(\"Found `{}` in params. Will use it instead of argument\".format(alias))\n"
     ]
    },
    {
     "name": "stdout",
     "output_type": "stream",
     "text": [
      "[CV]  bagging_fraction=1, boosting=gbdt, feature_fraction=1, is_unbalance=True, max_depth=4, metric=auc, num_iterations=100, num_leaves=8, objective=binary, score=0.758, total=   5.0s\n",
      "[CV] bagging_fraction=1, boosting=gbdt, feature_fraction=1, is_unbalance=True, max_depth=4, metric=auc, num_iterations=100, num_leaves=8, objective=binary \n"
     ]
    },
    {
     "name": "stderr",
     "output_type": "stream",
     "text": [
      "C:\\Users\\test\\anaconda3\\lib\\site-packages\\lightgbm\\engine.py:148: UserWarning: Found `num_iterations` in params. Will use it instead of argument\n",
      "  warnings.warn(\"Found `{}` in params. Will use it instead of argument\".format(alias))\n"
     ]
    },
    {
     "name": "stdout",
     "output_type": "stream",
     "text": [
      "[CV]  bagging_fraction=1, boosting=gbdt, feature_fraction=1, is_unbalance=True, max_depth=4, metric=auc, num_iterations=100, num_leaves=8, objective=binary, score=0.761, total=   4.9s\n",
      "[CV] bagging_fraction=1, boosting=gbdt, feature_fraction=1, is_unbalance=True, max_depth=4, metric=auc, num_iterations=100, num_leaves=16, objective=binary \n"
     ]
    },
    {
     "name": "stderr",
     "output_type": "stream",
     "text": [
      "C:\\Users\\test\\anaconda3\\lib\\site-packages\\lightgbm\\engine.py:148: UserWarning: Found `num_iterations` in params. Will use it instead of argument\n",
      "  warnings.warn(\"Found `{}` in params. Will use it instead of argument\".format(alias))\n"
     ]
    },
    {
     "name": "stdout",
     "output_type": "stream",
     "text": [
      "[CV]  bagging_fraction=1, boosting=gbdt, feature_fraction=1, is_unbalance=True, max_depth=4, metric=auc, num_iterations=100, num_leaves=16, objective=binary, score=0.757, total=   5.5s\n",
      "[CV] bagging_fraction=1, boosting=gbdt, feature_fraction=1, is_unbalance=True, max_depth=4, metric=auc, num_iterations=100, num_leaves=16, objective=binary \n"
     ]
    },
    {
     "name": "stderr",
     "output_type": "stream",
     "text": [
      "C:\\Users\\test\\anaconda3\\lib\\site-packages\\lightgbm\\engine.py:148: UserWarning: Found `num_iterations` in params. Will use it instead of argument\n",
      "  warnings.warn(\"Found `{}` in params. Will use it instead of argument\".format(alias))\n"
     ]
    },
    {
     "name": "stdout",
     "output_type": "stream",
     "text": [
      "[CV]  bagging_fraction=1, boosting=gbdt, feature_fraction=1, is_unbalance=True, max_depth=4, metric=auc, num_iterations=100, num_leaves=16, objective=binary, score=0.758, total=   5.3s\n",
      "[CV] bagging_fraction=1, boosting=gbdt, feature_fraction=1, is_unbalance=True, max_depth=4, metric=auc, num_iterations=100, num_leaves=16, objective=binary \n"
     ]
    },
    {
     "name": "stderr",
     "output_type": "stream",
     "text": [
      "C:\\Users\\test\\anaconda3\\lib\\site-packages\\lightgbm\\engine.py:148: UserWarning: Found `num_iterations` in params. Will use it instead of argument\n",
      "  warnings.warn(\"Found `{}` in params. Will use it instead of argument\".format(alias))\n"
     ]
    },
    {
     "name": "stdout",
     "output_type": "stream",
     "text": [
      "[CV]  bagging_fraction=1, boosting=gbdt, feature_fraction=1, is_unbalance=True, max_depth=4, metric=auc, num_iterations=100, num_leaves=16, objective=binary, score=0.759, total=   5.2s\n",
      "[CV] bagging_fraction=1, boosting=gbdt, feature_fraction=1, is_unbalance=True, max_depth=4, metric=auc, num_iterations=100, num_leaves=32, objective=binary \n"
     ]
    },
    {
     "name": "stderr",
     "output_type": "stream",
     "text": [
      "C:\\Users\\test\\anaconda3\\lib\\site-packages\\lightgbm\\engine.py:148: UserWarning: Found `num_iterations` in params. Will use it instead of argument\n",
      "  warnings.warn(\"Found `{}` in params. Will use it instead of argument\".format(alias))\n"
     ]
    },
    {
     "name": "stdout",
     "output_type": "stream",
     "text": [
      "[CV]  bagging_fraction=1, boosting=gbdt, feature_fraction=1, is_unbalance=True, max_depth=4, metric=auc, num_iterations=100, num_leaves=32, objective=binary, score=0.757, total=   5.3s\n",
      "[CV] bagging_fraction=1, boosting=gbdt, feature_fraction=1, is_unbalance=True, max_depth=4, metric=auc, num_iterations=100, num_leaves=32, objective=binary \n"
     ]
    },
    {
     "name": "stderr",
     "output_type": "stream",
     "text": [
      "C:\\Users\\test\\anaconda3\\lib\\site-packages\\lightgbm\\engine.py:148: UserWarning: Found `num_iterations` in params. Will use it instead of argument\n",
      "  warnings.warn(\"Found `{}` in params. Will use it instead of argument\".format(alias))\n"
     ]
    },
    {
     "name": "stdout",
     "output_type": "stream",
     "text": [
      "[CV]  bagging_fraction=1, boosting=gbdt, feature_fraction=1, is_unbalance=True, max_depth=4, metric=auc, num_iterations=100, num_leaves=32, objective=binary, score=0.758, total=   5.4s\n",
      "[CV] bagging_fraction=1, boosting=gbdt, feature_fraction=1, is_unbalance=True, max_depth=4, metric=auc, num_iterations=100, num_leaves=32, objective=binary \n"
     ]
    },
    {
     "name": "stderr",
     "output_type": "stream",
     "text": [
      "C:\\Users\\test\\anaconda3\\lib\\site-packages\\lightgbm\\engine.py:148: UserWarning: Found `num_iterations` in params. Will use it instead of argument\n",
      "  warnings.warn(\"Found `{}` in params. Will use it instead of argument\".format(alias))\n"
     ]
    },
    {
     "name": "stdout",
     "output_type": "stream",
     "text": [
      "[CV]  bagging_fraction=1, boosting=gbdt, feature_fraction=1, is_unbalance=True, max_depth=4, metric=auc, num_iterations=100, num_leaves=32, objective=binary, score=0.759, total=   5.2s\n",
      "[CV] bagging_fraction=1, boosting=gbdt, feature_fraction=1, is_unbalance=True, max_depth=4, metric=auc, num_iterations=100, num_leaves=64, objective=binary \n"
     ]
    },
    {
     "name": "stderr",
     "output_type": "stream",
     "text": [
      "C:\\Users\\test\\anaconda3\\lib\\site-packages\\lightgbm\\engine.py:148: UserWarning: Found `num_iterations` in params. Will use it instead of argument\n",
      "  warnings.warn(\"Found `{}` in params. Will use it instead of argument\".format(alias))\n"
     ]
    },
    {
     "name": "stdout",
     "output_type": "stream",
     "text": [
      "[CV]  bagging_fraction=1, boosting=gbdt, feature_fraction=1, is_unbalance=True, max_depth=4, metric=auc, num_iterations=100, num_leaves=64, objective=binary, score=0.757, total=   5.4s\n",
      "[CV] bagging_fraction=1, boosting=gbdt, feature_fraction=1, is_unbalance=True, max_depth=4, metric=auc, num_iterations=100, num_leaves=64, objective=binary \n"
     ]
    },
    {
     "name": "stderr",
     "output_type": "stream",
     "text": [
      "C:\\Users\\test\\anaconda3\\lib\\site-packages\\lightgbm\\engine.py:148: UserWarning: Found `num_iterations` in params. Will use it instead of argument\n",
      "  warnings.warn(\"Found `{}` in params. Will use it instead of argument\".format(alias))\n"
     ]
    },
    {
     "name": "stdout",
     "output_type": "stream",
     "text": [
      "[CV]  bagging_fraction=1, boosting=gbdt, feature_fraction=1, is_unbalance=True, max_depth=4, metric=auc, num_iterations=100, num_leaves=64, objective=binary, score=0.758, total=   5.7s\n",
      "[CV] bagging_fraction=1, boosting=gbdt, feature_fraction=1, is_unbalance=True, max_depth=4, metric=auc, num_iterations=100, num_leaves=64, objective=binary \n"
     ]
    },
    {
     "name": "stderr",
     "output_type": "stream",
     "text": [
      "C:\\Users\\test\\anaconda3\\lib\\site-packages\\lightgbm\\engine.py:148: UserWarning: Found `num_iterations` in params. Will use it instead of argument\n",
      "  warnings.warn(\"Found `{}` in params. Will use it instead of argument\".format(alias))\n"
     ]
    },
    {
     "name": "stdout",
     "output_type": "stream",
     "text": [
      "[CV]  bagging_fraction=1, boosting=gbdt, feature_fraction=1, is_unbalance=True, max_depth=4, metric=auc, num_iterations=100, num_leaves=64, objective=binary, score=0.759, total=   5.7s\n",
      "[CV] bagging_fraction=1, boosting=gbdt, feature_fraction=1, is_unbalance=True, max_depth=4, metric=auc, num_iterations=100, num_leaves=256, objective=binary \n"
     ]
    },
    {
     "name": "stderr",
     "output_type": "stream",
     "text": [
      "C:\\Users\\test\\anaconda3\\lib\\site-packages\\lightgbm\\engine.py:148: UserWarning: Found `num_iterations` in params. Will use it instead of argument\n",
      "  warnings.warn(\"Found `{}` in params. Will use it instead of argument\".format(alias))\n"
     ]
    },
    {
     "name": "stdout",
     "output_type": "stream",
     "text": [
      "[CV]  bagging_fraction=1, boosting=gbdt, feature_fraction=1, is_unbalance=True, max_depth=4, metric=auc, num_iterations=100, num_leaves=256, objective=binary, score=0.757, total=   5.8s\n",
      "[CV] bagging_fraction=1, boosting=gbdt, feature_fraction=1, is_unbalance=True, max_depth=4, metric=auc, num_iterations=100, num_leaves=256, objective=binary \n"
     ]
    },
    {
     "name": "stderr",
     "output_type": "stream",
     "text": [
      "C:\\Users\\test\\anaconda3\\lib\\site-packages\\lightgbm\\engine.py:148: UserWarning: Found `num_iterations` in params. Will use it instead of argument\n",
      "  warnings.warn(\"Found `{}` in params. Will use it instead of argument\".format(alias))\n"
     ]
    },
    {
     "name": "stdout",
     "output_type": "stream",
     "text": [
      "[CV]  bagging_fraction=1, boosting=gbdt, feature_fraction=1, is_unbalance=True, max_depth=4, metric=auc, num_iterations=100, num_leaves=256, objective=binary, score=0.758, total=   5.9s\n",
      "[CV] bagging_fraction=1, boosting=gbdt, feature_fraction=1, is_unbalance=True, max_depth=4, metric=auc, num_iterations=100, num_leaves=256, objective=binary \n"
     ]
    },
    {
     "name": "stderr",
     "output_type": "stream",
     "text": [
      "C:\\Users\\test\\anaconda3\\lib\\site-packages\\lightgbm\\engine.py:148: UserWarning: Found `num_iterations` in params. Will use it instead of argument\n",
      "  warnings.warn(\"Found `{}` in params. Will use it instead of argument\".format(alias))\n"
     ]
    },
    {
     "name": "stdout",
     "output_type": "stream",
     "text": [
      "[CV]  bagging_fraction=1, boosting=gbdt, feature_fraction=1, is_unbalance=True, max_depth=4, metric=auc, num_iterations=100, num_leaves=256, objective=binary, score=0.759, total=   5.7s\n",
      "[CV] bagging_fraction=1, boosting=gbdt, feature_fraction=1, is_unbalance=True, max_depth=4, metric=auc, num_iterations=300, num_leaves=8, objective=binary \n"
     ]
    },
    {
     "name": "stderr",
     "output_type": "stream",
     "text": [
      "C:\\Users\\test\\anaconda3\\lib\\site-packages\\lightgbm\\engine.py:148: UserWarning: Found `num_iterations` in params. Will use it instead of argument\n",
      "  warnings.warn(\"Found `{}` in params. Will use it instead of argument\".format(alias))\n"
     ]
    },
    {
     "name": "stdout",
     "output_type": "stream",
     "text": [
      "[CV]  bagging_fraction=1, boosting=gbdt, feature_fraction=1, is_unbalance=True, max_depth=4, metric=auc, num_iterations=300, num_leaves=8, objective=binary, score=0.764, total=   9.8s\n",
      "[CV] bagging_fraction=1, boosting=gbdt, feature_fraction=1, is_unbalance=True, max_depth=4, metric=auc, num_iterations=300, num_leaves=8, objective=binary \n"
     ]
    },
    {
     "name": "stderr",
     "output_type": "stream",
     "text": [
      "C:\\Users\\test\\anaconda3\\lib\\site-packages\\lightgbm\\engine.py:148: UserWarning: Found `num_iterations` in params. Will use it instead of argument\n",
      "  warnings.warn(\"Found `{}` in params. Will use it instead of argument\".format(alias))\n"
     ]
    },
    {
     "name": "stdout",
     "output_type": "stream",
     "text": [
      "[CV]  bagging_fraction=1, boosting=gbdt, feature_fraction=1, is_unbalance=True, max_depth=4, metric=auc, num_iterations=300, num_leaves=8, objective=binary, score=0.763, total=   9.7s\n",
      "[CV] bagging_fraction=1, boosting=gbdt, feature_fraction=1, is_unbalance=True, max_depth=4, metric=auc, num_iterations=300, num_leaves=8, objective=binary \n"
     ]
    },
    {
     "name": "stderr",
     "output_type": "stream",
     "text": [
      "C:\\Users\\test\\anaconda3\\lib\\site-packages\\lightgbm\\engine.py:148: UserWarning: Found `num_iterations` in params. Will use it instead of argument\n",
      "  warnings.warn(\"Found `{}` in params. Will use it instead of argument\".format(alias))\n"
     ]
    },
    {
     "name": "stdout",
     "output_type": "stream",
     "text": [
      "[CV]  bagging_fraction=1, boosting=gbdt, feature_fraction=1, is_unbalance=True, max_depth=4, metric=auc, num_iterations=300, num_leaves=8, objective=binary, score=0.766, total=   9.7s\n",
      "[CV] bagging_fraction=1, boosting=gbdt, feature_fraction=1, is_unbalance=True, max_depth=4, metric=auc, num_iterations=300, num_leaves=16, objective=binary \n"
     ]
    },
    {
     "name": "stderr",
     "output_type": "stream",
     "text": [
      "C:\\Users\\test\\anaconda3\\lib\\site-packages\\lightgbm\\engine.py:148: UserWarning: Found `num_iterations` in params. Will use it instead of argument\n",
      "  warnings.warn(\"Found `{}` in params. Will use it instead of argument\".format(alias))\n"
     ]
    },
    {
     "name": "stdout",
     "output_type": "stream",
     "text": [
      "[CV]  bagging_fraction=1, boosting=gbdt, feature_fraction=1, is_unbalance=True, max_depth=4, metric=auc, num_iterations=300, num_leaves=16, objective=binary, score=0.753, total=  10.0s\n",
      "[CV] bagging_fraction=1, boosting=gbdt, feature_fraction=1, is_unbalance=True, max_depth=4, metric=auc, num_iterations=300, num_leaves=16, objective=binary \n"
     ]
    },
    {
     "name": "stderr",
     "output_type": "stream",
     "text": [
      "C:\\Users\\test\\anaconda3\\lib\\site-packages\\lightgbm\\engine.py:148: UserWarning: Found `num_iterations` in params. Will use it instead of argument\n",
      "  warnings.warn(\"Found `{}` in params. Will use it instead of argument\".format(alias))\n"
     ]
    },
    {
     "name": "stdout",
     "output_type": "stream",
     "text": [
      "[CV]  bagging_fraction=1, boosting=gbdt, feature_fraction=1, is_unbalance=True, max_depth=4, metric=auc, num_iterations=300, num_leaves=16, objective=binary, score=0.762, total=  10.8s\n",
      "[CV] bagging_fraction=1, boosting=gbdt, feature_fraction=1, is_unbalance=True, max_depth=4, metric=auc, num_iterations=300, num_leaves=16, objective=binary \n"
     ]
    },
    {
     "name": "stderr",
     "output_type": "stream",
     "text": [
      "C:\\Users\\test\\anaconda3\\lib\\site-packages\\lightgbm\\engine.py:148: UserWarning: Found `num_iterations` in params. Will use it instead of argument\n",
      "  warnings.warn(\"Found `{}` in params. Will use it instead of argument\".format(alias))\n"
     ]
    },
    {
     "name": "stdout",
     "output_type": "stream",
     "text": [
      "[CV]  bagging_fraction=1, boosting=gbdt, feature_fraction=1, is_unbalance=True, max_depth=4, metric=auc, num_iterations=300, num_leaves=16, objective=binary, score=0.758, total=  10.5s\n",
      "[CV] bagging_fraction=1, boosting=gbdt, feature_fraction=1, is_unbalance=True, max_depth=4, metric=auc, num_iterations=300, num_leaves=32, objective=binary \n"
     ]
    },
    {
     "name": "stderr",
     "output_type": "stream",
     "text": [
      "C:\\Users\\test\\anaconda3\\lib\\site-packages\\lightgbm\\engine.py:148: UserWarning: Found `num_iterations` in params. Will use it instead of argument\n",
      "  warnings.warn(\"Found `{}` in params. Will use it instead of argument\".format(alias))\n"
     ]
    },
    {
     "name": "stdout",
     "output_type": "stream",
     "text": [
      "[CV]  bagging_fraction=1, boosting=gbdt, feature_fraction=1, is_unbalance=True, max_depth=4, metric=auc, num_iterations=300, num_leaves=32, objective=binary, score=0.753, total=   9.9s\n",
      "[CV] bagging_fraction=1, boosting=gbdt, feature_fraction=1, is_unbalance=True, max_depth=4, metric=auc, num_iterations=300, num_leaves=32, objective=binary \n"
     ]
    },
    {
     "name": "stderr",
     "output_type": "stream",
     "text": [
      "C:\\Users\\test\\anaconda3\\lib\\site-packages\\lightgbm\\engine.py:148: UserWarning: Found `num_iterations` in params. Will use it instead of argument\n",
      "  warnings.warn(\"Found `{}` in params. Will use it instead of argument\".format(alias))\n"
     ]
    },
    {
     "name": "stdout",
     "output_type": "stream",
     "text": [
      "[CV]  bagging_fraction=1, boosting=gbdt, feature_fraction=1, is_unbalance=True, max_depth=4, metric=auc, num_iterations=300, num_leaves=32, objective=binary, score=0.762, total=   9.9s\n",
      "[CV] bagging_fraction=1, boosting=gbdt, feature_fraction=1, is_unbalance=True, max_depth=4, metric=auc, num_iterations=300, num_leaves=32, objective=binary \n"
     ]
    },
    {
     "name": "stderr",
     "output_type": "stream",
     "text": [
      "C:\\Users\\test\\anaconda3\\lib\\site-packages\\lightgbm\\engine.py:148: UserWarning: Found `num_iterations` in params. Will use it instead of argument\n",
      "  warnings.warn(\"Found `{}` in params. Will use it instead of argument\".format(alias))\n"
     ]
    },
    {
     "name": "stdout",
     "output_type": "stream",
     "text": [
      "[CV]  bagging_fraction=1, boosting=gbdt, feature_fraction=1, is_unbalance=True, max_depth=4, metric=auc, num_iterations=300, num_leaves=32, objective=binary, score=0.758, total=  10.5s\n",
      "[CV] bagging_fraction=1, boosting=gbdt, feature_fraction=1, is_unbalance=True, max_depth=4, metric=auc, num_iterations=300, num_leaves=64, objective=binary \n"
     ]
    },
    {
     "name": "stderr",
     "output_type": "stream",
     "text": [
      "C:\\Users\\test\\anaconda3\\lib\\site-packages\\lightgbm\\engine.py:148: UserWarning: Found `num_iterations` in params. Will use it instead of argument\n",
      "  warnings.warn(\"Found `{}` in params. Will use it instead of argument\".format(alias))\n"
     ]
    },
    {
     "name": "stdout",
     "output_type": "stream",
     "text": [
      "[CV]  bagging_fraction=1, boosting=gbdt, feature_fraction=1, is_unbalance=True, max_depth=4, metric=auc, num_iterations=300, num_leaves=64, objective=binary, score=0.753, total=  10.7s\n",
      "[CV] bagging_fraction=1, boosting=gbdt, feature_fraction=1, is_unbalance=True, max_depth=4, metric=auc, num_iterations=300, num_leaves=64, objective=binary \n"
     ]
    },
    {
     "name": "stderr",
     "output_type": "stream",
     "text": [
      "C:\\Users\\test\\anaconda3\\lib\\site-packages\\lightgbm\\engine.py:148: UserWarning: Found `num_iterations` in params. Will use it instead of argument\n",
      "  warnings.warn(\"Found `{}` in params. Will use it instead of argument\".format(alias))\n"
     ]
    },
    {
     "name": "stdout",
     "output_type": "stream",
     "text": [
      "[CV]  bagging_fraction=1, boosting=gbdt, feature_fraction=1, is_unbalance=True, max_depth=4, metric=auc, num_iterations=300, num_leaves=64, objective=binary, score=0.762, total=  10.8s\n",
      "[CV] bagging_fraction=1, boosting=gbdt, feature_fraction=1, is_unbalance=True, max_depth=4, metric=auc, num_iterations=300, num_leaves=64, objective=binary \n"
     ]
    },
    {
     "name": "stderr",
     "output_type": "stream",
     "text": [
      "C:\\Users\\test\\anaconda3\\lib\\site-packages\\lightgbm\\engine.py:148: UserWarning: Found `num_iterations` in params. Will use it instead of argument\n",
      "  warnings.warn(\"Found `{}` in params. Will use it instead of argument\".format(alias))\n"
     ]
    },
    {
     "name": "stdout",
     "output_type": "stream",
     "text": [
      "[CV]  bagging_fraction=1, boosting=gbdt, feature_fraction=1, is_unbalance=True, max_depth=4, metric=auc, num_iterations=300, num_leaves=64, objective=binary, score=0.758, total=  10.7s\n",
      "[CV] bagging_fraction=1, boosting=gbdt, feature_fraction=1, is_unbalance=True, max_depth=4, metric=auc, num_iterations=300, num_leaves=256, objective=binary \n"
     ]
    },
    {
     "name": "stderr",
     "output_type": "stream",
     "text": [
      "C:\\Users\\test\\anaconda3\\lib\\site-packages\\lightgbm\\engine.py:148: UserWarning: Found `num_iterations` in params. Will use it instead of argument\n",
      "  warnings.warn(\"Found `{}` in params. Will use it instead of argument\".format(alias))\n"
     ]
    },
    {
     "name": "stdout",
     "output_type": "stream",
     "text": [
      "[CV]  bagging_fraction=1, boosting=gbdt, feature_fraction=1, is_unbalance=True, max_depth=4, metric=auc, num_iterations=300, num_leaves=256, objective=binary, score=0.753, total=  10.2s\n",
      "[CV] bagging_fraction=1, boosting=gbdt, feature_fraction=1, is_unbalance=True, max_depth=4, metric=auc, num_iterations=300, num_leaves=256, objective=binary \n"
     ]
    },
    {
     "name": "stderr",
     "output_type": "stream",
     "text": [
      "C:\\Users\\test\\anaconda3\\lib\\site-packages\\lightgbm\\engine.py:148: UserWarning: Found `num_iterations` in params. Will use it instead of argument\n",
      "  warnings.warn(\"Found `{}` in params. Will use it instead of argument\".format(alias))\n"
     ]
    },
    {
     "name": "stdout",
     "output_type": "stream",
     "text": [
      "[CV]  bagging_fraction=1, boosting=gbdt, feature_fraction=1, is_unbalance=True, max_depth=4, metric=auc, num_iterations=300, num_leaves=256, objective=binary, score=0.762, total=  10.2s\n",
      "[CV] bagging_fraction=1, boosting=gbdt, feature_fraction=1, is_unbalance=True, max_depth=4, metric=auc, num_iterations=300, num_leaves=256, objective=binary \n"
     ]
    },
    {
     "name": "stderr",
     "output_type": "stream",
     "text": [
      "C:\\Users\\test\\anaconda3\\lib\\site-packages\\lightgbm\\engine.py:148: UserWarning: Found `num_iterations` in params. Will use it instead of argument\n",
      "  warnings.warn(\"Found `{}` in params. Will use it instead of argument\".format(alias))\n"
     ]
    },
    {
     "name": "stdout",
     "output_type": "stream",
     "text": [
      "[CV]  bagging_fraction=1, boosting=gbdt, feature_fraction=1, is_unbalance=True, max_depth=4, metric=auc, num_iterations=300, num_leaves=256, objective=binary, score=0.758, total=  10.5s\n",
      "[CV] bagging_fraction=1, boosting=gbdt, feature_fraction=1, is_unbalance=True, max_depth=4, metric=auc, num_iterations=500, num_leaves=8, objective=binary \n"
     ]
    },
    {
     "name": "stderr",
     "output_type": "stream",
     "text": [
      "C:\\Users\\test\\anaconda3\\lib\\site-packages\\lightgbm\\engine.py:148: UserWarning: Found `num_iterations` in params. Will use it instead of argument\n",
      "  warnings.warn(\"Found `{}` in params. Will use it instead of argument\".format(alias))\n"
     ]
    },
    {
     "name": "stdout",
     "output_type": "stream",
     "text": [
      "[CV]  bagging_fraction=1, boosting=gbdt, feature_fraction=1, is_unbalance=True, max_depth=4, metric=auc, num_iterations=500, num_leaves=8, objective=binary, score=0.761, total=  12.6s\n",
      "[CV] bagging_fraction=1, boosting=gbdt, feature_fraction=1, is_unbalance=True, max_depth=4, metric=auc, num_iterations=500, num_leaves=8, objective=binary \n"
     ]
    },
    {
     "name": "stderr",
     "output_type": "stream",
     "text": [
      "C:\\Users\\test\\anaconda3\\lib\\site-packages\\lightgbm\\engine.py:148: UserWarning: Found `num_iterations` in params. Will use it instead of argument\n",
      "  warnings.warn(\"Found `{}` in params. Will use it instead of argument\".format(alias))\n"
     ]
    },
    {
     "name": "stdout",
     "output_type": "stream",
     "text": [
      "[CV]  bagging_fraction=1, boosting=gbdt, feature_fraction=1, is_unbalance=True, max_depth=4, metric=auc, num_iterations=500, num_leaves=8, objective=binary, score=0.764, total=  12.6s\n",
      "[CV] bagging_fraction=1, boosting=gbdt, feature_fraction=1, is_unbalance=True, max_depth=4, metric=auc, num_iterations=500, num_leaves=8, objective=binary \n"
     ]
    },
    {
     "name": "stderr",
     "output_type": "stream",
     "text": [
      "C:\\Users\\test\\anaconda3\\lib\\site-packages\\lightgbm\\engine.py:148: UserWarning: Found `num_iterations` in params. Will use it instead of argument\n",
      "  warnings.warn(\"Found `{}` in params. Will use it instead of argument\".format(alias))\n"
     ]
    },
    {
     "name": "stdout",
     "output_type": "stream",
     "text": [
      "[CV]  bagging_fraction=1, boosting=gbdt, feature_fraction=1, is_unbalance=True, max_depth=4, metric=auc, num_iterations=500, num_leaves=8, objective=binary, score=0.765, total=  12.5s\n",
      "[CV] bagging_fraction=1, boosting=gbdt, feature_fraction=1, is_unbalance=True, max_depth=4, metric=auc, num_iterations=500, num_leaves=16, objective=binary \n"
     ]
    },
    {
     "name": "stderr",
     "output_type": "stream",
     "text": [
      "C:\\Users\\test\\anaconda3\\lib\\site-packages\\lightgbm\\engine.py:148: UserWarning: Found `num_iterations` in params. Will use it instead of argument\n",
      "  warnings.warn(\"Found `{}` in params. Will use it instead of argument\".format(alias))\n"
     ]
    },
    {
     "name": "stdout",
     "output_type": "stream",
     "text": [
      "[CV]  bagging_fraction=1, boosting=gbdt, feature_fraction=1, is_unbalance=True, max_depth=4, metric=auc, num_iterations=500, num_leaves=16, objective=binary, score=0.749, total=  14.9s\n",
      "[CV] bagging_fraction=1, boosting=gbdt, feature_fraction=1, is_unbalance=True, max_depth=4, metric=auc, num_iterations=500, num_leaves=16, objective=binary \n"
     ]
    },
    {
     "name": "stderr",
     "output_type": "stream",
     "text": [
      "C:\\Users\\test\\anaconda3\\lib\\site-packages\\lightgbm\\engine.py:148: UserWarning: Found `num_iterations` in params. Will use it instead of argument\n",
      "  warnings.warn(\"Found `{}` in params. Will use it instead of argument\".format(alias))\n"
     ]
    },
    {
     "name": "stdout",
     "output_type": "stream",
     "text": [
      "[CV]  bagging_fraction=1, boosting=gbdt, feature_fraction=1, is_unbalance=True, max_depth=4, metric=auc, num_iterations=500, num_leaves=16, objective=binary, score=0.762, total=  14.6s\n",
      "[CV] bagging_fraction=1, boosting=gbdt, feature_fraction=1, is_unbalance=True, max_depth=4, metric=auc, num_iterations=500, num_leaves=16, objective=binary \n"
     ]
    },
    {
     "name": "stderr",
     "output_type": "stream",
     "text": [
      "C:\\Users\\test\\anaconda3\\lib\\site-packages\\lightgbm\\engine.py:148: UserWarning: Found `num_iterations` in params. Will use it instead of argument\n",
      "  warnings.warn(\"Found `{}` in params. Will use it instead of argument\".format(alias))\n"
     ]
    },
    {
     "name": "stdout",
     "output_type": "stream",
     "text": [
      "[CV]  bagging_fraction=1, boosting=gbdt, feature_fraction=1, is_unbalance=True, max_depth=4, metric=auc, num_iterations=500, num_leaves=16, objective=binary, score=0.755, total=  14.6s\n",
      "[CV] bagging_fraction=1, boosting=gbdt, feature_fraction=1, is_unbalance=True, max_depth=4, metric=auc, num_iterations=500, num_leaves=32, objective=binary \n"
     ]
    },
    {
     "name": "stderr",
     "output_type": "stream",
     "text": [
      "C:\\Users\\test\\anaconda3\\lib\\site-packages\\lightgbm\\engine.py:148: UserWarning: Found `num_iterations` in params. Will use it instead of argument\n",
      "  warnings.warn(\"Found `{}` in params. Will use it instead of argument\".format(alias))\n"
     ]
    },
    {
     "name": "stdout",
     "output_type": "stream",
     "text": [
      "[CV]  bagging_fraction=1, boosting=gbdt, feature_fraction=1, is_unbalance=True, max_depth=4, metric=auc, num_iterations=500, num_leaves=32, objective=binary, score=0.749, total=  14.6s\n",
      "[CV] bagging_fraction=1, boosting=gbdt, feature_fraction=1, is_unbalance=True, max_depth=4, metric=auc, num_iterations=500, num_leaves=32, objective=binary \n"
     ]
    },
    {
     "name": "stderr",
     "output_type": "stream",
     "text": [
      "C:\\Users\\test\\anaconda3\\lib\\site-packages\\lightgbm\\engine.py:148: UserWarning: Found `num_iterations` in params. Will use it instead of argument\n",
      "  warnings.warn(\"Found `{}` in params. Will use it instead of argument\".format(alias))\n"
     ]
    },
    {
     "name": "stdout",
     "output_type": "stream",
     "text": [
      "[CV]  bagging_fraction=1, boosting=gbdt, feature_fraction=1, is_unbalance=True, max_depth=4, metric=auc, num_iterations=500, num_leaves=32, objective=binary, score=0.762, total=  14.4s\n",
      "[CV] bagging_fraction=1, boosting=gbdt, feature_fraction=1, is_unbalance=True, max_depth=4, metric=auc, num_iterations=500, num_leaves=32, objective=binary \n"
     ]
    },
    {
     "name": "stderr",
     "output_type": "stream",
     "text": [
      "C:\\Users\\test\\anaconda3\\lib\\site-packages\\lightgbm\\engine.py:148: UserWarning: Found `num_iterations` in params. Will use it instead of argument\n",
      "  warnings.warn(\"Found `{}` in params. Will use it instead of argument\".format(alias))\n"
     ]
    },
    {
     "name": "stdout",
     "output_type": "stream",
     "text": [
      "[CV]  bagging_fraction=1, boosting=gbdt, feature_fraction=1, is_unbalance=True, max_depth=4, metric=auc, num_iterations=500, num_leaves=32, objective=binary, score=0.755, total=  15.5s\n",
      "[CV] bagging_fraction=1, boosting=gbdt, feature_fraction=1, is_unbalance=True, max_depth=4, metric=auc, num_iterations=500, num_leaves=64, objective=binary \n"
     ]
    },
    {
     "name": "stderr",
     "output_type": "stream",
     "text": [
      "C:\\Users\\test\\anaconda3\\lib\\site-packages\\lightgbm\\engine.py:148: UserWarning: Found `num_iterations` in params. Will use it instead of argument\n",
      "  warnings.warn(\"Found `{}` in params. Will use it instead of argument\".format(alias))\n"
     ]
    },
    {
     "name": "stdout",
     "output_type": "stream",
     "text": [
      "[CV]  bagging_fraction=1, boosting=gbdt, feature_fraction=1, is_unbalance=True, max_depth=4, metric=auc, num_iterations=500, num_leaves=64, objective=binary, score=0.749, total=  15.0s\n",
      "[CV] bagging_fraction=1, boosting=gbdt, feature_fraction=1, is_unbalance=True, max_depth=4, metric=auc, num_iterations=500, num_leaves=64, objective=binary \n"
     ]
    },
    {
     "name": "stderr",
     "output_type": "stream",
     "text": [
      "C:\\Users\\test\\anaconda3\\lib\\site-packages\\lightgbm\\engine.py:148: UserWarning: Found `num_iterations` in params. Will use it instead of argument\n",
      "  warnings.warn(\"Found `{}` in params. Will use it instead of argument\".format(alias))\n"
     ]
    },
    {
     "name": "stdout",
     "output_type": "stream",
     "text": [
      "[CV]  bagging_fraction=1, boosting=gbdt, feature_fraction=1, is_unbalance=True, max_depth=4, metric=auc, num_iterations=500, num_leaves=64, objective=binary, score=0.762, total=  14.5s\n",
      "[CV] bagging_fraction=1, boosting=gbdt, feature_fraction=1, is_unbalance=True, max_depth=4, metric=auc, num_iterations=500, num_leaves=64, objective=binary \n"
     ]
    },
    {
     "name": "stderr",
     "output_type": "stream",
     "text": [
      "C:\\Users\\test\\anaconda3\\lib\\site-packages\\lightgbm\\engine.py:148: UserWarning: Found `num_iterations` in params. Will use it instead of argument\n",
      "  warnings.warn(\"Found `{}` in params. Will use it instead of argument\".format(alias))\n"
     ]
    },
    {
     "name": "stdout",
     "output_type": "stream",
     "text": [
      "[CV]  bagging_fraction=1, boosting=gbdt, feature_fraction=1, is_unbalance=True, max_depth=4, metric=auc, num_iterations=500, num_leaves=64, objective=binary, score=0.755, total=  15.4s\n",
      "[CV] bagging_fraction=1, boosting=gbdt, feature_fraction=1, is_unbalance=True, max_depth=4, metric=auc, num_iterations=500, num_leaves=256, objective=binary \n"
     ]
    },
    {
     "name": "stderr",
     "output_type": "stream",
     "text": [
      "C:\\Users\\test\\anaconda3\\lib\\site-packages\\lightgbm\\engine.py:148: UserWarning: Found `num_iterations` in params. Will use it instead of argument\n",
      "  warnings.warn(\"Found `{}` in params. Will use it instead of argument\".format(alias))\n"
     ]
    },
    {
     "name": "stdout",
     "output_type": "stream",
     "text": [
      "[CV]  bagging_fraction=1, boosting=gbdt, feature_fraction=1, is_unbalance=True, max_depth=4, metric=auc, num_iterations=500, num_leaves=256, objective=binary, score=0.749, total=  15.6s\n",
      "[CV] bagging_fraction=1, boosting=gbdt, feature_fraction=1, is_unbalance=True, max_depth=4, metric=auc, num_iterations=500, num_leaves=256, objective=binary \n"
     ]
    },
    {
     "name": "stderr",
     "output_type": "stream",
     "text": [
      "C:\\Users\\test\\anaconda3\\lib\\site-packages\\lightgbm\\engine.py:148: UserWarning: Found `num_iterations` in params. Will use it instead of argument\n",
      "  warnings.warn(\"Found `{}` in params. Will use it instead of argument\".format(alias))\n"
     ]
    },
    {
     "name": "stdout",
     "output_type": "stream",
     "text": [
      "[CV]  bagging_fraction=1, boosting=gbdt, feature_fraction=1, is_unbalance=True, max_depth=4, metric=auc, num_iterations=500, num_leaves=256, objective=binary, score=0.762, total=  15.0s\n",
      "[CV] bagging_fraction=1, boosting=gbdt, feature_fraction=1, is_unbalance=True, max_depth=4, metric=auc, num_iterations=500, num_leaves=256, objective=binary \n"
     ]
    },
    {
     "name": "stderr",
     "output_type": "stream",
     "text": [
      "C:\\Users\\test\\anaconda3\\lib\\site-packages\\lightgbm\\engine.py:148: UserWarning: Found `num_iterations` in params. Will use it instead of argument\n",
      "  warnings.warn(\"Found `{}` in params. Will use it instead of argument\".format(alias))\n"
     ]
    },
    {
     "name": "stdout",
     "output_type": "stream",
     "text": [
      "[CV]  bagging_fraction=1, boosting=gbdt, feature_fraction=1, is_unbalance=True, max_depth=4, metric=auc, num_iterations=500, num_leaves=256, objective=binary, score=0.755, total=  14.5s\n",
      "[CV] bagging_fraction=1, boosting=gbdt, feature_fraction=1, is_unbalance=True, max_depth=8, metric=auc, num_iterations=100, num_leaves=8, objective=binary \n"
     ]
    },
    {
     "name": "stderr",
     "output_type": "stream",
     "text": [
      "C:\\Users\\test\\anaconda3\\lib\\site-packages\\lightgbm\\engine.py:148: UserWarning: Found `num_iterations` in params. Will use it instead of argument\n",
      "  warnings.warn(\"Found `{}` in params. Will use it instead of argument\".format(alias))\n"
     ]
    },
    {
     "name": "stdout",
     "output_type": "stream",
     "text": [
      "[CV]  bagging_fraction=1, boosting=gbdt, feature_fraction=1, is_unbalance=True, max_depth=8, metric=auc, num_iterations=100, num_leaves=8, objective=binary, score=0.763, total=   5.4s\n",
      "[CV] bagging_fraction=1, boosting=gbdt, feature_fraction=1, is_unbalance=True, max_depth=8, metric=auc, num_iterations=100, num_leaves=8, objective=binary \n"
     ]
    },
    {
     "name": "stderr",
     "output_type": "stream",
     "text": [
      "C:\\Users\\test\\anaconda3\\lib\\site-packages\\lightgbm\\engine.py:148: UserWarning: Found `num_iterations` in params. Will use it instead of argument\n",
      "  warnings.warn(\"Found `{}` in params. Will use it instead of argument\".format(alias))\n"
     ]
    },
    {
     "name": "stdout",
     "output_type": "stream",
     "text": [
      "[CV]  bagging_fraction=1, boosting=gbdt, feature_fraction=1, is_unbalance=True, max_depth=8, metric=auc, num_iterations=100, num_leaves=8, objective=binary, score=0.758, total=   5.3s\n",
      "[CV] bagging_fraction=1, boosting=gbdt, feature_fraction=1, is_unbalance=True, max_depth=8, metric=auc, num_iterations=100, num_leaves=8, objective=binary \n"
     ]
    },
    {
     "name": "stderr",
     "output_type": "stream",
     "text": [
      "C:\\Users\\test\\anaconda3\\lib\\site-packages\\lightgbm\\engine.py:148: UserWarning: Found `num_iterations` in params. Will use it instead of argument\n",
      "  warnings.warn(\"Found `{}` in params. Will use it instead of argument\".format(alias))\n"
     ]
    },
    {
     "name": "stdout",
     "output_type": "stream",
     "text": [
      "[CV]  bagging_fraction=1, boosting=gbdt, feature_fraction=1, is_unbalance=True, max_depth=8, metric=auc, num_iterations=100, num_leaves=8, objective=binary, score=0.761, total=   5.3s\n",
      "[CV] bagging_fraction=1, boosting=gbdt, feature_fraction=1, is_unbalance=True, max_depth=8, metric=auc, num_iterations=100, num_leaves=16, objective=binary \n"
     ]
    },
    {
     "name": "stderr",
     "output_type": "stream",
     "text": [
      "C:\\Users\\test\\anaconda3\\lib\\site-packages\\lightgbm\\engine.py:148: UserWarning: Found `num_iterations` in params. Will use it instead of argument\n",
      "  warnings.warn(\"Found `{}` in params. Will use it instead of argument\".format(alias))\n"
     ]
    },
    {
     "name": "stdout",
     "output_type": "stream",
     "text": [
      "[CV]  bagging_fraction=1, boosting=gbdt, feature_fraction=1, is_unbalance=True, max_depth=8, metric=auc, num_iterations=100, num_leaves=16, objective=binary, score=0.764, total=   6.9s\n",
      "[CV] bagging_fraction=1, boosting=gbdt, feature_fraction=1, is_unbalance=True, max_depth=8, metric=auc, num_iterations=100, num_leaves=16, objective=binary \n"
     ]
    },
    {
     "name": "stderr",
     "output_type": "stream",
     "text": [
      "C:\\Users\\test\\anaconda3\\lib\\site-packages\\lightgbm\\engine.py:148: UserWarning: Found `num_iterations` in params. Will use it instead of argument\n",
      "  warnings.warn(\"Found `{}` in params. Will use it instead of argument\".format(alias))\n"
     ]
    },
    {
     "name": "stdout",
     "output_type": "stream",
     "text": [
      "[CV]  bagging_fraction=1, boosting=gbdt, feature_fraction=1, is_unbalance=True, max_depth=8, metric=auc, num_iterations=100, num_leaves=16, objective=binary, score=0.760, total=   6.5s\n",
      "[CV] bagging_fraction=1, boosting=gbdt, feature_fraction=1, is_unbalance=True, max_depth=8, metric=auc, num_iterations=100, num_leaves=16, objective=binary \n"
     ]
    },
    {
     "name": "stderr",
     "output_type": "stream",
     "text": [
      "C:\\Users\\test\\anaconda3\\lib\\site-packages\\lightgbm\\engine.py:148: UserWarning: Found `num_iterations` in params. Will use it instead of argument\n",
      "  warnings.warn(\"Found `{}` in params. Will use it instead of argument\".format(alias))\n"
     ]
    },
    {
     "name": "stdout",
     "output_type": "stream",
     "text": [
      "[CV]  bagging_fraction=1, boosting=gbdt, feature_fraction=1, is_unbalance=True, max_depth=8, metric=auc, num_iterations=100, num_leaves=16, objective=binary, score=0.759, total=   6.8s\n",
      "[CV] bagging_fraction=1, boosting=gbdt, feature_fraction=1, is_unbalance=True, max_depth=8, metric=auc, num_iterations=100, num_leaves=32, objective=binary \n"
     ]
    },
    {
     "name": "stderr",
     "output_type": "stream",
     "text": [
      "C:\\Users\\test\\anaconda3\\lib\\site-packages\\lightgbm\\engine.py:148: UserWarning: Found `num_iterations` in params. Will use it instead of argument\n",
      "  warnings.warn(\"Found `{}` in params. Will use it instead of argument\".format(alias))\n"
     ]
    },
    {
     "name": "stdout",
     "output_type": "stream",
     "text": [
      "[CV]  bagging_fraction=1, boosting=gbdt, feature_fraction=1, is_unbalance=True, max_depth=8, metric=auc, num_iterations=100, num_leaves=32, objective=binary, score=0.764, total=   7.8s\n",
      "[CV] bagging_fraction=1, boosting=gbdt, feature_fraction=1, is_unbalance=True, max_depth=8, metric=auc, num_iterations=100, num_leaves=32, objective=binary \n"
     ]
    },
    {
     "name": "stderr",
     "output_type": "stream",
     "text": [
      "C:\\Users\\test\\anaconda3\\lib\\site-packages\\lightgbm\\engine.py:148: UserWarning: Found `num_iterations` in params. Will use it instead of argument\n",
      "  warnings.warn(\"Found `{}` in params. Will use it instead of argument\".format(alias))\n"
     ]
    },
    {
     "name": "stdout",
     "output_type": "stream",
     "text": [
      "[CV]  bagging_fraction=1, boosting=gbdt, feature_fraction=1, is_unbalance=True, max_depth=8, metric=auc, num_iterations=100, num_leaves=32, objective=binary, score=0.761, total=   8.2s\n",
      "[CV] bagging_fraction=1, boosting=gbdt, feature_fraction=1, is_unbalance=True, max_depth=8, metric=auc, num_iterations=100, num_leaves=32, objective=binary \n"
     ]
    },
    {
     "name": "stderr",
     "output_type": "stream",
     "text": [
      "C:\\Users\\test\\anaconda3\\lib\\site-packages\\lightgbm\\engine.py:148: UserWarning: Found `num_iterations` in params. Will use it instead of argument\n",
      "  warnings.warn(\"Found `{}` in params. Will use it instead of argument\".format(alias))\n"
     ]
    },
    {
     "name": "stdout",
     "output_type": "stream",
     "text": [
      "[CV]  bagging_fraction=1, boosting=gbdt, feature_fraction=1, is_unbalance=True, max_depth=8, metric=auc, num_iterations=100, num_leaves=32, objective=binary, score=0.758, total=   8.2s\n",
      "[CV] bagging_fraction=1, boosting=gbdt, feature_fraction=1, is_unbalance=True, max_depth=8, metric=auc, num_iterations=100, num_leaves=64, objective=binary \n"
     ]
    },
    {
     "name": "stderr",
     "output_type": "stream",
     "text": [
      "C:\\Users\\test\\anaconda3\\lib\\site-packages\\lightgbm\\engine.py:148: UserWarning: Found `num_iterations` in params. Will use it instead of argument\n",
      "  warnings.warn(\"Found `{}` in params. Will use it instead of argument\".format(alias))\n"
     ]
    },
    {
     "name": "stdout",
     "output_type": "stream",
     "text": [
      "[CV]  bagging_fraction=1, boosting=gbdt, feature_fraction=1, is_unbalance=True, max_depth=8, metric=auc, num_iterations=100, num_leaves=64, objective=binary, score=0.755, total=   9.8s\n",
      "[CV] bagging_fraction=1, boosting=gbdt, feature_fraction=1, is_unbalance=True, max_depth=8, metric=auc, num_iterations=100, num_leaves=64, objective=binary \n"
     ]
    },
    {
     "name": "stderr",
     "output_type": "stream",
     "text": [
      "C:\\Users\\test\\anaconda3\\lib\\site-packages\\lightgbm\\engine.py:148: UserWarning: Found `num_iterations` in params. Will use it instead of argument\n",
      "  warnings.warn(\"Found `{}` in params. Will use it instead of argument\".format(alias))\n"
     ]
    },
    {
     "name": "stdout",
     "output_type": "stream",
     "text": [
      "[CV]  bagging_fraction=1, boosting=gbdt, feature_fraction=1, is_unbalance=True, max_depth=8, metric=auc, num_iterations=100, num_leaves=64, objective=binary, score=0.759, total=   9.7s\n",
      "[CV] bagging_fraction=1, boosting=gbdt, feature_fraction=1, is_unbalance=True, max_depth=8, metric=auc, num_iterations=100, num_leaves=64, objective=binary \n"
     ]
    },
    {
     "name": "stderr",
     "output_type": "stream",
     "text": [
      "C:\\Users\\test\\anaconda3\\lib\\site-packages\\lightgbm\\engine.py:148: UserWarning: Found `num_iterations` in params. Will use it instead of argument\n",
      "  warnings.warn(\"Found `{}` in params. Will use it instead of argument\".format(alias))\n"
     ]
    },
    {
     "name": "stdout",
     "output_type": "stream",
     "text": [
      "[CV]  bagging_fraction=1, boosting=gbdt, feature_fraction=1, is_unbalance=True, max_depth=8, metric=auc, num_iterations=100, num_leaves=64, objective=binary, score=0.750, total=  10.0s\n",
      "[CV] bagging_fraction=1, boosting=gbdt, feature_fraction=1, is_unbalance=True, max_depth=8, metric=auc, num_iterations=100, num_leaves=256, objective=binary \n"
     ]
    },
    {
     "name": "stderr",
     "output_type": "stream",
     "text": [
      "C:\\Users\\test\\anaconda3\\lib\\site-packages\\lightgbm\\engine.py:148: UserWarning: Found `num_iterations` in params. Will use it instead of argument\n",
      "  warnings.warn(\"Found `{}` in params. Will use it instead of argument\".format(alias))\n"
     ]
    },
    {
     "name": "stdout",
     "output_type": "stream",
     "text": [
      "[CV]  bagging_fraction=1, boosting=gbdt, feature_fraction=1, is_unbalance=True, max_depth=8, metric=auc, num_iterations=100, num_leaves=256, objective=binary, score=0.739, total=  11.8s\n",
      "[CV] bagging_fraction=1, boosting=gbdt, feature_fraction=1, is_unbalance=True, max_depth=8, metric=auc, num_iterations=100, num_leaves=256, objective=binary \n"
     ]
    },
    {
     "name": "stderr",
     "output_type": "stream",
     "text": [
      "C:\\Users\\test\\anaconda3\\lib\\site-packages\\lightgbm\\engine.py:148: UserWarning: Found `num_iterations` in params. Will use it instead of argument\n",
      "  warnings.warn(\"Found `{}` in params. Will use it instead of argument\".format(alias))\n"
     ]
    },
    {
     "name": "stdout",
     "output_type": "stream",
     "text": [
      "[CV]  bagging_fraction=1, boosting=gbdt, feature_fraction=1, is_unbalance=True, max_depth=8, metric=auc, num_iterations=100, num_leaves=256, objective=binary, score=0.751, total=  11.7s\n",
      "[CV] bagging_fraction=1, boosting=gbdt, feature_fraction=1, is_unbalance=True, max_depth=8, metric=auc, num_iterations=100, num_leaves=256, objective=binary \n"
     ]
    },
    {
     "name": "stderr",
     "output_type": "stream",
     "text": [
      "C:\\Users\\test\\anaconda3\\lib\\site-packages\\lightgbm\\engine.py:148: UserWarning: Found `num_iterations` in params. Will use it instead of argument\n",
      "  warnings.warn(\"Found `{}` in params. Will use it instead of argument\".format(alias))\n"
     ]
    },
    {
     "name": "stdout",
     "output_type": "stream",
     "text": [
      "[CV]  bagging_fraction=1, boosting=gbdt, feature_fraction=1, is_unbalance=True, max_depth=8, metric=auc, num_iterations=100, num_leaves=256, objective=binary, score=0.715, total=  11.4s\n",
      "[CV] bagging_fraction=1, boosting=gbdt, feature_fraction=1, is_unbalance=True, max_depth=8, metric=auc, num_iterations=300, num_leaves=8, objective=binary \n"
     ]
    },
    {
     "name": "stderr",
     "output_type": "stream",
     "text": [
      "C:\\Users\\test\\anaconda3\\lib\\site-packages\\lightgbm\\engine.py:148: UserWarning: Found `num_iterations` in params. Will use it instead of argument\n",
      "  warnings.warn(\"Found `{}` in params. Will use it instead of argument\".format(alias))\n"
     ]
    },
    {
     "name": "stdout",
     "output_type": "stream",
     "text": [
      "[CV]  bagging_fraction=1, boosting=gbdt, feature_fraction=1, is_unbalance=True, max_depth=8, metric=auc, num_iterations=300, num_leaves=8, objective=binary, score=0.763, total=   9.7s\n",
      "[CV] bagging_fraction=1, boosting=gbdt, feature_fraction=1, is_unbalance=True, max_depth=8, metric=auc, num_iterations=300, num_leaves=8, objective=binary \n"
     ]
    },
    {
     "name": "stderr",
     "output_type": "stream",
     "text": [
      "C:\\Users\\test\\anaconda3\\lib\\site-packages\\lightgbm\\engine.py:148: UserWarning: Found `num_iterations` in params. Will use it instead of argument\n",
      "  warnings.warn(\"Found `{}` in params. Will use it instead of argument\".format(alias))\n"
     ]
    },
    {
     "name": "stdout",
     "output_type": "stream",
     "text": [
      "[CV]  bagging_fraction=1, boosting=gbdt, feature_fraction=1, is_unbalance=True, max_depth=8, metric=auc, num_iterations=300, num_leaves=8, objective=binary, score=0.761, total=   9.9s\n",
      "[CV] bagging_fraction=1, boosting=gbdt, feature_fraction=1, is_unbalance=True, max_depth=8, metric=auc, num_iterations=300, num_leaves=8, objective=binary \n"
     ]
    },
    {
     "name": "stderr",
     "output_type": "stream",
     "text": [
      "C:\\Users\\test\\anaconda3\\lib\\site-packages\\lightgbm\\engine.py:148: UserWarning: Found `num_iterations` in params. Will use it instead of argument\n",
      "  warnings.warn(\"Found `{}` in params. Will use it instead of argument\".format(alias))\n"
     ]
    },
    {
     "name": "stdout",
     "output_type": "stream",
     "text": [
      "[CV]  bagging_fraction=1, boosting=gbdt, feature_fraction=1, is_unbalance=True, max_depth=8, metric=auc, num_iterations=300, num_leaves=8, objective=binary, score=0.764, total=   9.7s\n",
      "[CV] bagging_fraction=1, boosting=gbdt, feature_fraction=1, is_unbalance=True, max_depth=8, metric=auc, num_iterations=300, num_leaves=16, objective=binary \n"
     ]
    },
    {
     "name": "stderr",
     "output_type": "stream",
     "text": [
      "C:\\Users\\test\\anaconda3\\lib\\site-packages\\lightgbm\\engine.py:148: UserWarning: Found `num_iterations` in params. Will use it instead of argument\n",
      "  warnings.warn(\"Found `{}` in params. Will use it instead of argument\".format(alias))\n"
     ]
    },
    {
     "name": "stdout",
     "output_type": "stream",
     "text": [
      "[CV]  bagging_fraction=1, boosting=gbdt, feature_fraction=1, is_unbalance=True, max_depth=8, metric=auc, num_iterations=300, num_leaves=16, objective=binary, score=0.754, total=  11.4s\n",
      "[CV] bagging_fraction=1, boosting=gbdt, feature_fraction=1, is_unbalance=True, max_depth=8, metric=auc, num_iterations=300, num_leaves=16, objective=binary \n"
     ]
    },
    {
     "name": "stderr",
     "output_type": "stream",
     "text": [
      "C:\\Users\\test\\anaconda3\\lib\\site-packages\\lightgbm\\engine.py:148: UserWarning: Found `num_iterations` in params. Will use it instead of argument\n",
      "  warnings.warn(\"Found `{}` in params. Will use it instead of argument\".format(alias))\n"
     ]
    },
    {
     "name": "stdout",
     "output_type": "stream",
     "text": [
      "[CV]  bagging_fraction=1, boosting=gbdt, feature_fraction=1, is_unbalance=True, max_depth=8, metric=auc, num_iterations=300, num_leaves=16, objective=binary, score=0.761, total=  11.2s\n",
      "[CV] bagging_fraction=1, boosting=gbdt, feature_fraction=1, is_unbalance=True, max_depth=8, metric=auc, num_iterations=300, num_leaves=16, objective=binary \n"
     ]
    },
    {
     "name": "stderr",
     "output_type": "stream",
     "text": [
      "C:\\Users\\test\\anaconda3\\lib\\site-packages\\lightgbm\\engine.py:148: UserWarning: Found `num_iterations` in params. Will use it instead of argument\n",
      "  warnings.warn(\"Found `{}` in params. Will use it instead of argument\".format(alias))\n"
     ]
    },
    {
     "name": "stdout",
     "output_type": "stream",
     "text": [
      "[CV]  bagging_fraction=1, boosting=gbdt, feature_fraction=1, is_unbalance=True, max_depth=8, metric=auc, num_iterations=300, num_leaves=16, objective=binary, score=0.756, total=  11.3s\n",
      "[CV] bagging_fraction=1, boosting=gbdt, feature_fraction=1, is_unbalance=True, max_depth=8, metric=auc, num_iterations=300, num_leaves=32, objective=binary \n"
     ]
    },
    {
     "name": "stderr",
     "output_type": "stream",
     "text": [
      "C:\\Users\\test\\anaconda3\\lib\\site-packages\\lightgbm\\engine.py:148: UserWarning: Found `num_iterations` in params. Will use it instead of argument\n",
      "  warnings.warn(\"Found `{}` in params. Will use it instead of argument\".format(alias))\n"
     ]
    },
    {
     "name": "stdout",
     "output_type": "stream",
     "text": [
      "[CV]  bagging_fraction=1, boosting=gbdt, feature_fraction=1, is_unbalance=True, max_depth=8, metric=auc, num_iterations=300, num_leaves=32, objective=binary, score=0.750, total=  14.6s\n",
      "[CV] bagging_fraction=1, boosting=gbdt, feature_fraction=1, is_unbalance=True, max_depth=8, metric=auc, num_iterations=300, num_leaves=32, objective=binary \n"
     ]
    },
    {
     "name": "stderr",
     "output_type": "stream",
     "text": [
      "C:\\Users\\test\\anaconda3\\lib\\site-packages\\lightgbm\\engine.py:148: UserWarning: Found `num_iterations` in params. Will use it instead of argument\n",
      "  warnings.warn(\"Found `{}` in params. Will use it instead of argument\".format(alias))\n"
     ]
    },
    {
     "name": "stdout",
     "output_type": "stream",
     "text": [
      "[CV]  bagging_fraction=1, boosting=gbdt, feature_fraction=1, is_unbalance=True, max_depth=8, metric=auc, num_iterations=300, num_leaves=32, objective=binary, score=0.759, total=  14.6s\n",
      "[CV] bagging_fraction=1, boosting=gbdt, feature_fraction=1, is_unbalance=True, max_depth=8, metric=auc, num_iterations=300, num_leaves=32, objective=binary \n"
     ]
    },
    {
     "name": "stderr",
     "output_type": "stream",
     "text": [
      "C:\\Users\\test\\anaconda3\\lib\\site-packages\\lightgbm\\engine.py:148: UserWarning: Found `num_iterations` in params. Will use it instead of argument\n",
      "  warnings.warn(\"Found `{}` in params. Will use it instead of argument\".format(alias))\n"
     ]
    },
    {
     "name": "stdout",
     "output_type": "stream",
     "text": [
      "[CV]  bagging_fraction=1, boosting=gbdt, feature_fraction=1, is_unbalance=True, max_depth=8, metric=auc, num_iterations=300, num_leaves=32, objective=binary, score=0.753, total=  14.3s\n",
      "[CV] bagging_fraction=1, boosting=gbdt, feature_fraction=1, is_unbalance=True, max_depth=8, metric=auc, num_iterations=300, num_leaves=64, objective=binary \n"
     ]
    },
    {
     "name": "stderr",
     "output_type": "stream",
     "text": [
      "C:\\Users\\test\\anaconda3\\lib\\site-packages\\lightgbm\\engine.py:148: UserWarning: Found `num_iterations` in params. Will use it instead of argument\n",
      "  warnings.warn(\"Found `{}` in params. Will use it instead of argument\".format(alias))\n"
     ]
    },
    {
     "name": "stdout",
     "output_type": "stream",
     "text": [
      "[CV]  bagging_fraction=1, boosting=gbdt, feature_fraction=1, is_unbalance=True, max_depth=8, metric=auc, num_iterations=300, num_leaves=64, objective=binary, score=0.741, total=  18.6s\n",
      "[CV] bagging_fraction=1, boosting=gbdt, feature_fraction=1, is_unbalance=True, max_depth=8, metric=auc, num_iterations=300, num_leaves=64, objective=binary \n"
     ]
    },
    {
     "name": "stderr",
     "output_type": "stream",
     "text": [
      "C:\\Users\\test\\anaconda3\\lib\\site-packages\\lightgbm\\engine.py:148: UserWarning: Found `num_iterations` in params. Will use it instead of argument\n",
      "  warnings.warn(\"Found `{}` in params. Will use it instead of argument\".format(alias))\n"
     ]
    },
    {
     "name": "stdout",
     "output_type": "stream",
     "text": [
      "[CV]  bagging_fraction=1, boosting=gbdt, feature_fraction=1, is_unbalance=True, max_depth=8, metric=auc, num_iterations=300, num_leaves=64, objective=binary, score=0.753, total=  19.0s\n",
      "[CV] bagging_fraction=1, boosting=gbdt, feature_fraction=1, is_unbalance=True, max_depth=8, metric=auc, num_iterations=300, num_leaves=64, objective=binary \n"
     ]
    },
    {
     "name": "stderr",
     "output_type": "stream",
     "text": [
      "C:\\Users\\test\\anaconda3\\lib\\site-packages\\lightgbm\\engine.py:148: UserWarning: Found `num_iterations` in params. Will use it instead of argument\n",
      "  warnings.warn(\"Found `{}` in params. Will use it instead of argument\".format(alias))\n"
     ]
    },
    {
     "name": "stdout",
     "output_type": "stream",
     "text": [
      "[CV]  bagging_fraction=1, boosting=gbdt, feature_fraction=1, is_unbalance=True, max_depth=8, metric=auc, num_iterations=300, num_leaves=64, objective=binary, score=0.739, total=  19.2s\n",
      "[CV] bagging_fraction=1, boosting=gbdt, feature_fraction=1, is_unbalance=True, max_depth=8, metric=auc, num_iterations=300, num_leaves=256, objective=binary \n"
     ]
    },
    {
     "name": "stderr",
     "output_type": "stream",
     "text": [
      "C:\\Users\\test\\anaconda3\\lib\\site-packages\\lightgbm\\engine.py:148: UserWarning: Found `num_iterations` in params. Will use it instead of argument\n",
      "  warnings.warn(\"Found `{}` in params. Will use it instead of argument\".format(alias))\n"
     ]
    },
    {
     "name": "stdout",
     "output_type": "stream",
     "text": [
      "[CV]  bagging_fraction=1, boosting=gbdt, feature_fraction=1, is_unbalance=True, max_depth=8, metric=auc, num_iterations=300, num_leaves=256, objective=binary, score=0.726, total=  22.2s\n",
      "[CV] bagging_fraction=1, boosting=gbdt, feature_fraction=1, is_unbalance=True, max_depth=8, metric=auc, num_iterations=300, num_leaves=256, objective=binary \n"
     ]
    },
    {
     "name": "stderr",
     "output_type": "stream",
     "text": [
      "C:\\Users\\test\\anaconda3\\lib\\site-packages\\lightgbm\\engine.py:148: UserWarning: Found `num_iterations` in params. Will use it instead of argument\n",
      "  warnings.warn(\"Found `{}` in params. Will use it instead of argument\".format(alias))\n"
     ]
    },
    {
     "name": "stdout",
     "output_type": "stream",
     "text": [
      "[CV]  bagging_fraction=1, boosting=gbdt, feature_fraction=1, is_unbalance=True, max_depth=8, metric=auc, num_iterations=300, num_leaves=256, objective=binary, score=0.744, total=  23.6s\n",
      "[CV] bagging_fraction=1, boosting=gbdt, feature_fraction=1, is_unbalance=True, max_depth=8, metric=auc, num_iterations=300, num_leaves=256, objective=binary \n"
     ]
    },
    {
     "name": "stderr",
     "output_type": "stream",
     "text": [
      "C:\\Users\\test\\anaconda3\\lib\\site-packages\\lightgbm\\engine.py:148: UserWarning: Found `num_iterations` in params. Will use it instead of argument\n",
      "  warnings.warn(\"Found `{}` in params. Will use it instead of argument\".format(alias))\n"
     ]
    },
    {
     "name": "stdout",
     "output_type": "stream",
     "text": [
      "[CV]  bagging_fraction=1, boosting=gbdt, feature_fraction=1, is_unbalance=True, max_depth=8, metric=auc, num_iterations=300, num_leaves=256, objective=binary, score=0.710, total=  23.5s\n",
      "[CV] bagging_fraction=1, boosting=gbdt, feature_fraction=1, is_unbalance=True, max_depth=8, metric=auc, num_iterations=500, num_leaves=8, objective=binary \n"
     ]
    },
    {
     "name": "stderr",
     "output_type": "stream",
     "text": [
      "C:\\Users\\test\\anaconda3\\lib\\site-packages\\lightgbm\\engine.py:148: UserWarning: Found `num_iterations` in params. Will use it instead of argument\n",
      "  warnings.warn(\"Found `{}` in params. Will use it instead of argument\".format(alias))\n"
     ]
    },
    {
     "name": "stdout",
     "output_type": "stream",
     "text": [
      "[CV]  bagging_fraction=1, boosting=gbdt, feature_fraction=1, is_unbalance=True, max_depth=8, metric=auc, num_iterations=500, num_leaves=8, objective=binary, score=0.760, total=  13.0s\n",
      "[CV] bagging_fraction=1, boosting=gbdt, feature_fraction=1, is_unbalance=True, max_depth=8, metric=auc, num_iterations=500, num_leaves=8, objective=binary \n"
     ]
    },
    {
     "name": "stderr",
     "output_type": "stream",
     "text": [
      "C:\\Users\\test\\anaconda3\\lib\\site-packages\\lightgbm\\engine.py:148: UserWarning: Found `num_iterations` in params. Will use it instead of argument\n",
      "  warnings.warn(\"Found `{}` in params. Will use it instead of argument\".format(alias))\n"
     ]
    },
    {
     "name": "stdout",
     "output_type": "stream",
     "text": [
      "[CV]  bagging_fraction=1, boosting=gbdt, feature_fraction=1, is_unbalance=True, max_depth=8, metric=auc, num_iterations=500, num_leaves=8, objective=binary, score=0.762, total=  13.4s\n",
      "[CV] bagging_fraction=1, boosting=gbdt, feature_fraction=1, is_unbalance=True, max_depth=8, metric=auc, num_iterations=500, num_leaves=8, objective=binary \n"
     ]
    },
    {
     "name": "stderr",
     "output_type": "stream",
     "text": [
      "C:\\Users\\test\\anaconda3\\lib\\site-packages\\lightgbm\\engine.py:148: UserWarning: Found `num_iterations` in params. Will use it instead of argument\n",
      "  warnings.warn(\"Found `{}` in params. Will use it instead of argument\".format(alias))\n"
     ]
    },
    {
     "name": "stdout",
     "output_type": "stream",
     "text": [
      "[CV]  bagging_fraction=1, boosting=gbdt, feature_fraction=1, is_unbalance=True, max_depth=8, metric=auc, num_iterations=500, num_leaves=8, objective=binary, score=0.763, total=  13.8s\n",
      "[CV] bagging_fraction=1, boosting=gbdt, feature_fraction=1, is_unbalance=True, max_depth=8, metric=auc, num_iterations=500, num_leaves=16, objective=binary \n"
     ]
    },
    {
     "name": "stderr",
     "output_type": "stream",
     "text": [
      "C:\\Users\\test\\anaconda3\\lib\\site-packages\\lightgbm\\engine.py:148: UserWarning: Found `num_iterations` in params. Will use it instead of argument\n",
      "  warnings.warn(\"Found `{}` in params. Will use it instead of argument\".format(alias))\n"
     ]
    },
    {
     "name": "stdout",
     "output_type": "stream",
     "text": [
      "[CV]  bagging_fraction=1, boosting=gbdt, feature_fraction=1, is_unbalance=True, max_depth=8, metric=auc, num_iterations=500, num_leaves=16, objective=binary, score=0.750, total=  16.7s\n",
      "[CV] bagging_fraction=1, boosting=gbdt, feature_fraction=1, is_unbalance=True, max_depth=8, metric=auc, num_iterations=500, num_leaves=16, objective=binary \n"
     ]
    },
    {
     "name": "stderr",
     "output_type": "stream",
     "text": [
      "C:\\Users\\test\\anaconda3\\lib\\site-packages\\lightgbm\\engine.py:148: UserWarning: Found `num_iterations` in params. Will use it instead of argument\n",
      "  warnings.warn(\"Found `{}` in params. Will use it instead of argument\".format(alias))\n"
     ]
    },
    {
     "name": "stdout",
     "output_type": "stream",
     "text": [
      "[CV]  bagging_fraction=1, boosting=gbdt, feature_fraction=1, is_unbalance=True, max_depth=8, metric=auc, num_iterations=500, num_leaves=16, objective=binary, score=0.759, total=  16.3s\n",
      "[CV] bagging_fraction=1, boosting=gbdt, feature_fraction=1, is_unbalance=True, max_depth=8, metric=auc, num_iterations=500, num_leaves=16, objective=binary \n"
     ]
    },
    {
     "name": "stderr",
     "output_type": "stream",
     "text": [
      "C:\\Users\\test\\anaconda3\\lib\\site-packages\\lightgbm\\engine.py:148: UserWarning: Found `num_iterations` in params. Will use it instead of argument\n",
      "  warnings.warn(\"Found `{}` in params. Will use it instead of argument\".format(alias))\n"
     ]
    },
    {
     "name": "stdout",
     "output_type": "stream",
     "text": [
      "[CV]  bagging_fraction=1, boosting=gbdt, feature_fraction=1, is_unbalance=True, max_depth=8, metric=auc, num_iterations=500, num_leaves=16, objective=binary, score=0.754, total=  16.2s\n",
      "[CV] bagging_fraction=1, boosting=gbdt, feature_fraction=1, is_unbalance=True, max_depth=8, metric=auc, num_iterations=500, num_leaves=32, objective=binary \n"
     ]
    },
    {
     "name": "stderr",
     "output_type": "stream",
     "text": [
      "C:\\Users\\test\\anaconda3\\lib\\site-packages\\lightgbm\\engine.py:148: UserWarning: Found `num_iterations` in params. Will use it instead of argument\n",
      "  warnings.warn(\"Found `{}` in params. Will use it instead of argument\".format(alias))\n"
     ]
    },
    {
     "name": "stdout",
     "output_type": "stream",
     "text": [
      "[CV]  bagging_fraction=1, boosting=gbdt, feature_fraction=1, is_unbalance=True, max_depth=8, metric=auc, num_iterations=500, num_leaves=32, objective=binary, score=0.742, total=  20.7s\n",
      "[CV] bagging_fraction=1, boosting=gbdt, feature_fraction=1, is_unbalance=True, max_depth=8, metric=auc, num_iterations=500, num_leaves=32, objective=binary \n"
     ]
    },
    {
     "name": "stderr",
     "output_type": "stream",
     "text": [
      "C:\\Users\\test\\anaconda3\\lib\\site-packages\\lightgbm\\engine.py:148: UserWarning: Found `num_iterations` in params. Will use it instead of argument\n",
      "  warnings.warn(\"Found `{}` in params. Will use it instead of argument\".format(alias))\n"
     ]
    },
    {
     "name": "stdout",
     "output_type": "stream",
     "text": [
      "[CV]  bagging_fraction=1, boosting=gbdt, feature_fraction=1, is_unbalance=True, max_depth=8, metric=auc, num_iterations=500, num_leaves=32, objective=binary, score=0.754, total=  20.8s\n",
      "[CV] bagging_fraction=1, boosting=gbdt, feature_fraction=1, is_unbalance=True, max_depth=8, metric=auc, num_iterations=500, num_leaves=32, objective=binary \n"
     ]
    },
    {
     "name": "stderr",
     "output_type": "stream",
     "text": [
      "C:\\Users\\test\\anaconda3\\lib\\site-packages\\lightgbm\\engine.py:148: UserWarning: Found `num_iterations` in params. Will use it instead of argument\n",
      "  warnings.warn(\"Found `{}` in params. Will use it instead of argument\".format(alias))\n"
     ]
    },
    {
     "name": "stdout",
     "output_type": "stream",
     "text": [
      "[CV]  bagging_fraction=1, boosting=gbdt, feature_fraction=1, is_unbalance=True, max_depth=8, metric=auc, num_iterations=500, num_leaves=32, objective=binary, score=0.749, total=  21.1s\n",
      "[CV] bagging_fraction=1, boosting=gbdt, feature_fraction=1, is_unbalance=True, max_depth=8, metric=auc, num_iterations=500, num_leaves=64, objective=binary \n"
     ]
    },
    {
     "name": "stderr",
     "output_type": "stream",
     "text": [
      "C:\\Users\\test\\anaconda3\\lib\\site-packages\\lightgbm\\engine.py:148: UserWarning: Found `num_iterations` in params. Will use it instead of argument\n",
      "  warnings.warn(\"Found `{}` in params. Will use it instead of argument\".format(alias))\n"
     ]
    },
    {
     "name": "stdout",
     "output_type": "stream",
     "text": [
      "[CV]  bagging_fraction=1, boosting=gbdt, feature_fraction=1, is_unbalance=True, max_depth=8, metric=auc, num_iterations=500, num_leaves=64, objective=binary, score=0.733, total=  28.1s\n",
      "[CV] bagging_fraction=1, boosting=gbdt, feature_fraction=1, is_unbalance=True, max_depth=8, metric=auc, num_iterations=500, num_leaves=64, objective=binary \n"
     ]
    },
    {
     "name": "stderr",
     "output_type": "stream",
     "text": [
      "C:\\Users\\test\\anaconda3\\lib\\site-packages\\lightgbm\\engine.py:148: UserWarning: Found `num_iterations` in params. Will use it instead of argument\n",
      "  warnings.warn(\"Found `{}` in params. Will use it instead of argument\".format(alias))\n"
     ]
    },
    {
     "name": "stdout",
     "output_type": "stream",
     "text": [
      "[CV]  bagging_fraction=1, boosting=gbdt, feature_fraction=1, is_unbalance=True, max_depth=8, metric=auc, num_iterations=500, num_leaves=64, objective=binary, score=0.746, total=  28.7s\n",
      "[CV] bagging_fraction=1, boosting=gbdt, feature_fraction=1, is_unbalance=True, max_depth=8, metric=auc, num_iterations=500, num_leaves=64, objective=binary \n"
     ]
    },
    {
     "name": "stderr",
     "output_type": "stream",
     "text": [
      "C:\\Users\\test\\anaconda3\\lib\\site-packages\\lightgbm\\engine.py:148: UserWarning: Found `num_iterations` in params. Will use it instead of argument\n",
      "  warnings.warn(\"Found `{}` in params. Will use it instead of argument\".format(alias))\n"
     ]
    },
    {
     "name": "stdout",
     "output_type": "stream",
     "text": [
      "[CV]  bagging_fraction=1, boosting=gbdt, feature_fraction=1, is_unbalance=True, max_depth=8, metric=auc, num_iterations=500, num_leaves=64, objective=binary, score=0.729, total=  28.8s\n",
      "[CV] bagging_fraction=1, boosting=gbdt, feature_fraction=1, is_unbalance=True, max_depth=8, metric=auc, num_iterations=500, num_leaves=256, objective=binary \n"
     ]
    },
    {
     "name": "stderr",
     "output_type": "stream",
     "text": [
      "C:\\Users\\test\\anaconda3\\lib\\site-packages\\lightgbm\\engine.py:148: UserWarning: Found `num_iterations` in params. Will use it instead of argument\n",
      "  warnings.warn(\"Found `{}` in params. Will use it instead of argument\".format(alias))\n"
     ]
    },
    {
     "name": "stdout",
     "output_type": "stream",
     "text": [
      "[CV]  bagging_fraction=1, boosting=gbdt, feature_fraction=1, is_unbalance=True, max_depth=8, metric=auc, num_iterations=500, num_leaves=256, objective=binary, score=0.720, total=  34.3s\n",
      "[CV] bagging_fraction=1, boosting=gbdt, feature_fraction=1, is_unbalance=True, max_depth=8, metric=auc, num_iterations=500, num_leaves=256, objective=binary \n"
     ]
    },
    {
     "name": "stderr",
     "output_type": "stream",
     "text": [
      "C:\\Users\\test\\anaconda3\\lib\\site-packages\\lightgbm\\engine.py:148: UserWarning: Found `num_iterations` in params. Will use it instead of argument\n",
      "  warnings.warn(\"Found `{}` in params. Will use it instead of argument\".format(alias))\n"
     ]
    },
    {
     "name": "stdout",
     "output_type": "stream",
     "text": [
      "[CV]  bagging_fraction=1, boosting=gbdt, feature_fraction=1, is_unbalance=True, max_depth=8, metric=auc, num_iterations=500, num_leaves=256, objective=binary, score=0.735, total=  35.5s\n",
      "[CV] bagging_fraction=1, boosting=gbdt, feature_fraction=1, is_unbalance=True, max_depth=8, metric=auc, num_iterations=500, num_leaves=256, objective=binary \n"
     ]
    },
    {
     "name": "stderr",
     "output_type": "stream",
     "text": [
      "C:\\Users\\test\\anaconda3\\lib\\site-packages\\lightgbm\\engine.py:148: UserWarning: Found `num_iterations` in params. Will use it instead of argument\n",
      "  warnings.warn(\"Found `{}` in params. Will use it instead of argument\".format(alias))\n"
     ]
    },
    {
     "name": "stdout",
     "output_type": "stream",
     "text": [
      "[CV]  bagging_fraction=1, boosting=gbdt, feature_fraction=1, is_unbalance=True, max_depth=8, metric=auc, num_iterations=500, num_leaves=256, objective=binary, score=0.699, total=  34.7s\n",
      "[CV] bagging_fraction=1, boosting=gbdt, feature_fraction=1, is_unbalance=True, max_depth=16, metric=auc, num_iterations=100, num_leaves=8, objective=binary \n"
     ]
    },
    {
     "name": "stderr",
     "output_type": "stream",
     "text": [
      "C:\\Users\\test\\anaconda3\\lib\\site-packages\\lightgbm\\engine.py:148: UserWarning: Found `num_iterations` in params. Will use it instead of argument\n",
      "  warnings.warn(\"Found `{}` in params. Will use it instead of argument\".format(alias))\n"
     ]
    },
    {
     "name": "stdout",
     "output_type": "stream",
     "text": [
      "[CV]  bagging_fraction=1, boosting=gbdt, feature_fraction=1, is_unbalance=True, max_depth=16, metric=auc, num_iterations=100, num_leaves=8, objective=binary, score=0.763, total=   5.3s\n",
      "[CV] bagging_fraction=1, boosting=gbdt, feature_fraction=1, is_unbalance=True, max_depth=16, metric=auc, num_iterations=100, num_leaves=8, objective=binary \n"
     ]
    },
    {
     "name": "stderr",
     "output_type": "stream",
     "text": [
      "C:\\Users\\test\\anaconda3\\lib\\site-packages\\lightgbm\\engine.py:148: UserWarning: Found `num_iterations` in params. Will use it instead of argument\n",
      "  warnings.warn(\"Found `{}` in params. Will use it instead of argument\".format(alias))\n"
     ]
    },
    {
     "name": "stdout",
     "output_type": "stream",
     "text": [
      "[CV]  bagging_fraction=1, boosting=gbdt, feature_fraction=1, is_unbalance=True, max_depth=16, metric=auc, num_iterations=100, num_leaves=8, objective=binary, score=0.758, total=   5.7s\n",
      "[CV] bagging_fraction=1, boosting=gbdt, feature_fraction=1, is_unbalance=True, max_depth=16, metric=auc, num_iterations=100, num_leaves=8, objective=binary \n"
     ]
    },
    {
     "name": "stderr",
     "output_type": "stream",
     "text": [
      "C:\\Users\\test\\anaconda3\\lib\\site-packages\\lightgbm\\engine.py:148: UserWarning: Found `num_iterations` in params. Will use it instead of argument\n",
      "  warnings.warn(\"Found `{}` in params. Will use it instead of argument\".format(alias))\n"
     ]
    },
    {
     "name": "stdout",
     "output_type": "stream",
     "text": [
      "[CV]  bagging_fraction=1, boosting=gbdt, feature_fraction=1, is_unbalance=True, max_depth=16, metric=auc, num_iterations=100, num_leaves=8, objective=binary, score=0.761, total=   5.4s\n",
      "[CV] bagging_fraction=1, boosting=gbdt, feature_fraction=1, is_unbalance=True, max_depth=16, metric=auc, num_iterations=100, num_leaves=16, objective=binary \n"
     ]
    },
    {
     "name": "stderr",
     "output_type": "stream",
     "text": [
      "C:\\Users\\test\\anaconda3\\lib\\site-packages\\lightgbm\\engine.py:148: UserWarning: Found `num_iterations` in params. Will use it instead of argument\n",
      "  warnings.warn(\"Found `{}` in params. Will use it instead of argument\".format(alias))\n"
     ]
    },
    {
     "name": "stdout",
     "output_type": "stream",
     "text": [
      "[CV]  bagging_fraction=1, boosting=gbdt, feature_fraction=1, is_unbalance=True, max_depth=16, metric=auc, num_iterations=100, num_leaves=16, objective=binary, score=0.765, total=   7.1s\n",
      "[CV] bagging_fraction=1, boosting=gbdt, feature_fraction=1, is_unbalance=True, max_depth=16, metric=auc, num_iterations=100, num_leaves=16, objective=binary \n"
     ]
    },
    {
     "name": "stderr",
     "output_type": "stream",
     "text": [
      "C:\\Users\\test\\anaconda3\\lib\\site-packages\\lightgbm\\engine.py:148: UserWarning: Found `num_iterations` in params. Will use it instead of argument\n",
      "  warnings.warn(\"Found `{}` in params. Will use it instead of argument\".format(alias))\n"
     ]
    },
    {
     "name": "stdout",
     "output_type": "stream",
     "text": [
      "[CV]  bagging_fraction=1, boosting=gbdt, feature_fraction=1, is_unbalance=True, max_depth=16, metric=auc, num_iterations=100, num_leaves=16, objective=binary, score=0.761, total=   6.6s\n",
      "[CV] bagging_fraction=1, boosting=gbdt, feature_fraction=1, is_unbalance=True, max_depth=16, metric=auc, num_iterations=100, num_leaves=16, objective=binary \n"
     ]
    },
    {
     "name": "stderr",
     "output_type": "stream",
     "text": [
      "C:\\Users\\test\\anaconda3\\lib\\site-packages\\lightgbm\\engine.py:148: UserWarning: Found `num_iterations` in params. Will use it instead of argument\n",
      "  warnings.warn(\"Found `{}` in params. Will use it instead of argument\".format(alias))\n"
     ]
    },
    {
     "name": "stdout",
     "output_type": "stream",
     "text": [
      "[CV]  bagging_fraction=1, boosting=gbdt, feature_fraction=1, is_unbalance=True, max_depth=16, metric=auc, num_iterations=100, num_leaves=16, objective=binary, score=0.758, total=   7.3s\n",
      "[CV] bagging_fraction=1, boosting=gbdt, feature_fraction=1, is_unbalance=True, max_depth=16, metric=auc, num_iterations=100, num_leaves=32, objective=binary \n"
     ]
    },
    {
     "name": "stderr",
     "output_type": "stream",
     "text": [
      "C:\\Users\\test\\anaconda3\\lib\\site-packages\\lightgbm\\engine.py:148: UserWarning: Found `num_iterations` in params. Will use it instead of argument\n",
      "  warnings.warn(\"Found `{}` in params. Will use it instead of argument\".format(alias))\n"
     ]
    },
    {
     "name": "stdout",
     "output_type": "stream",
     "text": [
      "[CV]  bagging_fraction=1, boosting=gbdt, feature_fraction=1, is_unbalance=True, max_depth=16, metric=auc, num_iterations=100, num_leaves=32, objective=binary, score=0.764, total=   8.8s\n",
      "[CV] bagging_fraction=1, boosting=gbdt, feature_fraction=1, is_unbalance=True, max_depth=16, metric=auc, num_iterations=100, num_leaves=32, objective=binary \n"
     ]
    },
    {
     "name": "stderr",
     "output_type": "stream",
     "text": [
      "C:\\Users\\test\\anaconda3\\lib\\site-packages\\lightgbm\\engine.py:148: UserWarning: Found `num_iterations` in params. Will use it instead of argument\n",
      "  warnings.warn(\"Found `{}` in params. Will use it instead of argument\".format(alias))\n"
     ]
    },
    {
     "name": "stdout",
     "output_type": "stream",
     "text": [
      "[CV]  bagging_fraction=1, boosting=gbdt, feature_fraction=1, is_unbalance=True, max_depth=16, metric=auc, num_iterations=100, num_leaves=32, objective=binary, score=0.761, total=   8.2s\n",
      "[CV] bagging_fraction=1, boosting=gbdt, feature_fraction=1, is_unbalance=True, max_depth=16, metric=auc, num_iterations=100, num_leaves=32, objective=binary \n"
     ]
    },
    {
     "name": "stderr",
     "output_type": "stream",
     "text": [
      "C:\\Users\\test\\anaconda3\\lib\\site-packages\\lightgbm\\engine.py:148: UserWarning: Found `num_iterations` in params. Will use it instead of argument\n",
      "  warnings.warn(\"Found `{}` in params. Will use it instead of argument\".format(alias))\n"
     ]
    },
    {
     "name": "stdout",
     "output_type": "stream",
     "text": [
      "[CV]  bagging_fraction=1, boosting=gbdt, feature_fraction=1, is_unbalance=True, max_depth=16, metric=auc, num_iterations=100, num_leaves=32, objective=binary, score=0.753, total=   8.2s\n",
      "[CV] bagging_fraction=1, boosting=gbdt, feature_fraction=1, is_unbalance=True, max_depth=16, metric=auc, num_iterations=100, num_leaves=64, objective=binary \n"
     ]
    },
    {
     "name": "stderr",
     "output_type": "stream",
     "text": [
      "C:\\Users\\test\\anaconda3\\lib\\site-packages\\lightgbm\\engine.py:148: UserWarning: Found `num_iterations` in params. Will use it instead of argument\n",
      "  warnings.warn(\"Found `{}` in params. Will use it instead of argument\".format(alias))\n"
     ]
    },
    {
     "name": "stdout",
     "output_type": "stream",
     "text": [
      "[CV]  bagging_fraction=1, boosting=gbdt, feature_fraction=1, is_unbalance=True, max_depth=16, metric=auc, num_iterations=100, num_leaves=64, objective=binary, score=0.761, total=  10.7s\n",
      "[CV] bagging_fraction=1, boosting=gbdt, feature_fraction=1, is_unbalance=True, max_depth=16, metric=auc, num_iterations=100, num_leaves=64, objective=binary \n"
     ]
    },
    {
     "name": "stderr",
     "output_type": "stream",
     "text": [
      "C:\\Users\\test\\anaconda3\\lib\\site-packages\\lightgbm\\engine.py:148: UserWarning: Found `num_iterations` in params. Will use it instead of argument\n",
      "  warnings.warn(\"Found `{}` in params. Will use it instead of argument\".format(alias))\n"
     ]
    },
    {
     "name": "stdout",
     "output_type": "stream",
     "text": [
      "[CV]  bagging_fraction=1, boosting=gbdt, feature_fraction=1, is_unbalance=True, max_depth=16, metric=auc, num_iterations=100, num_leaves=64, objective=binary, score=0.759, total=  10.6s\n",
      "[CV] bagging_fraction=1, boosting=gbdt, feature_fraction=1, is_unbalance=True, max_depth=16, metric=auc, num_iterations=100, num_leaves=64, objective=binary \n"
     ]
    },
    {
     "name": "stderr",
     "output_type": "stream",
     "text": [
      "C:\\Users\\test\\anaconda3\\lib\\site-packages\\lightgbm\\engine.py:148: UserWarning: Found `num_iterations` in params. Will use it instead of argument\n",
      "  warnings.warn(\"Found `{}` in params. Will use it instead of argument\".format(alias))\n"
     ]
    },
    {
     "name": "stdout",
     "output_type": "stream",
     "text": [
      "[CV]  bagging_fraction=1, boosting=gbdt, feature_fraction=1, is_unbalance=True, max_depth=16, metric=auc, num_iterations=100, num_leaves=64, objective=binary, score=0.749, total=  10.7s\n",
      "[CV] bagging_fraction=1, boosting=gbdt, feature_fraction=1, is_unbalance=True, max_depth=16, metric=auc, num_iterations=100, num_leaves=256, objective=binary \n"
     ]
    },
    {
     "name": "stderr",
     "output_type": "stream",
     "text": [
      "C:\\Users\\test\\anaconda3\\lib\\site-packages\\lightgbm\\engine.py:148: UserWarning: Found `num_iterations` in params. Will use it instead of argument\n",
      "  warnings.warn(\"Found `{}` in params. Will use it instead of argument\".format(alias))\n"
     ]
    },
    {
     "name": "stdout",
     "output_type": "stream",
     "text": [
      "[CV]  bagging_fraction=1, boosting=gbdt, feature_fraction=1, is_unbalance=True, max_depth=16, metric=auc, num_iterations=100, num_leaves=256, objective=binary, score=0.743, total=  20.4s\n",
      "[CV] bagging_fraction=1, boosting=gbdt, feature_fraction=1, is_unbalance=True, max_depth=16, metric=auc, num_iterations=100, num_leaves=256, objective=binary \n"
     ]
    },
    {
     "name": "stderr",
     "output_type": "stream",
     "text": [
      "C:\\Users\\test\\anaconda3\\lib\\site-packages\\lightgbm\\engine.py:148: UserWarning: Found `num_iterations` in params. Will use it instead of argument\n",
      "  warnings.warn(\"Found `{}` in params. Will use it instead of argument\".format(alias))\n"
     ]
    },
    {
     "name": "stdout",
     "output_type": "stream",
     "text": [
      "[CV]  bagging_fraction=1, boosting=gbdt, feature_fraction=1, is_unbalance=True, max_depth=16, metric=auc, num_iterations=100, num_leaves=256, objective=binary, score=0.749, total=  21.0s\n",
      "[CV] bagging_fraction=1, boosting=gbdt, feature_fraction=1, is_unbalance=True, max_depth=16, metric=auc, num_iterations=100, num_leaves=256, objective=binary \n"
     ]
    },
    {
     "name": "stderr",
     "output_type": "stream",
     "text": [
      "C:\\Users\\test\\anaconda3\\lib\\site-packages\\lightgbm\\engine.py:148: UserWarning: Found `num_iterations` in params. Will use it instead of argument\n",
      "  warnings.warn(\"Found `{}` in params. Will use it instead of argument\".format(alias))\n"
     ]
    },
    {
     "name": "stdout",
     "output_type": "stream",
     "text": [
      "[CV]  bagging_fraction=1, boosting=gbdt, feature_fraction=1, is_unbalance=True, max_depth=16, metric=auc, num_iterations=100, num_leaves=256, objective=binary, score=0.739, total=  20.9s\n",
      "[CV] bagging_fraction=1, boosting=gbdt, feature_fraction=1, is_unbalance=True, max_depth=16, metric=auc, num_iterations=300, num_leaves=8, objective=binary \n"
     ]
    },
    {
     "name": "stderr",
     "output_type": "stream",
     "text": [
      "C:\\Users\\test\\anaconda3\\lib\\site-packages\\lightgbm\\engine.py:148: UserWarning: Found `num_iterations` in params. Will use it instead of argument\n",
      "  warnings.warn(\"Found `{}` in params. Will use it instead of argument\".format(alias))\n"
     ]
    },
    {
     "name": "stdout",
     "output_type": "stream",
     "text": [
      "[CV]  bagging_fraction=1, boosting=gbdt, feature_fraction=1, is_unbalance=True, max_depth=16, metric=auc, num_iterations=300, num_leaves=8, objective=binary, score=0.763, total=   9.3s\n",
      "[CV] bagging_fraction=1, boosting=gbdt, feature_fraction=1, is_unbalance=True, max_depth=16, metric=auc, num_iterations=300, num_leaves=8, objective=binary \n"
     ]
    },
    {
     "name": "stderr",
     "output_type": "stream",
     "text": [
      "C:\\Users\\test\\anaconda3\\lib\\site-packages\\lightgbm\\engine.py:148: UserWarning: Found `num_iterations` in params. Will use it instead of argument\n",
      "  warnings.warn(\"Found `{}` in params. Will use it instead of argument\".format(alias))\n"
     ]
    },
    {
     "name": "stdout",
     "output_type": "stream",
     "text": [
      "[CV]  bagging_fraction=1, boosting=gbdt, feature_fraction=1, is_unbalance=True, max_depth=16, metric=auc, num_iterations=300, num_leaves=8, objective=binary, score=0.761, total=   9.6s\n",
      "[CV] bagging_fraction=1, boosting=gbdt, feature_fraction=1, is_unbalance=True, max_depth=16, metric=auc, num_iterations=300, num_leaves=8, objective=binary \n"
     ]
    },
    {
     "name": "stderr",
     "output_type": "stream",
     "text": [
      "C:\\Users\\test\\anaconda3\\lib\\site-packages\\lightgbm\\engine.py:148: UserWarning: Found `num_iterations` in params. Will use it instead of argument\n",
      "  warnings.warn(\"Found `{}` in params. Will use it instead of argument\".format(alias))\n"
     ]
    },
    {
     "name": "stdout",
     "output_type": "stream",
     "text": [
      "[CV]  bagging_fraction=1, boosting=gbdt, feature_fraction=1, is_unbalance=True, max_depth=16, metric=auc, num_iterations=300, num_leaves=8, objective=binary, score=0.764, total=   9.9s\n",
      "[CV] bagging_fraction=1, boosting=gbdt, feature_fraction=1, is_unbalance=True, max_depth=16, metric=auc, num_iterations=300, num_leaves=16, objective=binary \n"
     ]
    },
    {
     "name": "stderr",
     "output_type": "stream",
     "text": [
      "C:\\Users\\test\\anaconda3\\lib\\site-packages\\lightgbm\\engine.py:148: UserWarning: Found `num_iterations` in params. Will use it instead of argument\n",
      "  warnings.warn(\"Found `{}` in params. Will use it instead of argument\".format(alias))\n"
     ]
    },
    {
     "name": "stdout",
     "output_type": "stream",
     "text": [
      "[CV]  bagging_fraction=1, boosting=gbdt, feature_fraction=1, is_unbalance=True, max_depth=16, metric=auc, num_iterations=300, num_leaves=16, objective=binary, score=0.756, total=  11.9s\n",
      "[CV] bagging_fraction=1, boosting=gbdt, feature_fraction=1, is_unbalance=True, max_depth=16, metric=auc, num_iterations=300, num_leaves=16, objective=binary \n"
     ]
    },
    {
     "name": "stderr",
     "output_type": "stream",
     "text": [
      "C:\\Users\\test\\anaconda3\\lib\\site-packages\\lightgbm\\engine.py:148: UserWarning: Found `num_iterations` in params. Will use it instead of argument\n",
      "  warnings.warn(\"Found `{}` in params. Will use it instead of argument\".format(alias))\n"
     ]
    },
    {
     "name": "stdout",
     "output_type": "stream",
     "text": [
      "[CV]  bagging_fraction=1, boosting=gbdt, feature_fraction=1, is_unbalance=True, max_depth=16, metric=auc, num_iterations=300, num_leaves=16, objective=binary, score=0.761, total=  12.1s\n",
      "[CV] bagging_fraction=1, boosting=gbdt, feature_fraction=1, is_unbalance=True, max_depth=16, metric=auc, num_iterations=300, num_leaves=16, objective=binary \n"
     ]
    },
    {
     "name": "stderr",
     "output_type": "stream",
     "text": [
      "C:\\Users\\test\\anaconda3\\lib\\site-packages\\lightgbm\\engine.py:148: UserWarning: Found `num_iterations` in params. Will use it instead of argument\n",
      "  warnings.warn(\"Found `{}` in params. Will use it instead of argument\".format(alias))\n"
     ]
    },
    {
     "name": "stdout",
     "output_type": "stream",
     "text": [
      "[CV]  bagging_fraction=1, boosting=gbdt, feature_fraction=1, is_unbalance=True, max_depth=16, metric=auc, num_iterations=300, num_leaves=16, objective=binary, score=0.758, total=  12.8s\n",
      "[CV] bagging_fraction=1, boosting=gbdt, feature_fraction=1, is_unbalance=True, max_depth=16, metric=auc, num_iterations=300, num_leaves=32, objective=binary \n"
     ]
    },
    {
     "name": "stderr",
     "output_type": "stream",
     "text": [
      "C:\\Users\\test\\anaconda3\\lib\\site-packages\\lightgbm\\engine.py:148: UserWarning: Found `num_iterations` in params. Will use it instead of argument\n",
      "  warnings.warn(\"Found `{}` in params. Will use it instead of argument\".format(alias))\n"
     ]
    },
    {
     "name": "stdout",
     "output_type": "stream",
     "text": [
      "[CV]  bagging_fraction=1, boosting=gbdt, feature_fraction=1, is_unbalance=True, max_depth=16, metric=auc, num_iterations=300, num_leaves=32, objective=binary, score=0.753, total=  15.2s\n",
      "[CV] bagging_fraction=1, boosting=gbdt, feature_fraction=1, is_unbalance=True, max_depth=16, metric=auc, num_iterations=300, num_leaves=32, objective=binary \n"
     ]
    },
    {
     "name": "stderr",
     "output_type": "stream",
     "text": [
      "C:\\Users\\test\\anaconda3\\lib\\site-packages\\lightgbm\\engine.py:148: UserWarning: Found `num_iterations` in params. Will use it instead of argument\n",
      "  warnings.warn(\"Found `{}` in params. Will use it instead of argument\".format(alias))\n"
     ]
    },
    {
     "name": "stdout",
     "output_type": "stream",
     "text": [
      "[CV]  bagging_fraction=1, boosting=gbdt, feature_fraction=1, is_unbalance=True, max_depth=16, metric=auc, num_iterations=300, num_leaves=32, objective=binary, score=0.757, total=  15.2s\n",
      "[CV] bagging_fraction=1, boosting=gbdt, feature_fraction=1, is_unbalance=True, max_depth=16, metric=auc, num_iterations=300, num_leaves=32, objective=binary \n"
     ]
    },
    {
     "name": "stderr",
     "output_type": "stream",
     "text": [
      "C:\\Users\\test\\anaconda3\\lib\\site-packages\\lightgbm\\engine.py:148: UserWarning: Found `num_iterations` in params. Will use it instead of argument\n",
      "  warnings.warn(\"Found `{}` in params. Will use it instead of argument\".format(alias))\n"
     ]
    },
    {
     "name": "stdout",
     "output_type": "stream",
     "text": [
      "[CV]  bagging_fraction=1, boosting=gbdt, feature_fraction=1, is_unbalance=True, max_depth=16, metric=auc, num_iterations=300, num_leaves=32, objective=binary, score=0.751, total=  15.9s\n",
      "[CV] bagging_fraction=1, boosting=gbdt, feature_fraction=1, is_unbalance=True, max_depth=16, metric=auc, num_iterations=300, num_leaves=64, objective=binary \n"
     ]
    },
    {
     "name": "stderr",
     "output_type": "stream",
     "text": [
      "C:\\Users\\test\\anaconda3\\lib\\site-packages\\lightgbm\\engine.py:148: UserWarning: Found `num_iterations` in params. Will use it instead of argument\n",
      "  warnings.warn(\"Found `{}` in params. Will use it instead of argument\".format(alias))\n"
     ]
    },
    {
     "name": "stdout",
     "output_type": "stream",
     "text": [
      "[CV]  bagging_fraction=1, boosting=gbdt, feature_fraction=1, is_unbalance=True, max_depth=16, metric=auc, num_iterations=300, num_leaves=64, objective=binary, score=0.743, total=  20.7s\n",
      "[CV] bagging_fraction=1, boosting=gbdt, feature_fraction=1, is_unbalance=True, max_depth=16, metric=auc, num_iterations=300, num_leaves=64, objective=binary \n"
     ]
    },
    {
     "name": "stderr",
     "output_type": "stream",
     "text": [
      "C:\\Users\\test\\anaconda3\\lib\\site-packages\\lightgbm\\engine.py:148: UserWarning: Found `num_iterations` in params. Will use it instead of argument\n",
      "  warnings.warn(\"Found `{}` in params. Will use it instead of argument\".format(alias))\n"
     ]
    },
    {
     "name": "stdout",
     "output_type": "stream",
     "text": [
      "[CV]  bagging_fraction=1, boosting=gbdt, feature_fraction=1, is_unbalance=True, max_depth=16, metric=auc, num_iterations=300, num_leaves=64, objective=binary, score=0.752, total=  20.9s\n",
      "[CV] bagging_fraction=1, boosting=gbdt, feature_fraction=1, is_unbalance=True, max_depth=16, metric=auc, num_iterations=300, num_leaves=64, objective=binary \n"
     ]
    },
    {
     "name": "stderr",
     "output_type": "stream",
     "text": [
      "C:\\Users\\test\\anaconda3\\lib\\site-packages\\lightgbm\\engine.py:148: UserWarning: Found `num_iterations` in params. Will use it instead of argument\n",
      "  warnings.warn(\"Found `{}` in params. Will use it instead of argument\".format(alias))\n"
     ]
    },
    {
     "name": "stdout",
     "output_type": "stream",
     "text": [
      "[CV]  bagging_fraction=1, boosting=gbdt, feature_fraction=1, is_unbalance=True, max_depth=16, metric=auc, num_iterations=300, num_leaves=64, objective=binary, score=0.742, total=  22.4s\n",
      "[CV] bagging_fraction=1, boosting=gbdt, feature_fraction=1, is_unbalance=True, max_depth=16, metric=auc, num_iterations=300, num_leaves=256, objective=binary \n"
     ]
    },
    {
     "name": "stderr",
     "output_type": "stream",
     "text": [
      "C:\\Users\\test\\anaconda3\\lib\\site-packages\\lightgbm\\engine.py:148: UserWarning: Found `num_iterations` in params. Will use it instead of argument\n",
      "  warnings.warn(\"Found `{}` in params. Will use it instead of argument\".format(alias))\n"
     ]
    },
    {
     "name": "stdout",
     "output_type": "stream",
     "text": [
      "[CV]  bagging_fraction=1, boosting=gbdt, feature_fraction=1, is_unbalance=True, max_depth=16, metric=auc, num_iterations=300, num_leaves=256, objective=binary, score=0.721, total=  45.9s\n",
      "[CV] bagging_fraction=1, boosting=gbdt, feature_fraction=1, is_unbalance=True, max_depth=16, metric=auc, num_iterations=300, num_leaves=256, objective=binary \n"
     ]
    },
    {
     "name": "stderr",
     "output_type": "stream",
     "text": [
      "C:\\Users\\test\\anaconda3\\lib\\site-packages\\lightgbm\\engine.py:148: UserWarning: Found `num_iterations` in params. Will use it instead of argument\n",
      "  warnings.warn(\"Found `{}` in params. Will use it instead of argument\".format(alias))\n"
     ]
    },
    {
     "name": "stdout",
     "output_type": "stream",
     "text": [
      "[CV]  bagging_fraction=1, boosting=gbdt, feature_fraction=1, is_unbalance=True, max_depth=16, metric=auc, num_iterations=300, num_leaves=256, objective=binary, score=0.728, total=  47.4s\n",
      "[CV] bagging_fraction=1, boosting=gbdt, feature_fraction=1, is_unbalance=True, max_depth=16, metric=auc, num_iterations=300, num_leaves=256, objective=binary \n"
     ]
    },
    {
     "name": "stderr",
     "output_type": "stream",
     "text": [
      "C:\\Users\\test\\anaconda3\\lib\\site-packages\\lightgbm\\engine.py:148: UserWarning: Found `num_iterations` in params. Will use it instead of argument\n",
      "  warnings.warn(\"Found `{}` in params. Will use it instead of argument\".format(alias))\n"
     ]
    },
    {
     "name": "stdout",
     "output_type": "stream",
     "text": [
      "[CV]  bagging_fraction=1, boosting=gbdt, feature_fraction=1, is_unbalance=True, max_depth=16, metric=auc, num_iterations=300, num_leaves=256, objective=binary, score=0.724, total=  48.1s\n",
      "[CV] bagging_fraction=1, boosting=gbdt, feature_fraction=1, is_unbalance=True, max_depth=16, metric=auc, num_iterations=500, num_leaves=8, objective=binary \n"
     ]
    },
    {
     "name": "stderr",
     "output_type": "stream",
     "text": [
      "C:\\Users\\test\\anaconda3\\lib\\site-packages\\lightgbm\\engine.py:148: UserWarning: Found `num_iterations` in params. Will use it instead of argument\n",
      "  warnings.warn(\"Found `{}` in params. Will use it instead of argument\".format(alias))\n"
     ]
    },
    {
     "name": "stdout",
     "output_type": "stream",
     "text": [
      "[CV]  bagging_fraction=1, boosting=gbdt, feature_fraction=1, is_unbalance=True, max_depth=16, metric=auc, num_iterations=500, num_leaves=8, objective=binary, score=0.760, total=  13.8s\n",
      "[CV] bagging_fraction=1, boosting=gbdt, feature_fraction=1, is_unbalance=True, max_depth=16, metric=auc, num_iterations=500, num_leaves=8, objective=binary \n"
     ]
    },
    {
     "name": "stderr",
     "output_type": "stream",
     "text": [
      "C:\\Users\\test\\anaconda3\\lib\\site-packages\\lightgbm\\engine.py:148: UserWarning: Found `num_iterations` in params. Will use it instead of argument\n",
      "  warnings.warn(\"Found `{}` in params. Will use it instead of argument\".format(alias))\n"
     ]
    },
    {
     "name": "stdout",
     "output_type": "stream",
     "text": [
      "[CV]  bagging_fraction=1, boosting=gbdt, feature_fraction=1, is_unbalance=True, max_depth=16, metric=auc, num_iterations=500, num_leaves=8, objective=binary, score=0.762, total=  13.2s\n",
      "[CV] bagging_fraction=1, boosting=gbdt, feature_fraction=1, is_unbalance=True, max_depth=16, metric=auc, num_iterations=500, num_leaves=8, objective=binary \n"
     ]
    },
    {
     "name": "stderr",
     "output_type": "stream",
     "text": [
      "C:\\Users\\test\\anaconda3\\lib\\site-packages\\lightgbm\\engine.py:148: UserWarning: Found `num_iterations` in params. Will use it instead of argument\n",
      "  warnings.warn(\"Found `{}` in params. Will use it instead of argument\".format(alias))\n"
     ]
    },
    {
     "name": "stdout",
     "output_type": "stream",
     "text": [
      "[CV]  bagging_fraction=1, boosting=gbdt, feature_fraction=1, is_unbalance=True, max_depth=16, metric=auc, num_iterations=500, num_leaves=8, objective=binary, score=0.763, total=  13.6s\n",
      "[CV] bagging_fraction=1, boosting=gbdt, feature_fraction=1, is_unbalance=True, max_depth=16, metric=auc, num_iterations=500, num_leaves=16, objective=binary \n"
     ]
    },
    {
     "name": "stderr",
     "output_type": "stream",
     "text": [
      "C:\\Users\\test\\anaconda3\\lib\\site-packages\\lightgbm\\engine.py:148: UserWarning: Found `num_iterations` in params. Will use it instead of argument\n",
      "  warnings.warn(\"Found `{}` in params. Will use it instead of argument\".format(alias))\n"
     ]
    },
    {
     "name": "stdout",
     "output_type": "stream",
     "text": [
      "[CV]  bagging_fraction=1, boosting=gbdt, feature_fraction=1, is_unbalance=True, max_depth=16, metric=auc, num_iterations=500, num_leaves=16, objective=binary, score=0.748, total=  16.8s\n",
      "[CV] bagging_fraction=1, boosting=gbdt, feature_fraction=1, is_unbalance=True, max_depth=16, metric=auc, num_iterations=500, num_leaves=16, objective=binary \n"
     ]
    },
    {
     "name": "stderr",
     "output_type": "stream",
     "text": [
      "C:\\Users\\test\\anaconda3\\lib\\site-packages\\lightgbm\\engine.py:148: UserWarning: Found `num_iterations` in params. Will use it instead of argument\n",
      "  warnings.warn(\"Found `{}` in params. Will use it instead of argument\".format(alias))\n"
     ]
    },
    {
     "name": "stdout",
     "output_type": "stream",
     "text": [
      "[CV]  bagging_fraction=1, boosting=gbdt, feature_fraction=1, is_unbalance=True, max_depth=16, metric=auc, num_iterations=500, num_leaves=16, objective=binary, score=0.760, total=  16.7s\n",
      "[CV] bagging_fraction=1, boosting=gbdt, feature_fraction=1, is_unbalance=True, max_depth=16, metric=auc, num_iterations=500, num_leaves=16, objective=binary \n"
     ]
    },
    {
     "name": "stderr",
     "output_type": "stream",
     "text": [
      "C:\\Users\\test\\anaconda3\\lib\\site-packages\\lightgbm\\engine.py:148: UserWarning: Found `num_iterations` in params. Will use it instead of argument\n",
      "  warnings.warn(\"Found `{}` in params. Will use it instead of argument\".format(alias))\n"
     ]
    },
    {
     "name": "stdout",
     "output_type": "stream",
     "text": [
      "[CV]  bagging_fraction=1, boosting=gbdt, feature_fraction=1, is_unbalance=True, max_depth=16, metric=auc, num_iterations=500, num_leaves=16, objective=binary, score=0.756, total=  16.6s\n",
      "[CV] bagging_fraction=1, boosting=gbdt, feature_fraction=1, is_unbalance=True, max_depth=16, metric=auc, num_iterations=500, num_leaves=32, objective=binary \n"
     ]
    },
    {
     "name": "stderr",
     "output_type": "stream",
     "text": [
      "C:\\Users\\test\\anaconda3\\lib\\site-packages\\lightgbm\\engine.py:148: UserWarning: Found `num_iterations` in params. Will use it instead of argument\n",
      "  warnings.warn(\"Found `{}` in params. Will use it instead of argument\".format(alias))\n"
     ]
    },
    {
     "name": "stdout",
     "output_type": "stream",
     "text": [
      "[CV]  bagging_fraction=1, boosting=gbdt, feature_fraction=1, is_unbalance=True, max_depth=16, metric=auc, num_iterations=500, num_leaves=32, objective=binary, score=0.744, total=  21.8s\n",
      "[CV] bagging_fraction=1, boosting=gbdt, feature_fraction=1, is_unbalance=True, max_depth=16, metric=auc, num_iterations=500, num_leaves=32, objective=binary \n"
     ]
    },
    {
     "name": "stderr",
     "output_type": "stream",
     "text": [
      "C:\\Users\\test\\anaconda3\\lib\\site-packages\\lightgbm\\engine.py:148: UserWarning: Found `num_iterations` in params. Will use it instead of argument\n",
      "  warnings.warn(\"Found `{}` in params. Will use it instead of argument\".format(alias))\n"
     ]
    },
    {
     "name": "stdout",
     "output_type": "stream",
     "text": [
      "[CV]  bagging_fraction=1, boosting=gbdt, feature_fraction=1, is_unbalance=True, max_depth=16, metric=auc, num_iterations=500, num_leaves=32, objective=binary, score=0.753, total=  22.4s\n",
      "[CV] bagging_fraction=1, boosting=gbdt, feature_fraction=1, is_unbalance=True, max_depth=16, metric=auc, num_iterations=500, num_leaves=32, objective=binary \n"
     ]
    },
    {
     "name": "stderr",
     "output_type": "stream",
     "text": [
      "C:\\Users\\test\\anaconda3\\lib\\site-packages\\lightgbm\\engine.py:148: UserWarning: Found `num_iterations` in params. Will use it instead of argument\n",
      "  warnings.warn(\"Found `{}` in params. Will use it instead of argument\".format(alias))\n"
     ]
    },
    {
     "name": "stdout",
     "output_type": "stream",
     "text": [
      "[CV]  bagging_fraction=1, boosting=gbdt, feature_fraction=1, is_unbalance=True, max_depth=16, metric=auc, num_iterations=500, num_leaves=32, objective=binary, score=0.747, total=  22.6s\n",
      "[CV] bagging_fraction=1, boosting=gbdt, feature_fraction=1, is_unbalance=True, max_depth=16, metric=auc, num_iterations=500, num_leaves=64, objective=binary \n"
     ]
    },
    {
     "name": "stderr",
     "output_type": "stream",
     "text": [
      "C:\\Users\\test\\anaconda3\\lib\\site-packages\\lightgbm\\engine.py:148: UserWarning: Found `num_iterations` in params. Will use it instead of argument\n",
      "  warnings.warn(\"Found `{}` in params. Will use it instead of argument\".format(alias))\n"
     ]
    },
    {
     "name": "stdout",
     "output_type": "stream",
     "text": [
      "[CV]  bagging_fraction=1, boosting=gbdt, feature_fraction=1, is_unbalance=True, max_depth=16, metric=auc, num_iterations=500, num_leaves=64, objective=binary, score=0.730, total=  29.5s\n",
      "[CV] bagging_fraction=1, boosting=gbdt, feature_fraction=1, is_unbalance=True, max_depth=16, metric=auc, num_iterations=500, num_leaves=64, objective=binary \n"
     ]
    },
    {
     "name": "stderr",
     "output_type": "stream",
     "text": [
      "C:\\Users\\test\\anaconda3\\lib\\site-packages\\lightgbm\\engine.py:148: UserWarning: Found `num_iterations` in params. Will use it instead of argument\n",
      "  warnings.warn(\"Found `{}` in params. Will use it instead of argument\".format(alias))\n"
     ]
    },
    {
     "name": "stdout",
     "output_type": "stream",
     "text": [
      "[CV]  bagging_fraction=1, boosting=gbdt, feature_fraction=1, is_unbalance=True, max_depth=16, metric=auc, num_iterations=500, num_leaves=64, objective=binary, score=0.743, total=  30.5s\n",
      "[CV] bagging_fraction=1, boosting=gbdt, feature_fraction=1, is_unbalance=True, max_depth=16, metric=auc, num_iterations=500, num_leaves=64, objective=binary \n"
     ]
    },
    {
     "name": "stderr",
     "output_type": "stream",
     "text": [
      "C:\\Users\\test\\anaconda3\\lib\\site-packages\\lightgbm\\engine.py:148: UserWarning: Found `num_iterations` in params. Will use it instead of argument\n",
      "  warnings.warn(\"Found `{}` in params. Will use it instead of argument\".format(alias))\n"
     ]
    },
    {
     "name": "stdout",
     "output_type": "stream",
     "text": [
      "[CV]  bagging_fraction=1, boosting=gbdt, feature_fraction=1, is_unbalance=True, max_depth=16, metric=auc, num_iterations=500, num_leaves=64, objective=binary, score=0.735, total=  30.3s\n",
      "[CV] bagging_fraction=1, boosting=gbdt, feature_fraction=1, is_unbalance=True, max_depth=16, metric=auc, num_iterations=500, num_leaves=256, objective=binary \n"
     ]
    },
    {
     "name": "stderr",
     "output_type": "stream",
     "text": [
      "C:\\Users\\test\\anaconda3\\lib\\site-packages\\lightgbm\\engine.py:148: UserWarning: Found `num_iterations` in params. Will use it instead of argument\n",
      "  warnings.warn(\"Found `{}` in params. Will use it instead of argument\".format(alias))\n"
     ]
    },
    {
     "name": "stdout",
     "output_type": "stream",
     "text": [
      "[CV]  bagging_fraction=1, boosting=gbdt, feature_fraction=1, is_unbalance=True, max_depth=16, metric=auc, num_iterations=500, num_leaves=256, objective=binary, score=0.716, total= 1.2min\n",
      "[CV] bagging_fraction=1, boosting=gbdt, feature_fraction=1, is_unbalance=True, max_depth=16, metric=auc, num_iterations=500, num_leaves=256, objective=binary \n"
     ]
    },
    {
     "name": "stderr",
     "output_type": "stream",
     "text": [
      "C:\\Users\\test\\anaconda3\\lib\\site-packages\\lightgbm\\engine.py:148: UserWarning: Found `num_iterations` in params. Will use it instead of argument\n",
      "  warnings.warn(\"Found `{}` in params. Will use it instead of argument\".format(alias))\n"
     ]
    },
    {
     "name": "stdout",
     "output_type": "stream",
     "text": [
      "[CV]  bagging_fraction=1, boosting=gbdt, feature_fraction=1, is_unbalance=True, max_depth=16, metric=auc, num_iterations=500, num_leaves=256, objective=binary, score=0.722, total= 1.3min\n",
      "[CV] bagging_fraction=1, boosting=gbdt, feature_fraction=1, is_unbalance=True, max_depth=16, metric=auc, num_iterations=500, num_leaves=256, objective=binary \n"
     ]
    },
    {
     "name": "stderr",
     "output_type": "stream",
     "text": [
      "C:\\Users\\test\\anaconda3\\lib\\site-packages\\lightgbm\\engine.py:148: UserWarning: Found `num_iterations` in params. Will use it instead of argument\n",
      "  warnings.warn(\"Found `{}` in params. Will use it instead of argument\".format(alias))\n"
     ]
    },
    {
     "name": "stdout",
     "output_type": "stream",
     "text": [
      "[CV]  bagging_fraction=1, boosting=gbdt, feature_fraction=1, is_unbalance=True, max_depth=16, metric=auc, num_iterations=500, num_leaves=256, objective=binary, score=0.716, total= 1.3min\n",
      "[CV] bagging_fraction=1, boosting=gbdt, feature_fraction=1, is_unbalance=True, max_depth=-1, metric=auc, num_iterations=100, num_leaves=8, objective=binary \n"
     ]
    },
    {
     "name": "stderr",
     "output_type": "stream",
     "text": [
      "C:\\Users\\test\\anaconda3\\lib\\site-packages\\lightgbm\\engine.py:148: UserWarning: Found `num_iterations` in params. Will use it instead of argument\n",
      "  warnings.warn(\"Found `{}` in params. Will use it instead of argument\".format(alias))\n"
     ]
    },
    {
     "name": "stdout",
     "output_type": "stream",
     "text": [
      "[CV]  bagging_fraction=1, boosting=gbdt, feature_fraction=1, is_unbalance=True, max_depth=-1, metric=auc, num_iterations=100, num_leaves=8, objective=binary, score=0.763, total=   5.8s\n",
      "[CV] bagging_fraction=1, boosting=gbdt, feature_fraction=1, is_unbalance=True, max_depth=-1, metric=auc, num_iterations=100, num_leaves=8, objective=binary \n"
     ]
    },
    {
     "name": "stderr",
     "output_type": "stream",
     "text": [
      "C:\\Users\\test\\anaconda3\\lib\\site-packages\\lightgbm\\engine.py:148: UserWarning: Found `num_iterations` in params. Will use it instead of argument\n",
      "  warnings.warn(\"Found `{}` in params. Will use it instead of argument\".format(alias))\n"
     ]
    },
    {
     "name": "stdout",
     "output_type": "stream",
     "text": [
      "[CV]  bagging_fraction=1, boosting=gbdt, feature_fraction=1, is_unbalance=True, max_depth=-1, metric=auc, num_iterations=100, num_leaves=8, objective=binary, score=0.758, total=   5.9s\n",
      "[CV] bagging_fraction=1, boosting=gbdt, feature_fraction=1, is_unbalance=True, max_depth=-1, metric=auc, num_iterations=100, num_leaves=8, objective=binary \n"
     ]
    },
    {
     "name": "stderr",
     "output_type": "stream",
     "text": [
      "C:\\Users\\test\\anaconda3\\lib\\site-packages\\lightgbm\\engine.py:148: UserWarning: Found `num_iterations` in params. Will use it instead of argument\n",
      "  warnings.warn(\"Found `{}` in params. Will use it instead of argument\".format(alias))\n"
     ]
    },
    {
     "name": "stdout",
     "output_type": "stream",
     "text": [
      "[CV]  bagging_fraction=1, boosting=gbdt, feature_fraction=1, is_unbalance=True, max_depth=-1, metric=auc, num_iterations=100, num_leaves=8, objective=binary, score=0.761, total=   5.4s\n",
      "[CV] bagging_fraction=1, boosting=gbdt, feature_fraction=1, is_unbalance=True, max_depth=-1, metric=auc, num_iterations=100, num_leaves=16, objective=binary \n"
     ]
    },
    {
     "name": "stderr",
     "output_type": "stream",
     "text": [
      "C:\\Users\\test\\anaconda3\\lib\\site-packages\\lightgbm\\engine.py:148: UserWarning: Found `num_iterations` in params. Will use it instead of argument\n",
      "  warnings.warn(\"Found `{}` in params. Will use it instead of argument\".format(alias))\n"
     ]
    },
    {
     "name": "stdout",
     "output_type": "stream",
     "text": [
      "[CV]  bagging_fraction=1, boosting=gbdt, feature_fraction=1, is_unbalance=True, max_depth=-1, metric=auc, num_iterations=100, num_leaves=16, objective=binary, score=0.765, total=   7.0s\n",
      "[CV] bagging_fraction=1, boosting=gbdt, feature_fraction=1, is_unbalance=True, max_depth=-1, metric=auc, num_iterations=100, num_leaves=16, objective=binary \n"
     ]
    },
    {
     "name": "stderr",
     "output_type": "stream",
     "text": [
      "C:\\Users\\test\\anaconda3\\lib\\site-packages\\lightgbm\\engine.py:148: UserWarning: Found `num_iterations` in params. Will use it instead of argument\n",
      "  warnings.warn(\"Found `{}` in params. Will use it instead of argument\".format(alias))\n"
     ]
    },
    {
     "name": "stdout",
     "output_type": "stream",
     "text": [
      "[CV]  bagging_fraction=1, boosting=gbdt, feature_fraction=1, is_unbalance=True, max_depth=-1, metric=auc, num_iterations=100, num_leaves=16, objective=binary, score=0.761, total=   6.6s\n",
      "[CV] bagging_fraction=1, boosting=gbdt, feature_fraction=1, is_unbalance=True, max_depth=-1, metric=auc, num_iterations=100, num_leaves=16, objective=binary \n"
     ]
    },
    {
     "name": "stderr",
     "output_type": "stream",
     "text": [
      "C:\\Users\\test\\anaconda3\\lib\\site-packages\\lightgbm\\engine.py:148: UserWarning: Found `num_iterations` in params. Will use it instead of argument\n",
      "  warnings.warn(\"Found `{}` in params. Will use it instead of argument\".format(alias))\n"
     ]
    },
    {
     "name": "stdout",
     "output_type": "stream",
     "text": [
      "[CV]  bagging_fraction=1, boosting=gbdt, feature_fraction=1, is_unbalance=True, max_depth=-1, metric=auc, num_iterations=100, num_leaves=16, objective=binary, score=0.758, total=   6.7s\n",
      "[CV] bagging_fraction=1, boosting=gbdt, feature_fraction=1, is_unbalance=True, max_depth=-1, metric=auc, num_iterations=100, num_leaves=32, objective=binary \n"
     ]
    },
    {
     "name": "stderr",
     "output_type": "stream",
     "text": [
      "C:\\Users\\test\\anaconda3\\lib\\site-packages\\lightgbm\\engine.py:148: UserWarning: Found `num_iterations` in params. Will use it instead of argument\n",
      "  warnings.warn(\"Found `{}` in params. Will use it instead of argument\".format(alias))\n"
     ]
    },
    {
     "name": "stdout",
     "output_type": "stream",
     "text": [
      "[CV]  bagging_fraction=1, boosting=gbdt, feature_fraction=1, is_unbalance=True, max_depth=-1, metric=auc, num_iterations=100, num_leaves=32, objective=binary, score=0.764, total=   8.9s\n",
      "[CV] bagging_fraction=1, boosting=gbdt, feature_fraction=1, is_unbalance=True, max_depth=-1, metric=auc, num_iterations=100, num_leaves=32, objective=binary \n"
     ]
    },
    {
     "name": "stderr",
     "output_type": "stream",
     "text": [
      "C:\\Users\\test\\anaconda3\\lib\\site-packages\\lightgbm\\engine.py:148: UserWarning: Found `num_iterations` in params. Will use it instead of argument\n",
      "  warnings.warn(\"Found `{}` in params. Will use it instead of argument\".format(alias))\n"
     ]
    },
    {
     "name": "stdout",
     "output_type": "stream",
     "text": [
      "[CV]  bagging_fraction=1, boosting=gbdt, feature_fraction=1, is_unbalance=True, max_depth=-1, metric=auc, num_iterations=100, num_leaves=32, objective=binary, score=0.761, total=   9.0s\n",
      "[CV] bagging_fraction=1, boosting=gbdt, feature_fraction=1, is_unbalance=True, max_depth=-1, metric=auc, num_iterations=100, num_leaves=32, objective=binary \n"
     ]
    },
    {
     "name": "stderr",
     "output_type": "stream",
     "text": [
      "C:\\Users\\test\\anaconda3\\lib\\site-packages\\lightgbm\\engine.py:148: UserWarning: Found `num_iterations` in params. Will use it instead of argument\n",
      "  warnings.warn(\"Found `{}` in params. Will use it instead of argument\".format(alias))\n"
     ]
    },
    {
     "name": "stdout",
     "output_type": "stream",
     "text": [
      "[CV]  bagging_fraction=1, boosting=gbdt, feature_fraction=1, is_unbalance=True, max_depth=-1, metric=auc, num_iterations=100, num_leaves=32, objective=binary, score=0.754, total=   8.6s\n",
      "[CV] bagging_fraction=1, boosting=gbdt, feature_fraction=1, is_unbalance=True, max_depth=-1, metric=auc, num_iterations=100, num_leaves=64, objective=binary \n"
     ]
    },
    {
     "name": "stderr",
     "output_type": "stream",
     "text": [
      "C:\\Users\\test\\anaconda3\\lib\\site-packages\\lightgbm\\engine.py:148: UserWarning: Found `num_iterations` in params. Will use it instead of argument\n",
      "  warnings.warn(\"Found `{}` in params. Will use it instead of argument\".format(alias))\n"
     ]
    },
    {
     "name": "stdout",
     "output_type": "stream",
     "text": [
      "[CV]  bagging_fraction=1, boosting=gbdt, feature_fraction=1, is_unbalance=True, max_depth=-1, metric=auc, num_iterations=100, num_leaves=64, objective=binary, score=0.761, total=  10.5s\n",
      "[CV] bagging_fraction=1, boosting=gbdt, feature_fraction=1, is_unbalance=True, max_depth=-1, metric=auc, num_iterations=100, num_leaves=64, objective=binary \n"
     ]
    },
    {
     "name": "stderr",
     "output_type": "stream",
     "text": [
      "C:\\Users\\test\\anaconda3\\lib\\site-packages\\lightgbm\\engine.py:148: UserWarning: Found `num_iterations` in params. Will use it instead of argument\n",
      "  warnings.warn(\"Found `{}` in params. Will use it instead of argument\".format(alias))\n"
     ]
    },
    {
     "name": "stdout",
     "output_type": "stream",
     "text": [
      "[CV]  bagging_fraction=1, boosting=gbdt, feature_fraction=1, is_unbalance=True, max_depth=-1, metric=auc, num_iterations=100, num_leaves=64, objective=binary, score=0.760, total=  11.0s\n",
      "[CV] bagging_fraction=1, boosting=gbdt, feature_fraction=1, is_unbalance=True, max_depth=-1, metric=auc, num_iterations=100, num_leaves=64, objective=binary \n"
     ]
    },
    {
     "name": "stderr",
     "output_type": "stream",
     "text": [
      "C:\\Users\\test\\anaconda3\\lib\\site-packages\\lightgbm\\engine.py:148: UserWarning: Found `num_iterations` in params. Will use it instead of argument\n",
      "  warnings.warn(\"Found `{}` in params. Will use it instead of argument\".format(alias))\n"
     ]
    },
    {
     "name": "stdout",
     "output_type": "stream",
     "text": [
      "[CV]  bagging_fraction=1, boosting=gbdt, feature_fraction=1, is_unbalance=True, max_depth=-1, metric=auc, num_iterations=100, num_leaves=64, objective=binary, score=0.749, total=  10.4s\n",
      "[CV] bagging_fraction=1, boosting=gbdt, feature_fraction=1, is_unbalance=True, max_depth=-1, metric=auc, num_iterations=100, num_leaves=256, objective=binary \n"
     ]
    },
    {
     "name": "stderr",
     "output_type": "stream",
     "text": [
      "C:\\Users\\test\\anaconda3\\lib\\site-packages\\lightgbm\\engine.py:148: UserWarning: Found `num_iterations` in params. Will use it instead of argument\n",
      "  warnings.warn(\"Found `{}` in params. Will use it instead of argument\".format(alias))\n"
     ]
    },
    {
     "name": "stdout",
     "output_type": "stream",
     "text": [
      "[CV]  bagging_fraction=1, boosting=gbdt, feature_fraction=1, is_unbalance=True, max_depth=-1, metric=auc, num_iterations=100, num_leaves=256, objective=binary, score=0.745, total=  21.2s\n",
      "[CV] bagging_fraction=1, boosting=gbdt, feature_fraction=1, is_unbalance=True, max_depth=-1, metric=auc, num_iterations=100, num_leaves=256, objective=binary \n"
     ]
    },
    {
     "name": "stderr",
     "output_type": "stream",
     "text": [
      "C:\\Users\\test\\anaconda3\\lib\\site-packages\\lightgbm\\engine.py:148: UserWarning: Found `num_iterations` in params. Will use it instead of argument\n",
      "  warnings.warn(\"Found `{}` in params. Will use it instead of argument\".format(alias))\n"
     ]
    },
    {
     "name": "stdout",
     "output_type": "stream",
     "text": [
      "[CV]  bagging_fraction=1, boosting=gbdt, feature_fraction=1, is_unbalance=True, max_depth=-1, metric=auc, num_iterations=100, num_leaves=256, objective=binary, score=0.750, total=  22.0s\n",
      "[CV] bagging_fraction=1, boosting=gbdt, feature_fraction=1, is_unbalance=True, max_depth=-1, metric=auc, num_iterations=100, num_leaves=256, objective=binary \n"
     ]
    },
    {
     "name": "stderr",
     "output_type": "stream",
     "text": [
      "C:\\Users\\test\\anaconda3\\lib\\site-packages\\lightgbm\\engine.py:148: UserWarning: Found `num_iterations` in params. Will use it instead of argument\n",
      "  warnings.warn(\"Found `{}` in params. Will use it instead of argument\".format(alias))\n"
     ]
    },
    {
     "name": "stdout",
     "output_type": "stream",
     "text": [
      "[CV]  bagging_fraction=1, boosting=gbdt, feature_fraction=1, is_unbalance=True, max_depth=-1, metric=auc, num_iterations=100, num_leaves=256, objective=binary, score=0.738, total=  22.0s\n",
      "[CV] bagging_fraction=1, boosting=gbdt, feature_fraction=1, is_unbalance=True, max_depth=-1, metric=auc, num_iterations=300, num_leaves=8, objective=binary \n"
     ]
    },
    {
     "name": "stderr",
     "output_type": "stream",
     "text": [
      "C:\\Users\\test\\anaconda3\\lib\\site-packages\\lightgbm\\engine.py:148: UserWarning: Found `num_iterations` in params. Will use it instead of argument\n",
      "  warnings.warn(\"Found `{}` in params. Will use it instead of argument\".format(alias))\n"
     ]
    },
    {
     "name": "stdout",
     "output_type": "stream",
     "text": [
      "[CV]  bagging_fraction=1, boosting=gbdt, feature_fraction=1, is_unbalance=True, max_depth=-1, metric=auc, num_iterations=300, num_leaves=8, objective=binary, score=0.763, total=  10.0s\n",
      "[CV] bagging_fraction=1, boosting=gbdt, feature_fraction=1, is_unbalance=True, max_depth=-1, metric=auc, num_iterations=300, num_leaves=8, objective=binary \n"
     ]
    },
    {
     "name": "stderr",
     "output_type": "stream",
     "text": [
      "C:\\Users\\test\\anaconda3\\lib\\site-packages\\lightgbm\\engine.py:148: UserWarning: Found `num_iterations` in params. Will use it instead of argument\n",
      "  warnings.warn(\"Found `{}` in params. Will use it instead of argument\".format(alias))\n"
     ]
    },
    {
     "name": "stdout",
     "output_type": "stream",
     "text": [
      "[CV]  bagging_fraction=1, boosting=gbdt, feature_fraction=1, is_unbalance=True, max_depth=-1, metric=auc, num_iterations=300, num_leaves=8, objective=binary, score=0.761, total=   9.6s\n",
      "[CV] bagging_fraction=1, boosting=gbdt, feature_fraction=1, is_unbalance=True, max_depth=-1, metric=auc, num_iterations=300, num_leaves=8, objective=binary \n"
     ]
    },
    {
     "name": "stderr",
     "output_type": "stream",
     "text": [
      "C:\\Users\\test\\anaconda3\\lib\\site-packages\\lightgbm\\engine.py:148: UserWarning: Found `num_iterations` in params. Will use it instead of argument\n",
      "  warnings.warn(\"Found `{}` in params. Will use it instead of argument\".format(alias))\n"
     ]
    },
    {
     "name": "stdout",
     "output_type": "stream",
     "text": [
      "[CV]  bagging_fraction=1, boosting=gbdt, feature_fraction=1, is_unbalance=True, max_depth=-1, metric=auc, num_iterations=300, num_leaves=8, objective=binary, score=0.764, total=   9.5s\n",
      "[CV] bagging_fraction=1, boosting=gbdt, feature_fraction=1, is_unbalance=True, max_depth=-1, metric=auc, num_iterations=300, num_leaves=16, objective=binary \n"
     ]
    },
    {
     "name": "stderr",
     "output_type": "stream",
     "text": [
      "C:\\Users\\test\\anaconda3\\lib\\site-packages\\lightgbm\\engine.py:148: UserWarning: Found `num_iterations` in params. Will use it instead of argument\n",
      "  warnings.warn(\"Found `{}` in params. Will use it instead of argument\".format(alias))\n"
     ]
    },
    {
     "name": "stdout",
     "output_type": "stream",
     "text": [
      "[CV]  bagging_fraction=1, boosting=gbdt, feature_fraction=1, is_unbalance=True, max_depth=-1, metric=auc, num_iterations=300, num_leaves=16, objective=binary, score=0.756, total=  11.9s\n",
      "[CV] bagging_fraction=1, boosting=gbdt, feature_fraction=1, is_unbalance=True, max_depth=-1, metric=auc, num_iterations=300, num_leaves=16, objective=binary \n"
     ]
    },
    {
     "name": "stderr",
     "output_type": "stream",
     "text": [
      "C:\\Users\\test\\anaconda3\\lib\\site-packages\\lightgbm\\engine.py:148: UserWarning: Found `num_iterations` in params. Will use it instead of argument\n",
      "  warnings.warn(\"Found `{}` in params. Will use it instead of argument\".format(alias))\n"
     ]
    },
    {
     "name": "stdout",
     "output_type": "stream",
     "text": [
      "[CV]  bagging_fraction=1, boosting=gbdt, feature_fraction=1, is_unbalance=True, max_depth=-1, metric=auc, num_iterations=300, num_leaves=16, objective=binary, score=0.761, total=  12.2s\n",
      "[CV] bagging_fraction=1, boosting=gbdt, feature_fraction=1, is_unbalance=True, max_depth=-1, metric=auc, num_iterations=300, num_leaves=16, objective=binary \n"
     ]
    },
    {
     "name": "stderr",
     "output_type": "stream",
     "text": [
      "C:\\Users\\test\\anaconda3\\lib\\site-packages\\lightgbm\\engine.py:148: UserWarning: Found `num_iterations` in params. Will use it instead of argument\n",
      "  warnings.warn(\"Found `{}` in params. Will use it instead of argument\".format(alias))\n"
     ]
    },
    {
     "name": "stdout",
     "output_type": "stream",
     "text": [
      "[CV]  bagging_fraction=1, boosting=gbdt, feature_fraction=1, is_unbalance=True, max_depth=-1, metric=auc, num_iterations=300, num_leaves=16, objective=binary, score=0.758, total=  11.7s\n",
      "[CV] bagging_fraction=1, boosting=gbdt, feature_fraction=1, is_unbalance=True, max_depth=-1, metric=auc, num_iterations=300, num_leaves=32, objective=binary \n"
     ]
    },
    {
     "name": "stderr",
     "output_type": "stream",
     "text": [
      "C:\\Users\\test\\anaconda3\\lib\\site-packages\\lightgbm\\engine.py:148: UserWarning: Found `num_iterations` in params. Will use it instead of argument\n",
      "  warnings.warn(\"Found `{}` in params. Will use it instead of argument\".format(alias))\n"
     ]
    },
    {
     "name": "stdout",
     "output_type": "stream",
     "text": [
      "[CV]  bagging_fraction=1, boosting=gbdt, feature_fraction=1, is_unbalance=True, max_depth=-1, metric=auc, num_iterations=300, num_leaves=32, objective=binary, score=0.756, total=  15.7s\n",
      "[CV] bagging_fraction=1, boosting=gbdt, feature_fraction=1, is_unbalance=True, max_depth=-1, metric=auc, num_iterations=300, num_leaves=32, objective=binary \n"
     ]
    },
    {
     "name": "stderr",
     "output_type": "stream",
     "text": [
      "C:\\Users\\test\\anaconda3\\lib\\site-packages\\lightgbm\\engine.py:148: UserWarning: Found `num_iterations` in params. Will use it instead of argument\n",
      "  warnings.warn(\"Found `{}` in params. Will use it instead of argument\".format(alias))\n"
     ]
    },
    {
     "name": "stdout",
     "output_type": "stream",
     "text": [
      "[CV]  bagging_fraction=1, boosting=gbdt, feature_fraction=1, is_unbalance=True, max_depth=-1, metric=auc, num_iterations=300, num_leaves=32, objective=binary, score=0.759, total=  15.6s\n",
      "[CV] bagging_fraction=1, boosting=gbdt, feature_fraction=1, is_unbalance=True, max_depth=-1, metric=auc, num_iterations=300, num_leaves=32, objective=binary \n"
     ]
    },
    {
     "name": "stderr",
     "output_type": "stream",
     "text": [
      "C:\\Users\\test\\anaconda3\\lib\\site-packages\\lightgbm\\engine.py:148: UserWarning: Found `num_iterations` in params. Will use it instead of argument\n",
      "  warnings.warn(\"Found `{}` in params. Will use it instead of argument\".format(alias))\n"
     ]
    },
    {
     "name": "stdout",
     "output_type": "stream",
     "text": [
      "[CV]  bagging_fraction=1, boosting=gbdt, feature_fraction=1, is_unbalance=True, max_depth=-1, metric=auc, num_iterations=300, num_leaves=32, objective=binary, score=0.749, total=  15.8s\n",
      "[CV] bagging_fraction=1, boosting=gbdt, feature_fraction=1, is_unbalance=True, max_depth=-1, metric=auc, num_iterations=300, num_leaves=64, objective=binary \n"
     ]
    },
    {
     "name": "stderr",
     "output_type": "stream",
     "text": [
      "C:\\Users\\test\\anaconda3\\lib\\site-packages\\lightgbm\\engine.py:148: UserWarning: Found `num_iterations` in params. Will use it instead of argument\n",
      "  warnings.warn(\"Found `{}` in params. Will use it instead of argument\".format(alias))\n"
     ]
    },
    {
     "name": "stdout",
     "output_type": "stream",
     "text": [
      "[CV]  bagging_fraction=1, boosting=gbdt, feature_fraction=1, is_unbalance=True, max_depth=-1, metric=auc, num_iterations=300, num_leaves=64, objective=binary, score=0.744, total=  20.5s\n",
      "[CV] bagging_fraction=1, boosting=gbdt, feature_fraction=1, is_unbalance=True, max_depth=-1, metric=auc, num_iterations=300, num_leaves=64, objective=binary \n"
     ]
    },
    {
     "name": "stderr",
     "output_type": "stream",
     "text": [
      "C:\\Users\\test\\anaconda3\\lib\\site-packages\\lightgbm\\engine.py:148: UserWarning: Found `num_iterations` in params. Will use it instead of argument\n",
      "  warnings.warn(\"Found `{}` in params. Will use it instead of argument\".format(alias))\n"
     ]
    },
    {
     "name": "stdout",
     "output_type": "stream",
     "text": [
      "[CV]  bagging_fraction=1, boosting=gbdt, feature_fraction=1, is_unbalance=True, max_depth=-1, metric=auc, num_iterations=300, num_leaves=64, objective=binary, score=0.754, total=  20.9s\n",
      "[CV] bagging_fraction=1, boosting=gbdt, feature_fraction=1, is_unbalance=True, max_depth=-1, metric=auc, num_iterations=300, num_leaves=64, objective=binary \n"
     ]
    },
    {
     "name": "stderr",
     "output_type": "stream",
     "text": [
      "C:\\Users\\test\\anaconda3\\lib\\site-packages\\lightgbm\\engine.py:148: UserWarning: Found `num_iterations` in params. Will use it instead of argument\n",
      "  warnings.warn(\"Found `{}` in params. Will use it instead of argument\".format(alias))\n"
     ]
    },
    {
     "name": "stdout",
     "output_type": "stream",
     "text": [
      "[CV]  bagging_fraction=1, boosting=gbdt, feature_fraction=1, is_unbalance=True, max_depth=-1, metric=auc, num_iterations=300, num_leaves=64, objective=binary, score=0.743, total=  21.2s\n",
      "[CV] bagging_fraction=1, boosting=gbdt, feature_fraction=1, is_unbalance=True, max_depth=-1, metric=auc, num_iterations=300, num_leaves=256, objective=binary \n"
     ]
    },
    {
     "name": "stderr",
     "output_type": "stream",
     "text": [
      "C:\\Users\\test\\anaconda3\\lib\\site-packages\\lightgbm\\engine.py:148: UserWarning: Found `num_iterations` in params. Will use it instead of argument\n",
      "  warnings.warn(\"Found `{}` in params. Will use it instead of argument\".format(alias))\n"
     ]
    },
    {
     "name": "stdout",
     "output_type": "stream",
     "text": [
      "[CV]  bagging_fraction=1, boosting=gbdt, feature_fraction=1, is_unbalance=True, max_depth=-1, metric=auc, num_iterations=300, num_leaves=256, objective=binary, score=0.727, total=  46.4s\n",
      "[CV] bagging_fraction=1, boosting=gbdt, feature_fraction=1, is_unbalance=True, max_depth=-1, metric=auc, num_iterations=300, num_leaves=256, objective=binary \n"
     ]
    },
    {
     "name": "stderr",
     "output_type": "stream",
     "text": [
      "C:\\Users\\test\\anaconda3\\lib\\site-packages\\lightgbm\\engine.py:148: UserWarning: Found `num_iterations` in params. Will use it instead of argument\n",
      "  warnings.warn(\"Found `{}` in params. Will use it instead of argument\".format(alias))\n"
     ]
    },
    {
     "name": "stdout",
     "output_type": "stream",
     "text": [
      "[CV]  bagging_fraction=1, boosting=gbdt, feature_fraction=1, is_unbalance=True, max_depth=-1, metric=auc, num_iterations=300, num_leaves=256, objective=binary, score=0.734, total=  48.9s\n",
      "[CV] bagging_fraction=1, boosting=gbdt, feature_fraction=1, is_unbalance=True, max_depth=-1, metric=auc, num_iterations=300, num_leaves=256, objective=binary \n"
     ]
    },
    {
     "name": "stderr",
     "output_type": "stream",
     "text": [
      "C:\\Users\\test\\anaconda3\\lib\\site-packages\\lightgbm\\engine.py:148: UserWarning: Found `num_iterations` in params. Will use it instead of argument\n",
      "  warnings.warn(\"Found `{}` in params. Will use it instead of argument\".format(alias))\n"
     ]
    },
    {
     "name": "stdout",
     "output_type": "stream",
     "text": [
      "[CV]  bagging_fraction=1, boosting=gbdt, feature_fraction=1, is_unbalance=True, max_depth=-1, metric=auc, num_iterations=300, num_leaves=256, objective=binary, score=0.721, total=  49.5s\n",
      "[CV] bagging_fraction=1, boosting=gbdt, feature_fraction=1, is_unbalance=True, max_depth=-1, metric=auc, num_iterations=500, num_leaves=8, objective=binary \n"
     ]
    },
    {
     "name": "stderr",
     "output_type": "stream",
     "text": [
      "C:\\Users\\test\\anaconda3\\lib\\site-packages\\lightgbm\\engine.py:148: UserWarning: Found `num_iterations` in params. Will use it instead of argument\n",
      "  warnings.warn(\"Found `{}` in params. Will use it instead of argument\".format(alias))\n"
     ]
    },
    {
     "name": "stdout",
     "output_type": "stream",
     "text": [
      "[CV]  bagging_fraction=1, boosting=gbdt, feature_fraction=1, is_unbalance=True, max_depth=-1, metric=auc, num_iterations=500, num_leaves=8, objective=binary, score=0.760, total=  13.4s\n",
      "[CV] bagging_fraction=1, boosting=gbdt, feature_fraction=1, is_unbalance=True, max_depth=-1, metric=auc, num_iterations=500, num_leaves=8, objective=binary \n"
     ]
    },
    {
     "name": "stderr",
     "output_type": "stream",
     "text": [
      "C:\\Users\\test\\anaconda3\\lib\\site-packages\\lightgbm\\engine.py:148: UserWarning: Found `num_iterations` in params. Will use it instead of argument\n",
      "  warnings.warn(\"Found `{}` in params. Will use it instead of argument\".format(alias))\n"
     ]
    },
    {
     "name": "stdout",
     "output_type": "stream",
     "text": [
      "[CV]  bagging_fraction=1, boosting=gbdt, feature_fraction=1, is_unbalance=True, max_depth=-1, metric=auc, num_iterations=500, num_leaves=8, objective=binary, score=0.762, total=  13.5s\n",
      "[CV] bagging_fraction=1, boosting=gbdt, feature_fraction=1, is_unbalance=True, max_depth=-1, metric=auc, num_iterations=500, num_leaves=8, objective=binary \n"
     ]
    },
    {
     "name": "stderr",
     "output_type": "stream",
     "text": [
      "C:\\Users\\test\\anaconda3\\lib\\site-packages\\lightgbm\\engine.py:148: UserWarning: Found `num_iterations` in params. Will use it instead of argument\n",
      "  warnings.warn(\"Found `{}` in params. Will use it instead of argument\".format(alias))\n"
     ]
    },
    {
     "name": "stdout",
     "output_type": "stream",
     "text": [
      "[CV]  bagging_fraction=1, boosting=gbdt, feature_fraction=1, is_unbalance=True, max_depth=-1, metric=auc, num_iterations=500, num_leaves=8, objective=binary, score=0.763, total=  13.7s\n",
      "[CV] bagging_fraction=1, boosting=gbdt, feature_fraction=1, is_unbalance=True, max_depth=-1, metric=auc, num_iterations=500, num_leaves=16, objective=binary \n"
     ]
    },
    {
     "name": "stderr",
     "output_type": "stream",
     "text": [
      "C:\\Users\\test\\anaconda3\\lib\\site-packages\\lightgbm\\engine.py:148: UserWarning: Found `num_iterations` in params. Will use it instead of argument\n",
      "  warnings.warn(\"Found `{}` in params. Will use it instead of argument\".format(alias))\n"
     ]
    },
    {
     "name": "stdout",
     "output_type": "stream",
     "text": [
      "[CV]  bagging_fraction=1, boosting=gbdt, feature_fraction=1, is_unbalance=True, max_depth=-1, metric=auc, num_iterations=500, num_leaves=16, objective=binary, score=0.748, total=  17.0s\n",
      "[CV] bagging_fraction=1, boosting=gbdt, feature_fraction=1, is_unbalance=True, max_depth=-1, metric=auc, num_iterations=500, num_leaves=16, objective=binary \n"
     ]
    },
    {
     "name": "stderr",
     "output_type": "stream",
     "text": [
      "C:\\Users\\test\\anaconda3\\lib\\site-packages\\lightgbm\\engine.py:148: UserWarning: Found `num_iterations` in params. Will use it instead of argument\n",
      "  warnings.warn(\"Found `{}` in params. Will use it instead of argument\".format(alias))\n"
     ]
    },
    {
     "name": "stdout",
     "output_type": "stream",
     "text": [
      "[CV]  bagging_fraction=1, boosting=gbdt, feature_fraction=1, is_unbalance=True, max_depth=-1, metric=auc, num_iterations=500, num_leaves=16, objective=binary, score=0.760, total=  16.9s\n",
      "[CV] bagging_fraction=1, boosting=gbdt, feature_fraction=1, is_unbalance=True, max_depth=-1, metric=auc, num_iterations=500, num_leaves=16, objective=binary \n"
     ]
    },
    {
     "name": "stderr",
     "output_type": "stream",
     "text": [
      "C:\\Users\\test\\anaconda3\\lib\\site-packages\\lightgbm\\engine.py:148: UserWarning: Found `num_iterations` in params. Will use it instead of argument\n",
      "  warnings.warn(\"Found `{}` in params. Will use it instead of argument\".format(alias))\n"
     ]
    },
    {
     "name": "stdout",
     "output_type": "stream",
     "text": [
      "[CV]  bagging_fraction=1, boosting=gbdt, feature_fraction=1, is_unbalance=True, max_depth=-1, metric=auc, num_iterations=500, num_leaves=16, objective=binary, score=0.756, total=  16.9s\n",
      "[CV] bagging_fraction=1, boosting=gbdt, feature_fraction=1, is_unbalance=True, max_depth=-1, metric=auc, num_iterations=500, num_leaves=32, objective=binary \n"
     ]
    },
    {
     "name": "stderr",
     "output_type": "stream",
     "text": [
      "C:\\Users\\test\\anaconda3\\lib\\site-packages\\lightgbm\\engine.py:148: UserWarning: Found `num_iterations` in params. Will use it instead of argument\n",
      "  warnings.warn(\"Found `{}` in params. Will use it instead of argument\".format(alias))\n"
     ]
    },
    {
     "name": "stdout",
     "output_type": "stream",
     "text": [
      "[CV]  bagging_fraction=1, boosting=gbdt, feature_fraction=1, is_unbalance=True, max_depth=-1, metric=auc, num_iterations=500, num_leaves=32, objective=binary, score=0.741, total=  21.9s\n",
      "[CV] bagging_fraction=1, boosting=gbdt, feature_fraction=1, is_unbalance=True, max_depth=-1, metric=auc, num_iterations=500, num_leaves=32, objective=binary \n"
     ]
    },
    {
     "name": "stderr",
     "output_type": "stream",
     "text": [
      "C:\\Users\\test\\anaconda3\\lib\\site-packages\\lightgbm\\engine.py:148: UserWarning: Found `num_iterations` in params. Will use it instead of argument\n",
      "  warnings.warn(\"Found `{}` in params. Will use it instead of argument\".format(alias))\n"
     ]
    },
    {
     "name": "stdout",
     "output_type": "stream",
     "text": [
      "[CV]  bagging_fraction=1, boosting=gbdt, feature_fraction=1, is_unbalance=True, max_depth=-1, metric=auc, num_iterations=500, num_leaves=32, objective=binary, score=0.754, total=  22.0s\n",
      "[CV] bagging_fraction=1, boosting=gbdt, feature_fraction=1, is_unbalance=True, max_depth=-1, metric=auc, num_iterations=500, num_leaves=32, objective=binary \n"
     ]
    },
    {
     "name": "stderr",
     "output_type": "stream",
     "text": [
      "C:\\Users\\test\\anaconda3\\lib\\site-packages\\lightgbm\\engine.py:148: UserWarning: Found `num_iterations` in params. Will use it instead of argument\n",
      "  warnings.warn(\"Found `{}` in params. Will use it instead of argument\".format(alias))\n"
     ]
    },
    {
     "name": "stdout",
     "output_type": "stream",
     "text": [
      "[CV]  bagging_fraction=1, boosting=gbdt, feature_fraction=1, is_unbalance=True, max_depth=-1, metric=auc, num_iterations=500, num_leaves=32, objective=binary, score=0.747, total=  21.9s\n",
      "[CV] bagging_fraction=1, boosting=gbdt, feature_fraction=1, is_unbalance=True, max_depth=-1, metric=auc, num_iterations=500, num_leaves=64, objective=binary \n"
     ]
    },
    {
     "name": "stderr",
     "output_type": "stream",
     "text": [
      "C:\\Users\\test\\anaconda3\\lib\\site-packages\\lightgbm\\engine.py:148: UserWarning: Found `num_iterations` in params. Will use it instead of argument\n",
      "  warnings.warn(\"Found `{}` in params. Will use it instead of argument\".format(alias))\n"
     ]
    },
    {
     "name": "stdout",
     "output_type": "stream",
     "text": [
      "[CV]  bagging_fraction=1, boosting=gbdt, feature_fraction=1, is_unbalance=True, max_depth=-1, metric=auc, num_iterations=500, num_leaves=64, objective=binary, score=0.732, total=  29.3s\n",
      "[CV] bagging_fraction=1, boosting=gbdt, feature_fraction=1, is_unbalance=True, max_depth=-1, metric=auc, num_iterations=500, num_leaves=64, objective=binary \n"
     ]
    },
    {
     "name": "stderr",
     "output_type": "stream",
     "text": [
      "C:\\Users\\test\\anaconda3\\lib\\site-packages\\lightgbm\\engine.py:148: UserWarning: Found `num_iterations` in params. Will use it instead of argument\n",
      "  warnings.warn(\"Found `{}` in params. Will use it instead of argument\".format(alias))\n"
     ]
    },
    {
     "name": "stdout",
     "output_type": "stream",
     "text": [
      "[CV]  bagging_fraction=1, boosting=gbdt, feature_fraction=1, is_unbalance=True, max_depth=-1, metric=auc, num_iterations=500, num_leaves=64, objective=binary, score=0.745, total=  30.8s\n",
      "[CV] bagging_fraction=1, boosting=gbdt, feature_fraction=1, is_unbalance=True, max_depth=-1, metric=auc, num_iterations=500, num_leaves=64, objective=binary \n"
     ]
    },
    {
     "name": "stderr",
     "output_type": "stream",
     "text": [
      "C:\\Users\\test\\anaconda3\\lib\\site-packages\\lightgbm\\engine.py:148: UserWarning: Found `num_iterations` in params. Will use it instead of argument\n",
      "  warnings.warn(\"Found `{}` in params. Will use it instead of argument\".format(alias))\n"
     ]
    },
    {
     "name": "stdout",
     "output_type": "stream",
     "text": [
      "[CV]  bagging_fraction=1, boosting=gbdt, feature_fraction=1, is_unbalance=True, max_depth=-1, metric=auc, num_iterations=500, num_leaves=64, objective=binary, score=0.737, total=  31.3s\n",
      "[CV] bagging_fraction=1, boosting=gbdt, feature_fraction=1, is_unbalance=True, max_depth=-1, metric=auc, num_iterations=500, num_leaves=256, objective=binary \n"
     ]
    },
    {
     "name": "stderr",
     "output_type": "stream",
     "text": [
      "C:\\Users\\test\\anaconda3\\lib\\site-packages\\lightgbm\\engine.py:148: UserWarning: Found `num_iterations` in params. Will use it instead of argument\n",
      "  warnings.warn(\"Found `{}` in params. Will use it instead of argument\".format(alias))\n"
     ]
    },
    {
     "name": "stdout",
     "output_type": "stream",
     "text": [
      "[CV]  bagging_fraction=1, boosting=gbdt, feature_fraction=1, is_unbalance=True, max_depth=-1, metric=auc, num_iterations=500, num_leaves=256, objective=binary, score=0.721, total= 1.2min\n",
      "[CV] bagging_fraction=1, boosting=gbdt, feature_fraction=1, is_unbalance=True, max_depth=-1, metric=auc, num_iterations=500, num_leaves=256, objective=binary \n"
     ]
    },
    {
     "name": "stderr",
     "output_type": "stream",
     "text": [
      "C:\\Users\\test\\anaconda3\\lib\\site-packages\\lightgbm\\engine.py:148: UserWarning: Found `num_iterations` in params. Will use it instead of argument\n",
      "  warnings.warn(\"Found `{}` in params. Will use it instead of argument\".format(alias))\n"
     ]
    },
    {
     "name": "stdout",
     "output_type": "stream",
     "text": [
      "[CV]  bagging_fraction=1, boosting=gbdt, feature_fraction=1, is_unbalance=True, max_depth=-1, metric=auc, num_iterations=500, num_leaves=256, objective=binary, score=0.727, total= 1.3min\n",
      "[CV] bagging_fraction=1, boosting=gbdt, feature_fraction=1, is_unbalance=True, max_depth=-1, metric=auc, num_iterations=500, num_leaves=256, objective=binary \n"
     ]
    },
    {
     "name": "stderr",
     "output_type": "stream",
     "text": [
      "C:\\Users\\test\\anaconda3\\lib\\site-packages\\lightgbm\\engine.py:148: UserWarning: Found `num_iterations` in params. Will use it instead of argument\n",
      "  warnings.warn(\"Found `{}` in params. Will use it instead of argument\".format(alias))\n"
     ]
    },
    {
     "name": "stdout",
     "output_type": "stream",
     "text": [
      "[CV]  bagging_fraction=1, boosting=gbdt, feature_fraction=1, is_unbalance=True, max_depth=-1, metric=auc, num_iterations=500, num_leaves=256, objective=binary, score=0.714, total= 1.3min\n"
     ]
    },
    {
     "name": "stderr",
     "output_type": "stream",
     "text": [
      "[Parallel(n_jobs=1)]: Done 450 out of 450 | elapsed: 178.0min finished\n",
      "C:\\Users\\test\\anaconda3\\lib\\site-packages\\lightgbm\\engine.py:148: UserWarning: Found `num_iterations` in params. Will use it instead of argument\n",
      "  warnings.warn(\"Found `{}` in params. Will use it instead of argument\".format(alias))\n"
     ]
    },
    {
     "data": {
      "text/plain": [
       "['mean_fit_time',\n",
       " 'mean_score_time',\n",
       " 'mean_test_score',\n",
       " 'param_bagging_fraction',\n",
       " 'param_boosting',\n",
       " 'param_feature_fraction',\n",
       " 'param_is_unbalance',\n",
       " 'param_max_depth',\n",
       " 'param_metric',\n",
       " 'param_num_iterations',\n",
       " 'param_num_leaves',\n",
       " 'param_objective',\n",
       " 'params',\n",
       " 'rank_test_score',\n",
       " 'split0_test_score',\n",
       " 'split1_test_score',\n",
       " 'split2_test_score',\n",
       " 'std_fit_time',\n",
       " 'std_score_time',\n",
       " 'std_test_score']"
      ]
     },
     "execution_count": 112,
     "metadata": {},
     "output_type": "execute_result"
    }
   ],
   "source": [
    "### GRID SEARCH WIP ###\n",
    "SEARCH_PARAMS = {'max_depth':[3,4,8,16,-1],\n",
    "                 'num_leaves':[8,16,32,64,256],\n",
    "                 'bagging_fraction':[1],\n",
    "                 'feature_fraction':[1],\n",
    "                 'boosting':['dart','gbdt'],\n",
    "                 'num_iterations':[100,300,500],\n",
    "                 'objective':['binary'],\n",
    "                 'metric':['auc'],\n",
    "                 'is_unbalance':[True],\n",
    "                 \n",
    "                }\n",
    "\n",
    "\n",
    "lb = lbg.LGBMClassifier()\n",
    "clf = GridSearchCV(lb,SEARCH_PARAMS,cv = 3,verbose=10,scoring='roc_auc')\n",
    "clf.fit(data,target)\n",
    "\n",
    "sorted(clf.cv_results_.keys())"
   ]
  },
  {
   "cell_type": "code",
   "execution_count": 113,
   "metadata": {},
   "outputs": [
    {
     "name": "stdout",
     "output_type": "stream",
     "text": [
      "done\n"
     ]
    }
   ],
   "source": [
    "print(\"done\")"
   ]
  },
  {
   "cell_type": "code",
   "execution_count": 114,
   "metadata": {},
   "outputs": [
    {
     "name": "stdout",
     "output_type": "stream",
     "text": [
      "{'mean_fit_time': array([  4.65559626,   4.53235777,   4.79000441,   4.58231147,\n",
      "         4.64053917,  12.66448506,  13.24708382,  13.47350105,\n",
      "        12.82308308,  13.37882201,  23.88143245,  24.27487779,\n",
      "        24.91474994,  24.59894307,  24.08884891,   5.33239587,\n",
      "         5.76286268,   7.13091811,   6.78292569,   6.72213324,\n",
      "        19.07899793,  19.43252818,  19.01921693,  19.218973  ,\n",
      "        18.9981571 ,  32.27042119,  36.51191513,  36.67593527,\n",
      "        35.86537274,  35.07685002,   5.58638644,   7.14222336,\n",
      "         9.38186495,  12.00841824,  15.83546917,  17.22743678,\n",
      "        24.30472525,  32.43812561,  40.16299733,  56.48555144,\n",
      "        32.68730807,  44.36630543,  58.04973292,  72.86077873,\n",
      "        99.41748007,   5.72525255,   7.39899913,  10.00589514,\n",
      "        13.19068583,  26.52015265,  17.19163879,  24.53880835,\n",
      "        31.29355597,  41.42256594,  87.40887713,  30.2504104 ,\n",
      "        41.25382813,  58.30103   ,  75.57823284, 156.84813857,\n",
      "         5.93235636,   7.86791253,  10.38906463,  13.84840139,\n",
      "        27.22612794,  17.25788593,  26.30748288,  32.17372211,\n",
      "        45.46255469,  93.08960652,  34.26570797,  46.63210917,\n",
      "        61.68484783,  81.98831995, 160.74643175,   4.37324921,\n",
      "         4.33644144,   4.28337828,   4.09949223,   3.92632516,\n",
      "         7.52759965,   7.48633989,   7.52204013,   8.01446168,\n",
      "         7.77719061,  11.27005037,  11.54502892,  12.10591451,\n",
      "        11.70516141,  11.11311452,   4.32803464,   4.72155396,\n",
      "         4.65347878,   4.94237145,   5.19921827,   8.87167343,\n",
      "         9.48410145,   9.19565773,   9.7944289 ,   9.43752551,\n",
      "        11.58597724,  13.53665304,  13.54598252,  13.76576034,\n",
      "        13.86490854,   4.68769924,   6.07880092,   7.37381117,\n",
      "         9.06637526,  10.84634312,   8.99989653,  10.45247738,\n",
      "        13.56819797,  17.80597377,  21.77251307,  12.4583722 ,\n",
      "        15.36353342,  19.67830475,  26.97899977,  32.99977056,\n",
      "         4.82724182,   6.32498336,   7.74594212,   9.97201435,\n",
      "        19.99755541,   8.80948869,  11.36489558,  14.54901314,\n",
      "        20.38466287,  45.83904513,  12.5174524 ,  15.70442065,\n",
      "        21.10022052,  28.84352628,  72.95692293,   5.08127507,\n",
      "         6.12038247,   8.13989727,   9.95028488,  20.90426397,\n",
      "         8.83560411,  11.15003157,  14.80494984,  19.88748797,\n",
      "        47.10553821,  12.5545795 ,  15.91836238,  20.86401852,\n",
      "        29.21834763,  74.78461297]), 'std_fit_time': array([0.06335138, 0.07384759, 0.20731676, 0.01547288, 0.15209225,\n",
      "       0.28468642, 0.24118343, 0.21570127, 0.24684101, 0.28666034,\n",
      "       0.55792097, 0.2949662 , 0.36076903, 0.51148374, 0.39457851,\n",
      "       0.14078876, 0.25710746, 0.96052836, 0.29418139, 0.5219429 ,\n",
      "       0.71956614, 0.73520974, 0.24695706, 0.24136468, 0.16291169,\n",
      "       0.18271321, 2.21615675, 1.46893069, 1.1138483 , 2.17306301,\n",
      "       0.20669093, 0.09539123, 0.60082616, 0.19726116, 0.31742022,\n",
      "       0.13490218, 0.191942  , 0.31721215, 0.66606688, 2.42785044,\n",
      "       0.38242766, 0.49128677, 0.43624778, 2.96200175, 1.39333262,\n",
      "       0.31068019, 0.20693568, 0.1962511 , 0.17895111, 0.50634495,\n",
      "       0.21225205, 0.4461576 , 0.33121415, 0.49487749, 4.07859525,\n",
      "       0.29102852, 0.52223418, 0.38649124, 0.82509421, 8.53998633,\n",
      "       0.20147897, 0.41141097, 0.27932317, 0.21758513, 0.50896558,\n",
      "       0.69340289, 1.27070166, 0.14710309, 1.76985819, 2.78977895,\n",
      "       0.24940154, 1.76355585, 1.72388268, 0.61869582, 1.76614011,\n",
      "       0.06898304, 0.16490397, 0.30514926, 0.33392731, 0.06483955,\n",
      "       0.25964336, 0.28425271, 0.13957227, 0.41120085, 0.14389051,\n",
      "       0.16111036, 0.5531096 , 1.07900013, 0.4788519 , 0.29246891,\n",
      "       0.02705474, 0.15644606, 0.07522745, 0.12652917, 0.10703458,\n",
      "       0.08363732, 0.34924054, 0.27568228, 0.04520183, 0.15453536,\n",
      "       0.04122355, 0.18956631, 0.40796261, 0.31519971, 0.4160481 ,\n",
      "       0.03462267, 0.1433823 , 0.19212856, 0.12032226, 0.15872966,\n",
      "       0.1007545 , 0.05836514, 0.10052381, 0.2662736 , 0.63116108,\n",
      "       0.25999965, 0.22836607, 0.16402885, 0.33220461, 0.5275202 ,\n",
      "       0.14491427, 0.30450957, 0.28491973, 0.06922832, 0.30248343,\n",
      "       0.22974624, 0.42754715, 0.32262503, 0.74945659, 0.9563901 ,\n",
      "       0.198248  , 0.05519666, 0.33072035, 0.46025972, 2.26887929,\n",
      "       0.22738835, 0.16523645, 0.17413874, 0.24790426, 0.43162398,\n",
      "       0.22764694, 0.2171636 , 0.1547293 , 0.29568443, 1.37105612,\n",
      "       0.08273905, 0.08866064, 0.02392365, 0.83714312, 1.79490618]), 'mean_score_time': array([0.62529572, 0.59375262, 0.59472108, 0.5865922 , 0.57905062,\n",
      "       0.76685516, 0.78014207, 0.78488787, 0.77833025, 0.78905137,\n",
      "       0.9699707 , 0.95040409, 1.01072574, 0.9557426 , 0.9725194 ,\n",
      "       0.60756175, 0.62278597, 0.69795736, 0.66257954, 0.68755237,\n",
      "       0.92580628, 0.92490069, 0.9458677 , 0.90113219, 0.91733988,\n",
      "       1.05020587, 1.14074389, 1.16131894, 1.12894599, 1.11601377,\n",
      "       0.60338585, 0.64793404, 0.66668948, 0.73262231, 0.75105023,\n",
      "       0.86816152, 0.94449981, 1.05395349, 1.13016907, 1.36405778,\n",
      "       1.06600062, 1.19356402, 1.36634501, 1.5864226 , 1.78878419,\n",
      "       0.62000918, 0.64009031, 0.66875553, 0.71907592, 0.78421911,\n",
      "       0.82333231, 0.92053358, 1.00027895, 1.15880585, 1.45089587,\n",
      "       1.06157295, 1.15433168, 1.35492055, 1.49442172, 1.95410554,\n",
      "       0.62596424, 0.65524213, 0.68720746, 0.7348632 , 0.77953164,\n",
      "       0.82426524, 0.9182241 , 1.01583282, 1.12629525, 1.40543803,\n",
      "       1.07760119, 1.24598471, 1.33609788, 1.56478039, 1.94573482,\n",
      "       0.60801125, 0.61544283, 0.60752471, 0.61321545, 0.61069496,\n",
      "       0.79223617, 0.8024176 , 0.80649869, 0.7976613 , 0.87313374,\n",
      "       1.02579912, 1.03245433, 1.08631214, 1.09468222, 1.03881947,\n",
      "       0.63000321, 0.64318736, 0.64032737, 0.65722322, 0.63637988,\n",
      "       0.83795452, 0.93190614, 0.88964987, 0.94713871, 0.88609997,\n",
      "       0.96868658, 1.15097268, 1.26477639, 1.19750508, 1.18678149,\n",
      "       0.64115516, 0.6590306 , 0.68476733, 0.75596921, 0.77746264,\n",
      "       0.79083053, 0.84869885, 0.93816423, 1.10713601, 1.34071104,\n",
      "       0.94723535, 1.00132521, 1.14769069, 1.52225335, 1.84411454,\n",
      "       0.6224281 , 0.66540257, 0.67590944, 0.6882867 , 0.78248636,\n",
      "       0.79010113, 0.89280534, 0.87532473, 0.95757302, 1.29265014,\n",
      "       1.05153052, 0.99358273, 1.17453702, 1.24068459, 1.85681089,\n",
      "       0.62701654, 0.64886268, 0.68768247, 0.70253245, 0.80896632,\n",
      "       0.84114337, 0.8186988 , 0.90839831, 0.98222589, 1.16034659,\n",
      "       0.95803046, 1.00886257, 1.06407205, 1.24743891, 1.58620644]), 'std_score_time': array([0.03596773, 0.02325221, 0.00303238, 0.01832316, 0.00091056,\n",
      "       0.0219165 , 0.01005302, 0.01974238, 0.02320136, 0.01313051,\n",
      "       0.03798138, 0.00634411, 0.0461141 , 0.01946108, 0.01435026,\n",
      "       0.01321776, 0.00869219, 0.08610607, 0.01517805, 0.03121378,\n",
      "       0.05449951, 0.03096115, 0.06743385, 0.01770029, 0.01775175,\n",
      "       0.02199231, 0.02836933, 0.03282094, 0.00849278, 0.03118985,\n",
      "       0.01199544, 0.00523644, 0.01262551, 0.03974304, 0.01147973,\n",
      "       0.03434916, 0.01672264, 0.05345977, 0.01282336, 0.05529111,\n",
      "       0.0330001 , 0.00591851, 0.09180886, 0.05128484, 0.01268985,\n",
      "       0.00952039, 0.01345186, 0.02131449, 0.00075775, 0.01382327,\n",
      "       0.012559  , 0.01468899, 0.01375483, 0.10655082, 0.04520918,\n",
      "       0.04877013, 0.01562339, 0.00490925, 0.0190019 , 0.03529265,\n",
      "       0.01346166, 0.01411353, 0.01612309, 0.03982619, 0.00336301,\n",
      "       0.00771809, 0.01799692, 0.00622119, 0.02749949, 0.05920711,\n",
      "       0.06770793, 0.03891385, 0.02610377, 0.04993626, 0.04921078,\n",
      "       0.00192906, 0.00493425, 0.01327377, 0.01050065, 0.01328805,\n",
      "       0.02121013, 0.0141865 , 0.01800212, 0.01471486, 0.03309977,\n",
      "       0.02102481, 0.02094757, 0.07728622, 0.08091217, 0.0324469 ,\n",
      "       0.02520646, 0.02340315, 0.02116384, 0.02343531, 0.02482138,\n",
      "       0.04904543, 0.02980279, 0.00312514, 0.04388872, 0.00210253,\n",
      "       0.01027189, 0.01317554, 0.12657519, 0.027311  , 0.04826989,\n",
      "       0.02529312, 0.0204546 , 0.01021971, 0.04242882, 0.03424299,\n",
      "       0.01089238, 0.04394861, 0.03871751, 0.03503187, 0.0750582 ,\n",
      "       0.06253986, 0.00346213, 0.00326654, 0.04467035, 0.0832424 ,\n",
      "       0.0050718 , 0.01894935, 0.01742163, 0.0119204 , 0.03926876,\n",
      "       0.00731171, 0.0223977 , 0.02018032, 0.02049746, 0.03783616,\n",
      "       0.05466146, 0.00279587, 0.0407476 , 0.02917564, 0.06515757,\n",
      "       0.01916982, 0.00490647, 0.02296491, 0.0125028 , 0.06387147,\n",
      "       0.03949927, 0.0142538 , 0.03907279, 0.03301043, 0.03142882,\n",
      "       0.04643094, 0.03713519, 0.02268957, 0.03075746, 0.04788573]), 'param_bagging_fraction': masked_array(data=[1, 1, 1, 1, 1, 1, 1, 1, 1, 1, 1, 1, 1, 1, 1, 1, 1, 1,\n",
      "                   1, 1, 1, 1, 1, 1, 1, 1, 1, 1, 1, 1, 1, 1, 1, 1, 1, 1,\n",
      "                   1, 1, 1, 1, 1, 1, 1, 1, 1, 1, 1, 1, 1, 1, 1, 1, 1, 1,\n",
      "                   1, 1, 1, 1, 1, 1, 1, 1, 1, 1, 1, 1, 1, 1, 1, 1, 1, 1,\n",
      "                   1, 1, 1, 1, 1, 1, 1, 1, 1, 1, 1, 1, 1, 1, 1, 1, 1, 1,\n",
      "                   1, 1, 1, 1, 1, 1, 1, 1, 1, 1, 1, 1, 1, 1, 1, 1, 1, 1,\n",
      "                   1, 1, 1, 1, 1, 1, 1, 1, 1, 1, 1, 1, 1, 1, 1, 1, 1, 1,\n",
      "                   1, 1, 1, 1, 1, 1, 1, 1, 1, 1, 1, 1, 1, 1, 1, 1, 1, 1,\n",
      "                   1, 1, 1, 1, 1, 1],\n",
      "             mask=[False, False, False, False, False, False, False, False,\n",
      "                   False, False, False, False, False, False, False, False,\n",
      "                   False, False, False, False, False, False, False, False,\n",
      "                   False, False, False, False, False, False, False, False,\n",
      "                   False, False, False, False, False, False, False, False,\n",
      "                   False, False, False, False, False, False, False, False,\n",
      "                   False, False, False, False, False, False, False, False,\n",
      "                   False, False, False, False, False, False, False, False,\n",
      "                   False, False, False, False, False, False, False, False,\n",
      "                   False, False, False, False, False, False, False, False,\n",
      "                   False, False, False, False, False, False, False, False,\n",
      "                   False, False, False, False, False, False, False, False,\n",
      "                   False, False, False, False, False, False, False, False,\n",
      "                   False, False, False, False, False, False, False, False,\n",
      "                   False, False, False, False, False, False, False, False,\n",
      "                   False, False, False, False, False, False, False, False,\n",
      "                   False, False, False, False, False, False, False, False,\n",
      "                   False, False, False, False, False, False, False, False,\n",
      "                   False, False, False, False, False, False],\n",
      "       fill_value='?',\n",
      "            dtype=object), 'param_boosting': masked_array(data=['dart', 'dart', 'dart', 'dart', 'dart', 'dart', 'dart',\n",
      "                   'dart', 'dart', 'dart', 'dart', 'dart', 'dart', 'dart',\n",
      "                   'dart', 'dart', 'dart', 'dart', 'dart', 'dart', 'dart',\n",
      "                   'dart', 'dart', 'dart', 'dart', 'dart', 'dart', 'dart',\n",
      "                   'dart', 'dart', 'dart', 'dart', 'dart', 'dart', 'dart',\n",
      "                   'dart', 'dart', 'dart', 'dart', 'dart', 'dart', 'dart',\n",
      "                   'dart', 'dart', 'dart', 'dart', 'dart', 'dart', 'dart',\n",
      "                   'dart', 'dart', 'dart', 'dart', 'dart', 'dart', 'dart',\n",
      "                   'dart', 'dart', 'dart', 'dart', 'dart', 'dart', 'dart',\n",
      "                   'dart', 'dart', 'dart', 'dart', 'dart', 'dart', 'dart',\n",
      "                   'dart', 'dart', 'dart', 'dart', 'dart', 'gbdt', 'gbdt',\n",
      "                   'gbdt', 'gbdt', 'gbdt', 'gbdt', 'gbdt', 'gbdt', 'gbdt',\n",
      "                   'gbdt', 'gbdt', 'gbdt', 'gbdt', 'gbdt', 'gbdt', 'gbdt',\n",
      "                   'gbdt', 'gbdt', 'gbdt', 'gbdt', 'gbdt', 'gbdt', 'gbdt',\n",
      "                   'gbdt', 'gbdt', 'gbdt', 'gbdt', 'gbdt', 'gbdt', 'gbdt',\n",
      "                   'gbdt', 'gbdt', 'gbdt', 'gbdt', 'gbdt', 'gbdt', 'gbdt',\n",
      "                   'gbdt', 'gbdt', 'gbdt', 'gbdt', 'gbdt', 'gbdt', 'gbdt',\n",
      "                   'gbdt', 'gbdt', 'gbdt', 'gbdt', 'gbdt', 'gbdt', 'gbdt',\n",
      "                   'gbdt', 'gbdt', 'gbdt', 'gbdt', 'gbdt', 'gbdt', 'gbdt',\n",
      "                   'gbdt', 'gbdt', 'gbdt', 'gbdt', 'gbdt', 'gbdt', 'gbdt',\n",
      "                   'gbdt', 'gbdt', 'gbdt', 'gbdt', 'gbdt', 'gbdt', 'gbdt',\n",
      "                   'gbdt', 'gbdt', 'gbdt'],\n",
      "             mask=[False, False, False, False, False, False, False, False,\n",
      "                   False, False, False, False, False, False, False, False,\n",
      "                   False, False, False, False, False, False, False, False,\n",
      "                   False, False, False, False, False, False, False, False,\n",
      "                   False, False, False, False, False, False, False, False,\n",
      "                   False, False, False, False, False, False, False, False,\n",
      "                   False, False, False, False, False, False, False, False,\n",
      "                   False, False, False, False, False, False, False, False,\n",
      "                   False, False, False, False, False, False, False, False,\n",
      "                   False, False, False, False, False, False, False, False,\n",
      "                   False, False, False, False, False, False, False, False,\n",
      "                   False, False, False, False, False, False, False, False,\n",
      "                   False, False, False, False, False, False, False, False,\n",
      "                   False, False, False, False, False, False, False, False,\n",
      "                   False, False, False, False, False, False, False, False,\n",
      "                   False, False, False, False, False, False, False, False,\n",
      "                   False, False, False, False, False, False, False, False,\n",
      "                   False, False, False, False, False, False, False, False,\n",
      "                   False, False, False, False, False, False],\n",
      "       fill_value='?',\n",
      "            dtype=object), 'param_feature_fraction': masked_array(data=[1, 1, 1, 1, 1, 1, 1, 1, 1, 1, 1, 1, 1, 1, 1, 1, 1, 1,\n",
      "                   1, 1, 1, 1, 1, 1, 1, 1, 1, 1, 1, 1, 1, 1, 1, 1, 1, 1,\n",
      "                   1, 1, 1, 1, 1, 1, 1, 1, 1, 1, 1, 1, 1, 1, 1, 1, 1, 1,\n",
      "                   1, 1, 1, 1, 1, 1, 1, 1, 1, 1, 1, 1, 1, 1, 1, 1, 1, 1,\n",
      "                   1, 1, 1, 1, 1, 1, 1, 1, 1, 1, 1, 1, 1, 1, 1, 1, 1, 1,\n",
      "                   1, 1, 1, 1, 1, 1, 1, 1, 1, 1, 1, 1, 1, 1, 1, 1, 1, 1,\n",
      "                   1, 1, 1, 1, 1, 1, 1, 1, 1, 1, 1, 1, 1, 1, 1, 1, 1, 1,\n",
      "                   1, 1, 1, 1, 1, 1, 1, 1, 1, 1, 1, 1, 1, 1, 1, 1, 1, 1,\n",
      "                   1, 1, 1, 1, 1, 1],\n",
      "             mask=[False, False, False, False, False, False, False, False,\n",
      "                   False, False, False, False, False, False, False, False,\n",
      "                   False, False, False, False, False, False, False, False,\n",
      "                   False, False, False, False, False, False, False, False,\n",
      "                   False, False, False, False, False, False, False, False,\n",
      "                   False, False, False, False, False, False, False, False,\n",
      "                   False, False, False, False, False, False, False, False,\n",
      "                   False, False, False, False, False, False, False, False,\n",
      "                   False, False, False, False, False, False, False, False,\n",
      "                   False, False, False, False, False, False, False, False,\n",
      "                   False, False, False, False, False, False, False, False,\n",
      "                   False, False, False, False, False, False, False, False,\n",
      "                   False, False, False, False, False, False, False, False,\n",
      "                   False, False, False, False, False, False, False, False,\n",
      "                   False, False, False, False, False, False, False, False,\n",
      "                   False, False, False, False, False, False, False, False,\n",
      "                   False, False, False, False, False, False, False, False,\n",
      "                   False, False, False, False, False, False, False, False,\n",
      "                   False, False, False, False, False, False],\n",
      "       fill_value='?',\n",
      "            dtype=object), 'param_is_unbalance': masked_array(data=[True, True, True, True, True, True, True, True, True,\n",
      "                   True, True, True, True, True, True, True, True, True,\n",
      "                   True, True, True, True, True, True, True, True, True,\n",
      "                   True, True, True, True, True, True, True, True, True,\n",
      "                   True, True, True, True, True, True, True, True, True,\n",
      "                   True, True, True, True, True, True, True, True, True,\n",
      "                   True, True, True, True, True, True, True, True, True,\n",
      "                   True, True, True, True, True, True, True, True, True,\n",
      "                   True, True, True, True, True, True, True, True, True,\n",
      "                   True, True, True, True, True, True, True, True, True,\n",
      "                   True, True, True, True, True, True, True, True, True,\n",
      "                   True, True, True, True, True, True, True, True, True,\n",
      "                   True, True, True, True, True, True, True, True, True,\n",
      "                   True, True, True, True, True, True, True, True, True,\n",
      "                   True, True, True, True, True, True, True, True, True,\n",
      "                   True, True, True, True, True, True, True, True, True,\n",
      "                   True, True, True, True, True, True],\n",
      "             mask=[False, False, False, False, False, False, False, False,\n",
      "                   False, False, False, False, False, False, False, False,\n",
      "                   False, False, False, False, False, False, False, False,\n",
      "                   False, False, False, False, False, False, False, False,\n",
      "                   False, False, False, False, False, False, False, False,\n",
      "                   False, False, False, False, False, False, False, False,\n",
      "                   False, False, False, False, False, False, False, False,\n",
      "                   False, False, False, False, False, False, False, False,\n",
      "                   False, False, False, False, False, False, False, False,\n",
      "                   False, False, False, False, False, False, False, False,\n",
      "                   False, False, False, False, False, False, False, False,\n",
      "                   False, False, False, False, False, False, False, False,\n",
      "                   False, False, False, False, False, False, False, False,\n",
      "                   False, False, False, False, False, False, False, False,\n",
      "                   False, False, False, False, False, False, False, False,\n",
      "                   False, False, False, False, False, False, False, False,\n",
      "                   False, False, False, False, False, False, False, False,\n",
      "                   False, False, False, False, False, False, False, False,\n",
      "                   False, False, False, False, False, False],\n",
      "       fill_value='?',\n",
      "            dtype=object), 'param_max_depth': masked_array(data=[3, 3, 3, 3, 3, 3, 3, 3, 3, 3, 3, 3, 3, 3, 3, 4, 4, 4,\n",
      "                   4, 4, 4, 4, 4, 4, 4, 4, 4, 4, 4, 4, 8, 8, 8, 8, 8, 8,\n",
      "                   8, 8, 8, 8, 8, 8, 8, 8, 8, 16, 16, 16, 16, 16, 16, 16,\n",
      "                   16, 16, 16, 16, 16, 16, 16, 16, -1, -1, -1, -1, -1, -1,\n",
      "                   -1, -1, -1, -1, -1, -1, -1, -1, -1, 3, 3, 3, 3, 3, 3,\n",
      "                   3, 3, 3, 3, 3, 3, 3, 3, 3, 4, 4, 4, 4, 4, 4, 4, 4, 4,\n",
      "                   4, 4, 4, 4, 4, 4, 8, 8, 8, 8, 8, 8, 8, 8, 8, 8, 8, 8,\n",
      "                   8, 8, 8, 16, 16, 16, 16, 16, 16, 16, 16, 16, 16, 16,\n",
      "                   16, 16, 16, 16, -1, -1, -1, -1, -1, -1, -1, -1, -1, -1,\n",
      "                   -1, -1, -1, -1, -1],\n",
      "             mask=[False, False, False, False, False, False, False, False,\n",
      "                   False, False, False, False, False, False, False, False,\n",
      "                   False, False, False, False, False, False, False, False,\n",
      "                   False, False, False, False, False, False, False, False,\n",
      "                   False, False, False, False, False, False, False, False,\n",
      "                   False, False, False, False, False, False, False, False,\n",
      "                   False, False, False, False, False, False, False, False,\n",
      "                   False, False, False, False, False, False, False, False,\n",
      "                   False, False, False, False, False, False, False, False,\n",
      "                   False, False, False, False, False, False, False, False,\n",
      "                   False, False, False, False, False, False, False, False,\n",
      "                   False, False, False, False, False, False, False, False,\n",
      "                   False, False, False, False, False, False, False, False,\n",
      "                   False, False, False, False, False, False, False, False,\n",
      "                   False, False, False, False, False, False, False, False,\n",
      "                   False, False, False, False, False, False, False, False,\n",
      "                   False, False, False, False, False, False, False, False,\n",
      "                   False, False, False, False, False, False, False, False,\n",
      "                   False, False, False, False, False, False],\n",
      "       fill_value='?',\n",
      "            dtype=object), 'param_metric': masked_array(data=['auc', 'auc', 'auc', 'auc', 'auc', 'auc', 'auc', 'auc',\n",
      "                   'auc', 'auc', 'auc', 'auc', 'auc', 'auc', 'auc', 'auc',\n",
      "                   'auc', 'auc', 'auc', 'auc', 'auc', 'auc', 'auc', 'auc',\n",
      "                   'auc', 'auc', 'auc', 'auc', 'auc', 'auc', 'auc', 'auc',\n",
      "                   'auc', 'auc', 'auc', 'auc', 'auc', 'auc', 'auc', 'auc',\n",
      "                   'auc', 'auc', 'auc', 'auc', 'auc', 'auc', 'auc', 'auc',\n",
      "                   'auc', 'auc', 'auc', 'auc', 'auc', 'auc', 'auc', 'auc',\n",
      "                   'auc', 'auc', 'auc', 'auc', 'auc', 'auc', 'auc', 'auc',\n",
      "                   'auc', 'auc', 'auc', 'auc', 'auc', 'auc', 'auc', 'auc',\n",
      "                   'auc', 'auc', 'auc', 'auc', 'auc', 'auc', 'auc', 'auc',\n",
      "                   'auc', 'auc', 'auc', 'auc', 'auc', 'auc', 'auc', 'auc',\n",
      "                   'auc', 'auc', 'auc', 'auc', 'auc', 'auc', 'auc', 'auc',\n",
      "                   'auc', 'auc', 'auc', 'auc', 'auc', 'auc', 'auc', 'auc',\n",
      "                   'auc', 'auc', 'auc', 'auc', 'auc', 'auc', 'auc', 'auc',\n",
      "                   'auc', 'auc', 'auc', 'auc', 'auc', 'auc', 'auc', 'auc',\n",
      "                   'auc', 'auc', 'auc', 'auc', 'auc', 'auc', 'auc', 'auc',\n",
      "                   'auc', 'auc', 'auc', 'auc', 'auc', 'auc', 'auc', 'auc',\n",
      "                   'auc', 'auc', 'auc', 'auc', 'auc', 'auc', 'auc', 'auc',\n",
      "                   'auc', 'auc', 'auc', 'auc', 'auc', 'auc'],\n",
      "             mask=[False, False, False, False, False, False, False, False,\n",
      "                   False, False, False, False, False, False, False, False,\n",
      "                   False, False, False, False, False, False, False, False,\n",
      "                   False, False, False, False, False, False, False, False,\n",
      "                   False, False, False, False, False, False, False, False,\n",
      "                   False, False, False, False, False, False, False, False,\n",
      "                   False, False, False, False, False, False, False, False,\n",
      "                   False, False, False, False, False, False, False, False,\n",
      "                   False, False, False, False, False, False, False, False,\n",
      "                   False, False, False, False, False, False, False, False,\n",
      "                   False, False, False, False, False, False, False, False,\n",
      "                   False, False, False, False, False, False, False, False,\n",
      "                   False, False, False, False, False, False, False, False,\n",
      "                   False, False, False, False, False, False, False, False,\n",
      "                   False, False, False, False, False, False, False, False,\n",
      "                   False, False, False, False, False, False, False, False,\n",
      "                   False, False, False, False, False, False, False, False,\n",
      "                   False, False, False, False, False, False, False, False,\n",
      "                   False, False, False, False, False, False],\n",
      "       fill_value='?',\n",
      "            dtype=object), 'param_num_iterations': masked_array(data=[100, 100, 100, 100, 100, 300, 300, 300, 300, 300, 500,\n",
      "                   500, 500, 500, 500, 100, 100, 100, 100, 100, 300, 300,\n",
      "                   300, 300, 300, 500, 500, 500, 500, 500, 100, 100, 100,\n",
      "                   100, 100, 300, 300, 300, 300, 300, 500, 500, 500, 500,\n",
      "                   500, 100, 100, 100, 100, 100, 300, 300, 300, 300, 300,\n",
      "                   500, 500, 500, 500, 500, 100, 100, 100, 100, 100, 300,\n",
      "                   300, 300, 300, 300, 500, 500, 500, 500, 500, 100, 100,\n",
      "                   100, 100, 100, 300, 300, 300, 300, 300, 500, 500, 500,\n",
      "                   500, 500, 100, 100, 100, 100, 100, 300, 300, 300, 300,\n",
      "                   300, 500, 500, 500, 500, 500, 100, 100, 100, 100, 100,\n",
      "                   300, 300, 300, 300, 300, 500, 500, 500, 500, 500, 100,\n",
      "                   100, 100, 100, 100, 300, 300, 300, 300, 300, 500, 500,\n",
      "                   500, 500, 500, 100, 100, 100, 100, 100, 300, 300, 300,\n",
      "                   300, 300, 500, 500, 500, 500, 500],\n",
      "             mask=[False, False, False, False, False, False, False, False,\n",
      "                   False, False, False, False, False, False, False, False,\n",
      "                   False, False, False, False, False, False, False, False,\n",
      "                   False, False, False, False, False, False, False, False,\n",
      "                   False, False, False, False, False, False, False, False,\n",
      "                   False, False, False, False, False, False, False, False,\n",
      "                   False, False, False, False, False, False, False, False,\n",
      "                   False, False, False, False, False, False, False, False,\n",
      "                   False, False, False, False, False, False, False, False,\n",
      "                   False, False, False, False, False, False, False, False,\n",
      "                   False, False, False, False, False, False, False, False,\n",
      "                   False, False, False, False, False, False, False, False,\n",
      "                   False, False, False, False, False, False, False, False,\n",
      "                   False, False, False, False, False, False, False, False,\n",
      "                   False, False, False, False, False, False, False, False,\n",
      "                   False, False, False, False, False, False, False, False,\n",
      "                   False, False, False, False, False, False, False, False,\n",
      "                   False, False, False, False, False, False, False, False,\n",
      "                   False, False, False, False, False, False],\n",
      "       fill_value='?',\n",
      "            dtype=object), 'param_num_leaves': masked_array(data=[8, 16, 32, 64, 256, 8, 16, 32, 64, 256, 8, 16, 32, 64,\n",
      "                   256, 8, 16, 32, 64, 256, 8, 16, 32, 64, 256, 8, 16, 32,\n",
      "                   64, 256, 8, 16, 32, 64, 256, 8, 16, 32, 64, 256, 8, 16,\n",
      "                   32, 64, 256, 8, 16, 32, 64, 256, 8, 16, 32, 64, 256, 8,\n",
      "                   16, 32, 64, 256, 8, 16, 32, 64, 256, 8, 16, 32, 64,\n",
      "                   256, 8, 16, 32, 64, 256, 8, 16, 32, 64, 256, 8, 16, 32,\n",
      "                   64, 256, 8, 16, 32, 64, 256, 8, 16, 32, 64, 256, 8, 16,\n",
      "                   32, 64, 256, 8, 16, 32, 64, 256, 8, 16, 32, 64, 256, 8,\n",
      "                   16, 32, 64, 256, 8, 16, 32, 64, 256, 8, 16, 32, 64,\n",
      "                   256, 8, 16, 32, 64, 256, 8, 16, 32, 64, 256, 8, 16, 32,\n",
      "                   64, 256, 8, 16, 32, 64, 256, 8, 16, 32, 64, 256],\n",
      "             mask=[False, False, False, False, False, False, False, False,\n",
      "                   False, False, False, False, False, False, False, False,\n",
      "                   False, False, False, False, False, False, False, False,\n",
      "                   False, False, False, False, False, False, False, False,\n",
      "                   False, False, False, False, False, False, False, False,\n",
      "                   False, False, False, False, False, False, False, False,\n",
      "                   False, False, False, False, False, False, False, False,\n",
      "                   False, False, False, False, False, False, False, False,\n",
      "                   False, False, False, False, False, False, False, False,\n",
      "                   False, False, False, False, False, False, False, False,\n",
      "                   False, False, False, False, False, False, False, False,\n",
      "                   False, False, False, False, False, False, False, False,\n",
      "                   False, False, False, False, False, False, False, False,\n",
      "                   False, False, False, False, False, False, False, False,\n",
      "                   False, False, False, False, False, False, False, False,\n",
      "                   False, False, False, False, False, False, False, False,\n",
      "                   False, False, False, False, False, False, False, False,\n",
      "                   False, False, False, False, False, False, False, False,\n",
      "                   False, False, False, False, False, False],\n",
      "       fill_value='?',\n",
      "            dtype=object), 'param_objective': masked_array(data=['binary', 'binary', 'binary', 'binary', 'binary',\n",
      "                   'binary', 'binary', 'binary', 'binary', 'binary',\n",
      "                   'binary', 'binary', 'binary', 'binary', 'binary',\n",
      "                   'binary', 'binary', 'binary', 'binary', 'binary',\n",
      "                   'binary', 'binary', 'binary', 'binary', 'binary',\n",
      "                   'binary', 'binary', 'binary', 'binary', 'binary',\n",
      "                   'binary', 'binary', 'binary', 'binary', 'binary',\n",
      "                   'binary', 'binary', 'binary', 'binary', 'binary',\n",
      "                   'binary', 'binary', 'binary', 'binary', 'binary',\n",
      "                   'binary', 'binary', 'binary', 'binary', 'binary',\n",
      "                   'binary', 'binary', 'binary', 'binary', 'binary',\n",
      "                   'binary', 'binary', 'binary', 'binary', 'binary',\n",
      "                   'binary', 'binary', 'binary', 'binary', 'binary',\n",
      "                   'binary', 'binary', 'binary', 'binary', 'binary',\n",
      "                   'binary', 'binary', 'binary', 'binary', 'binary',\n",
      "                   'binary', 'binary', 'binary', 'binary', 'binary',\n",
      "                   'binary', 'binary', 'binary', 'binary', 'binary',\n",
      "                   'binary', 'binary', 'binary', 'binary', 'binary',\n",
      "                   'binary', 'binary', 'binary', 'binary', 'binary',\n",
      "                   'binary', 'binary', 'binary', 'binary', 'binary',\n",
      "                   'binary', 'binary', 'binary', 'binary', 'binary',\n",
      "                   'binary', 'binary', 'binary', 'binary', 'binary',\n",
      "                   'binary', 'binary', 'binary', 'binary', 'binary',\n",
      "                   'binary', 'binary', 'binary', 'binary', 'binary',\n",
      "                   'binary', 'binary', 'binary', 'binary', 'binary',\n",
      "                   'binary', 'binary', 'binary', 'binary', 'binary',\n",
      "                   'binary', 'binary', 'binary', 'binary', 'binary',\n",
      "                   'binary', 'binary', 'binary', 'binary', 'binary',\n",
      "                   'binary', 'binary', 'binary', 'binary', 'binary',\n",
      "                   'binary', 'binary', 'binary', 'binary', 'binary'],\n",
      "             mask=[False, False, False, False, False, False, False, False,\n",
      "                   False, False, False, False, False, False, False, False,\n",
      "                   False, False, False, False, False, False, False, False,\n",
      "                   False, False, False, False, False, False, False, False,\n",
      "                   False, False, False, False, False, False, False, False,\n",
      "                   False, False, False, False, False, False, False, False,\n",
      "                   False, False, False, False, False, False, False, False,\n",
      "                   False, False, False, False, False, False, False, False,\n",
      "                   False, False, False, False, False, False, False, False,\n",
      "                   False, False, False, False, False, False, False, False,\n",
      "                   False, False, False, False, False, False, False, False,\n",
      "                   False, False, False, False, False, False, False, False,\n",
      "                   False, False, False, False, False, False, False, False,\n",
      "                   False, False, False, False, False, False, False, False,\n",
      "                   False, False, False, False, False, False, False, False,\n",
      "                   False, False, False, False, False, False, False, False,\n",
      "                   False, False, False, False, False, False, False, False,\n",
      "                   False, False, False, False, False, False, False, False,\n",
      "                   False, False, False, False, False, False],\n",
      "       fill_value='?',\n",
      "            dtype=object), 'params': [{'bagging_fraction': 1, 'boosting': 'dart', 'feature_fraction': 1, 'is_unbalance': True, 'max_depth': 3, 'metric': 'auc', 'num_iterations': 100, 'num_leaves': 8, 'objective': 'binary'}, {'bagging_fraction': 1, 'boosting': 'dart', 'feature_fraction': 1, 'is_unbalance': True, 'max_depth': 3, 'metric': 'auc', 'num_iterations': 100, 'num_leaves': 16, 'objective': 'binary'}, {'bagging_fraction': 1, 'boosting': 'dart', 'feature_fraction': 1, 'is_unbalance': True, 'max_depth': 3, 'metric': 'auc', 'num_iterations': 100, 'num_leaves': 32, 'objective': 'binary'}, {'bagging_fraction': 1, 'boosting': 'dart', 'feature_fraction': 1, 'is_unbalance': True, 'max_depth': 3, 'metric': 'auc', 'num_iterations': 100, 'num_leaves': 64, 'objective': 'binary'}, {'bagging_fraction': 1, 'boosting': 'dart', 'feature_fraction': 1, 'is_unbalance': True, 'max_depth': 3, 'metric': 'auc', 'num_iterations': 100, 'num_leaves': 256, 'objective': 'binary'}, {'bagging_fraction': 1, 'boosting': 'dart', 'feature_fraction': 1, 'is_unbalance': True, 'max_depth': 3, 'metric': 'auc', 'num_iterations': 300, 'num_leaves': 8, 'objective': 'binary'}, {'bagging_fraction': 1, 'boosting': 'dart', 'feature_fraction': 1, 'is_unbalance': True, 'max_depth': 3, 'metric': 'auc', 'num_iterations': 300, 'num_leaves': 16, 'objective': 'binary'}, {'bagging_fraction': 1, 'boosting': 'dart', 'feature_fraction': 1, 'is_unbalance': True, 'max_depth': 3, 'metric': 'auc', 'num_iterations': 300, 'num_leaves': 32, 'objective': 'binary'}, {'bagging_fraction': 1, 'boosting': 'dart', 'feature_fraction': 1, 'is_unbalance': True, 'max_depth': 3, 'metric': 'auc', 'num_iterations': 300, 'num_leaves': 64, 'objective': 'binary'}, {'bagging_fraction': 1, 'boosting': 'dart', 'feature_fraction': 1, 'is_unbalance': True, 'max_depth': 3, 'metric': 'auc', 'num_iterations': 300, 'num_leaves': 256, 'objective': 'binary'}, {'bagging_fraction': 1, 'boosting': 'dart', 'feature_fraction': 1, 'is_unbalance': True, 'max_depth': 3, 'metric': 'auc', 'num_iterations': 500, 'num_leaves': 8, 'objective': 'binary'}, {'bagging_fraction': 1, 'boosting': 'dart', 'feature_fraction': 1, 'is_unbalance': True, 'max_depth': 3, 'metric': 'auc', 'num_iterations': 500, 'num_leaves': 16, 'objective': 'binary'}, {'bagging_fraction': 1, 'boosting': 'dart', 'feature_fraction': 1, 'is_unbalance': True, 'max_depth': 3, 'metric': 'auc', 'num_iterations': 500, 'num_leaves': 32, 'objective': 'binary'}, {'bagging_fraction': 1, 'boosting': 'dart', 'feature_fraction': 1, 'is_unbalance': True, 'max_depth': 3, 'metric': 'auc', 'num_iterations': 500, 'num_leaves': 64, 'objective': 'binary'}, {'bagging_fraction': 1, 'boosting': 'dart', 'feature_fraction': 1, 'is_unbalance': True, 'max_depth': 3, 'metric': 'auc', 'num_iterations': 500, 'num_leaves': 256, 'objective': 'binary'}, {'bagging_fraction': 1, 'boosting': 'dart', 'feature_fraction': 1, 'is_unbalance': True, 'max_depth': 4, 'metric': 'auc', 'num_iterations': 100, 'num_leaves': 8, 'objective': 'binary'}, {'bagging_fraction': 1, 'boosting': 'dart', 'feature_fraction': 1, 'is_unbalance': True, 'max_depth': 4, 'metric': 'auc', 'num_iterations': 100, 'num_leaves': 16, 'objective': 'binary'}, {'bagging_fraction': 1, 'boosting': 'dart', 'feature_fraction': 1, 'is_unbalance': True, 'max_depth': 4, 'metric': 'auc', 'num_iterations': 100, 'num_leaves': 32, 'objective': 'binary'}, {'bagging_fraction': 1, 'boosting': 'dart', 'feature_fraction': 1, 'is_unbalance': True, 'max_depth': 4, 'metric': 'auc', 'num_iterations': 100, 'num_leaves': 64, 'objective': 'binary'}, {'bagging_fraction': 1, 'boosting': 'dart', 'feature_fraction': 1, 'is_unbalance': True, 'max_depth': 4, 'metric': 'auc', 'num_iterations': 100, 'num_leaves': 256, 'objective': 'binary'}, {'bagging_fraction': 1, 'boosting': 'dart', 'feature_fraction': 1, 'is_unbalance': True, 'max_depth': 4, 'metric': 'auc', 'num_iterations': 300, 'num_leaves': 8, 'objective': 'binary'}, {'bagging_fraction': 1, 'boosting': 'dart', 'feature_fraction': 1, 'is_unbalance': True, 'max_depth': 4, 'metric': 'auc', 'num_iterations': 300, 'num_leaves': 16, 'objective': 'binary'}, {'bagging_fraction': 1, 'boosting': 'dart', 'feature_fraction': 1, 'is_unbalance': True, 'max_depth': 4, 'metric': 'auc', 'num_iterations': 300, 'num_leaves': 32, 'objective': 'binary'}, {'bagging_fraction': 1, 'boosting': 'dart', 'feature_fraction': 1, 'is_unbalance': True, 'max_depth': 4, 'metric': 'auc', 'num_iterations': 300, 'num_leaves': 64, 'objective': 'binary'}, {'bagging_fraction': 1, 'boosting': 'dart', 'feature_fraction': 1, 'is_unbalance': True, 'max_depth': 4, 'metric': 'auc', 'num_iterations': 300, 'num_leaves': 256, 'objective': 'binary'}, {'bagging_fraction': 1, 'boosting': 'dart', 'feature_fraction': 1, 'is_unbalance': True, 'max_depth': 4, 'metric': 'auc', 'num_iterations': 500, 'num_leaves': 8, 'objective': 'binary'}, {'bagging_fraction': 1, 'boosting': 'dart', 'feature_fraction': 1, 'is_unbalance': True, 'max_depth': 4, 'metric': 'auc', 'num_iterations': 500, 'num_leaves': 16, 'objective': 'binary'}, {'bagging_fraction': 1, 'boosting': 'dart', 'feature_fraction': 1, 'is_unbalance': True, 'max_depth': 4, 'metric': 'auc', 'num_iterations': 500, 'num_leaves': 32, 'objective': 'binary'}, {'bagging_fraction': 1, 'boosting': 'dart', 'feature_fraction': 1, 'is_unbalance': True, 'max_depth': 4, 'metric': 'auc', 'num_iterations': 500, 'num_leaves': 64, 'objective': 'binary'}, {'bagging_fraction': 1, 'boosting': 'dart', 'feature_fraction': 1, 'is_unbalance': True, 'max_depth': 4, 'metric': 'auc', 'num_iterations': 500, 'num_leaves': 256, 'objective': 'binary'}, {'bagging_fraction': 1, 'boosting': 'dart', 'feature_fraction': 1, 'is_unbalance': True, 'max_depth': 8, 'metric': 'auc', 'num_iterations': 100, 'num_leaves': 8, 'objective': 'binary'}, {'bagging_fraction': 1, 'boosting': 'dart', 'feature_fraction': 1, 'is_unbalance': True, 'max_depth': 8, 'metric': 'auc', 'num_iterations': 100, 'num_leaves': 16, 'objective': 'binary'}, {'bagging_fraction': 1, 'boosting': 'dart', 'feature_fraction': 1, 'is_unbalance': True, 'max_depth': 8, 'metric': 'auc', 'num_iterations': 100, 'num_leaves': 32, 'objective': 'binary'}, {'bagging_fraction': 1, 'boosting': 'dart', 'feature_fraction': 1, 'is_unbalance': True, 'max_depth': 8, 'metric': 'auc', 'num_iterations': 100, 'num_leaves': 64, 'objective': 'binary'}, {'bagging_fraction': 1, 'boosting': 'dart', 'feature_fraction': 1, 'is_unbalance': True, 'max_depth': 8, 'metric': 'auc', 'num_iterations': 100, 'num_leaves': 256, 'objective': 'binary'}, {'bagging_fraction': 1, 'boosting': 'dart', 'feature_fraction': 1, 'is_unbalance': True, 'max_depth': 8, 'metric': 'auc', 'num_iterations': 300, 'num_leaves': 8, 'objective': 'binary'}, {'bagging_fraction': 1, 'boosting': 'dart', 'feature_fraction': 1, 'is_unbalance': True, 'max_depth': 8, 'metric': 'auc', 'num_iterations': 300, 'num_leaves': 16, 'objective': 'binary'}, {'bagging_fraction': 1, 'boosting': 'dart', 'feature_fraction': 1, 'is_unbalance': True, 'max_depth': 8, 'metric': 'auc', 'num_iterations': 300, 'num_leaves': 32, 'objective': 'binary'}, {'bagging_fraction': 1, 'boosting': 'dart', 'feature_fraction': 1, 'is_unbalance': True, 'max_depth': 8, 'metric': 'auc', 'num_iterations': 300, 'num_leaves': 64, 'objective': 'binary'}, {'bagging_fraction': 1, 'boosting': 'dart', 'feature_fraction': 1, 'is_unbalance': True, 'max_depth': 8, 'metric': 'auc', 'num_iterations': 300, 'num_leaves': 256, 'objective': 'binary'}, {'bagging_fraction': 1, 'boosting': 'dart', 'feature_fraction': 1, 'is_unbalance': True, 'max_depth': 8, 'metric': 'auc', 'num_iterations': 500, 'num_leaves': 8, 'objective': 'binary'}, {'bagging_fraction': 1, 'boosting': 'dart', 'feature_fraction': 1, 'is_unbalance': True, 'max_depth': 8, 'metric': 'auc', 'num_iterations': 500, 'num_leaves': 16, 'objective': 'binary'}, {'bagging_fraction': 1, 'boosting': 'dart', 'feature_fraction': 1, 'is_unbalance': True, 'max_depth': 8, 'metric': 'auc', 'num_iterations': 500, 'num_leaves': 32, 'objective': 'binary'}, {'bagging_fraction': 1, 'boosting': 'dart', 'feature_fraction': 1, 'is_unbalance': True, 'max_depth': 8, 'metric': 'auc', 'num_iterations': 500, 'num_leaves': 64, 'objective': 'binary'}, {'bagging_fraction': 1, 'boosting': 'dart', 'feature_fraction': 1, 'is_unbalance': True, 'max_depth': 8, 'metric': 'auc', 'num_iterations': 500, 'num_leaves': 256, 'objective': 'binary'}, {'bagging_fraction': 1, 'boosting': 'dart', 'feature_fraction': 1, 'is_unbalance': True, 'max_depth': 16, 'metric': 'auc', 'num_iterations': 100, 'num_leaves': 8, 'objective': 'binary'}, {'bagging_fraction': 1, 'boosting': 'dart', 'feature_fraction': 1, 'is_unbalance': True, 'max_depth': 16, 'metric': 'auc', 'num_iterations': 100, 'num_leaves': 16, 'objective': 'binary'}, {'bagging_fraction': 1, 'boosting': 'dart', 'feature_fraction': 1, 'is_unbalance': True, 'max_depth': 16, 'metric': 'auc', 'num_iterations': 100, 'num_leaves': 32, 'objective': 'binary'}, {'bagging_fraction': 1, 'boosting': 'dart', 'feature_fraction': 1, 'is_unbalance': True, 'max_depth': 16, 'metric': 'auc', 'num_iterations': 100, 'num_leaves': 64, 'objective': 'binary'}, {'bagging_fraction': 1, 'boosting': 'dart', 'feature_fraction': 1, 'is_unbalance': True, 'max_depth': 16, 'metric': 'auc', 'num_iterations': 100, 'num_leaves': 256, 'objective': 'binary'}, {'bagging_fraction': 1, 'boosting': 'dart', 'feature_fraction': 1, 'is_unbalance': True, 'max_depth': 16, 'metric': 'auc', 'num_iterations': 300, 'num_leaves': 8, 'objective': 'binary'}, {'bagging_fraction': 1, 'boosting': 'dart', 'feature_fraction': 1, 'is_unbalance': True, 'max_depth': 16, 'metric': 'auc', 'num_iterations': 300, 'num_leaves': 16, 'objective': 'binary'}, {'bagging_fraction': 1, 'boosting': 'dart', 'feature_fraction': 1, 'is_unbalance': True, 'max_depth': 16, 'metric': 'auc', 'num_iterations': 300, 'num_leaves': 32, 'objective': 'binary'}, {'bagging_fraction': 1, 'boosting': 'dart', 'feature_fraction': 1, 'is_unbalance': True, 'max_depth': 16, 'metric': 'auc', 'num_iterations': 300, 'num_leaves': 64, 'objective': 'binary'}, {'bagging_fraction': 1, 'boosting': 'dart', 'feature_fraction': 1, 'is_unbalance': True, 'max_depth': 16, 'metric': 'auc', 'num_iterations': 300, 'num_leaves': 256, 'objective': 'binary'}, {'bagging_fraction': 1, 'boosting': 'dart', 'feature_fraction': 1, 'is_unbalance': True, 'max_depth': 16, 'metric': 'auc', 'num_iterations': 500, 'num_leaves': 8, 'objective': 'binary'}, {'bagging_fraction': 1, 'boosting': 'dart', 'feature_fraction': 1, 'is_unbalance': True, 'max_depth': 16, 'metric': 'auc', 'num_iterations': 500, 'num_leaves': 16, 'objective': 'binary'}, {'bagging_fraction': 1, 'boosting': 'dart', 'feature_fraction': 1, 'is_unbalance': True, 'max_depth': 16, 'metric': 'auc', 'num_iterations': 500, 'num_leaves': 32, 'objective': 'binary'}, {'bagging_fraction': 1, 'boosting': 'dart', 'feature_fraction': 1, 'is_unbalance': True, 'max_depth': 16, 'metric': 'auc', 'num_iterations': 500, 'num_leaves': 64, 'objective': 'binary'}, {'bagging_fraction': 1, 'boosting': 'dart', 'feature_fraction': 1, 'is_unbalance': True, 'max_depth': 16, 'metric': 'auc', 'num_iterations': 500, 'num_leaves': 256, 'objective': 'binary'}, {'bagging_fraction': 1, 'boosting': 'dart', 'feature_fraction': 1, 'is_unbalance': True, 'max_depth': -1, 'metric': 'auc', 'num_iterations': 100, 'num_leaves': 8, 'objective': 'binary'}, {'bagging_fraction': 1, 'boosting': 'dart', 'feature_fraction': 1, 'is_unbalance': True, 'max_depth': -1, 'metric': 'auc', 'num_iterations': 100, 'num_leaves': 16, 'objective': 'binary'}, {'bagging_fraction': 1, 'boosting': 'dart', 'feature_fraction': 1, 'is_unbalance': True, 'max_depth': -1, 'metric': 'auc', 'num_iterations': 100, 'num_leaves': 32, 'objective': 'binary'}, {'bagging_fraction': 1, 'boosting': 'dart', 'feature_fraction': 1, 'is_unbalance': True, 'max_depth': -1, 'metric': 'auc', 'num_iterations': 100, 'num_leaves': 64, 'objective': 'binary'}, {'bagging_fraction': 1, 'boosting': 'dart', 'feature_fraction': 1, 'is_unbalance': True, 'max_depth': -1, 'metric': 'auc', 'num_iterations': 100, 'num_leaves': 256, 'objective': 'binary'}, {'bagging_fraction': 1, 'boosting': 'dart', 'feature_fraction': 1, 'is_unbalance': True, 'max_depth': -1, 'metric': 'auc', 'num_iterations': 300, 'num_leaves': 8, 'objective': 'binary'}, {'bagging_fraction': 1, 'boosting': 'dart', 'feature_fraction': 1, 'is_unbalance': True, 'max_depth': -1, 'metric': 'auc', 'num_iterations': 300, 'num_leaves': 16, 'objective': 'binary'}, {'bagging_fraction': 1, 'boosting': 'dart', 'feature_fraction': 1, 'is_unbalance': True, 'max_depth': -1, 'metric': 'auc', 'num_iterations': 300, 'num_leaves': 32, 'objective': 'binary'}, {'bagging_fraction': 1, 'boosting': 'dart', 'feature_fraction': 1, 'is_unbalance': True, 'max_depth': -1, 'metric': 'auc', 'num_iterations': 300, 'num_leaves': 64, 'objective': 'binary'}, {'bagging_fraction': 1, 'boosting': 'dart', 'feature_fraction': 1, 'is_unbalance': True, 'max_depth': -1, 'metric': 'auc', 'num_iterations': 300, 'num_leaves': 256, 'objective': 'binary'}, {'bagging_fraction': 1, 'boosting': 'dart', 'feature_fraction': 1, 'is_unbalance': True, 'max_depth': -1, 'metric': 'auc', 'num_iterations': 500, 'num_leaves': 8, 'objective': 'binary'}, {'bagging_fraction': 1, 'boosting': 'dart', 'feature_fraction': 1, 'is_unbalance': True, 'max_depth': -1, 'metric': 'auc', 'num_iterations': 500, 'num_leaves': 16, 'objective': 'binary'}, {'bagging_fraction': 1, 'boosting': 'dart', 'feature_fraction': 1, 'is_unbalance': True, 'max_depth': -1, 'metric': 'auc', 'num_iterations': 500, 'num_leaves': 32, 'objective': 'binary'}, {'bagging_fraction': 1, 'boosting': 'dart', 'feature_fraction': 1, 'is_unbalance': True, 'max_depth': -1, 'metric': 'auc', 'num_iterations': 500, 'num_leaves': 64, 'objective': 'binary'}, {'bagging_fraction': 1, 'boosting': 'dart', 'feature_fraction': 1, 'is_unbalance': True, 'max_depth': -1, 'metric': 'auc', 'num_iterations': 500, 'num_leaves': 256, 'objective': 'binary'}, {'bagging_fraction': 1, 'boosting': 'gbdt', 'feature_fraction': 1, 'is_unbalance': True, 'max_depth': 3, 'metric': 'auc', 'num_iterations': 100, 'num_leaves': 8, 'objective': 'binary'}, {'bagging_fraction': 1, 'boosting': 'gbdt', 'feature_fraction': 1, 'is_unbalance': True, 'max_depth': 3, 'metric': 'auc', 'num_iterations': 100, 'num_leaves': 16, 'objective': 'binary'}, {'bagging_fraction': 1, 'boosting': 'gbdt', 'feature_fraction': 1, 'is_unbalance': True, 'max_depth': 3, 'metric': 'auc', 'num_iterations': 100, 'num_leaves': 32, 'objective': 'binary'}, {'bagging_fraction': 1, 'boosting': 'gbdt', 'feature_fraction': 1, 'is_unbalance': True, 'max_depth': 3, 'metric': 'auc', 'num_iterations': 100, 'num_leaves': 64, 'objective': 'binary'}, {'bagging_fraction': 1, 'boosting': 'gbdt', 'feature_fraction': 1, 'is_unbalance': True, 'max_depth': 3, 'metric': 'auc', 'num_iterations': 100, 'num_leaves': 256, 'objective': 'binary'}, {'bagging_fraction': 1, 'boosting': 'gbdt', 'feature_fraction': 1, 'is_unbalance': True, 'max_depth': 3, 'metric': 'auc', 'num_iterations': 300, 'num_leaves': 8, 'objective': 'binary'}, {'bagging_fraction': 1, 'boosting': 'gbdt', 'feature_fraction': 1, 'is_unbalance': True, 'max_depth': 3, 'metric': 'auc', 'num_iterations': 300, 'num_leaves': 16, 'objective': 'binary'}, {'bagging_fraction': 1, 'boosting': 'gbdt', 'feature_fraction': 1, 'is_unbalance': True, 'max_depth': 3, 'metric': 'auc', 'num_iterations': 300, 'num_leaves': 32, 'objective': 'binary'}, {'bagging_fraction': 1, 'boosting': 'gbdt', 'feature_fraction': 1, 'is_unbalance': True, 'max_depth': 3, 'metric': 'auc', 'num_iterations': 300, 'num_leaves': 64, 'objective': 'binary'}, {'bagging_fraction': 1, 'boosting': 'gbdt', 'feature_fraction': 1, 'is_unbalance': True, 'max_depth': 3, 'metric': 'auc', 'num_iterations': 300, 'num_leaves': 256, 'objective': 'binary'}, {'bagging_fraction': 1, 'boosting': 'gbdt', 'feature_fraction': 1, 'is_unbalance': True, 'max_depth': 3, 'metric': 'auc', 'num_iterations': 500, 'num_leaves': 8, 'objective': 'binary'}, {'bagging_fraction': 1, 'boosting': 'gbdt', 'feature_fraction': 1, 'is_unbalance': True, 'max_depth': 3, 'metric': 'auc', 'num_iterations': 500, 'num_leaves': 16, 'objective': 'binary'}, {'bagging_fraction': 1, 'boosting': 'gbdt', 'feature_fraction': 1, 'is_unbalance': True, 'max_depth': 3, 'metric': 'auc', 'num_iterations': 500, 'num_leaves': 32, 'objective': 'binary'}, {'bagging_fraction': 1, 'boosting': 'gbdt', 'feature_fraction': 1, 'is_unbalance': True, 'max_depth': 3, 'metric': 'auc', 'num_iterations': 500, 'num_leaves': 64, 'objective': 'binary'}, {'bagging_fraction': 1, 'boosting': 'gbdt', 'feature_fraction': 1, 'is_unbalance': True, 'max_depth': 3, 'metric': 'auc', 'num_iterations': 500, 'num_leaves': 256, 'objective': 'binary'}, {'bagging_fraction': 1, 'boosting': 'gbdt', 'feature_fraction': 1, 'is_unbalance': True, 'max_depth': 4, 'metric': 'auc', 'num_iterations': 100, 'num_leaves': 8, 'objective': 'binary'}, {'bagging_fraction': 1, 'boosting': 'gbdt', 'feature_fraction': 1, 'is_unbalance': True, 'max_depth': 4, 'metric': 'auc', 'num_iterations': 100, 'num_leaves': 16, 'objective': 'binary'}, {'bagging_fraction': 1, 'boosting': 'gbdt', 'feature_fraction': 1, 'is_unbalance': True, 'max_depth': 4, 'metric': 'auc', 'num_iterations': 100, 'num_leaves': 32, 'objective': 'binary'}, {'bagging_fraction': 1, 'boosting': 'gbdt', 'feature_fraction': 1, 'is_unbalance': True, 'max_depth': 4, 'metric': 'auc', 'num_iterations': 100, 'num_leaves': 64, 'objective': 'binary'}, {'bagging_fraction': 1, 'boosting': 'gbdt', 'feature_fraction': 1, 'is_unbalance': True, 'max_depth': 4, 'metric': 'auc', 'num_iterations': 100, 'num_leaves': 256, 'objective': 'binary'}, {'bagging_fraction': 1, 'boosting': 'gbdt', 'feature_fraction': 1, 'is_unbalance': True, 'max_depth': 4, 'metric': 'auc', 'num_iterations': 300, 'num_leaves': 8, 'objective': 'binary'}, {'bagging_fraction': 1, 'boosting': 'gbdt', 'feature_fraction': 1, 'is_unbalance': True, 'max_depth': 4, 'metric': 'auc', 'num_iterations': 300, 'num_leaves': 16, 'objective': 'binary'}, {'bagging_fraction': 1, 'boosting': 'gbdt', 'feature_fraction': 1, 'is_unbalance': True, 'max_depth': 4, 'metric': 'auc', 'num_iterations': 300, 'num_leaves': 32, 'objective': 'binary'}, {'bagging_fraction': 1, 'boosting': 'gbdt', 'feature_fraction': 1, 'is_unbalance': True, 'max_depth': 4, 'metric': 'auc', 'num_iterations': 300, 'num_leaves': 64, 'objective': 'binary'}, {'bagging_fraction': 1, 'boosting': 'gbdt', 'feature_fraction': 1, 'is_unbalance': True, 'max_depth': 4, 'metric': 'auc', 'num_iterations': 300, 'num_leaves': 256, 'objective': 'binary'}, {'bagging_fraction': 1, 'boosting': 'gbdt', 'feature_fraction': 1, 'is_unbalance': True, 'max_depth': 4, 'metric': 'auc', 'num_iterations': 500, 'num_leaves': 8, 'objective': 'binary'}, {'bagging_fraction': 1, 'boosting': 'gbdt', 'feature_fraction': 1, 'is_unbalance': True, 'max_depth': 4, 'metric': 'auc', 'num_iterations': 500, 'num_leaves': 16, 'objective': 'binary'}, {'bagging_fraction': 1, 'boosting': 'gbdt', 'feature_fraction': 1, 'is_unbalance': True, 'max_depth': 4, 'metric': 'auc', 'num_iterations': 500, 'num_leaves': 32, 'objective': 'binary'}, {'bagging_fraction': 1, 'boosting': 'gbdt', 'feature_fraction': 1, 'is_unbalance': True, 'max_depth': 4, 'metric': 'auc', 'num_iterations': 500, 'num_leaves': 64, 'objective': 'binary'}, {'bagging_fraction': 1, 'boosting': 'gbdt', 'feature_fraction': 1, 'is_unbalance': True, 'max_depth': 4, 'metric': 'auc', 'num_iterations': 500, 'num_leaves': 256, 'objective': 'binary'}, {'bagging_fraction': 1, 'boosting': 'gbdt', 'feature_fraction': 1, 'is_unbalance': True, 'max_depth': 8, 'metric': 'auc', 'num_iterations': 100, 'num_leaves': 8, 'objective': 'binary'}, {'bagging_fraction': 1, 'boosting': 'gbdt', 'feature_fraction': 1, 'is_unbalance': True, 'max_depth': 8, 'metric': 'auc', 'num_iterations': 100, 'num_leaves': 16, 'objective': 'binary'}, {'bagging_fraction': 1, 'boosting': 'gbdt', 'feature_fraction': 1, 'is_unbalance': True, 'max_depth': 8, 'metric': 'auc', 'num_iterations': 100, 'num_leaves': 32, 'objective': 'binary'}, {'bagging_fraction': 1, 'boosting': 'gbdt', 'feature_fraction': 1, 'is_unbalance': True, 'max_depth': 8, 'metric': 'auc', 'num_iterations': 100, 'num_leaves': 64, 'objective': 'binary'}, {'bagging_fraction': 1, 'boosting': 'gbdt', 'feature_fraction': 1, 'is_unbalance': True, 'max_depth': 8, 'metric': 'auc', 'num_iterations': 100, 'num_leaves': 256, 'objective': 'binary'}, {'bagging_fraction': 1, 'boosting': 'gbdt', 'feature_fraction': 1, 'is_unbalance': True, 'max_depth': 8, 'metric': 'auc', 'num_iterations': 300, 'num_leaves': 8, 'objective': 'binary'}, {'bagging_fraction': 1, 'boosting': 'gbdt', 'feature_fraction': 1, 'is_unbalance': True, 'max_depth': 8, 'metric': 'auc', 'num_iterations': 300, 'num_leaves': 16, 'objective': 'binary'}, {'bagging_fraction': 1, 'boosting': 'gbdt', 'feature_fraction': 1, 'is_unbalance': True, 'max_depth': 8, 'metric': 'auc', 'num_iterations': 300, 'num_leaves': 32, 'objective': 'binary'}, {'bagging_fraction': 1, 'boosting': 'gbdt', 'feature_fraction': 1, 'is_unbalance': True, 'max_depth': 8, 'metric': 'auc', 'num_iterations': 300, 'num_leaves': 64, 'objective': 'binary'}, {'bagging_fraction': 1, 'boosting': 'gbdt', 'feature_fraction': 1, 'is_unbalance': True, 'max_depth': 8, 'metric': 'auc', 'num_iterations': 300, 'num_leaves': 256, 'objective': 'binary'}, {'bagging_fraction': 1, 'boosting': 'gbdt', 'feature_fraction': 1, 'is_unbalance': True, 'max_depth': 8, 'metric': 'auc', 'num_iterations': 500, 'num_leaves': 8, 'objective': 'binary'}, {'bagging_fraction': 1, 'boosting': 'gbdt', 'feature_fraction': 1, 'is_unbalance': True, 'max_depth': 8, 'metric': 'auc', 'num_iterations': 500, 'num_leaves': 16, 'objective': 'binary'}, {'bagging_fraction': 1, 'boosting': 'gbdt', 'feature_fraction': 1, 'is_unbalance': True, 'max_depth': 8, 'metric': 'auc', 'num_iterations': 500, 'num_leaves': 32, 'objective': 'binary'}, {'bagging_fraction': 1, 'boosting': 'gbdt', 'feature_fraction': 1, 'is_unbalance': True, 'max_depth': 8, 'metric': 'auc', 'num_iterations': 500, 'num_leaves': 64, 'objective': 'binary'}, {'bagging_fraction': 1, 'boosting': 'gbdt', 'feature_fraction': 1, 'is_unbalance': True, 'max_depth': 8, 'metric': 'auc', 'num_iterations': 500, 'num_leaves': 256, 'objective': 'binary'}, {'bagging_fraction': 1, 'boosting': 'gbdt', 'feature_fraction': 1, 'is_unbalance': True, 'max_depth': 16, 'metric': 'auc', 'num_iterations': 100, 'num_leaves': 8, 'objective': 'binary'}, {'bagging_fraction': 1, 'boosting': 'gbdt', 'feature_fraction': 1, 'is_unbalance': True, 'max_depth': 16, 'metric': 'auc', 'num_iterations': 100, 'num_leaves': 16, 'objective': 'binary'}, {'bagging_fraction': 1, 'boosting': 'gbdt', 'feature_fraction': 1, 'is_unbalance': True, 'max_depth': 16, 'metric': 'auc', 'num_iterations': 100, 'num_leaves': 32, 'objective': 'binary'}, {'bagging_fraction': 1, 'boosting': 'gbdt', 'feature_fraction': 1, 'is_unbalance': True, 'max_depth': 16, 'metric': 'auc', 'num_iterations': 100, 'num_leaves': 64, 'objective': 'binary'}, {'bagging_fraction': 1, 'boosting': 'gbdt', 'feature_fraction': 1, 'is_unbalance': True, 'max_depth': 16, 'metric': 'auc', 'num_iterations': 100, 'num_leaves': 256, 'objective': 'binary'}, {'bagging_fraction': 1, 'boosting': 'gbdt', 'feature_fraction': 1, 'is_unbalance': True, 'max_depth': 16, 'metric': 'auc', 'num_iterations': 300, 'num_leaves': 8, 'objective': 'binary'}, {'bagging_fraction': 1, 'boosting': 'gbdt', 'feature_fraction': 1, 'is_unbalance': True, 'max_depth': 16, 'metric': 'auc', 'num_iterations': 300, 'num_leaves': 16, 'objective': 'binary'}, {'bagging_fraction': 1, 'boosting': 'gbdt', 'feature_fraction': 1, 'is_unbalance': True, 'max_depth': 16, 'metric': 'auc', 'num_iterations': 300, 'num_leaves': 32, 'objective': 'binary'}, {'bagging_fraction': 1, 'boosting': 'gbdt', 'feature_fraction': 1, 'is_unbalance': True, 'max_depth': 16, 'metric': 'auc', 'num_iterations': 300, 'num_leaves': 64, 'objective': 'binary'}, {'bagging_fraction': 1, 'boosting': 'gbdt', 'feature_fraction': 1, 'is_unbalance': True, 'max_depth': 16, 'metric': 'auc', 'num_iterations': 300, 'num_leaves': 256, 'objective': 'binary'}, {'bagging_fraction': 1, 'boosting': 'gbdt', 'feature_fraction': 1, 'is_unbalance': True, 'max_depth': 16, 'metric': 'auc', 'num_iterations': 500, 'num_leaves': 8, 'objective': 'binary'}, {'bagging_fraction': 1, 'boosting': 'gbdt', 'feature_fraction': 1, 'is_unbalance': True, 'max_depth': 16, 'metric': 'auc', 'num_iterations': 500, 'num_leaves': 16, 'objective': 'binary'}, {'bagging_fraction': 1, 'boosting': 'gbdt', 'feature_fraction': 1, 'is_unbalance': True, 'max_depth': 16, 'metric': 'auc', 'num_iterations': 500, 'num_leaves': 32, 'objective': 'binary'}, {'bagging_fraction': 1, 'boosting': 'gbdt', 'feature_fraction': 1, 'is_unbalance': True, 'max_depth': 16, 'metric': 'auc', 'num_iterations': 500, 'num_leaves': 64, 'objective': 'binary'}, {'bagging_fraction': 1, 'boosting': 'gbdt', 'feature_fraction': 1, 'is_unbalance': True, 'max_depth': 16, 'metric': 'auc', 'num_iterations': 500, 'num_leaves': 256, 'objective': 'binary'}, {'bagging_fraction': 1, 'boosting': 'gbdt', 'feature_fraction': 1, 'is_unbalance': True, 'max_depth': -1, 'metric': 'auc', 'num_iterations': 100, 'num_leaves': 8, 'objective': 'binary'}, {'bagging_fraction': 1, 'boosting': 'gbdt', 'feature_fraction': 1, 'is_unbalance': True, 'max_depth': -1, 'metric': 'auc', 'num_iterations': 100, 'num_leaves': 16, 'objective': 'binary'}, {'bagging_fraction': 1, 'boosting': 'gbdt', 'feature_fraction': 1, 'is_unbalance': True, 'max_depth': -1, 'metric': 'auc', 'num_iterations': 100, 'num_leaves': 32, 'objective': 'binary'}, {'bagging_fraction': 1, 'boosting': 'gbdt', 'feature_fraction': 1, 'is_unbalance': True, 'max_depth': -1, 'metric': 'auc', 'num_iterations': 100, 'num_leaves': 64, 'objective': 'binary'}, {'bagging_fraction': 1, 'boosting': 'gbdt', 'feature_fraction': 1, 'is_unbalance': True, 'max_depth': -1, 'metric': 'auc', 'num_iterations': 100, 'num_leaves': 256, 'objective': 'binary'}, {'bagging_fraction': 1, 'boosting': 'gbdt', 'feature_fraction': 1, 'is_unbalance': True, 'max_depth': -1, 'metric': 'auc', 'num_iterations': 300, 'num_leaves': 8, 'objective': 'binary'}, {'bagging_fraction': 1, 'boosting': 'gbdt', 'feature_fraction': 1, 'is_unbalance': True, 'max_depth': -1, 'metric': 'auc', 'num_iterations': 300, 'num_leaves': 16, 'objective': 'binary'}, {'bagging_fraction': 1, 'boosting': 'gbdt', 'feature_fraction': 1, 'is_unbalance': True, 'max_depth': -1, 'metric': 'auc', 'num_iterations': 300, 'num_leaves': 32, 'objective': 'binary'}, {'bagging_fraction': 1, 'boosting': 'gbdt', 'feature_fraction': 1, 'is_unbalance': True, 'max_depth': -1, 'metric': 'auc', 'num_iterations': 300, 'num_leaves': 64, 'objective': 'binary'}, {'bagging_fraction': 1, 'boosting': 'gbdt', 'feature_fraction': 1, 'is_unbalance': True, 'max_depth': -1, 'metric': 'auc', 'num_iterations': 300, 'num_leaves': 256, 'objective': 'binary'}, {'bagging_fraction': 1, 'boosting': 'gbdt', 'feature_fraction': 1, 'is_unbalance': True, 'max_depth': -1, 'metric': 'auc', 'num_iterations': 500, 'num_leaves': 8, 'objective': 'binary'}, {'bagging_fraction': 1, 'boosting': 'gbdt', 'feature_fraction': 1, 'is_unbalance': True, 'max_depth': -1, 'metric': 'auc', 'num_iterations': 500, 'num_leaves': 16, 'objective': 'binary'}, {'bagging_fraction': 1, 'boosting': 'gbdt', 'feature_fraction': 1, 'is_unbalance': True, 'max_depth': -1, 'metric': 'auc', 'num_iterations': 500, 'num_leaves': 32, 'objective': 'binary'}, {'bagging_fraction': 1, 'boosting': 'gbdt', 'feature_fraction': 1, 'is_unbalance': True, 'max_depth': -1, 'metric': 'auc', 'num_iterations': 500, 'num_leaves': 64, 'objective': 'binary'}, {'bagging_fraction': 1, 'boosting': 'gbdt', 'feature_fraction': 1, 'is_unbalance': True, 'max_depth': -1, 'metric': 'auc', 'num_iterations': 500, 'num_leaves': 256, 'objective': 'binary'}], 'split0_test_score': array([0.74670502, 0.74670502, 0.74670502, 0.74670502, 0.74670502,\n",
      "       0.75970893, 0.75970893, 0.75970893, 0.75970893, 0.75970893,\n",
      "       0.76311053, 0.76311053, 0.76311053, 0.76311053, 0.76311053,\n",
      "       0.74986955, 0.75166965, 0.75166965, 0.75166965, 0.75166965,\n",
      "       0.76237163, 0.76178119, 0.76178119, 0.76178119, 0.76178119,\n",
      "       0.76670357, 0.76192295, 0.76192295, 0.76192295, 0.76192295,\n",
      "       0.75094184, 0.75637521, 0.75918498, 0.75954742, 0.7507372 ,\n",
      "       0.76326443, 0.7667067 , 0.76741182, 0.76129049, 0.74473806,\n",
      "       0.76713661, 0.7687173 , 0.76590671, 0.75380586, 0.73778292,\n",
      "       0.75094184, 0.75612961, 0.75953641, 0.7603277 , 0.7531649 ,\n",
      "       0.76326443, 0.76631763, 0.76734851, 0.76535616, 0.75341038,\n",
      "       0.76713661, 0.76865854, 0.76714883, 0.76150845, 0.74416705,\n",
      "       0.75094184, 0.75612961, 0.75957659, 0.76027688, 0.75640302,\n",
      "       0.76326443, 0.76631763, 0.76654022, 0.76326988, 0.75666764,\n",
      "       0.76713661, 0.76865854, 0.76677949, 0.75959091, 0.74861307,\n",
      "       0.75928316, 0.75928316, 0.75928316, 0.75928316, 0.75928316,\n",
      "       0.75988291, 0.75988291, 0.75988291, 0.75988291, 0.75988291,\n",
      "       0.76015432, 0.76015432, 0.76015432, 0.76015432, 0.76015432,\n",
      "       0.76281111, 0.75734757, 0.75734757, 0.75734757, 0.75734757,\n",
      "       0.76439252, 0.75268608, 0.75268608, 0.75268608, 0.75268608,\n",
      "       0.76129425, 0.74869795, 0.74869795, 0.74869795, 0.74869795,\n",
      "       0.76285555, 0.76397935, 0.7637108 , 0.75530966, 0.73850776,\n",
      "       0.76310026, 0.75432412, 0.75034516, 0.74146874, 0.72646811,\n",
      "       0.75987563, 0.74978203, 0.74163508, 0.73299234, 0.72010592,\n",
      "       0.76285555, 0.76458826, 0.76436236, 0.76067365, 0.74251047,\n",
      "       0.76310026, 0.75649087, 0.7531516 , 0.7429261 , 0.72115654,\n",
      "       0.75987563, 0.74770385, 0.74400532, 0.7296153 , 0.71604252,\n",
      "       0.76285555, 0.76458826, 0.76387321, 0.76111122, 0.7449252 ,\n",
      "       0.76310026, 0.75649087, 0.75637036, 0.74392863, 0.72670724,\n",
      "       0.75987563, 0.74770385, 0.74076195, 0.73163141, 0.72149261]), 'split1_test_score': array([0.74255362, 0.74255362, 0.74255362, 0.74255362, 0.74255362,\n",
      "       0.75510242, 0.75510242, 0.75510242, 0.75510242, 0.75510242,\n",
      "       0.75999116, 0.75999116, 0.75999116, 0.75999116, 0.75999116,\n",
      "       0.74618332, 0.74797264, 0.74797264, 0.74797264, 0.74797264,\n",
      "       0.75719268, 0.75821622, 0.75821622, 0.75821622, 0.75821622,\n",
      "       0.76233299, 0.76242812, 0.76242812, 0.76242812, 0.76242812,\n",
      "       0.74685753, 0.75256268, 0.75507054, 0.75498207, 0.74984507,\n",
      "       0.75825023, 0.76213333, 0.76285726, 0.76183553, 0.75283509,\n",
      "       0.7631185 , 0.76492293, 0.76403856, 0.76027857, 0.75145068,\n",
      "       0.74685753, 0.75267284, 0.75625255, 0.75674914, 0.75209695,\n",
      "       0.75825023, 0.7618178 , 0.76421261, 0.76233427, 0.75492295,\n",
      "       0.7631185 , 0.7649738 , 0.76484497, 0.7616847 , 0.74932358,\n",
      "       0.74685753, 0.75267284, 0.75625255, 0.75629168, 0.75372373,\n",
      "       0.75825023, 0.7618178 , 0.76384418, 0.76204576, 0.75513941,\n",
      "       0.7631185 , 0.7649738 , 0.76453041, 0.76055464, 0.74988271,\n",
      "       0.75624   , 0.75624   , 0.75624   , 0.75624   , 0.75624   ,\n",
      "       0.76262931, 0.76262931, 0.76262931, 0.76262931, 0.76262931,\n",
      "       0.76457583, 0.76457583, 0.76457583, 0.76457583, 0.76457583,\n",
      "       0.75753702, 0.75799494, 0.75799494, 0.75799494, 0.75799494,\n",
      "       0.76253866, 0.76230203, 0.76230203, 0.76230203, 0.76230203,\n",
      "       0.7635438 , 0.76236932, 0.76236932, 0.76236932, 0.76236932,\n",
      "       0.75824372, 0.76018601, 0.76126657, 0.75907786, 0.75083659,\n",
      "       0.76139724, 0.76056092, 0.75865314, 0.75293625, 0.7439304 ,\n",
      "       0.7623651 , 0.75947802, 0.75371032, 0.74597499, 0.73510665,\n",
      "       0.75824372, 0.76089564, 0.76140996, 0.75904692, 0.74855012,\n",
      "       0.76139724, 0.76093812, 0.75688033, 0.75206275, 0.72801477,\n",
      "       0.7623651 , 0.75955691, 0.75317823, 0.74281734, 0.72206229,\n",
      "       0.75824372, 0.76089564, 0.76140996, 0.75991549, 0.74965993,\n",
      "       0.76139724, 0.76093812, 0.75863589, 0.75373128, 0.73422899,\n",
      "       0.7623651 , 0.75955691, 0.753729  , 0.74465349, 0.72659853]), 'split2_test_score': array([0.74899595, 0.74899595, 0.74899595, 0.74899595, 0.74899595,\n",
      "       0.7573582 , 0.7573582 , 0.7573582 , 0.7573582 , 0.7573582 ,\n",
      "       0.75879512, 0.75879512, 0.75879512, 0.75879512, 0.75879512,\n",
      "       0.74977795, 0.75383908, 0.75383908, 0.75383908, 0.75383908,\n",
      "       0.7601799 , 0.75676749, 0.75676749, 0.75676749, 0.75676749,\n",
      "       0.76599027, 0.75977016, 0.75977016, 0.75977016, 0.75977016,\n",
      "       0.75141034, 0.75406218, 0.75419013, 0.74732971, 0.72910432,\n",
      "       0.75931764, 0.76009177, 0.75716876, 0.74905992, 0.72731615,\n",
      "       0.76528109, 0.76387622, 0.76134651, 0.74547858, 0.73314992,\n",
      "       0.75141034, 0.75059056, 0.75392508, 0.74602792, 0.74147267,\n",
      "       0.75931764, 0.75718325, 0.75957586, 0.75147986, 0.74224552,\n",
      "       0.76528109, 0.76228255, 0.76124159, 0.75440617, 0.7407759 ,\n",
      "       0.75141034, 0.75059056, 0.75392508, 0.74754508, 0.74454179,\n",
      "       0.75931764, 0.75718325, 0.75968915, 0.75036451, 0.74482221,\n",
      "       0.76528109, 0.76228255, 0.76287068, 0.75415006, 0.74151003,\n",
      "       0.76003538, 0.76003538, 0.76003538, 0.76003538, 0.76003538,\n",
      "       0.75938401, 0.75938401, 0.75938401, 0.75938401, 0.75938401,\n",
      "       0.75967586, 0.75967586, 0.75967586, 0.75967586, 0.75967586,\n",
      "       0.76149939, 0.75918177, 0.75918177, 0.75918177, 0.75918177,\n",
      "       0.76580359, 0.75767873, 0.75767873, 0.75767873, 0.75767873,\n",
      "       0.76514385, 0.75451232, 0.75451232, 0.75451232, 0.75451232,\n",
      "       0.76119222, 0.7589868 , 0.75756968, 0.75018677, 0.71528769,\n",
      "       0.76371452, 0.75647546, 0.75277988, 0.73936882, 0.70991553,\n",
      "       0.76343998, 0.75391616, 0.74868127, 0.72916288, 0.6988443 ,\n",
      "       0.76119222, 0.75841636, 0.75341513, 0.74898076, 0.73909194,\n",
      "       0.76371452, 0.75797045, 0.7508123 , 0.74160942, 0.72377867,\n",
      "       0.76343998, 0.75629108, 0.74682033, 0.73454305, 0.71595214,\n",
      "       0.76119222, 0.75841636, 0.75434953, 0.74911013, 0.7378695 ,\n",
      "       0.76371452, 0.75797045, 0.74931076, 0.74326402, 0.7210526 ,\n",
      "       0.76343998, 0.75629108, 0.74677467, 0.73658255, 0.71372119]), 'mean_test_score': array([0.74608486, 0.74608486, 0.74608486, 0.74608486, 0.74608486,\n",
      "       0.75738985, 0.75738985, 0.75738985, 0.75738985, 0.75738985,\n",
      "       0.76063227, 0.76063227, 0.76063227, 0.76063227, 0.76063227,\n",
      "       0.74861027, 0.75116046, 0.75116046, 0.75116046, 0.75116046,\n",
      "       0.75991473, 0.75892163, 0.75892163, 0.75892163, 0.75892163,\n",
      "       0.76500894, 0.76137374, 0.76137374, 0.76137374, 0.76137374,\n",
      "       0.74973657, 0.75433336, 0.75614855, 0.75395307, 0.74322886,\n",
      "       0.76027743, 0.76297727, 0.76247928, 0.75739531, 0.74162976,\n",
      "       0.76517874, 0.76583882, 0.76376393, 0.75318767, 0.74079451,\n",
      "       0.74973657, 0.753131  , 0.75657135, 0.75436825, 0.74891151,\n",
      "       0.76027743, 0.76177289, 0.76371233, 0.75972343, 0.75019295,\n",
      "       0.76517874, 0.76530496, 0.7644118 , 0.75919977, 0.74475551,\n",
      "       0.74973657, 0.753131  , 0.75658474, 0.75470455, 0.75155618,\n",
      "       0.76027743, 0.76177289, 0.76335785, 0.75856005, 0.75220976,\n",
      "       0.76517874, 0.76530496, 0.76472686, 0.75809854, 0.7466686 ,\n",
      "       0.75851951, 0.75851951, 0.75851951, 0.75851951, 0.75851951,\n",
      "       0.76063208, 0.76063208, 0.76063208, 0.76063208, 0.76063208,\n",
      "       0.76146867, 0.76146867, 0.76146867, 0.76146867, 0.76146867,\n",
      "       0.76061584, 0.75817476, 0.75817476, 0.75817476, 0.75817476,\n",
      "       0.76424493, 0.75755561, 0.75755561, 0.75755561, 0.75755561,\n",
      "       0.7633273 , 0.7551932 , 0.7551932 , 0.7551932 , 0.7551932 ,\n",
      "       0.76076383, 0.76105072, 0.76084902, 0.7548581 , 0.73487735,\n",
      "       0.76273734, 0.75712017, 0.75392606, 0.74459127, 0.72677135,\n",
      "       0.76189357, 0.75439207, 0.74800889, 0.7360434 , 0.71801896,\n",
      "       0.76076383, 0.76130009, 0.75972915, 0.75623378, 0.74338418,\n",
      "       0.76273734, 0.75846648, 0.75361474, 0.74553276, 0.72431666,\n",
      "       0.76189357, 0.75451728, 0.74800129, 0.73565856, 0.71801898,\n",
      "       0.76076383, 0.76130009, 0.75987757, 0.75671228, 0.74415154,\n",
      "       0.76273734, 0.75846648, 0.75477234, 0.74697464, 0.72732961,\n",
      "       0.76189357, 0.75451728, 0.74708854, 0.73762249, 0.72060411]), 'std_test_score': array([0.00266637, 0.00266637, 0.00266637, 0.00266637, 0.00266637,\n",
      "       0.00188073, 0.00188073, 0.00188073, 0.00188073, 0.00188073,\n",
      "       0.00181915, 0.00181915, 0.00181915, 0.00181915, 0.00181915,\n",
      "       0.00171652, 0.00242188, 0.00242188, 0.00242188, 0.00242188,\n",
      "       0.00212259, 0.00210674, 0.00210674, 0.00210674, 0.00210674,\n",
      "       0.00191446, 0.00115251, 0.00115251, 0.00115251, 0.00115251,\n",
      "       0.00204476, 0.00156823, 0.00217696, 0.00504065, 0.0099942 ,\n",
      "       0.00215661, 0.00276568, 0.00419024, 0.00589821, 0.01064738,\n",
      "       0.00164198, 0.00207977, 0.00187179, 0.00605786, 0.00776881,\n",
      "       0.00204476, 0.0022844 , 0.00230188, 0.00607577, 0.00527809,\n",
      "       0.00215661, 0.00372923, 0.00319283, 0.0059582 , 0.00565351,\n",
      "       0.00164198, 0.0026135 , 0.002431  , 0.00339035, 0.0035143 ,\n",
      "       0.00204476, 0.0022844 , 0.00231915, 0.00531751, 0.0050791 ,\n",
      "       0.00215661, 0.00372923, 0.002818  , 0.00581663, 0.00526091,\n",
      "       0.00164198, 0.0026135 , 0.0016018 , 0.00281958, 0.00368431,\n",
      "       0.00164085, 0.00164085, 0.00164085, 0.00164085, 0.00164085,\n",
      "       0.00142687, 0.00142687, 0.00142687, 0.00142687, 0.00142687,\n",
      "       0.00220576, 0.00220576, 0.00220576, 0.00220576, 0.00220576,\n",
      "       0.00224195, 0.00075953, 0.00075953, 0.00075953, 0.00075953,\n",
      "       0.00133698, 0.00392666, 0.00392666, 0.00392666, 0.00392666,\n",
      "       0.00157903, 0.00560204, 0.00560204, 0.00560204, 0.00560204,\n",
      "       0.00190698, 0.00212794, 0.00252443, 0.00364379, 0.01473807,\n",
      "       0.00098022, 0.00258665, 0.00348721, 0.00596274, 0.01388817,\n",
      "       0.00149285, 0.00397265, 0.00495257, 0.00719461, 0.01487741,\n",
      "       0.00190698, 0.00253585, 0.00462452, 0.00517148, 0.00391039,\n",
      "       0.00098022, 0.00184915, 0.00249881, 0.00464858, 0.00282558,\n",
      "       0.00149285, 0.0049989 , 0.00383681, 0.00544712, 0.00285929,\n",
      "       0.00190698, 0.00253585, 0.00403619, 0.00539765, 0.00484441,\n",
      "       0.00098022, 0.00184915, 0.00397113, 0.00478536, 0.00539721,\n",
      "       0.00149285, 0.0049989 , 0.00529843, 0.00536686, 0.00529456]), 'rank_test_score': array([128, 128, 128, 128, 128,  82,  82,  82,  82,  82,  41,  41,  41,\n",
      "        41,  41, 122, 113, 113, 113, 113,  55,  60,  60,  60,  60,   7,\n",
      "        30,  30,  30,  30, 118, 104,  92, 105, 138,  52,  15,  19,  81,\n",
      "       139,   4,   1,  11, 108, 140, 118, 109,  90, 103, 121,  52,  23,\n",
      "        12,  58, 117,   4,   2,   9,  59, 134, 118, 109,  89,  99, 112,\n",
      "        52,  23,  13,  64, 111,   4,   2,   8,  76, 127,  65,  65,  65,\n",
      "        65,  65,  46,  46,  46,  46,  46,  25,  25,  25,  25,  25,  51,\n",
      "        72,  72,  72,  72,  10,  77,  77,  77,  77,  14,  93,  93,  93,\n",
      "        93,  38,  36,  37,  97, 144,  16,  87, 106, 135, 146,  20, 102,\n",
      "       123, 142, 150,  38,  34,  57,  91, 137,  16,  70, 107, 133, 147,\n",
      "        20, 100, 124, 143, 149,  38,  34,  56,  88, 136,  16,  70,  98,\n",
      "       126, 145,  20, 100, 125, 141, 148])}\n"
     ]
    }
   ],
   "source": [
    "print(clf.cv_results_)"
   ]
  },
  {
   "cell_type": "code",
   "execution_count": 115,
   "metadata": {},
   "outputs": [
    {
     "name": "stdout",
     "output_type": "stream",
     "text": [
      "LGBMClassifier(bagging_fraction=1, boosting='dart', feature_fraction=1,\n",
      "               is_unbalance=True, max_depth=8, metric='auc', num_iterations=500,\n",
      "               num_leaves=16, objective='binary')\n"
     ]
    }
   ],
   "source": [
    "print(clf.best_estimator_)"
   ]
  },
  {
   "cell_type": "code",
   "execution_count": 116,
   "metadata": {},
   "outputs": [
    {
     "name": "stdout",
     "output_type": "stream",
     "text": [
      "0.7658388159007584\n"
     ]
    }
   ],
   "source": [
    "print(clf.best_score_)"
   ]
  },
  {
   "cell_type": "code",
   "execution_count": 151,
   "metadata": {},
   "outputs": [],
   "source": [
    "kaggle_test = pd.read_csv(\"test_feat_eng.csv\")\n",
    "kaggle_test = pd.get_dummies(kaggle_test)\n",
    "\n",
    "# Prevents an error on my machine\n",
    "kaggle_test = kaggle_test.rename(columns = lambda x:re.sub('[^A-Za-z0-9_]+', '', x))\n",
    "\n",
    "# Adding columns to match training data\n",
    "kaggle_test['CODE_GENDER_XNA'] = 0\n",
    "kaggle_test['NAME_FAMILY_STATUS_Unknown'] = 0\n",
    "kaggle_test['NAME_INCOME_TYPE_Maternityleave'] = 0"
   ]
  },
  {
   "cell_type": "code",
   "execution_count": 152,
   "metadata": {},
   "outputs": [],
   "source": [
    "#estimating probabilities\n",
    "final_pred = model.predict(kaggle_test)\n",
    "#final_pred = clf.best_estimator_.predict(kaggle_test)\n",
    "final_pred = [max(x,0) for x in final_pred]\n",
    "\n",
    "IDs = kaggle_test[['SK_ID_CURR']].astype('int64', copy=False)\n",
    "\n",
    "submission_lgbm = pd.DataFrame({'SK_ID_CURR': IDs.SK_ID_CURR.astype('int64', copy=False).tolist(),\n",
    "'TARGET': final_pred})\n",
    "\n",
    "submission_lgbm.to_csv(\"lgbm_sub.csv\", index=False)"
   ]
  },
  {
   "cell_type": "code",
   "execution_count": 141,
   "metadata": {},
   "outputs": [],
   "source": [
    "#CODE I COPIED OF KAGGLE\n",
    "def GridSearch_table_plot(grid_clf, param_name,\n",
    "                          num_results=15,\n",
    "                          negative=True,\n",
    "                          graph=True,\n",
    "                          display_all_params=True):\n",
    "\n",
    "    \n",
    "  \n",
    "\n",
    "    clf = grid_clf.best_estimator_\n",
    "    clf_params = grid_clf.best_params_\n",
    "    if negative:\n",
    "        clf_score = -grid_clf.best_score_\n",
    "    else:\n",
    "        clf_score = grid_clf.best_score_\n",
    "    clf_stdev = grid_clf.cv_results_['std_test_score'][grid_clf.best_index_]\n",
    "    cv_results = grid_clf.cv_results_\n",
    "\n",
    "    print(\"best parameters: {}\".format(clf_params))\n",
    "    print(\"best score:      {:0.5f} (+/-{:0.5f})\".format(clf_score, clf_stdev))\n",
    "    if display_all_params:\n",
    "        import pprint\n",
    "        pprint.pprint(clf.get_params())\n",
    "\n",
    "    # pick out the best results\n",
    "    # =========================\n",
    "    scores_df = pd.DataFrame(cv_results).sort_values(by='rank_test_score')\n",
    "\n",
    "    best_row = scores_df.iloc[0, :]\n",
    "    if negative:\n",
    "        best_mean = -best_row['mean_test_score']\n",
    "    else:\n",
    "        best_mean = best_row['mean_test_score']\n",
    "    best_stdev = best_row['std_test_score']\n",
    "    best_param = best_row['param_' + param_name]\n",
    "\n",
    "    # display the top 'num_results' results\n",
    "    # =====================================\n",
    "    display(pd.DataFrame(cv_results) \\\n",
    "            .sort_values(by='rank_test_score').head(num_results))\n",
    "\n",
    "    # plot the results\n",
    "    # ================\n",
    "    scores_df = scores_df.sort_values(by='param_' + param_name)\n",
    "\n",
    "    if negative:\n",
    "        means = -scores_df['mean_test_score']\n",
    "    else:\n",
    "        means = scores_df['mean_test_score']\n",
    "    stds = scores_df['std_test_score']\n",
    "    params = scores_df['param_' + param_name]\n",
    "\n",
    "    # plot\n",
    "    if graph:\n",
    "        plt.figure(figsize=(8, 8))\n",
    "        plt.errorbar(params, means, yerr=stds)\n",
    "\n",
    "        plt.axhline(y=best_mean + best_stdev, color='red')\n",
    "        plt.axhline(y=best_mean - best_stdev, color='red')\n",
    "        plt.plot(best_param, best_mean, 'or')\n",
    "\n",
    "        plt.title(param_name + \" vs Score\\nBest Score {:0.5f}\".format(clf_score))\n",
    "        plt.xlabel(param_name)\n",
    "        plt.ylabel('Score')\n",
    "        plt.show()"
   ]
  },
  {
   "cell_type": "code",
   "execution_count": 146,
   "metadata": {},
   "outputs": [
    {
     "name": "stdout",
     "output_type": "stream",
     "text": [
      "best parameters: {'bagging_fraction': 1, 'boosting': 'dart', 'feature_fraction': 1, 'is_unbalance': True, 'max_depth': 8, 'metric': 'auc', 'num_iterations': 500, 'num_leaves': 16, 'objective': 'binary'}\n",
      "best score:      0.76584 (+/-0.00208)\n",
      "{'bagging_fraction': 1,\n",
      " 'boosting': 'dart',\n",
      " 'boosting_type': 'gbdt',\n",
      " 'class_weight': None,\n",
      " 'colsample_bytree': 1.0,\n",
      " 'feature_fraction': 1,\n",
      " 'importance_type': 'split',\n",
      " 'is_unbalance': True,\n",
      " 'learning_rate': 0.1,\n",
      " 'max_depth': 8,\n",
      " 'metric': 'auc',\n",
      " 'min_child_samples': 20,\n",
      " 'min_child_weight': 0.001,\n",
      " 'min_split_gain': 0.0,\n",
      " 'n_estimators': 100,\n",
      " 'n_jobs': -1,\n",
      " 'num_iterations': 500,\n",
      " 'num_leaves': 16,\n",
      " 'objective': 'binary',\n",
      " 'random_state': None,\n",
      " 'reg_alpha': 0.0,\n",
      " 'reg_lambda': 0.0,\n",
      " 'silent': True,\n",
      " 'subsample': 1.0,\n",
      " 'subsample_for_bin': 200000,\n",
      " 'subsample_freq': 0}\n"
     ]
    },
    {
     "data": {
      "text/html": [
       "<div>\n",
       "<style scoped>\n",
       "    .dataframe tbody tr th:only-of-type {\n",
       "        vertical-align: middle;\n",
       "    }\n",
       "\n",
       "    .dataframe tbody tr th {\n",
       "        vertical-align: top;\n",
       "    }\n",
       "\n",
       "    .dataframe thead th {\n",
       "        text-align: right;\n",
       "    }\n",
       "</style>\n",
       "<table border=\"1\" class=\"dataframe\">\n",
       "  <thead>\n",
       "    <tr style=\"text-align: right;\">\n",
       "      <th></th>\n",
       "      <th>mean_fit_time</th>\n",
       "      <th>std_fit_time</th>\n",
       "      <th>mean_score_time</th>\n",
       "      <th>std_score_time</th>\n",
       "      <th>param_bagging_fraction</th>\n",
       "      <th>param_boosting</th>\n",
       "      <th>param_feature_fraction</th>\n",
       "      <th>param_is_unbalance</th>\n",
       "      <th>param_max_depth</th>\n",
       "      <th>param_metric</th>\n",
       "      <th>param_num_iterations</th>\n",
       "      <th>param_num_leaves</th>\n",
       "      <th>param_objective</th>\n",
       "      <th>params</th>\n",
       "      <th>split0_test_score</th>\n",
       "      <th>split1_test_score</th>\n",
       "      <th>split2_test_score</th>\n",
       "      <th>mean_test_score</th>\n",
       "      <th>std_test_score</th>\n",
       "      <th>rank_test_score</th>\n",
       "    </tr>\n",
       "  </thead>\n",
       "  <tbody>\n",
       "    <tr>\n",
       "      <th>41</th>\n",
       "      <td>44.366305</td>\n",
       "      <td>0.491287</td>\n",
       "      <td>1.193564</td>\n",
       "      <td>0.005919</td>\n",
       "      <td>1</td>\n",
       "      <td>dart</td>\n",
       "      <td>1</td>\n",
       "      <td>True</td>\n",
       "      <td>8</td>\n",
       "      <td>auc</td>\n",
       "      <td>500</td>\n",
       "      <td>16</td>\n",
       "      <td>binary</td>\n",
       "      <td>{'bagging_fraction': 1, 'boosting': 'dart', 'f...</td>\n",
       "      <td>0.768717</td>\n",
       "      <td>0.764923</td>\n",
       "      <td>0.763876</td>\n",
       "      <td>0.765839</td>\n",
       "      <td>0.002080</td>\n",
       "      <td>1</td>\n",
       "    </tr>\n",
       "    <tr>\n",
       "      <th>71</th>\n",
       "      <td>46.632109</td>\n",
       "      <td>1.763556</td>\n",
       "      <td>1.245985</td>\n",
       "      <td>0.038914</td>\n",
       "      <td>1</td>\n",
       "      <td>dart</td>\n",
       "      <td>1</td>\n",
       "      <td>True</td>\n",
       "      <td>-1</td>\n",
       "      <td>auc</td>\n",
       "      <td>500</td>\n",
       "      <td>16</td>\n",
       "      <td>binary</td>\n",
       "      <td>{'bagging_fraction': 1, 'boosting': 'dart', 'f...</td>\n",
       "      <td>0.768659</td>\n",
       "      <td>0.764974</td>\n",
       "      <td>0.762283</td>\n",
       "      <td>0.765305</td>\n",
       "      <td>0.002613</td>\n",
       "      <td>2</td>\n",
       "    </tr>\n",
       "    <tr>\n",
       "      <th>56</th>\n",
       "      <td>41.253828</td>\n",
       "      <td>0.522234</td>\n",
       "      <td>1.154332</td>\n",
       "      <td>0.015623</td>\n",
       "      <td>1</td>\n",
       "      <td>dart</td>\n",
       "      <td>1</td>\n",
       "      <td>True</td>\n",
       "      <td>16</td>\n",
       "      <td>auc</td>\n",
       "      <td>500</td>\n",
       "      <td>16</td>\n",
       "      <td>binary</td>\n",
       "      <td>{'bagging_fraction': 1, 'boosting': 'dart', 'f...</td>\n",
       "      <td>0.768659</td>\n",
       "      <td>0.764974</td>\n",
       "      <td>0.762283</td>\n",
       "      <td>0.765305</td>\n",
       "      <td>0.002613</td>\n",
       "      <td>2</td>\n",
       "    </tr>\n",
       "    <tr>\n",
       "      <th>70</th>\n",
       "      <td>34.265708</td>\n",
       "      <td>0.249402</td>\n",
       "      <td>1.077601</td>\n",
       "      <td>0.067708</td>\n",
       "      <td>1</td>\n",
       "      <td>dart</td>\n",
       "      <td>1</td>\n",
       "      <td>True</td>\n",
       "      <td>-1</td>\n",
       "      <td>auc</td>\n",
       "      <td>500</td>\n",
       "      <td>8</td>\n",
       "      <td>binary</td>\n",
       "      <td>{'bagging_fraction': 1, 'boosting': 'dart', 'f...</td>\n",
       "      <td>0.767137</td>\n",
       "      <td>0.763119</td>\n",
       "      <td>0.765281</td>\n",
       "      <td>0.765179</td>\n",
       "      <td>0.001642</td>\n",
       "      <td>4</td>\n",
       "    </tr>\n",
       "    <tr>\n",
       "      <th>40</th>\n",
       "      <td>32.687308</td>\n",
       "      <td>0.382428</td>\n",
       "      <td>1.066001</td>\n",
       "      <td>0.033000</td>\n",
       "      <td>1</td>\n",
       "      <td>dart</td>\n",
       "      <td>1</td>\n",
       "      <td>True</td>\n",
       "      <td>8</td>\n",
       "      <td>auc</td>\n",
       "      <td>500</td>\n",
       "      <td>8</td>\n",
       "      <td>binary</td>\n",
       "      <td>{'bagging_fraction': 1, 'boosting': 'dart', 'f...</td>\n",
       "      <td>0.767137</td>\n",
       "      <td>0.763119</td>\n",
       "      <td>0.765281</td>\n",
       "      <td>0.765179</td>\n",
       "      <td>0.001642</td>\n",
       "      <td>4</td>\n",
       "    </tr>\n",
       "    <tr>\n",
       "      <th>55</th>\n",
       "      <td>30.250410</td>\n",
       "      <td>0.291029</td>\n",
       "      <td>1.061573</td>\n",
       "      <td>0.048770</td>\n",
       "      <td>1</td>\n",
       "      <td>dart</td>\n",
       "      <td>1</td>\n",
       "      <td>True</td>\n",
       "      <td>16</td>\n",
       "      <td>auc</td>\n",
       "      <td>500</td>\n",
       "      <td>8</td>\n",
       "      <td>binary</td>\n",
       "      <td>{'bagging_fraction': 1, 'boosting': 'dart', 'f...</td>\n",
       "      <td>0.767137</td>\n",
       "      <td>0.763119</td>\n",
       "      <td>0.765281</td>\n",
       "      <td>0.765179</td>\n",
       "      <td>0.001642</td>\n",
       "      <td>4</td>\n",
       "    </tr>\n",
       "    <tr>\n",
       "      <th>25</th>\n",
       "      <td>32.270421</td>\n",
       "      <td>0.182713</td>\n",
       "      <td>1.050206</td>\n",
       "      <td>0.021992</td>\n",
       "      <td>1</td>\n",
       "      <td>dart</td>\n",
       "      <td>1</td>\n",
       "      <td>True</td>\n",
       "      <td>4</td>\n",
       "      <td>auc</td>\n",
       "      <td>500</td>\n",
       "      <td>8</td>\n",
       "      <td>binary</td>\n",
       "      <td>{'bagging_fraction': 1, 'boosting': 'dart', 'f...</td>\n",
       "      <td>0.766704</td>\n",
       "      <td>0.762333</td>\n",
       "      <td>0.765990</td>\n",
       "      <td>0.765009</td>\n",
       "      <td>0.001914</td>\n",
       "      <td>7</td>\n",
       "    </tr>\n",
       "    <tr>\n",
       "      <th>72</th>\n",
       "      <td>61.684848</td>\n",
       "      <td>1.723883</td>\n",
       "      <td>1.336098</td>\n",
       "      <td>0.026104</td>\n",
       "      <td>1</td>\n",
       "      <td>dart</td>\n",
       "      <td>1</td>\n",
       "      <td>True</td>\n",
       "      <td>-1</td>\n",
       "      <td>auc</td>\n",
       "      <td>500</td>\n",
       "      <td>32</td>\n",
       "      <td>binary</td>\n",
       "      <td>{'bagging_fraction': 1, 'boosting': 'dart', 'f...</td>\n",
       "      <td>0.766779</td>\n",
       "      <td>0.764530</td>\n",
       "      <td>0.762871</td>\n",
       "      <td>0.764727</td>\n",
       "      <td>0.001602</td>\n",
       "      <td>8</td>\n",
       "    </tr>\n",
       "    <tr>\n",
       "      <th>57</th>\n",
       "      <td>58.301030</td>\n",
       "      <td>0.386491</td>\n",
       "      <td>1.354921</td>\n",
       "      <td>0.004909</td>\n",
       "      <td>1</td>\n",
       "      <td>dart</td>\n",
       "      <td>1</td>\n",
       "      <td>True</td>\n",
       "      <td>16</td>\n",
       "      <td>auc</td>\n",
       "      <td>500</td>\n",
       "      <td>32</td>\n",
       "      <td>binary</td>\n",
       "      <td>{'bagging_fraction': 1, 'boosting': 'dart', 'f...</td>\n",
       "      <td>0.767149</td>\n",
       "      <td>0.764845</td>\n",
       "      <td>0.761242</td>\n",
       "      <td>0.764412</td>\n",
       "      <td>0.002431</td>\n",
       "      <td>9</td>\n",
       "    </tr>\n",
       "    <tr>\n",
       "      <th>95</th>\n",
       "      <td>8.871673</td>\n",
       "      <td>0.083637</td>\n",
       "      <td>0.837955</td>\n",
       "      <td>0.049045</td>\n",
       "      <td>1</td>\n",
       "      <td>gbdt</td>\n",
       "      <td>1</td>\n",
       "      <td>True</td>\n",
       "      <td>4</td>\n",
       "      <td>auc</td>\n",
       "      <td>300</td>\n",
       "      <td>8</td>\n",
       "      <td>binary</td>\n",
       "      <td>{'bagging_fraction': 1, 'boosting': 'gbdt', 'f...</td>\n",
       "      <td>0.764393</td>\n",
       "      <td>0.762539</td>\n",
       "      <td>0.765804</td>\n",
       "      <td>0.764245</td>\n",
       "      <td>0.001337</td>\n",
       "      <td>10</td>\n",
       "    </tr>\n",
       "    <tr>\n",
       "      <th>42</th>\n",
       "      <td>58.049733</td>\n",
       "      <td>0.436248</td>\n",
       "      <td>1.366345</td>\n",
       "      <td>0.091809</td>\n",
       "      <td>1</td>\n",
       "      <td>dart</td>\n",
       "      <td>1</td>\n",
       "      <td>True</td>\n",
       "      <td>8</td>\n",
       "      <td>auc</td>\n",
       "      <td>500</td>\n",
       "      <td>32</td>\n",
       "      <td>binary</td>\n",
       "      <td>{'bagging_fraction': 1, 'boosting': 'dart', 'f...</td>\n",
       "      <td>0.765907</td>\n",
       "      <td>0.764039</td>\n",
       "      <td>0.761347</td>\n",
       "      <td>0.763764</td>\n",
       "      <td>0.001872</td>\n",
       "      <td>11</td>\n",
       "    </tr>\n",
       "    <tr>\n",
       "      <th>52</th>\n",
       "      <td>31.293556</td>\n",
       "      <td>0.331214</td>\n",
       "      <td>1.000279</td>\n",
       "      <td>0.013755</td>\n",
       "      <td>1</td>\n",
       "      <td>dart</td>\n",
       "      <td>1</td>\n",
       "      <td>True</td>\n",
       "      <td>16</td>\n",
       "      <td>auc</td>\n",
       "      <td>300</td>\n",
       "      <td>32</td>\n",
       "      <td>binary</td>\n",
       "      <td>{'bagging_fraction': 1, 'boosting': 'dart', 'f...</td>\n",
       "      <td>0.767349</td>\n",
       "      <td>0.764213</td>\n",
       "      <td>0.759576</td>\n",
       "      <td>0.763712</td>\n",
       "      <td>0.003193</td>\n",
       "      <td>12</td>\n",
       "    </tr>\n",
       "    <tr>\n",
       "      <th>67</th>\n",
       "      <td>32.173722</td>\n",
       "      <td>0.147103</td>\n",
       "      <td>1.015833</td>\n",
       "      <td>0.006221</td>\n",
       "      <td>1</td>\n",
       "      <td>dart</td>\n",
       "      <td>1</td>\n",
       "      <td>True</td>\n",
       "      <td>-1</td>\n",
       "      <td>auc</td>\n",
       "      <td>300</td>\n",
       "      <td>32</td>\n",
       "      <td>binary</td>\n",
       "      <td>{'bagging_fraction': 1, 'boosting': 'dart', 'f...</td>\n",
       "      <td>0.766540</td>\n",
       "      <td>0.763844</td>\n",
       "      <td>0.759689</td>\n",
       "      <td>0.763358</td>\n",
       "      <td>0.002818</td>\n",
       "      <td>13</td>\n",
       "    </tr>\n",
       "    <tr>\n",
       "      <th>100</th>\n",
       "      <td>11.585977</td>\n",
       "      <td>0.041224</td>\n",
       "      <td>0.968687</td>\n",
       "      <td>0.010272</td>\n",
       "      <td>1</td>\n",
       "      <td>gbdt</td>\n",
       "      <td>1</td>\n",
       "      <td>True</td>\n",
       "      <td>4</td>\n",
       "      <td>auc</td>\n",
       "      <td>500</td>\n",
       "      <td>8</td>\n",
       "      <td>binary</td>\n",
       "      <td>{'bagging_fraction': 1, 'boosting': 'gbdt', 'f...</td>\n",
       "      <td>0.761294</td>\n",
       "      <td>0.763544</td>\n",
       "      <td>0.765144</td>\n",
       "      <td>0.763327</td>\n",
       "      <td>0.001579</td>\n",
       "      <td>14</td>\n",
       "    </tr>\n",
       "    <tr>\n",
       "      <th>36</th>\n",
       "      <td>24.304725</td>\n",
       "      <td>0.191942</td>\n",
       "      <td>0.944500</td>\n",
       "      <td>0.016723</td>\n",
       "      <td>1</td>\n",
       "      <td>dart</td>\n",
       "      <td>1</td>\n",
       "      <td>True</td>\n",
       "      <td>8</td>\n",
       "      <td>auc</td>\n",
       "      <td>300</td>\n",
       "      <td>16</td>\n",
       "      <td>binary</td>\n",
       "      <td>{'bagging_fraction': 1, 'boosting': 'dart', 'f...</td>\n",
       "      <td>0.766707</td>\n",
       "      <td>0.762133</td>\n",
       "      <td>0.760092</td>\n",
       "      <td>0.762977</td>\n",
       "      <td>0.002766</td>\n",
       "      <td>15</td>\n",
       "    </tr>\n",
       "  </tbody>\n",
       "</table>\n",
       "</div>"
      ],
      "text/plain": [
       "     mean_fit_time  std_fit_time  mean_score_time  std_score_time  \\\n",
       "41       44.366305      0.491287         1.193564        0.005919   \n",
       "71       46.632109      1.763556         1.245985        0.038914   \n",
       "56       41.253828      0.522234         1.154332        0.015623   \n",
       "70       34.265708      0.249402         1.077601        0.067708   \n",
       "40       32.687308      0.382428         1.066001        0.033000   \n",
       "55       30.250410      0.291029         1.061573        0.048770   \n",
       "25       32.270421      0.182713         1.050206        0.021992   \n",
       "72       61.684848      1.723883         1.336098        0.026104   \n",
       "57       58.301030      0.386491         1.354921        0.004909   \n",
       "95        8.871673      0.083637         0.837955        0.049045   \n",
       "42       58.049733      0.436248         1.366345        0.091809   \n",
       "52       31.293556      0.331214         1.000279        0.013755   \n",
       "67       32.173722      0.147103         1.015833        0.006221   \n",
       "100      11.585977      0.041224         0.968687        0.010272   \n",
       "36       24.304725      0.191942         0.944500        0.016723   \n",
       "\n",
       "    param_bagging_fraction param_boosting param_feature_fraction  \\\n",
       "41                       1           dart                      1   \n",
       "71                       1           dart                      1   \n",
       "56                       1           dart                      1   \n",
       "70                       1           dart                      1   \n",
       "40                       1           dart                      1   \n",
       "55                       1           dart                      1   \n",
       "25                       1           dart                      1   \n",
       "72                       1           dart                      1   \n",
       "57                       1           dart                      1   \n",
       "95                       1           gbdt                      1   \n",
       "42                       1           dart                      1   \n",
       "52                       1           dart                      1   \n",
       "67                       1           dart                      1   \n",
       "100                      1           gbdt                      1   \n",
       "36                       1           dart                      1   \n",
       "\n",
       "    param_is_unbalance param_max_depth param_metric param_num_iterations  \\\n",
       "41                True               8          auc                  500   \n",
       "71                True              -1          auc                  500   \n",
       "56                True              16          auc                  500   \n",
       "70                True              -1          auc                  500   \n",
       "40                True               8          auc                  500   \n",
       "55                True              16          auc                  500   \n",
       "25                True               4          auc                  500   \n",
       "72                True              -1          auc                  500   \n",
       "57                True              16          auc                  500   \n",
       "95                True               4          auc                  300   \n",
       "42                True               8          auc                  500   \n",
       "52                True              16          auc                  300   \n",
       "67                True              -1          auc                  300   \n",
       "100               True               4          auc                  500   \n",
       "36                True               8          auc                  300   \n",
       "\n",
       "    param_num_leaves param_objective  \\\n",
       "41                16          binary   \n",
       "71                16          binary   \n",
       "56                16          binary   \n",
       "70                 8          binary   \n",
       "40                 8          binary   \n",
       "55                 8          binary   \n",
       "25                 8          binary   \n",
       "72                32          binary   \n",
       "57                32          binary   \n",
       "95                 8          binary   \n",
       "42                32          binary   \n",
       "52                32          binary   \n",
       "67                32          binary   \n",
       "100                8          binary   \n",
       "36                16          binary   \n",
       "\n",
       "                                                params  split0_test_score  \\\n",
       "41   {'bagging_fraction': 1, 'boosting': 'dart', 'f...           0.768717   \n",
       "71   {'bagging_fraction': 1, 'boosting': 'dart', 'f...           0.768659   \n",
       "56   {'bagging_fraction': 1, 'boosting': 'dart', 'f...           0.768659   \n",
       "70   {'bagging_fraction': 1, 'boosting': 'dart', 'f...           0.767137   \n",
       "40   {'bagging_fraction': 1, 'boosting': 'dart', 'f...           0.767137   \n",
       "55   {'bagging_fraction': 1, 'boosting': 'dart', 'f...           0.767137   \n",
       "25   {'bagging_fraction': 1, 'boosting': 'dart', 'f...           0.766704   \n",
       "72   {'bagging_fraction': 1, 'boosting': 'dart', 'f...           0.766779   \n",
       "57   {'bagging_fraction': 1, 'boosting': 'dart', 'f...           0.767149   \n",
       "95   {'bagging_fraction': 1, 'boosting': 'gbdt', 'f...           0.764393   \n",
       "42   {'bagging_fraction': 1, 'boosting': 'dart', 'f...           0.765907   \n",
       "52   {'bagging_fraction': 1, 'boosting': 'dart', 'f...           0.767349   \n",
       "67   {'bagging_fraction': 1, 'boosting': 'dart', 'f...           0.766540   \n",
       "100  {'bagging_fraction': 1, 'boosting': 'gbdt', 'f...           0.761294   \n",
       "36   {'bagging_fraction': 1, 'boosting': 'dart', 'f...           0.766707   \n",
       "\n",
       "     split1_test_score  split2_test_score  mean_test_score  std_test_score  \\\n",
       "41            0.764923           0.763876         0.765839        0.002080   \n",
       "71            0.764974           0.762283         0.765305        0.002613   \n",
       "56            0.764974           0.762283         0.765305        0.002613   \n",
       "70            0.763119           0.765281         0.765179        0.001642   \n",
       "40            0.763119           0.765281         0.765179        0.001642   \n",
       "55            0.763119           0.765281         0.765179        0.001642   \n",
       "25            0.762333           0.765990         0.765009        0.001914   \n",
       "72            0.764530           0.762871         0.764727        0.001602   \n",
       "57            0.764845           0.761242         0.764412        0.002431   \n",
       "95            0.762539           0.765804         0.764245        0.001337   \n",
       "42            0.764039           0.761347         0.763764        0.001872   \n",
       "52            0.764213           0.759576         0.763712        0.003193   \n",
       "67            0.763844           0.759689         0.763358        0.002818   \n",
       "100           0.763544           0.765144         0.763327        0.001579   \n",
       "36            0.762133           0.760092         0.762977        0.002766   \n",
       "\n",
       "     rank_test_score  \n",
       "41                 1  \n",
       "71                 2  \n",
       "56                 2  \n",
       "70                 4  \n",
       "40                 4  \n",
       "55                 4  \n",
       "25                 7  \n",
       "72                 8  \n",
       "57                 9  \n",
       "95                10  \n",
       "42                11  \n",
       "52                12  \n",
       "67                13  \n",
       "100               14  \n",
       "36                15  "
      ]
     },
     "metadata": {},
     "output_type": "display_data"
    },
    {
     "data": {
      "image/png": "[encoded data removed]",
      "text/plain": [
       "<Figure size 576x576 with 1 Axes>"
      ]
     },
     "metadata": {
      "needs_background": "light"
     },
     "output_type": "display_data"
    }
   ],
   "source": [
    "GridSearch_table_plot(clf,\"boosting\",negative=False,display_all_params=True)"
   ]
  },
  {
   "cell_type": "code",
   "execution_count": 159,
   "metadata": {},
   "outputs": [
    {
     "data": {
      "text/plain": [
       "['gscv_results.pkl']"
      ]
     },
     "execution_count": 159,
     "metadata": {},
     "output_type": "execute_result"
    }
   ],
   "source": [
    "joblib.dump(clf, 'gscv_results.pkl')"
   ]
  },
  {
   "cell_type": "code",
   "execution_count": 162,
   "metadata": {},
   "outputs": [],
   "source": [
    "import pickle\n",
    "def save_object(obj, filename):\n",
    "    with open(filename, 'wb') as output:  # Overwrites any existing file.\n",
    "        pickle.dump(obj, output, pickle.HIGHEST_PROTOCOL)\n",
    "\n",
    "# sample usage\n",
    "save_object(clf, 'gscv_results.pkl')"
   ]
  },
  {
   "cell_type": "code",
   "execution_count": 164,
   "metadata": {},
   "outputs": [],
   "source": [
    "test = pickle.load(open('gscv_results.pkl','rb'))"
   ]
  },
  {
   "cell_type": "code",
   "execution_count": 165,
   "metadata": {},
   "outputs": [
    {
     "name": "stdout",
     "output_type": "stream",
     "text": [
      "LGBMClassifier(bagging_fraction=1, boosting='dart', feature_fraction=1,\n",
      "               is_unbalance=True, max_depth=8, metric='auc', num_iterations=500,\n",
      "               num_leaves=16, objective='binary')\n"
     ]
    }
   ],
   "source": [
    "print(test.best_estimator_)"
   ]
  },
  {
   "cell_type": "code",
   "execution_count": null,
   "metadata": {},
   "outputs": [],
   "source": []
  }
 ],
 "metadata": {
  "kernelspec": {
   "display_name": "Python 3",
   "language": "python",
   "name": "python3"
  },
  "language_info": {
   "codemirror_mode": {
    "name": "ipython",
    "version": 3
   },
   "file_extension": ".py",
   "mimetype": "text/x-python",
   "name": "python",
   "nbconvert_exporter": "python",
   "pygments_lexer": "ipython3",
   "version": "3.7.7"
  }
 },
 "nbformat": 4,
 "nbformat_minor": 4
}
