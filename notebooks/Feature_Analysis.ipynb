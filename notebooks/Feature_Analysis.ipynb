{
 "cells": [
  {
   "cell_type": "code",
   "execution_count": 1,
   "metadata": {},
   "outputs": [],
   "source": [
    "import numpy as np\n",
    "import pandas as pd\n",
    "import seaborn as sns\n",
    "import re\n",
    "import matplotlib.pyplot as plt\n",
    "from sklearn.impute import SimpleImputer\n",
    "from sklearn.experimental import enable_iterative_imputer\n",
    "from sklearn.impute import IterativeImputer\n",
    "from imblearn.over_sampling import SMOTE\n",
    "from sklearn import metrics\n",
    "from sklearn.preprocessing import LabelEncoder\n",
    "from sklearn.tree import DecisionTreeClassifier\n",
    "from sklearn.model_selection import train_test_split\n",
    "from sklearn.ensemble import RandomForestClassifier\n",
    "from sklearn.metrics import r2_score,accuracy_score, confusion_matrix, roc_auc_score\n",
    "from sklearn.model_selection import cross_val_score, cross_validate, StratifiedKFold, GridSearchCV\n",
    "from sklearn.metrics import roc_auc_score, roc_curve, precision_score, recall_score\n",
    "from sklearn.model_selection import KFold, StratifiedKFold, train_test_split\n",
    "from sklearn.preprocessing import scale, LabelEncoder\n",
    "\n",
    "from lightgbm import LGBMClassifier\n",
    "import lightgbm as lgbm"
   ]
  },
  {
   "cell_type": "code",
   "execution_count": 2,
   "metadata": {},
   "outputs": [],
   "source": [
    "dataset = pd.read_csv(\"train_feat_eng.csv\")"
   ]
  },
  {
   "cell_type": "code",
   "execution_count": 3,
   "metadata": {},
   "outputs": [],
   "source": [
    "application_train = pd.read_csv(\"data/application_train.csv\")"
   ]
  },
  {
   "cell_type": "code",
   "execution_count": 4,
   "metadata": {},
   "outputs": [
    {
     "data": {
      "text/plain": [
       "array([ True, False, False, False, False, False, False, False, False,\n",
       "       False, False, False, False, False, False, False, False, False,\n",
       "       False, False, False, False, False, False, False, False, False,\n",
       "       False, False, False, False, False, False, False, False, False,\n",
       "       False, False, False, False, False, False, False, False, False,\n",
       "       False, False, False, False, False, False, False, False, False,\n",
       "       False, False, False, False, False, False, False, False, False,\n",
       "       False, False, False, False, False, False, False, False, False,\n",
       "       False, False, False, False, False, False, False, False, False,\n",
       "       False, False, False, False, False, False, False, False, False,\n",
       "       False, False, False, False, False, False, False, False, False,\n",
       "       False, False, False, False, False, False, False, False, False,\n",
       "       False, False, False, False, False, False, False, False, False,\n",
       "       False, False, False, False, False, False,  True,  True,  True,\n",
       "        True,  True,  True,  True,  True,  True])"
      ]
     },
     "execution_count": 4,
     "metadata": {},
     "output_type": "execute_result"
    }
   ],
   "source": [
    "index = dataset.columns.isin(application_train.columns)\n",
    "~index"
   ]
  },
  {
   "cell_type": "code",
   "execution_count": 5,
   "metadata": {},
   "outputs": [
    {
     "data": {
      "text/plain": [
       "Index(['Unnamed: 0', 'AMT_CREDIT_LIMIT_ACTUAL', 'OVERDUE_DAYS_SUM',\n",
       "       'TOTAL_ATM_WITHDRAW', 'AMT_CREDIT_TO_ANNUITY_RATIO',\n",
       "       'AMT_CREDIT_GOODS_RATIO', 'AMT_CREDIT_INCOME_RATIO', 'NUM_PREV_LOANS',\n",
       "       'ACTIVE_LOANS_PERCENTAGE', 'DEBT_CREDIT_RATIO'],\n",
       "      dtype='object')"
      ]
     },
     "execution_count": 5,
     "metadata": {},
     "output_type": "execute_result"
    }
   ],
   "source": [
    "eng_cols = dataset.columns[~index]\n",
    "eng_cols"
   ]
  },
  {
   "cell_type": "code",
   "execution_count": 6,
   "metadata": {},
   "outputs": [
    {
     "data": {
      "text/plain": [
       "10"
      ]
     },
     "execution_count": 6,
     "metadata": {},
     "output_type": "execute_result"
    }
   ],
   "source": [
    "#number of features to test\n",
    "len(eng_cols)"
   ]
  },
  {
   "cell_type": "code",
   "execution_count": 7,
   "metadata": {},
   "outputs": [],
   "source": [
    "def model_on_dataset(dataset):\n",
    "    data = pd.get_dummies(dataset)\n",
    "    data = data.rename(columns = lambda x:re.sub('[^A-Za-z0-9_]+', '', x))\n",
    "    X_train, X_test, y_train, y_test = train_test_split(data.drop('TARGET', 1), data['TARGET'], test_size = .2, random_state=42,shuffle=True)\n",
    "\n",
    "    lgbm_train = lgbm.Dataset(X_train, y_train)\n",
    "    max_depths = [x for x in range(3,30,3)]\n",
    "    max_depths.append(50)\n",
    "    max_depths.append(100)\n",
    "    num_leaves = [x for x in range(4,20,2)]\n",
    "    min_leaf_data = [x for x in range(5,100,9)]\n",
    "    boost_method = ['gbdt', 'dart']\n",
    "    unbalanced = [True, False]\n",
    "    parameters = {\n",
    "    #'num_leaves': 10,\n",
    "    #'min_data_in_leaf': 50,\n",
    "    'max_depth': 5\n",
    "    }\n",
    "\n",
    "    estimator = lgbm.train(parameters, train_set=lgbm_train)\n",
    "    #estimating probabilities\n",
    "    train_pred = estimator.predict(X_train)\n",
    "    test_pred = estimator.predict(X_test)\n",
    "\n",
    "    #converting to binary\n",
    "    train_pred = np.round(train_pred,0)\n",
    "    test_pred = np.round(test_pred,0)\n",
    "\n",
    "    train_acc = accuracy_score(train_pred, y_train)\n",
    "    train_cm = confusion_matrix(train_pred, y_train)\n",
    "    train_roc = roc_auc_score(train_pred, y_train)\n",
    "    test_acc = accuracy_score(test_pred, y_test)\n",
    "    test_cm = confusion_matrix(test_pred, y_test)\n",
    "    test_roc = roc_auc_score(test_pred, y_test)\n",
    "    return train_pred, train_acc, train_cm, test_acc, test_cm, test_roc\n",
    "\n",
    "    "
   ]
  },
  {
   "cell_type": "code",
   "execution_count": 8,
   "metadata": {},
   "outputs": [],
   "source": [
    "def test_feature_strength(eng_cols, dataset, application_train):\n",
    "    train_preds = []\n",
    "    train_accs = []\n",
    "    train_cms = []\n",
    "    test_accs = []\n",
    "    test_cms = []\n",
    "    test_rocs = []\n",
    "    for col in eng_cols:\n",
    "        app = application_train.copy()\n",
    "        app[col] = dataset[col]\n",
    "        train_pred, train_acc, train_cm, test_acc, test_cm, test_roc = model_on_dataset(app)\n",
    "        train_preds.append(train_pred)\n",
    "        train_accs.append(train_acc)\n",
    "        train_cms.append(train_cm)\n",
    "        test_accs.append(test_acc)\n",
    "        test_cms.append(test_cm)\n",
    "        test_rocs.append(test_roc)\n",
    "        \n",
    "    return train_preds, train_accs, train_cms, test_accs, train_cms, test_rocs\n",
    "        "
   ]
  },
  {
   "cell_type": "code",
   "execution_count": 9,
   "metadata": {},
   "outputs": [],
   "source": [
    "train_preds, train_accs, train_cms, test_accs, train_cms, test_rocs = \\\n",
    "test_feature_strength(eng_cols, dataset, application_train)"
   ]
  },
  {
   "cell_type": "code",
   "execution_count": 10,
   "metadata": {},
   "outputs": [
    {
     "data": {
      "image/png": "[encoded data removed]",
      "text/plain": [
       "<Figure size 432x288 with 1 Axes>"
      ]
     },
     "metadata": {
      "needs_background": "light"
     },
     "output_type": "display_data"
    }
   ],
   "source": [
    "names = list(eng_cols)\n",
    "values = list(test_accs)\n",
    "\n",
    "\n",
    "x = np.arange(len(eng_cols))\n",
    "xmin = 0\n",
    "xmax = len(eng_cols)\n",
    "ymin = .9196\n",
    "ymax = 0.91990\n",
    "fig, ax = plt.subplots()\n",
    "plt.bar(x, values)\n",
    "plt.xticks(x, (eng_cols), rotation='vertical')\n",
    "plt.axis([xmin,xmax,ymin,ymax])\n",
    "plt.title(\"Feature Strength Measured by Accuracy\")\n",
    "plt.savefig(\"feature_strength_test_acc.png\")"
   ]
  },
  {
   "cell_type": "code",
   "execution_count": 11,
   "metadata": {},
   "outputs": [
    {
     "data": {
      "image/png": "[encoded data removed]",
      "text/plain": [
       "<Figure size 432x288 with 1 Axes>"
      ]
     },
     "metadata": {
      "needs_background": "light"
     },
     "output_type": "display_data"
    }
   ],
   "source": [
    "names = list(eng_cols)\n",
    "values = list(test_rocs)\n",
    "\n",
    "\n",
    "x = np.arange(len(eng_cols))\n",
    "xmin = 0\n",
    "xmax = len(eng_cols)\n",
    "ymin = .70\n",
    "ymax = 0.80\n",
    "fig, ax = plt.subplots()\n",
    "plt.bar(x, values)\n",
    "plt.xticks(x, (eng_cols), rotation='vertical')\n",
    "plt.axis([xmin,xmax,ymin,ymax])\n",
    "plt.title(\"Feature Strength Measured by ROC\")\n",
    "plt.savefig(\"feature_strength_test_roc.png\")"
   ]
  },
  {
   "cell_type": "code",
   "execution_count": 12,
   "metadata": {},
   "outputs": [],
   "source": [
    "data = pd.get_dummies(dataset)\n",
    "data = data.rename(columns = lambda x:re.sub('[^A-Za-z0-9_]+', '', x))"
   ]
  },
  {
   "cell_type": "code",
   "execution_count": 13,
   "metadata": {},
   "outputs": [],
   "source": [
    "correls = []\n",
    "counter = -1\n",
    "cols = data.drop('TARGET', 1).columns\n",
    "for col in cols:\n",
    "    counter+=1\n",
    "    c = data['TARGET'].corr(data[col])\n",
    "    if c is not None:\n",
    "        correls.append(c)\n",
    "    else:\n",
    "        correls.append(0)"
   ]
  },
  {
   "cell_type": "code",
   "execution_count": 16,
   "metadata": {},
   "outputs": [
    {
     "data": {
      "image/png": "[encoded data removed]",
      "text/plain": [
       "<Figure size 432x288 with 1 Axes>"
      ]
     },
     "metadata": {
      "needs_background": "light"
     },
     "output_type": "display_data"
    }
   ],
   "source": [
    "names = list(cols)\n",
    "values = list(correls)\n",
    "\n",
    "x = np.arange(len(names))\n",
    "xmin = 0\n",
    "xmax = len(names)\n",
    "ymin = -.2\n",
    "ymax = 0.2\n",
    "fig, ax = plt.subplots()\n",
    "plt.bar(x, values)\n",
    "plt.xticks(x, (x), rotation='vertical')\n",
    "#plt.yaxis.set_label_position(\"right\")\n",
    "plt.axis([xmin,xmax,ymin,ymax])\n",
    "#red_patch = mpatches.Patch(url=names[5], label=5)\n",
    "#ax.legend(x, names)\n",
    "start, end = ax.get_xlim()\n",
    "stepsize = 10\n",
    "ax.xaxis.set_ticks(np.arange(start, end, stepsize))\n",
    "plt.title(\"Feature Correlation\")\n",
    "plt.savefig(\"feature_correlation.png\")         "
   ]
  },
  {
   "cell_type": "code",
   "execution_count": 17,
   "metadata": {},
   "outputs": [
    {
     "data": {
      "text/html": [
       "<div>\n",
       "<style scoped>\n",
       "    .dataframe tbody tr th:only-of-type {\n",
       "        vertical-align: middle;\n",
       "    }\n",
       "\n",
       "    .dataframe tbody tr th {\n",
       "        vertical-align: top;\n",
       "    }\n",
       "\n",
       "    .dataframe thead th {\n",
       "        text-align: right;\n",
       "    }\n",
       "</style>\n",
       "<table border=\"1\" class=\"dataframe\">\n",
       "  <thead>\n",
       "    <tr style=\"text-align: right;\">\n",
       "      <th></th>\n",
       "      <th>name</th>\n",
       "      <th>correlation</th>\n",
       "    </tr>\n",
       "  </thead>\n",
       "  <tbody>\n",
       "    <tr>\n",
       "      <th>0</th>\n",
       "      <td>Unnamed0</td>\n",
       "      <td>-0.002111</td>\n",
       "    </tr>\n",
       "    <tr>\n",
       "      <th>1</th>\n",
       "      <td>SK_ID_CURR</td>\n",
       "      <td>-0.002108</td>\n",
       "    </tr>\n",
       "    <tr>\n",
       "      <th>2</th>\n",
       "      <td>CNT_CHILDREN</td>\n",
       "      <td>0.019187</td>\n",
       "    </tr>\n",
       "    <tr>\n",
       "      <th>3</th>\n",
       "      <td>AMT_INCOME_TOTAL</td>\n",
       "      <td>-0.003982</td>\n",
       "    </tr>\n",
       "    <tr>\n",
       "      <th>4</th>\n",
       "      <td>AMT_CREDIT</td>\n",
       "      <td>-0.030369</td>\n",
       "    </tr>\n",
       "    <tr>\n",
       "      <th>...</th>\n",
       "      <td>...</td>\n",
       "      <td>...</td>\n",
       "    </tr>\n",
       "    <tr>\n",
       "      <th>250</th>\n",
       "      <td>WALLSMATERIAL_MODE_Panel</td>\n",
       "      <td>-0.033119</td>\n",
       "    </tr>\n",
       "    <tr>\n",
       "      <th>251</th>\n",
       "      <td>WALLSMATERIAL_MODE_Stonebrick</td>\n",
       "      <td>-0.012657</td>\n",
       "    </tr>\n",
       "    <tr>\n",
       "      <th>252</th>\n",
       "      <td>WALLSMATERIAL_MODE_Wooden</td>\n",
       "      <td>0.007946</td>\n",
       "    </tr>\n",
       "    <tr>\n",
       "      <th>253</th>\n",
       "      <td>EMERGENCYSTATE_MODE_No</td>\n",
       "      <td>-0.042201</td>\n",
       "    </tr>\n",
       "    <tr>\n",
       "      <th>254</th>\n",
       "      <td>EMERGENCYSTATE_MODE_Yes</td>\n",
       "      <td>0.004829</td>\n",
       "    </tr>\n",
       "  </tbody>\n",
       "</table>\n",
       "<p>255 rows × 2 columns</p>\n",
       "</div>"
      ],
      "text/plain": [
       "                              name  correlation\n",
       "0                         Unnamed0    -0.002111\n",
       "1                       SK_ID_CURR    -0.002108\n",
       "2                     CNT_CHILDREN     0.019187\n",
       "3                 AMT_INCOME_TOTAL    -0.003982\n",
       "4                       AMT_CREDIT    -0.030369\n",
       "..                             ...          ...\n",
       "250       WALLSMATERIAL_MODE_Panel    -0.033119\n",
       "251  WALLSMATERIAL_MODE_Stonebrick    -0.012657\n",
       "252      WALLSMATERIAL_MODE_Wooden     0.007946\n",
       "253         EMERGENCYSTATE_MODE_No    -0.042201\n",
       "254        EMERGENCYSTATE_MODE_Yes     0.004829\n",
       "\n",
       "[255 rows x 2 columns]"
      ]
     },
     "execution_count": 17,
     "metadata": {},
     "output_type": "execute_result"
    }
   ],
   "source": [
    "correlation_df = pd.DataFrame({'name': names,\n",
    "'correlation': values})\n",
    "correlation_df"
   ]
  },
  {
   "cell_type": "code",
   "execution_count": 18,
   "metadata": {},
   "outputs": [
    {
     "data": {
      "text/plain": [
       "name           YEARS_BUILD_MODE\n",
       "correlation           0.0782393\n",
       "dtype: object"
      ]
     },
     "execution_count": 18,
     "metadata": {},
     "output_type": "execute_result"
    }
   ],
   "source": [
    "correlation_df.max()"
   ]
  },
  {
   "cell_type": "code",
   "execution_count": 19,
   "metadata": {},
   "outputs": [
    {
     "data": {
      "text/plain": [
       "name           ACTIVE_LOANS_PERCENTAGE\n",
       "correlation                  -0.178919\n",
       "dtype: object"
      ]
     },
     "execution_count": 19,
     "metadata": {},
     "output_type": "execute_result"
    }
   ],
   "source": [
    "correlation_df.min()"
   ]
  },
  {
   "cell_type": "code",
   "execution_count": 20,
   "metadata": {},
   "outputs": [
    {
     "data": {
      "text/html": [
       "<div>\n",
       "<style scoped>\n",
       "    .dataframe tbody tr th:only-of-type {\n",
       "        vertical-align: middle;\n",
       "    }\n",
       "\n",
       "    .dataframe tbody tr th {\n",
       "        vertical-align: top;\n",
       "    }\n",
       "\n",
       "    .dataframe thead th {\n",
       "        text-align: right;\n",
       "    }\n",
       "</style>\n",
       "<table border=\"1\" class=\"dataframe\">\n",
       "  <thead>\n",
       "    <tr style=\"text-align: right;\">\n",
       "      <th></th>\n",
       "      <th>name</th>\n",
       "      <th>correlation</th>\n",
       "    </tr>\n",
       "  </thead>\n",
       "  <tbody>\n",
       "    <tr>\n",
       "      <th>31</th>\n",
       "      <td>EXT_SOURCE_3</td>\n",
       "      <td>-0.178919</td>\n",
       "    </tr>\n",
       "    <tr>\n",
       "      <th>30</th>\n",
       "      <td>EXT_SOURCE_2</td>\n",
       "      <td>-0.160472</td>\n",
       "    </tr>\n",
       "    <tr>\n",
       "      <th>29</th>\n",
       "      <td>EXT_SOURCE_1</td>\n",
       "      <td>-0.155317</td>\n",
       "    </tr>\n",
       "    <tr>\n",
       "      <th>113</th>\n",
       "      <td>ACTIVE_LOANS_PERCENTAGE</td>\n",
       "      <td>-0.079369</td>\n",
       "    </tr>\n",
       "    <tr>\n",
       "      <th>140</th>\n",
       "      <td>NAME_EDUCATION_TYPE_Highereducation</td>\n",
       "      <td>-0.056593</td>\n",
       "    </tr>\n",
       "    <tr>\n",
       "      <th>117</th>\n",
       "      <td>CODE_GENDER_F</td>\n",
       "      <td>-0.054704</td>\n",
       "    </tr>\n",
       "    <tr>\n",
       "      <th>134</th>\n",
       "      <td>NAME_INCOME_TYPE_Pensioner</td>\n",
       "      <td>-0.046209</td>\n",
       "    </tr>\n",
       "    <tr>\n",
       "      <th>238</th>\n",
       "      <td>ORGANIZATION_TYPE_XNA</td>\n",
       "      <td>-0.045987</td>\n",
       "    </tr>\n",
       "    <tr>\n",
       "      <th>9</th>\n",
       "      <td>DAYS_EMPLOYED</td>\n",
       "      <td>-0.044932</td>\n",
       "    </tr>\n",
       "    <tr>\n",
       "      <th>39</th>\n",
       "      <td>FLOORSMAX_AVG</td>\n",
       "      <td>-0.044003</td>\n",
       "    </tr>\n",
       "  </tbody>\n",
       "</table>\n",
       "</div>"
      ],
      "text/plain": [
       "                                    name  correlation\n",
       "31                          EXT_SOURCE_3    -0.178919\n",
       "30                          EXT_SOURCE_2    -0.160472\n",
       "29                          EXT_SOURCE_1    -0.155317\n",
       "113              ACTIVE_LOANS_PERCENTAGE    -0.079369\n",
       "140  NAME_EDUCATION_TYPE_Highereducation    -0.056593\n",
       "117                        CODE_GENDER_F    -0.054704\n",
       "134           NAME_INCOME_TYPE_Pensioner    -0.046209\n",
       "238                ORGANIZATION_TYPE_XNA    -0.045987\n",
       "9                          DAYS_EMPLOYED    -0.044932\n",
       "39                         FLOORSMAX_AVG    -0.044003"
      ]
     },
     "execution_count": 20,
     "metadata": {},
     "output_type": "execute_result"
    }
   ],
   "source": [
    "correlation_df.sort_values('correlation').head(10)"
   ]
  },
  {
   "cell_type": "code",
   "execution_count": 21,
   "metadata": {},
   "outputs": [
    {
     "data": {
      "text/html": [
       "<div>\n",
       "<style scoped>\n",
       "    .dataframe tbody tr th:only-of-type {\n",
       "        vertical-align: middle;\n",
       "    }\n",
       "\n",
       "    .dataframe tbody tr th {\n",
       "        vertical-align: top;\n",
       "    }\n",
       "\n",
       "    .dataframe thead th {\n",
       "        text-align: right;\n",
       "    }\n",
       "</style>\n",
       "<table border=\"1\" class=\"dataframe\">\n",
       "  <thead>\n",
       "    <tr style=\"text-align: right;\">\n",
       "      <th></th>\n",
       "      <th>name</th>\n",
       "      <th>correlation</th>\n",
       "    </tr>\n",
       "  </thead>\n",
       "  <tbody>\n",
       "    <tr>\n",
       "      <th>27</th>\n",
       "      <td>REG_CITY_NOT_WORK_CITY</td>\n",
       "      <td>0.050994</td>\n",
       "    </tr>\n",
       "    <tr>\n",
       "      <th>11</th>\n",
       "      <td>DAYS_ID_PUBLISH</td>\n",
       "      <td>0.051457</td>\n",
       "    </tr>\n",
       "    <tr>\n",
       "      <th>118</th>\n",
       "      <td>CODE_GENDER_M</td>\n",
       "      <td>0.054713</td>\n",
       "    </tr>\n",
       "    <tr>\n",
       "      <th>79</th>\n",
       "      <td>DAYS_LAST_PHONE_CHANGE</td>\n",
       "      <td>0.055218</td>\n",
       "    </tr>\n",
       "    <tr>\n",
       "      <th>138</th>\n",
       "      <td>NAME_INCOME_TYPE_Working</td>\n",
       "      <td>0.057481</td>\n",
       "    </tr>\n",
       "    <tr>\n",
       "      <th>20</th>\n",
       "      <td>REGION_RATING_CLIENT</td>\n",
       "      <td>0.058899</td>\n",
       "    </tr>\n",
       "    <tr>\n",
       "      <th>21</th>\n",
       "      <td>REGION_RATING_CLIENT_W_CITY</td>\n",
       "      <td>0.060893</td>\n",
       "    </tr>\n",
       "    <tr>\n",
       "      <th>110</th>\n",
       "      <td>AMT_CREDIT_GOODS_RATIO</td>\n",
       "      <td>0.069427</td>\n",
       "    </tr>\n",
       "    <tr>\n",
       "      <th>8</th>\n",
       "      <td>DAYS_BIRTH</td>\n",
       "      <td>0.078239</td>\n",
       "    </tr>\n",
       "    <tr>\n",
       "      <th>114</th>\n",
       "      <td>DEBT_CREDIT_RATIO</td>\n",
       "      <td>NaN</td>\n",
       "    </tr>\n",
       "  </tbody>\n",
       "</table>\n",
       "</div>"
      ],
      "text/plain": [
       "                            name  correlation\n",
       "27        REG_CITY_NOT_WORK_CITY     0.050994\n",
       "11               DAYS_ID_PUBLISH     0.051457\n",
       "118                CODE_GENDER_M     0.054713\n",
       "79        DAYS_LAST_PHONE_CHANGE     0.055218\n",
       "138     NAME_INCOME_TYPE_Working     0.057481\n",
       "20          REGION_RATING_CLIENT     0.058899\n",
       "21   REGION_RATING_CLIENT_W_CITY     0.060893\n",
       "110       AMT_CREDIT_GOODS_RATIO     0.069427\n",
       "8                     DAYS_BIRTH     0.078239\n",
       "114            DEBT_CREDIT_RATIO          NaN"
      ]
     },
     "execution_count": 21,
     "metadata": {},
     "output_type": "execute_result"
    }
   ],
   "source": [
    "correlation_df.sort_values('correlation').tail(10)"
   ]
  },
  {
   "cell_type": "code",
   "execution_count": null,
   "metadata": {},
   "outputs": [],
   "source": []
  }
 ],
 "metadata": {
  "kernelspec": {
   "display_name": "Python 3",
   "language": "python",
   "name": "python3"
  },
  "language_info": {
   "codemirror_mode": {
    "name": "ipython",
    "version": 3
   },
   "file_extension": ".py",
   "mimetype": "text/x-python",
   "name": "python",
   "nbconvert_exporter": "python",
   "pygments_lexer": "ipython3",
   "version": "3.8.3"
  }
 },
 "nbformat": 4,
 "nbformat_minor": 4
}
