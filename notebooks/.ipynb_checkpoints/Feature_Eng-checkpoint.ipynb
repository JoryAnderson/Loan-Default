{
 "cells": [
  {
   "cell_type": "code",
   "execution_count": 1,
   "metadata": {},
   "outputs": [],
   "source": [
    "import pandas as pd\n",
    "from sklearn.preprocessing import LabelEncoder\n",
    "import gc"
   ]
  },
  {
   "cell_type": "code",
   "execution_count": 2,
   "metadata": {},
   "outputs": [
    {
     "name": "stdout",
     "output_type": "stream",
     "text": [
      " \u001b[0m\u001b[01;34mdata\u001b[0m/                              \u001b[00mlgbm_sub.csv\u001b[0m\r\n",
      " \u001b[00mData_Exploration_FullSet.ipynb\u001b[0m     \u001b[00mLightGBM.ipynb\u001b[0m\r\n",
      " \u001b[00mData_Exploration.ipynb\u001b[0m             \u001b[00mModel_Comparison.ipynb\u001b[0m\r\n",
      " \u001b[00mFeature_Eng.ipynb\u001b[0m                 \u001b[00m'Model Performance.ipynb'\u001b[0m\r\n",
      " \u001b[00mGridsearchWIP.ipynb\u001b[0m                \u001b[00mtest_feat_eng.csv\u001b[0m\r\n",
      " \u001b[00mLGBM_hyperparameterization.ipynb\u001b[0m   \u001b[00mtrain_feat_eng.csv\u001b[0m\r\n"
     ]
    }
   ],
   "source": [
    "ls"
   ]
  },
  {
   "cell_type": "code",
   "execution_count": 3,
   "metadata": {},
   "outputs": [],
   "source": [
    "# load train and test sets\n",
    "train = pd.read_csv('data/application_train.csv')\n",
    "test = pd.read_csv('data/application_test.csv')"
   ]
  },
  {
   "cell_type": "code",
   "execution_count": null,
   "metadata": {},
   "outputs": [],
   "source": [
    "credit_card_balance = pd.read_csv('data/credit_card_balance.csv')\n",
    "credit_card_balance.head()"
   ]
  },
  {
   "cell_type": "code",
   "execution_count": null,
   "metadata": {},
   "outputs": [],
   "source": [
    "cred_limit = credit_card_balance.groupby('SK_ID_CURR', as_index=False)['AMT_CREDIT_LIMIT_ACTUAL'].mean()\n",
    "cred_limit.head()"
   ]
  },
  {
   "cell_type": "code",
   "execution_count": null,
   "metadata": {},
   "outputs": [],
   "source": [
    "train = train.merge(cred_limit, on = 'SK_ID_CURR', how = 'left')\n",
    "test = test.merge(cred_limit, on = 'SK_ID_CURR', how = 'left')\n",
    "\n",
    "train['AMT_CREDIT_LIMIT_ACTUAL'] = train['AMT_CREDIT_LIMIT_ACTUAL'].fillna(0)\n",
    "train.head()"
   ]
  },
  {
   "cell_type": "code",
   "execution_count": null,
   "metadata": {},
   "outputs": [],
   "source": [
    "prev_app = pd.read_csv('data/previous_application.csv')\n",
    "prev_app.head()"
   ]
  },
  {
   "cell_type": "code",
   "execution_count": null,
   "metadata": {},
   "outputs": [],
   "source": [
    "prev_app['SK_ID_CURR'].duplicated().any()"
   ]
  },
  {
   "cell_type": "code",
   "execution_count": null,
   "metadata": {},
   "outputs": [],
   "source": [
    "bureau = pd.read_csv('data/bureau.csv')\n",
    "bureau"
   ]
  },
  {
   "cell_type": "code",
   "execution_count": null,
   "metadata": {},
   "outputs": [],
   "source": [
    "bureau['SK_ID_CURR'].duplicated().any()"
   ]
  },
  {
   "cell_type": "code",
   "execution_count": null,
   "metadata": {},
   "outputs": [],
   "source": [
    "bureau['CREDIT_ACTIVE'].unique()"
   ]
  },
  {
   "cell_type": "code",
   "execution_count": null,
   "metadata": {},
   "outputs": [],
   "source": [
    "B = bureau.copy()\n",
    "grp = B.groupby(by = ['SK_ID_CURR'])['CREDIT_DAY_OVERDUE'].sum().reset_index().rename(index=str, columns={'CREDIT_DAY_OVERDUE': 'OVERDUE_DAYS_SUM'})\n",
    "B = B.merge(grp, on = ['SK_ID_CURR'], how = 'left')\n",
    "train = train.merge(grp, on = ['SK_ID_CURR'], how = 'left')\n",
    "test = test.merge(grp, on = ['SK_ID_CURR'], how = 'left')\n",
    "train\n",
    "gc.collect()\n",
    "print(B.shape)"
   ]
  },
  {
   "cell_type": "code",
   "execution_count": null,
   "metadata": {},
   "outputs": [],
   "source": [
    "B"
   ]
  },
  {
   "cell_type": "code",
   "execution_count": null,
   "metadata": {},
   "outputs": [],
   "source": [
    "#lets look at how much the person spends\n",
    "#specifally looks at people who take a lot of money out from ATMs.............\n",
    "CC = credit_card_balance.copy()\n",
    "grp = CC.groupby(by = ['SK_ID_CURR'])['AMT_DRAWINGS_ATM_CURRENT'].sum().reset_index().rename(index=str, columns={'AMT_DRAWINGS_ATM_CURRENT': 'TOTAL_ATM_WITHDRAW'})\n",
    "CC = CC.merge(grp, on = ['SK_ID_CURR'], how = 'left')\n",
    "train = train.merge(grp, on = ['SK_ID_CURR'], how = 'left')\n",
    "test = test.merge(grp, on = ['SK_ID_CURR'], how = 'left')\n",
    "train\n",
    "gc.collect()\n",
    "print(CC.shape)"
   ]
  },
  {
   "cell_type": "code",
   "execution_count": null,
   "metadata": {},
   "outputs": [],
   "source": [
    "CC"
   ]
  },
  {
   "cell_type": "code",
   "execution_count": null,
   "metadata": {},
   "outputs": [],
   "source": [
    "test[test['TOTAL_ATM_WITHDRAW'].isna()].count()"
   ]
  },
  {
   "cell_type": "code",
   "execution_count": null,
   "metadata": {},
   "outputs": [],
   "source": [
    "test[~test['TOTAL_ATM_WITHDRAW'].isna()].head()"
   ]
  },
  {
   "cell_type": "code",
   "execution_count": null,
   "metadata": {},
   "outputs": [],
   "source": [
    "train['AMT_CREDIT_TO_ANNUITY_RATIO'] = train['AMT_CREDIT'] / train['AMT_ANNUITY']\n",
    "test['AMT_CREDIT_TO_ANNUITY_RATIO'] = test['AMT_CREDIT'] / test['AMT_ANNUITY']"
   ]
  },
  {
   "cell_type": "code",
   "execution_count": null,
   "metadata": {},
   "outputs": [],
   "source": [
    "goods_cols = [col for col in train.columns if 'GOODS' in col]\n",
    "goods_cols"
   ]
  },
  {
   "cell_type": "code",
   "execution_count": null,
   "metadata": {},
   "outputs": [],
   "source": [
    "train['AMT_CREDIT_GOODS_RATIO'] = train['AMT_CREDIT'] / train['AMT_GOODS_PRICE']\n",
    "test['AMT_CREDIT_GOODS_RATIO'] = test['AMT_CREDIT'] / test['AMT_GOODS_PRICE']"
   ]
  },
  {
   "cell_type": "code",
   "execution_count": null,
   "metadata": {},
   "outputs": [],
   "source": [
    "AMT_cols = [col for col in train.columns if 'AMT' in col]\n",
    "AMT_cols"
   ]
  },
  {
   "cell_type": "code",
   "execution_count": null,
   "metadata": {},
   "outputs": [],
   "source": [
    "train[AMT_cols]"
   ]
  },
  {
   "cell_type": "code",
   "execution_count": null,
   "metadata": {},
   "outputs": [],
   "source": [
    "train['AMT_CREDIT_INCOME_RATIO'] = train['AMT_CREDIT'] / train['AMT_INCOME_TOTAL']\n",
    "test['AMT_CREDIT_INCOME_RATIO'] = test['AMT_CREDIT'] / test['AMT_INCOME_TOTAL']"
   ]
  },
  {
   "cell_type": "code",
   "execution_count": null,
   "metadata": {},
   "outputs": [],
   "source": [
    "train[~train['OVERDUE_DAYS_SUM'].isna()].head()"
   ]
  },
  {
   "cell_type": "code",
   "execution_count": null,
   "metadata": {},
   "outputs": [],
   "source": [
    "# get number of past loans per customer \n",
    "B = bureau.copy()\n",
    "grp = B[['SK_ID_CURR', 'DAYS_CREDIT']].groupby(by = ['SK_ID_CURR'])['DAYS_CREDIT'].count().reset_index().rename(index=str, columns={'DAYS_CREDIT': 'NUM_PREV_LOANS'})\n",
    "B = B.merge(grp, on = ['SK_ID_CURR'], how = 'left')"
   ]
  },
  {
   "cell_type": "code",
   "execution_count": null,
   "metadata": {},
   "outputs": [],
   "source": [
    "# get percentage of active loans: more loans can potential mean a default\n",
    "\n",
    "B['CREDIT_ACTIVE_BINARY'] = B['CREDIT_ACTIVE']\n",
    "B['CREDIT_ACTIVE_BINARY'] = B.apply(lambda x: x.CREDIT_ACTIVE == 'Closed', axis = 1)\n",
    "\n",
    "# Calculate mean number of loans that are ACTIVE per CUSTOMER \n",
    "grp = B.groupby(by = ['SK_ID_CURR'])['CREDIT_ACTIVE_BINARY'].mean().reset_index().rename(index=str, columns={'CREDIT_ACTIVE_BINARY': 'ACTIVE_LOANS_PERCENTAGE'})\n",
    "B = B.merge(grp, on = ['SK_ID_CURR'], how = 'left')\n",
    "del B['CREDIT_ACTIVE_BINARY']\n",
    "gc.collect()"
   ]
  },
  {
   "cell_type": "code",
   "execution_count": null,
   "metadata": {},
   "outputs": [],
   "source": [
    "B['AMT_CREDIT_SUM_DEBT'] = B['AMT_CREDIT_SUM_DEBT'].fillna(0)\n",
    "B['AMT_CREDIT_SUM'] = B['AMT_CREDIT_SUM'].fillna(0)\n",
    "\n",
    "grp1 = B[['SK_ID_CURR', 'AMT_CREDIT_SUM_DEBT']].groupby(by = ['SK_ID_CURR'])['AMT_CREDIT_SUM_DEBT'].sum().reset_index().rename( index = str, columns = { 'AMT_CREDIT_SUM_DEBT': 'TOTAL_CUSTOMER_DEBT'})\n",
    "grp2 = B[['SK_ID_CURR', 'AMT_CREDIT_SUM']].groupby(by = ['SK_ID_CURR'])['AMT_CREDIT_SUM'].sum().reset_index().rename( index = str, columns = { 'AMT_CREDIT_SUM': 'TOTAL_CUSTOMER_CREDIT'})\n",
    "\n",
    "B = B.merge(grp1, on = ['SK_ID_CURR'], how = 'left')\n",
    "B = B.merge(grp2, on = ['SK_ID_CURR'], how = 'left')\n",
    "del grp1, grp2\n",
    "gc.collect()\n",
    "\n",
    "B['DEBT_CREDIT_RATIO'] = B['TOTAL_CUSTOMER_DEBT']/B['TOTAL_CUSTOMER_CREDIT']\n",
    "\n",
    "del B['TOTAL_CUSTOMER_DEBT'], B['TOTAL_CUSTOMER_CREDIT']\n",
    "gc.collect()"
   ]
  },
  {
   "cell_type": "code",
   "execution_count": null,
   "metadata": {},
   "outputs": [],
   "source": [
    "# merge new columns\n",
    "B = B[[\"SK_ID_CURR\",\"NUM_PREV_LOANS\", \"ACTIVE_LOANS_PERCENTAGE\", \"DEBT_CREDIT_RATIO\"]]\n",
    "B = B.drop_duplicates()\n",
    "train = train.merge(B, on = 'SK_ID_CURR', how = 'left')\n",
    "test = test.merge(B, on = 'SK_ID_CURR', how = 'left')"
   ]
  },
  {
   "cell_type": "code",
   "execution_count": null,
   "metadata": {},
   "outputs": [],
   "source": [
    "train[~train['ACTIVE_LOANS_PERCENTAGE'].isna()]"
   ]
  },
  {
   "cell_type": "code",
   "execution_count": null,
   "metadata": {},
   "outputs": [],
   "source": [
    "train['SK_ID_CURR'].duplicated().any()"
   ]
  },
  {
   "cell_type": "code",
   "execution_count": null,
   "metadata": {},
   "outputs": [],
   "source": [
    "print(train.shape)\n",
    "print(test.shape)"
   ]
  },
  {
   "cell_type": "code",
   "execution_count": null,
   "metadata": {
    "scrolled": true
   },
   "outputs": [],
   "source": [
    "# output engineered CSVs \n",
    "train.to_csv(\"train_feat_eng.csv\")\n",
    "test.to_csv(\"test_feat_eng.csv\")"
   ]
  },
  {
   "cell_type": "code",
   "execution_count": null,
   "metadata": {},
   "outputs": [],
   "source": []
  }
 ],
 "metadata": {
  "kernelspec": {
   "display_name": "Python 3",
   "language": "python",
   "name": "python3"
  },
  "language_info": {
   "codemirror_mode": {
    "name": "ipython",
    "version": 3
   },
   "file_extension": ".py",
   "mimetype": "text/x-python",
   "name": "python",
   "nbconvert_exporter": "python",
   "pygments_lexer": "ipython3",
   "version": "3.8.3"
  }
 },
 "nbformat": 4,
 "nbformat_minor": 4
}
