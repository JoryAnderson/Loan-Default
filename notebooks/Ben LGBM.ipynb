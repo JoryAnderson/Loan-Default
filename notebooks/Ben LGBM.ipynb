{
 "cells": [
  {
   "cell_type": "code",
   "execution_count": 1,
   "metadata": {},
   "outputs": [],
   "source": [
    "import numpy as np\n",
    "import pandas as pd\n",
    "import seaborn as sns\n",
    "import re\n",
    "import matplotlib.pyplot as plt\n",
    "from sklearn.impute import SimpleImputer\n",
    "from sklearn.experimental import enable_iterative_imputer\n",
    "from sklearn.impute import IterativeImputer\n",
    "from imblearn.over_sampling import SMOTE\n",
    "from sklearn import metrics\n",
    "from sklearn.preprocessing import LabelEncoder\n",
    "from sklearn.tree import DecisionTreeClassifier\n",
    "from sklearn.model_selection import train_test_split\n",
    "from sklearn.ensemble import RandomForestClassifier\n",
    "from sklearn.metrics import r2_score,accuracy_score, confusion_matrix, roc_auc_score\n",
    "from sklearn.model_selection import cross_val_score, cross_validate, StratifiedKFold, GridSearchCV\n",
    "from sklearn.metrics import roc_auc_score, roc_curve, precision_score, recall_score\n",
    "from sklearn.model_selection import KFold, StratifiedKFold, train_test_split\n",
    "from sklearn.preprocessing import scale, LabelEncoder\n",
    "\n",
    "from lightgbm import LGBMClassifier\n",
    "import lightgbm as lgbm"
   ]
  },
  {
   "cell_type": "markdown",
   "metadata": {},
   "source": [
    "## Processing and importing data"
   ]
  },
  {
   "cell_type": "code",
   "execution_count": 2,
   "metadata": {},
   "outputs": [],
   "source": [
    "dataset = pd.read_csv(\"application_train.csv\")"
   ]
  },
  {
   "cell_type": "code",
   "execution_count": 3,
   "metadata": {},
   "outputs": [],
   "source": [
    "data = pd.get_dummies(dataset)\n",
    "data = data.rename(columns = lambda x:re.sub('[^A-Za-z0-9_]+', '', x))"
   ]
  },
  {
   "cell_type": "code",
   "execution_count": 5,
   "metadata": {},
   "outputs": [],
   "source": [
    "X_train, X_test, y_train, y_test = train_test_split(data.drop('TARGET', 1), \n",
    "                                    data['TARGET'], test_size = .2, random_state=42,shuffle=True)\n",
    "\n",
    "lgbm_train = lgbm.Dataset(X_train, y_train)"
   ]
  },
  {
   "cell_type": "markdown",
   "metadata": {},
   "source": [
    "## Visualizing Parameters"
   ]
  },
  {
   "cell_type": "code",
   "execution_count": null,
   "metadata": {},
   "outputs": [],
   "source": [
    "def test_lgbm_params(name, params):\n",
    "\n",
    "    clfs = []\n",
    "    for i, param in enumerate(params):\n",
    "        print(\"training {}/{}...\".format(i+1, len(params)), end=\"\\r\", flush=True)\n",
    "        parameters = {\n",
    "                    name: param\n",
    "        }\n",
    "        clf = lgbm.train(parameters, train_set=lgbm_train)\n",
    "        clfs.append(clf)\n",
    "\n",
    "    print(\"predicting...\", end=\"\\r\", flush=True)\n",
    "    train_preds = [clf.predict(X_train) for clf in clfs]\n",
    "    test_preds = [clf.predict(X_test) for clf in clfs]\n",
    "    print(\"scoring...\", end=\"\\r\", flush=True)\n",
    "    train_rocs = [roc_auc_score(np.round(pred,0), y_train) for pred in train_preds]\n",
    "    test_rocs = [roc_auc_score(np.round(pred,0), y_test) for pred in test_preds]\n",
    "    \n",
    "    print(\"plotting...\", end=\"\\r\", flush=True)\n",
    "    fig, ax = plt.subplots()\n",
    "    ax.set_xlabel(name)\n",
    "    ax.set_ylabel(\"roc\")\n",
    "    ax.set_title(\"Roc vs {} for training and testing sets\".format(name))\n",
    "    ax.plot(params, train_rocs, marker='o', label=\"train\")\n",
    "    ax.plot(params, test_rocs, marker='o', label=\"test\")\n",
    "    ax.legend()\n",
    "    print(\"\", end=\"\", flush=True)\n",
    "    plt.show()\n"
   ]
  },
  {
   "cell_type": "markdown",
   "metadata": {},
   "source": [
    "### Graphing Max Depth"
   ]
  },
  {
   "cell_type": "code",
   "execution_count": 70,
   "metadata": {},
   "outputs": [
    {
     "data": {
      "image/png": "[encoded data removed]",
      "text/plain": [
       "<Figure size 432x288 with 1 Axes>"
      ]
     },
     "metadata": {
      "needs_background": "light"
     },
     "output_type": "display_data"
    }
   ],
   "source": [
    "max_depths = [x for x in range(3,30,3)]\n",
    "max_depths.append(50)\n",
    "max_depths.append(100)\n",
    "test_lgbm_params(\"max_depth\", max_depths);"
   ]
  },
  {
   "cell_type": "markdown",
   "metadata": {},
   "source": [
    "### Graphing Number of Leaves"
   ]
  },
  {
   "cell_type": "code",
   "execution_count": null,
   "metadata": {},
   "outputs": [
    {
     "name": "stdout",
     "output_type": "stream",
     "text": [
      "training 1/20...training 2/20...training 3/20...training 4/20...training 5/20...training 6/20...training 7/20...training 8/20...training 9/20...training 10/20...training 11/20...training 12/20...training 13/20..."
     ]
    }
   ],
   "source": [
    "num_leaves = [x for x in range(2,1000,50)]\n",
    "test_lgbm_params(\"num_leaves\", num_leaves);"
   ]
  },
  {
   "cell_type": "markdown",
   "metadata": {},
   "source": [
    "## Creating Kaggle CSV from model"
   ]
  },
  {
   "cell_type": "code",
   "execution_count": 56,
   "metadata": {},
   "outputs": [],
   "source": [
    "parameters = {\n",
    "   'max_depth': 50,\n",
    "}\n",
    "\n",
    "estimator = lgbm.train(parameters, \n",
    "                       train_set=lgbm_train)\n"
   ]
  },
  {
   "cell_type": "code",
   "execution_count": 57,
   "metadata": {},
   "outputs": [
    {
     "name": "stdout",
     "output_type": "stream",
     "text": [
      "[0. 0. 0. ... 0. 0. 0.]\n"
     ]
    }
   ],
   "source": [
    "#estimating probabilities\n",
    "train_pred = estimator.predict(X_train)\n",
    "test_pred = estimator.predict(X_test)\n",
    "\n",
    "#converting to binary\n",
    "train_pred = np.round(train_pred,0)\n",
    "test_pred = np.round(test_pred,0)\n",
    "\n",
    "print(train_pred)"
   ]
  },
  {
   "cell_type": "code",
   "execution_count": 58,
   "metadata": {},
   "outputs": [
    {
     "name": "stdout",
     "output_type": "stream",
     "text": [
      "train:\n",
      "0.9210757373743943\n",
      "[[226038  19322]\n",
      " [    94    554]]\n",
      "0.8880943395846667\n",
      "test:\n",
      "0.9199226054013625\n",
      "[[56491  4862]\n",
      " [   63    87]]\n",
      "0.7503768356885564\n"
     ]
    }
   ],
   "source": [
    "print(\"train:\")\n",
    "print(accuracy_score(train_pred, y_train))\n",
    "print(confusion_matrix(train_pred, y_train))\n",
    "print(roc_auc_score(train_pred, y_train))\n",
    "print(\"test:\")\n",
    "print(accuracy_score(test_pred, y_test))\n",
    "print(confusion_matrix(test_pred, y_test))\n",
    "print(roc_auc_score(test_pred, y_test))"
   ]
  },
  {
   "cell_type": "code",
   "execution_count": 59,
   "metadata": {},
   "outputs": [],
   "source": [
    "kaggle_test = pd.read_csv(\"application_test.csv\")\n",
    "kaggle_test = pd.get_dummies(kaggle_test)\n",
    "\n",
    "# Prevents an error on my machine\n",
    "kaggle_test = kaggle_test.rename(columns = lambda x:re.sub('[^A-Za-z0-9_]+', '', x))\n",
    "\n",
    "# Adding columns to match training data\n",
    "kaggle_test['CODE_GENDER_XNA'] = 0\n",
    "kaggle_test['NAME_FAMILY_STATUS_Unknown'] = 0\n",
    "kaggle_test['NAME_INCOME_TYPE_Maternityleave'] = 0"
   ]
  },
  {
   "cell_type": "code",
   "execution_count": 60,
   "metadata": {},
   "outputs": [],
   "source": [
    "#estimating probabilities\n",
    "final_pred = estimator.predict(kaggle_test)\n",
    "final_pred = [max(x,0) if x<0.75 else min(1, x) for x in final_pred]\n",
    "\n",
    "IDs = kaggle_test[['SK_ID_CURR']].astype('int64', copy=False)\n",
    "\n",
    "submission_lgbm = pd.DataFrame({'SK_ID_CURR': IDs.SK_ID_CURR.astype('int64', copy=False).tolist(),\n",
    "'TARGET': final_pred})\n",
    "\n",
    "submission_lgbm.to_csv(\"lgbm_sub.csv\", index=False)"
   ]
  },
  {
   "cell_type": "code",
   "execution_count": null,
   "metadata": {},
   "outputs": [],
   "source": []
  },
  {
   "cell_type": "code",
   "execution_count": null,
   "metadata": {},
   "outputs": [],
   "source": []
  }
 ],
 "metadata": {
  "language_info": {
   "codemirror_mode": {
    "name": "ipython",
    "version": 3
   },
   "file_extension": ".py",
   "mimetype": "text/x-python",
   "name": "python",
   "nbconvert_exporter": "python",
   "pygments_lexer": "ipython3",
   "version": "3.8.2"
  }
 },
 "nbformat": 4,
 "nbformat_minor": 4
}
